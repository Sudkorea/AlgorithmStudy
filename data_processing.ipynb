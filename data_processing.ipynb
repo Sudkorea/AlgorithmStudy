{
  "nbformat": 4,
  "nbformat_minor": 0,
  "metadata": {
    "colab": {
      "provenance": [],
      "authorship_tag": "ABX9TyMqW5OuxYg4RhvOrzjBl95o",
      "include_colab_link": true
    },
    "kernelspec": {
      "name": "python3",
      "display_name": "Python 3"
    },
    "language_info": {
      "name": "python"
    }
  },
  "cells": [
    {
      "cell_type": "markdown",
      "metadata": {
        "id": "view-in-github",
        "colab_type": "text"
      },
      "source": [
        "<a href=\"https://colab.research.google.com/github/Sudkorea/AlgorithmStudy/blob/main/data_processing.ipynb\" target=\"_parent\"><img src=\"https://colab.research.google.com/assets/colab-badge.svg\" alt=\"Open In Colab\"/></a>"
      ]
    },
    {
      "cell_type": "code",
      "execution_count": null,
      "metadata": {
        "colab": {
          "base_uri": "https://localhost:8080/"
        },
        "id": "InBUzTE__paz",
        "outputId": "76989c3e-dd55-4404-b676-47d948008c3d"
      },
      "outputs": [
        {
          "output_type": "stream",
          "name": "stdout",
          "text": [
            "Collecting bs4\n",
            "  Downloading bs4-0.0.2-py2.py3-none-any.whl.metadata (411 bytes)\n",
            "Requirement already satisfied: beautifulsoup4 in /usr/local/lib/python3.10/dist-packages (from bs4) (4.12.3)\n",
            "Requirement already satisfied: soupsieve>1.2 in /usr/local/lib/python3.10/dist-packages (from beautifulsoup4->bs4) (2.6)\n",
            "Downloading bs4-0.0.2-py2.py3-none-any.whl (1.2 kB)\n",
            "Installing collected packages: bs4\n",
            "Successfully installed bs4-0.0.2\n",
            "Mounted at /content/drive\n"
          ]
        }
      ],
      "source": [
        "!pip install bs4\n",
        "from google.colab import drive\n",
        "import json\n",
        "import os\n",
        "\n",
        "drive.mount('/content/drive')\n",
        "\n",
        "def load_api_keys():\n",
        "    key_path = '/content/drive/MyDrive/api/api_keys.json'\n",
        "    if os.path.exists(key_path):\n",
        "        with open(key_path, 'r') as f:\n",
        "            return json.load(f)\n",
        "    else:\n",
        "        print(\"API 키 파일이 Drive에 없습니다. 샘플 키를 사용합니다.\")\n",
        "        return {\n",
        "            \"KOPIS_service_key\": \"sample_key_1\",\n",
        "            \"naver_client_id\": \"sample_key_2\",\n",
        "            \"naver_client_secret\": \"sample_key_3\"\n",
        "        }\n",
        "\n",
        "api_keys = load_api_keys()\n",
        "service_key = api_keys[\"KOPIS_service_key\"]\n",
        "client_id = api_keys[\"naver_client_id\"]\n",
        "client_secret = api_keys[\"naver_client_secret\"]"
      ]
    },
    {
      "cell_type": "markdown",
      "source": [
        "---\n",
        "\n",
        "입력한 내용을 바탕으로 뮤지컬 찾아오는 코드"
      ],
      "metadata": {
        "id": "5Oval4B4rPN1"
      }
    },
    {
      "cell_type": "code",
      "source": [
        "import os\n",
        "import csv\n",
        "import requests\n",
        "import xml.etree.ElementTree as ET\n",
        "import pandas as pd\n",
        "from tqdm import tqdm\n",
        "\n",
        "def search_musical_with_id(musical_id, service_key):\n",
        "    URL = f\"http://www.kopis.or.kr/openApi/restful/pblprfr/{musical_id}\"\n",
        "    params = {\n",
        "        \"service\": service_key\n",
        "    }\n",
        "    response = requests.get(URL, params)\n",
        "\n",
        "    if response.status_code == 200:\n",
        "        root = ET.fromstring(response.content)\n",
        "        performance = root.find(\"db\")\n",
        "\n",
        "        if performance is not None:\n",
        "            prfnm = performance.findtext(\"prfnm\")\n",
        "            prfpdfrom = performance.findtext(\"prfpdfrom\")\n",
        "            prfpdto = performance.findtext(\"prfpdto\")\n",
        "            fcltynm = performance.findtext(\"fcltynm\")\n",
        "            genre = performance.findtext(\"genrenm\")\n",
        "\n",
        "            return {\n",
        "                \"mt20id\": musical_id,\n",
        "                \"prfnm\": prfnm,\n",
        "                \"fcltynm\": fcltynm,\n",
        "                \"prfpdfrom\": prfpdfrom,\n",
        "                \"prfpdto\": prfpdto,\n",
        "                \"genre\": genre\n",
        "            }\n",
        "        else:\n",
        "            print(f\"뮤지컬 ID {musical_id}를 찾을 수 없습니다.\")\n",
        "            return None\n",
        "    else:\n",
        "        print(f\"API 요청 실패: {response.status_code}\")\n",
        "        return None\n",
        "\n",
        "def process_all_musicals(service_key):\n",
        "    df = pd.read_csv('/content/drive/MyDrive/data/all_musicals_code.csv')\n",
        "\n",
        "    # 새로운 컬럼을 추가합니다.\n",
        "    df['prfnm'] = ''\n",
        "    df['fcltynm'] = ''\n",
        "    df['prfpdfrom'] = ''\n",
        "    df['prfpdto'] = ''\n",
        "    df['genre'] = ''\n",
        "\n",
        "    # tqdm을 사용하여 진행 상황을 표시합니다.\n",
        "    for index, row in tqdm(df.iterrows(), total=df.shape[0], desc=\"Processing musicals\"):\n",
        "        musical_id = row['mt20id']\n",
        "        musical_info = search_musical_with_id(musical_id, service_key)\n",
        "\n",
        "        if musical_info:\n",
        "            df.at[index, 'prfnm'] = musical_info['prfnm']\n",
        "            df.at[index, 'fcltynm'] = musical_info['fcltynm']\n",
        "            df.at[index, 'prfpdfrom'] = musical_info['prfpdfrom']\n",
        "            df.at[index, 'prfpdto'] = musical_info['prfpdto']\n",
        "            df.at[index, 'genre'] = musical_info['genre']\n",
        "\n",
        "    return df\n",
        "\n",
        "# 메인 실행 코드\n",
        "if __name__ == \"__main__\":\n",
        "    all_musicals = process_all_musicals(service_key)\n",
        "\n",
        "    # 결과를 DataFrame으로 변환\n",
        "    df = pd.DataFrame(all_musicals)\n",
        "\n",
        "    # CSV 파일로 저장\n",
        "    output_file = \"/content/drive/MyDrive/data/all_musicals.csv\"\n",
        "    df.to_csv(output_file, index=False, encoding='utf-8-sig')\n",
        "\n",
        "    print(f\"모든 뮤지컬 정보가 {output_file}에 저장되었습니다.\")"
      ],
      "metadata": {
        "colab": {
          "base_uri": "https://localhost:8080/"
        },
        "id": "kYCBMziH5N8t",
        "outputId": "f63e5678-5a5a-42fb-87f5-4c911b83d66d"
      },
      "execution_count": null,
      "outputs": [
        {
          "output_type": "stream",
          "name": "stderr",
          "text": [
            "Processing musicals: 100%|██████████| 1128/1128 [08:16<00:00,  2.27it/s]"
          ]
        },
        {
          "output_type": "stream",
          "name": "stdout",
          "text": [
            "모든 뮤지컬 정보가 /content/drive/MyDrive/data/all_low_musicals.csv에 저장되었습니다.\n"
          ]
        },
        {
          "output_type": "stream",
          "name": "stderr",
          "text": [
            "\n"
          ]
        }
      ]
    },
    {
      "cell_type": "markdown",
      "source": [
        "---\n",
        "\n",
        "시작점 다시 잡아주는 코드"
      ],
      "metadata": {
        "id": "7QbHpH9sP7is"
      }
    },
    {
      "cell_type": "code",
      "source": [
        "import pandas as pd\n",
        "import os\n",
        "from datetime import datetime\n",
        "from tqdm import tqdm\n",
        "\n",
        "ACCUMULATED_FILE_PATH = '/content/drive/MyDrive/data/all_musicals.csv'\n",
        "EXTRACTED_CSV_DIR = '/content/drive/MyDrive/data/musical'\n",
        "\n",
        "\n",
        "def update_start_dates():\n",
        "    \"\"\"\n",
        "    모든 뮤지컬의 start_date를 업데이트하는 함수\n",
        "    \"\"\"\n",
        "    # 누적된 데이터 로드\n",
        "    accumulated_df = pd.read_csv(ACCUMULATED_FILE_PATH)\n",
        "\n",
        "    updated_count = 0\n",
        "\n",
        "    # tqdm을 사용하여 진행 상황 표시\n",
        "    for index, row in tqdm(accumulated_df.iterrows(), total=accumulated_df.shape[0], desc=\"Updating start dates\"):\n",
        "        performance_code = row['mt20id']\n",
        "        csv_file_path = os.path.join(EXTRACTED_CSV_DIR, f'{performance_code}.csv')\n",
        "\n",
        "        if not os.path.exists(csv_file_path):\n",
        "            print(f\"Warning: CSV file not found for performance code {performance_code}\")\n",
        "            continue\n",
        "\n",
        "        try:\n",
        "            # CSV 파일에서 첫 번째 행만 읽기\n",
        "            extracted_df = pd.read_csv(csv_file_path, nrows=1)\n",
        "\n",
        "            if extracted_df.empty:\n",
        "                print(f\"Warning: Extracted CSV file is empty for performance code {performance_code}\")\n",
        "                continue\n",
        "\n",
        "            # '예매일시'에서 날짜 부분만 추출\n",
        "            new_start_date = extracted_df['예매일시'].iloc[0].split()[0]\n",
        "\n",
        "            # 날짜 형식을 YYYY.MM.dd로 변경\n",
        "            new_start_date = datetime.strptime(new_start_date, '%Y-%m-%d').strftime('%Y.%m.%d')\n",
        "\n",
        "            # 기존 start_date의 형식을 확인하고 처리\n",
        "            old_start_date = row['prfpdfrom']\n",
        "            if '-' in old_start_date:\n",
        "                old_start_date = datetime.strptime(old_start_date, '%Y-%m-%d').strftime('%Y.%m.%d')\n",
        "\n",
        "            # prfpdfrom 업데이트가 필요한 경우에만 업데이트\n",
        "            if old_start_date != new_start_date:\n",
        "                accumulated_df.at[index, 'prfpdfrom'] = new_start_date\n",
        "                updated_count += 1\n",
        "                print(f\"Start date updated for performance code {performance_code}: {old_start_date} -> {new_start_date}\")\n",
        "\n",
        "        except Exception as e:\n",
        "            print(f\"Error processing performance code {performance_code}: {str(e)}\")\n",
        "\n",
        "    # 변경사항 저장\n",
        "    accumulated_df.to_csv(ACCUMULATED_FILE_PATH, index=False, encoding='utf-8-sig')\n",
        "    print(f\"Total updates: {updated_count}\")\n",
        "\n",
        "# 함수 실행\n",
        "update_start_dates()"
      ],
      "metadata": {
        "id": "8SAPSOoXWUgd",
        "colab": {
          "base_uri": "https://localhost:8080/"
        },
        "outputId": "3a2ece6c-e444-4c49-eff5-bb9f837cfbcf"
      },
      "execution_count": null,
      "outputs": [
        {
          "output_type": "stream",
          "name": "stderr",
          "text": [
            "Updating start dates:   0%|          | 1/1128 [00:04<1:26:39,  4.61s/it]"
          ]
        },
        {
          "output_type": "stream",
          "name": "stdout",
          "text": [
            "Start date updated for performance code PF185428: 2022.01.21 -> 2022.12.25\n"
          ]
        },
        {
          "output_type": "stream",
          "name": "stderr",
          "text": [
            "Updating start dates:   0%|          | 3/1128 [00:05<24:57,  1.33s/it]"
          ]
        },
        {
          "output_type": "stream",
          "name": "stdout",
          "text": [
            "Start date updated for performance code PF196014: 2022.09.17 -> 2022.08.10\n"
          ]
        },
        {
          "output_type": "stream",
          "name": "stderr",
          "text": [
            "\rUpdating start dates:   0%|          | 4/1128 [00:06<21:07,  1.13s/it]"
          ]
        },
        {
          "output_type": "stream",
          "name": "stdout",
          "text": [
            "Start date updated for performance code PF224197: 2023.11.25 -> 2023.08.18\n"
          ]
        },
        {
          "output_type": "stream",
          "name": "stderr",
          "text": [
            "\rUpdating start dates:   0%|          | 5/1128 [00:06<15:40,  1.19it/s]"
          ]
        },
        {
          "output_type": "stream",
          "name": "stdout",
          "text": [
            "Start date updated for performance code PF174940: 2021.06.18 -> 2022.12.30\n"
          ]
        },
        {
          "output_type": "stream",
          "name": "stderr",
          "text": [
            "\rUpdating start dates:   1%|          | 6/1128 [00:06<12:44,  1.47it/s]"
          ]
        },
        {
          "output_type": "stream",
          "name": "stdout",
          "text": [
            "Start date updated for performance code PF227461: 2023.12.30 -> 2023.10.10\n"
          ]
        },
        {
          "output_type": "stream",
          "name": "stderr",
          "text": [
            "\rUpdating start dates:   1%|          | 7/1128 [00:07<10:26,  1.79it/s]"
          ]
        },
        {
          "output_type": "stream",
          "name": "stdout",
          "text": [
            "Start date updated for performance code PF214770: 2023.05.05 -> 2023.03.09\n"
          ]
        },
        {
          "output_type": "stream",
          "name": "stderr",
          "text": [
            "\rUpdating start dates:   1%|          | 8/1128 [00:07<08:49,  2.12it/s]"
          ]
        },
        {
          "output_type": "stream",
          "name": "stdout",
          "text": [
            "Start date updated for performance code PF186856: 2022.03.22 -> 2022.03.14\n"
          ]
        },
        {
          "output_type": "stream",
          "name": "stderr",
          "text": [
            "\rUpdating start dates:   1%|          | 9/1128 [00:07<07:35,  2.46it/s]"
          ]
        },
        {
          "output_type": "stream",
          "name": "stdout",
          "text": [
            "Start date updated for performance code PF199301: 2022.10.22 -> 2022.09.30\n"
          ]
        },
        {
          "output_type": "stream",
          "name": "stderr",
          "text": [
            "\rUpdating start dates:   1%|          | 10/1128 [00:08<07:22,  2.53it/s]"
          ]
        },
        {
          "output_type": "stream",
          "name": "stdout",
          "text": [
            "Start date updated for performance code PF223767: 2023.10.07 -> 2023.08.10\n"
          ]
        },
        {
          "output_type": "stream",
          "name": "stderr",
          "text": [
            "\rUpdating start dates:   1%|          | 11/1128 [00:08<07:05,  2.62it/s]"
          ]
        },
        {
          "output_type": "stream",
          "name": "stdout",
          "text": [
            "Start date updated for performance code PF227224: 2023.11.28 -> 2023.10.20\n"
          ]
        },
        {
          "output_type": "stream",
          "name": "stderr",
          "text": [
            "\rUpdating start dates:   1%|          | 12/1128 [00:08<07:12,  2.58it/s]"
          ]
        },
        {
          "output_type": "stream",
          "name": "stdout",
          "text": [
            "Start date updated for performance code PF209933: 2023.03.31 -> 2023.02.21\n"
          ]
        },
        {
          "output_type": "stream",
          "name": "stderr",
          "text": [
            "\rUpdating start dates:   1%|          | 13/1128 [00:09<06:43,  2.76it/s]"
          ]
        },
        {
          "output_type": "stream",
          "name": "stdout",
          "text": [
            "Start date updated for performance code PF183804: 2022.01.11 -> 2021.12.02\n"
          ]
        },
        {
          "output_type": "stream",
          "name": "stderr",
          "text": [
            "\rUpdating start dates:   1%|          | 14/1128 [00:09<06:21,  2.92it/s]"
          ]
        },
        {
          "output_type": "stream",
          "name": "stdout",
          "text": [
            "Start date updated for performance code PF218968: 2023.06.30 -> 2023.05.22\n"
          ]
        },
        {
          "output_type": "stream",
          "name": "stderr",
          "text": [
            "\rUpdating start dates:   1%|▏         | 15/1128 [00:09<06:31,  2.84it/s]"
          ]
        },
        {
          "output_type": "stream",
          "name": "stdout",
          "text": [
            "Start date updated for performance code PF189026: 2022.05.03 -> 2022.04.05\n"
          ]
        },
        {
          "output_type": "stream",
          "name": "stderr",
          "text": [
            "\rUpdating start dates:   1%|▏         | 16/1128 [00:10<07:17,  2.54it/s]"
          ]
        },
        {
          "output_type": "stream",
          "name": "stdout",
          "text": [
            "Start date updated for performance code PF182052: 2021.12.10 -> 2021.12.26\n"
          ]
        },
        {
          "output_type": "stream",
          "name": "stderr",
          "text": [
            "\rUpdating start dates:   2%|▏         | 17/1128 [00:10<07:19,  2.53it/s]"
          ]
        },
        {
          "output_type": "stream",
          "name": "stdout",
          "text": [
            "Start date updated for performance code PF224810: 2023.09.16 -> 2023.08.28\n"
          ]
        },
        {
          "output_type": "stream",
          "name": "stderr",
          "text": [
            "\rUpdating start dates:   2%|▏         | 18/1128 [00:11<07:16,  2.54it/s]"
          ]
        },
        {
          "output_type": "stream",
          "name": "stdout",
          "text": [
            "Start date updated for performance code PF200234: 2022.11.15 -> 2022.12.05\n"
          ]
        },
        {
          "output_type": "stream",
          "name": "stderr",
          "text": [
            "\rUpdating start dates:   2%|▏         | 19/1128 [00:11<07:07,  2.60it/s]"
          ]
        },
        {
          "output_type": "stream",
          "name": "stdout",
          "text": [
            "Start date updated for performance code PF173180: 2021.05.01 -> 2022.12.25\n"
          ]
        },
        {
          "output_type": "stream",
          "name": "stderr",
          "text": [
            "\rUpdating start dates:   2%|▏         | 20/1128 [00:11<06:37,  2.79it/s]"
          ]
        },
        {
          "output_type": "stream",
          "name": "stdout",
          "text": [
            "Start date updated for performance code PF227452: 2023.11.10 -> 2023.10.10\n"
          ]
        },
        {
          "output_type": "stream",
          "name": "stderr",
          "text": [
            "Updating start dates:   2%|▏         | 22/1128 [00:12<06:38,  2.77it/s]"
          ]
        },
        {
          "output_type": "stream",
          "name": "stdout",
          "text": [
            "Start date updated for performance code PF194042: 2022.06.22 -> 2022.04.15\n"
          ]
        },
        {
          "output_type": "stream",
          "name": "stderr",
          "text": [
            "\rUpdating start dates:   2%|▏         | 23/1128 [00:12<06:25,  2.87it/s]"
          ]
        },
        {
          "output_type": "stream",
          "name": "stdout",
          "text": [
            "Start date updated for performance code PF198620: 2022.10.18 -> 2022.11.24\n"
          ]
        },
        {
          "output_type": "stream",
          "name": "stderr",
          "text": [
            "\rUpdating start dates:   2%|▏         | 24/1128 [00:13<06:36,  2.78it/s]"
          ]
        },
        {
          "output_type": "stream",
          "name": "stdout",
          "text": [
            "Start date updated for performance code PF203654: 2022.12.22 -> 2022.12.06\n"
          ]
        },
        {
          "output_type": "stream",
          "name": "stderr",
          "text": [
            "\rUpdating start dates:   2%|▏         | 25/1128 [00:13<06:29,  2.83it/s]"
          ]
        },
        {
          "output_type": "stream",
          "name": "stdout",
          "text": [
            "Start date updated for performance code PF225972: 2023.10.27 -> 2023.09.14\n"
          ]
        },
        {
          "output_type": "stream",
          "name": "stderr",
          "text": [
            "Updating start dates:   2%|▏         | 27/1128 [00:14<06:11,  2.97it/s]"
          ]
        },
        {
          "output_type": "stream",
          "name": "stdout",
          "text": [
            "Start date updated for performance code PF202558: 2023.01.09 -> 2022.11.18\n"
          ]
        },
        {
          "output_type": "stream",
          "name": "stderr",
          "text": [
            "\rUpdating start dates:   2%|▏         | 28/1128 [00:14<06:17,  2.91it/s]"
          ]
        },
        {
          "output_type": "stream",
          "name": "stdout",
          "text": [
            "Start date updated for performance code PF189089: 2022.05.17 -> 2022.04.06\n"
          ]
        },
        {
          "output_type": "stream",
          "name": "stderr",
          "text": [
            "\rUpdating start dates:   3%|▎         | 29/1128 [00:14<06:01,  3.04it/s]"
          ]
        },
        {
          "output_type": "stream",
          "name": "stdout",
          "text": [
            "Start date updated for performance code PF223631: 2023.09.26 -> 2023.09.19\n"
          ]
        },
        {
          "output_type": "stream",
          "name": "stderr",
          "text": [
            "\rUpdating start dates:   3%|▎         | 30/1128 [00:15<06:45,  2.70it/s]"
          ]
        },
        {
          "output_type": "stream",
          "name": "stdout",
          "text": [
            "Start date updated for performance code PF226178: 2023.10.21 -> 2023.09.18\n"
          ]
        },
        {
          "output_type": "stream",
          "name": "stderr",
          "text": [
            "\rUpdating start dates:   3%|▎         | 31/1128 [00:15<06:25,  2.84it/s]"
          ]
        },
        {
          "output_type": "stream",
          "name": "stdout",
          "text": [
            "Start date updated for performance code PF189452: 2022.07.09 -> 2022.04.13\n"
          ]
        },
        {
          "output_type": "stream",
          "name": "stderr",
          "text": [
            "\rUpdating start dates:   3%|▎         | 32/1128 [00:15<06:23,  2.86it/s]"
          ]
        },
        {
          "output_type": "stream",
          "name": "stdout",
          "text": [
            "Start date updated for performance code PF223418: 2023.08.26 -> 2023.08.04\n"
          ]
        },
        {
          "output_type": "stream",
          "name": "stderr",
          "text": [
            "\rUpdating start dates:   3%|▎         | 33/1128 [00:16<06:24,  2.85it/s]"
          ]
        },
        {
          "output_type": "stream",
          "name": "stdout",
          "text": [
            "Start date updated for performance code PF216201: 2023.05.13 -> 2023.04.03\n"
          ]
        },
        {
          "output_type": "stream",
          "name": "stderr",
          "text": [
            "\rUpdating start dates:   3%|▎         | 34/1128 [00:16<05:49,  3.13it/s]"
          ]
        },
        {
          "output_type": "stream",
          "name": "stdout",
          "text": [
            "Start date updated for performance code PF201007: 2022.12.24 -> 2022.10.27\n"
          ]
        },
        {
          "output_type": "stream",
          "name": "stderr",
          "text": [
            "\rUpdating start dates:   3%|▎         | 35/1128 [00:17<06:59,  2.61it/s]"
          ]
        },
        {
          "output_type": "stream",
          "name": "stdout",
          "text": [
            "Start date updated for performance code PF199512: 2022.12.08 -> 2022.11.03\n"
          ]
        },
        {
          "output_type": "stream",
          "name": "stderr",
          "text": [
            "\rUpdating start dates:   3%|▎         | 36/1128 [00:17<06:14,  2.91it/s]"
          ]
        },
        {
          "output_type": "stream",
          "name": "stdout",
          "text": [
            "Start date updated for performance code PF192976: 2022.07.30 -> 2022.06.16\n"
          ]
        },
        {
          "output_type": "stream",
          "name": "stderr",
          "text": [
            "\rUpdating start dates:   3%|▎         | 37/1128 [00:17<06:25,  2.83it/s]"
          ]
        },
        {
          "output_type": "stream",
          "name": "stdout",
          "text": [
            "Start date updated for performance code PF186979: 2022.03.04 -> 2022.02.18\n"
          ]
        },
        {
          "output_type": "stream",
          "name": "stderr",
          "text": [
            "\rUpdating start dates:   3%|▎         | 38/1128 [00:18<07:12,  2.52it/s]"
          ]
        },
        {
          "output_type": "stream",
          "name": "stdout",
          "text": [
            "Start date updated for performance code PF219750: 2023.07.29 -> 2023.06.06\n"
          ]
        },
        {
          "output_type": "stream",
          "name": "stderr",
          "text": [
            "\rUpdating start dates:   3%|▎         | 39/1128 [00:18<06:54,  2.63it/s]"
          ]
        },
        {
          "output_type": "stream",
          "name": "stdout",
          "text": [
            "Start date updated for performance code PF213588: 2023.03.31 -> 2023.02.17\n"
          ]
        },
        {
          "output_type": "stream",
          "name": "stderr",
          "text": [
            "\rUpdating start dates:   4%|▎         | 40/1128 [00:18<06:31,  2.78it/s]"
          ]
        },
        {
          "output_type": "stream",
          "name": "stdout",
          "text": [
            "Start date updated for performance code PF209403: 2023.02.12 -> 2023.01.29\n"
          ]
        },
        {
          "output_type": "stream",
          "name": "stderr",
          "text": [
            "\rUpdating start dates:   4%|▎         | 41/1128 [00:19<06:33,  2.76it/s]"
          ]
        },
        {
          "output_type": "stream",
          "name": "stdout",
          "text": [
            "Start date updated for performance code PF223347: 2023.09.12 -> 2023.08.03\n"
          ]
        },
        {
          "output_type": "stream",
          "name": "stderr",
          "text": [
            "\rUpdating start dates:   4%|▎         | 42/1128 [00:19<06:19,  2.87it/s]"
          ]
        },
        {
          "output_type": "stream",
          "name": "stdout",
          "text": [
            "Start date updated for performance code PF202402: 2022.12.30 -> 2022.11.16\n"
          ]
        },
        {
          "output_type": "stream",
          "name": "stderr",
          "text": [
            "\rUpdating start dates:   4%|▍         | 43/1128 [00:19<06:10,  2.93it/s]"
          ]
        },
        {
          "output_type": "stream",
          "name": "stdout",
          "text": [
            "Start date updated for performance code PF197854: 2022.10.15 -> 2022.09.07\n"
          ]
        },
        {
          "output_type": "stream",
          "name": "stderr",
          "text": [
            "\rUpdating start dates:   4%|▍         | 44/1128 [00:20<05:53,  3.06it/s]"
          ]
        },
        {
          "output_type": "stream",
          "name": "stdout",
          "text": [
            "Start date updated for performance code PF214081: 2023.05.26 -> 2023.04.19\n"
          ]
        },
        {
          "output_type": "stream",
          "name": "stderr",
          "text": [
            "\rUpdating start dates:   4%|▍         | 45/1128 [00:20<05:58,  3.02it/s]"
          ]
        },
        {
          "output_type": "stream",
          "name": "stdout",
          "text": [
            "Start date updated for performance code PF195632: 2022.08.30 -> 2022.08.02\n"
          ]
        },
        {
          "output_type": "stream",
          "name": "stderr",
          "text": [
            "\rUpdating start dates:   4%|▍         | 46/1128 [00:20<05:33,  3.24it/s]"
          ]
        },
        {
          "output_type": "stream",
          "name": "stdout",
          "text": [
            "Start date updated for performance code PF190314: 2022.07.16 -> 2022.04.29\n"
          ]
        },
        {
          "output_type": "stream",
          "name": "stderr",
          "text": [
            "\rUpdating start dates:   4%|▍         | 47/1128 [00:21<05:08,  3.50it/s]"
          ]
        },
        {
          "output_type": "stream",
          "name": "stdout",
          "text": [
            "Start date updated for performance code PF220630: 2023.08.02 -> 2023.06.22\n"
          ]
        },
        {
          "output_type": "stream",
          "name": "stderr",
          "text": [
            "\rUpdating start dates:   4%|▍         | 48/1128 [00:21<05:16,  3.41it/s]"
          ]
        },
        {
          "output_type": "stream",
          "name": "stdout",
          "text": [
            "Start date updated for performance code PF219757: 2023.06.23 -> 2023.06.05\n"
          ]
        },
        {
          "output_type": "stream",
          "name": "stderr",
          "text": [
            "\rUpdating start dates:   4%|▍         | 49/1128 [00:21<05:28,  3.29it/s]"
          ]
        },
        {
          "output_type": "stream",
          "name": "stdout",
          "text": [
            "Start date updated for performance code PF187052: 2022.03.01 -> 2022.12.15\n"
          ]
        },
        {
          "output_type": "stream",
          "name": "stderr",
          "text": [
            "\rUpdating start dates:   4%|▍         | 50/1128 [00:21<05:29,  3.27it/s]"
          ]
        },
        {
          "output_type": "stream",
          "name": "stdout",
          "text": [
            "Start date updated for performance code PF201729: 2022.12.18 -> 2022.11.22\n"
          ]
        },
        {
          "output_type": "stream",
          "name": "stderr",
          "text": [
            "\rUpdating start dates:   5%|▍         | 51/1128 [00:22<05:58,  3.01it/s]"
          ]
        },
        {
          "output_type": "stream",
          "name": "stdout",
          "text": [
            "Start date updated for performance code PF226369: 2023.11.21 -> 2023.09.21\n"
          ]
        },
        {
          "output_type": "stream",
          "name": "stderr",
          "text": [
            "\rUpdating start dates:   5%|▍         | 52/1128 [00:22<05:49,  3.08it/s]"
          ]
        },
        {
          "output_type": "stream",
          "name": "stdout",
          "text": [
            "Start date updated for performance code PF215963: 2023.05.02 -> 2023.03.29\n"
          ]
        },
        {
          "output_type": "stream",
          "name": "stderr",
          "text": [
            "\rUpdating start dates:   5%|▍         | 53/1128 [00:23<05:53,  3.04it/s]"
          ]
        },
        {
          "output_type": "stream",
          "name": "stdout",
          "text": [
            "Start date updated for performance code PF228670: 2023.12.23 -> 2023.10.25\n"
          ]
        },
        {
          "output_type": "stream",
          "name": "stderr",
          "text": [
            "\rUpdating start dates:   5%|▍         | 54/1128 [00:23<06:35,  2.71it/s]"
          ]
        },
        {
          "output_type": "stream",
          "name": "stdout",
          "text": [
            "Start date updated for performance code PF216371: 2023.05.13 -> 2023.04.05\n"
          ]
        },
        {
          "output_type": "stream",
          "name": "stderr",
          "text": [
            "\rUpdating start dates:   5%|▍         | 55/1128 [00:23<06:24,  2.79it/s]"
          ]
        },
        {
          "output_type": "stream",
          "name": "stdout",
          "text": [
            "Start date updated for performance code PF199739: 2022.11.30 -> 2022.10.07\n"
          ]
        },
        {
          "output_type": "stream",
          "name": "stderr",
          "text": [
            "\rUpdating start dates:   5%|▍         | 56/1128 [00:24<06:22,  2.80it/s]"
          ]
        },
        {
          "output_type": "stream",
          "name": "stdout",
          "text": [
            "Start date updated for performance code PF204348: 2023.01.31 -> 2022.12.15\n"
          ]
        },
        {
          "output_type": "stream",
          "name": "stderr",
          "text": [
            "\rUpdating start dates:   5%|▌         | 57/1128 [00:24<05:59,  2.98it/s]"
          ]
        },
        {
          "output_type": "stream",
          "name": "stdout",
          "text": [
            "Start date updated for performance code PF195873: 2022.08.13 -> 2022.12.28\n"
          ]
        },
        {
          "output_type": "stream",
          "name": "stderr",
          "text": [
            "\rUpdating start dates:   5%|▌         | 58/1128 [00:24<05:59,  2.98it/s]"
          ]
        },
        {
          "output_type": "stream",
          "name": "stdout",
          "text": [
            "Start date updated for performance code PF191776: 2022.07.13 -> 2022.05.25\n"
          ]
        },
        {
          "output_type": "stream",
          "name": "stderr",
          "text": [
            "\rUpdating start dates:   5%|▌         | 59/1128 [00:25<05:49,  3.06it/s]"
          ]
        },
        {
          "output_type": "stream",
          "name": "stdout",
          "text": [
            "Start date updated for performance code PF197098: 2022.09.29 -> 2022.12.17\n"
          ]
        },
        {
          "output_type": "stream",
          "name": "stderr",
          "text": [
            "\rUpdating start dates:   5%|▌         | 60/1128 [00:25<06:15,  2.84it/s]"
          ]
        },
        {
          "output_type": "stream",
          "name": "stdout",
          "text": [
            "Start date updated for performance code PF222182: 2023.09.03 -> 2023.07.17\n"
          ]
        },
        {
          "output_type": "stream",
          "name": "stderr",
          "text": [
            "\rUpdating start dates:   5%|▌         | 61/1128 [00:25<06:04,  2.93it/s]"
          ]
        },
        {
          "output_type": "stream",
          "name": "stdout",
          "text": [
            "Start date updated for performance code PF212789: 2023.03.04 -> 2023.02.17\n"
          ]
        },
        {
          "output_type": "stream",
          "name": "stderr",
          "text": [
            "\rUpdating start dates:   5%|▌         | 62/1128 [00:26<06:05,  2.92it/s]"
          ]
        },
        {
          "output_type": "stream",
          "name": "stdout",
          "text": [
            "Start date updated for performance code PF219190: 2023.07.22 -> 2023.07.21\n"
          ]
        },
        {
          "output_type": "stream",
          "name": "stderr",
          "text": [
            "\rUpdating start dates:   6%|▌         | 63/1128 [00:26<06:06,  2.91it/s]"
          ]
        },
        {
          "output_type": "stream",
          "name": "stdout",
          "text": [
            "Start date updated for performance code PF186168: 2022.03.01 -> 2022.02.25\n"
          ]
        },
        {
          "output_type": "stream",
          "name": "stderr",
          "text": [
            "\rUpdating start dates:   6%|▌         | 64/1128 [00:26<05:51,  3.03it/s]"
          ]
        },
        {
          "output_type": "stream",
          "name": "stdout",
          "text": [
            "Start date updated for performance code PF217682: 2023.06.09 -> 2023.04.28\n"
          ]
        },
        {
          "output_type": "stream",
          "name": "stderr",
          "text": [
            "\rUpdating start dates:   6%|▌         | 65/1128 [00:27<05:48,  3.05it/s]"
          ]
        },
        {
          "output_type": "stream",
          "name": "stdout",
          "text": [
            "Start date updated for performance code PF195027: 2022.09.16 -> 2022.08.24\n"
          ]
        },
        {
          "output_type": "stream",
          "name": "stderr",
          "text": [
            "\rUpdating start dates:   6%|▌         | 66/1128 [00:27<05:34,  3.18it/s]"
          ]
        },
        {
          "output_type": "stream",
          "name": "stdout",
          "text": [
            "Start date updated for performance code PF203963: 2023.01.21 -> 2022.12.09\n"
          ]
        },
        {
          "output_type": "stream",
          "name": "stderr",
          "text": [
            "\rUpdating start dates:   6%|▌         | 67/1128 [00:27<05:39,  3.13it/s]"
          ]
        },
        {
          "output_type": "stream",
          "name": "stdout",
          "text": [
            "Start date updated for performance code PF138268: 2017.07.01 -> 2022.12.16\n"
          ]
        },
        {
          "output_type": "stream",
          "name": "stderr",
          "text": [
            "\rUpdating start dates:   6%|▌         | 68/1128 [00:28<05:50,  3.02it/s]"
          ]
        },
        {
          "output_type": "stream",
          "name": "stdout",
          "text": [
            "Start date updated for performance code PF223606: 2023.09.05 -> 2023.08.08\n"
          ]
        },
        {
          "output_type": "stream",
          "name": "stderr",
          "text": [
            "\rUpdating start dates:   6%|▌         | 69/1128 [00:28<05:46,  3.06it/s]"
          ]
        },
        {
          "output_type": "stream",
          "name": "stdout",
          "text": [
            "Start date updated for performance code PF218181: 2023.06.28 -> 2023.05.09\n"
          ]
        },
        {
          "output_type": "stream",
          "name": "stderr",
          "text": [
            "\rUpdating start dates:   6%|▌         | 70/1128 [00:28<05:35,  3.15it/s]"
          ]
        },
        {
          "output_type": "stream",
          "name": "stdout",
          "text": [
            "Start date updated for performance code PF189877: 2022.05.16 -> 2022.04.20\n"
          ]
        },
        {
          "output_type": "stream",
          "name": "stderr",
          "text": [
            "\rUpdating start dates:   6%|▋         | 71/1128 [00:29<06:10,  2.85it/s]"
          ]
        },
        {
          "output_type": "stream",
          "name": "stdout",
          "text": [
            "Start date updated for performance code PF175711: 2021.08.31 -> 2021.12.17\n"
          ]
        },
        {
          "output_type": "stream",
          "name": "stderr",
          "text": [
            "\rUpdating start dates:   6%|▋         | 72/1128 [00:29<06:07,  2.87it/s]"
          ]
        },
        {
          "output_type": "stream",
          "name": "stdout",
          "text": [
            "Start date updated for performance code PF216609: 2023.05.16 -> 2023.04.11\n"
          ]
        },
        {
          "output_type": "stream",
          "name": "stderr",
          "text": [
            "\rUpdating start dates:   6%|▋         | 73/1128 [00:29<05:51,  3.00it/s]"
          ]
        },
        {
          "output_type": "stream",
          "name": "stdout",
          "text": [
            "Start date updated for performance code PF183630: 2022.01.07 -> 2021.11.23\n"
          ]
        },
        {
          "output_type": "stream",
          "name": "stderr",
          "text": [
            "\rUpdating start dates:   7%|▋         | 74/1128 [00:30<05:21,  3.27it/s]"
          ]
        },
        {
          "output_type": "stream",
          "name": "stdout",
          "text": [
            "Start date updated for performance code PF190975: 2022.08.05 -> 2022.08.04\n"
          ]
        },
        {
          "output_type": "stream",
          "name": "stderr",
          "text": [
            "\rUpdating start dates:   7%|▋         | 75/1128 [00:30<05:19,  3.30it/s]"
          ]
        },
        {
          "output_type": "stream",
          "name": "stdout",
          "text": [
            "Start date updated for performance code PF182536: 2021.12.10 -> 2021.12.29\n"
          ]
        },
        {
          "output_type": "stream",
          "name": "stderr",
          "text": [
            "\rUpdating start dates:   7%|▋         | 76/1128 [00:30<05:14,  3.34it/s]"
          ]
        },
        {
          "output_type": "stream",
          "name": "stdout",
          "text": [
            "Start date updated for performance code PF221127: 2023.10.20 -> 2023.06.28\n"
          ]
        },
        {
          "output_type": "stream",
          "name": "stderr",
          "text": [
            "\rUpdating start dates:   7%|▋         | 77/1128 [00:30<05:05,  3.44it/s]"
          ]
        },
        {
          "output_type": "stream",
          "name": "stdout",
          "text": [
            "Start date updated for performance code PF226836: 2023.11.30 -> 2023.09.26\n"
          ]
        },
        {
          "output_type": "stream",
          "name": "stderr",
          "text": [
            "\rUpdating start dates:   7%|▋         | 78/1128 [00:31<05:27,  3.20it/s]"
          ]
        },
        {
          "output_type": "stream",
          "name": "stdout",
          "text": [
            "Start date updated for performance code PF217599: 2023.08.04 -> 2023.06.08\n"
          ]
        },
        {
          "output_type": "stream",
          "name": "stderr",
          "text": [
            "\rUpdating start dates:   7%|▋         | 79/1128 [00:31<05:38,  3.10it/s]"
          ]
        },
        {
          "output_type": "stream",
          "name": "stdout",
          "text": [
            "Start date updated for performance code PF227782: 2023.12.15 -> 2023.10.13\n"
          ]
        },
        {
          "output_type": "stream",
          "name": "stderr",
          "text": [
            "\rUpdating start dates:   7%|▋         | 80/1128 [00:32<07:25,  2.35it/s]"
          ]
        },
        {
          "output_type": "stream",
          "name": "stdout",
          "text": [
            "Start date updated for performance code PF191302: 2022.06.22 -> 2022.06.16\n"
          ]
        },
        {
          "output_type": "stream",
          "name": "stderr",
          "text": [
            "\rUpdating start dates:   7%|▋         | 81/1128 [00:32<08:21,  2.09it/s]"
          ]
        },
        {
          "output_type": "stream",
          "name": "stdout",
          "text": [
            "Start date updated for performance code PF218444: 2023.06.24 -> 2023.05.16\n"
          ]
        },
        {
          "output_type": "stream",
          "name": "stderr",
          "text": [
            "\rUpdating start dates:   7%|▋         | 82/1128 [00:33<07:19,  2.38it/s]"
          ]
        },
        {
          "output_type": "stream",
          "name": "stdout",
          "text": [
            "Start date updated for performance code PF222510: 2023.08.04 -> 2023.07.20\n"
          ]
        },
        {
          "output_type": "stream",
          "name": "stderr",
          "text": [
            "\rUpdating start dates:   7%|▋         | 83/1128 [00:33<06:35,  2.64it/s]"
          ]
        },
        {
          "output_type": "stream",
          "name": "stdout",
          "text": [
            "Start date updated for performance code PF219191: 2023.07.08 -> 2023.05.25\n"
          ]
        },
        {
          "output_type": "stream",
          "name": "stderr",
          "text": [
            "\rUpdating start dates:   7%|▋         | 84/1128 [00:33<06:29,  2.68it/s]"
          ]
        },
        {
          "output_type": "stream",
          "name": "stdout",
          "text": [
            "Start date updated for performance code PF186310: 2022.02.11 -> 2022.12.28\n"
          ]
        },
        {
          "output_type": "stream",
          "name": "stderr",
          "text": [
            "\rUpdating start dates:   8%|▊         | 85/1128 [00:34<06:39,  2.61it/s]"
          ]
        },
        {
          "output_type": "stream",
          "name": "stdout",
          "text": [
            "Start date updated for performance code PF209861: 2023.02.10 -> 2023.01.16\n"
          ]
        },
        {
          "output_type": "stream",
          "name": "stderr",
          "text": [
            "\rUpdating start dates:   8%|▊         | 86/1128 [00:34<06:08,  2.83it/s]"
          ]
        },
        {
          "output_type": "stream",
          "name": "stdout",
          "text": [
            "Start date updated for performance code PF222383: 2023.08.31 -> 2023.07.18\n"
          ]
        },
        {
          "output_type": "stream",
          "name": "stderr",
          "text": [
            "\rUpdating start dates:   8%|▊         | 87/1128 [00:34<06:58,  2.48it/s]"
          ]
        },
        {
          "output_type": "stream",
          "name": "stdout",
          "text": [
            "Start date updated for performance code PF194408: 2022.07.27 -> 2022.07.11\n"
          ]
        },
        {
          "output_type": "stream",
          "name": "stderr",
          "text": [
            "\rUpdating start dates:   8%|▊         | 88/1128 [00:35<07:10,  2.42it/s]"
          ]
        },
        {
          "output_type": "stream",
          "name": "stdout",
          "text": [
            "Start date updated for performance code PF230482: 2023.12.22 -> 2023.11.21\n"
          ]
        },
        {
          "output_type": "stream",
          "name": "stderr",
          "text": [
            "\rUpdating start dates:   8%|▊         | 89/1128 [00:35<07:24,  2.34it/s]"
          ]
        },
        {
          "output_type": "stream",
          "name": "stdout",
          "text": [
            "Start date updated for performance code PF199649: 2022.11.26 -> 2022.12.12\n"
          ]
        },
        {
          "output_type": "stream",
          "name": "stderr",
          "text": [
            "\rUpdating start dates:   8%|▊         | 90/1128 [00:36<06:44,  2.56it/s]"
          ]
        },
        {
          "output_type": "stream",
          "name": "stdout",
          "text": [
            "Start date updated for performance code PF193833: 2022.08.20 -> 2022.08.12\n"
          ]
        },
        {
          "output_type": "stream",
          "name": "stderr",
          "text": [
            "\rUpdating start dates:   8%|▊         | 91/1128 [00:36<06:42,  2.57it/s]"
          ]
        },
        {
          "output_type": "stream",
          "name": "stdout",
          "text": [
            "Start date updated for performance code PF189062: 2022.06.15 -> 2022.04.05\n"
          ]
        },
        {
          "output_type": "stream",
          "name": "stderr",
          "text": [
            "\rUpdating start dates:   8%|▊         | 92/1128 [00:36<06:15,  2.76it/s]"
          ]
        },
        {
          "output_type": "stream",
          "name": "stdout",
          "text": [
            "Start date updated for performance code PF218577: 2023.07.19 -> 2023.05.18\n"
          ]
        },
        {
          "output_type": "stream",
          "name": "stderr",
          "text": [
            "\rUpdating start dates:   8%|▊         | 93/1128 [00:37<05:46,  2.98it/s]"
          ]
        },
        {
          "output_type": "stream",
          "name": "stdout",
          "text": [
            "Start date updated for performance code PF219423: 2023.07.26 -> 2023.05.30\n"
          ]
        },
        {
          "output_type": "stream",
          "name": "stderr",
          "text": [
            "\rUpdating start dates:   8%|▊         | 94/1128 [00:37<05:13,  3.30it/s]"
          ]
        },
        {
          "output_type": "stream",
          "name": "stdout",
          "text": [
            "Start date updated for performance code PF218605: 2023.06.13 -> 2023.05.16\n"
          ]
        },
        {
          "output_type": "stream",
          "name": "stderr",
          "text": [
            "\rUpdating start dates:   8%|▊         | 95/1128 [00:37<05:23,  3.19it/s]"
          ]
        },
        {
          "output_type": "stream",
          "name": "stdout",
          "text": [
            "Start date updated for performance code PF200310: 2022.11.29 -> 2022.12.28\n"
          ]
        },
        {
          "output_type": "stream",
          "name": "stderr",
          "text": [
            "\rUpdating start dates:   9%|▊         | 96/1128 [00:38<05:59,  2.87it/s]"
          ]
        },
        {
          "output_type": "stream",
          "name": "stdout",
          "text": [
            "Start date updated for performance code PF198891: 2022.10.07 -> 2022.09.26\n"
          ]
        },
        {
          "output_type": "stream",
          "name": "stderr",
          "text": [
            "\rUpdating start dates:   9%|▊         | 97/1128 [00:38<05:52,  2.92it/s]"
          ]
        },
        {
          "output_type": "stream",
          "name": "stdout",
          "text": [
            "Start date updated for performance code PF203725: 2023.01.21 -> 2022.12.06\n"
          ]
        },
        {
          "output_type": "stream",
          "name": "stderr",
          "text": [
            "\rUpdating start dates:   9%|▊         | 98/1128 [00:38<05:57,  2.89it/s]"
          ]
        },
        {
          "output_type": "stream",
          "name": "stdout",
          "text": [
            "Start date updated for performance code PF219753: 2023.08.05 -> 2023.06.06\n"
          ]
        },
        {
          "output_type": "stream",
          "name": "stderr",
          "text": [
            "\rUpdating start dates:   9%|▉         | 99/1128 [00:39<06:06,  2.80it/s]"
          ]
        },
        {
          "output_type": "stream",
          "name": "stdout",
          "text": [
            "Start date updated for performance code PF181384: 2021.12.04 -> 2021.12.28\n"
          ]
        },
        {
          "output_type": "stream",
          "name": "stderr",
          "text": [
            "\rUpdating start dates:   9%|▉         | 100/1128 [00:39<05:39,  3.03it/s]"
          ]
        },
        {
          "output_type": "stream",
          "name": "stdout",
          "text": [
            "Start date updated for performance code PF186601: 2022.03.09 -> 2022.02.09\n"
          ]
        },
        {
          "output_type": "stream",
          "name": "stderr",
          "text": [
            "\rUpdating start dates:   9%|▉         | 101/1128 [00:39<05:15,  3.26it/s]"
          ]
        },
        {
          "output_type": "stream",
          "name": "stdout",
          "text": [
            "Start date updated for performance code PF229520: 2023.12.29 -> 2023.11.07\n"
          ]
        },
        {
          "output_type": "stream",
          "name": "stderr",
          "text": [
            "\rUpdating start dates:   9%|▉         | 102/1128 [00:40<05:39,  3.02it/s]"
          ]
        },
        {
          "output_type": "stream",
          "name": "stdout",
          "text": [
            "Start date updated for performance code PF229153: 2023.12.02 -> 2023.11.01\n"
          ]
        },
        {
          "output_type": "stream",
          "name": "stderr",
          "text": [
            "\rUpdating start dates:   9%|▉         | 103/1128 [00:40<06:02,  2.83it/s]"
          ]
        },
        {
          "output_type": "stream",
          "name": "stdout",
          "text": [
            "Start date updated for performance code PF200998: 2022.12.03 -> 2022.11.29\n"
          ]
        },
        {
          "output_type": "stream",
          "name": "stderr",
          "text": [
            "\rUpdating start dates:   9%|▉         | 104/1128 [00:40<06:13,  2.74it/s]"
          ]
        },
        {
          "output_type": "stream",
          "name": "stdout",
          "text": [
            "Start date updated for performance code PF197666: 2022.10.29 -> 2022.09.05\n"
          ]
        },
        {
          "output_type": "stream",
          "name": "stderr",
          "text": [
            "\rUpdating start dates:   9%|▉         | 105/1128 [00:41<05:46,  2.95it/s]"
          ]
        },
        {
          "output_type": "stream",
          "name": "stdout",
          "text": [
            "Start date updated for performance code PF227189: 2023.11.01 -> 2023.10.05\n"
          ]
        },
        {
          "output_type": "stream",
          "name": "stderr",
          "text": [
            "\rUpdating start dates:   9%|▉         | 106/1128 [00:41<05:49,  2.93it/s]"
          ]
        },
        {
          "output_type": "stream",
          "name": "stdout",
          "text": [
            "Start date updated for performance code PF231833: 2023.12.24 -> 2023.12.04\n"
          ]
        },
        {
          "output_type": "stream",
          "name": "stderr",
          "text": [
            "\rUpdating start dates:   9%|▉         | 107/1128 [00:41<05:29,  3.09it/s]"
          ]
        },
        {
          "output_type": "stream",
          "name": "stdout",
          "text": [
            "Start date updated for performance code PF185284: 2022.01.14 -> 2022.12.30\n"
          ]
        },
        {
          "output_type": "stream",
          "name": "stderr",
          "text": [
            "\rUpdating start dates:  10%|▉         | 108/1128 [00:42<06:02,  2.81it/s]"
          ]
        },
        {
          "output_type": "stream",
          "name": "stdout",
          "text": [
            "Start date updated for performance code PF197992: 2022.10.30 -> 2022.09.11\n"
          ]
        },
        {
          "output_type": "stream",
          "name": "stderr",
          "text": [
            "\rUpdating start dates:  10%|▉         | 109/1128 [00:42<06:15,  2.71it/s]"
          ]
        },
        {
          "output_type": "stream",
          "name": "stdout",
          "text": [
            "Start date updated for performance code PF219839: 2023.07.08 -> 2023.06.07\n"
          ]
        },
        {
          "output_type": "stream",
          "name": "stderr",
          "text": [
            "\rUpdating start dates:  10%|▉         | 110/1128 [00:42<05:56,  2.86it/s]"
          ]
        },
        {
          "output_type": "stream",
          "name": "stdout",
          "text": [
            "Start date updated for performance code PF223739: 2023.09.15 -> 2023.09.02\n"
          ]
        },
        {
          "output_type": "stream",
          "name": "stderr",
          "text": [
            "\rUpdating start dates:  10%|▉         | 111/1128 [00:43<05:43,  2.96it/s]"
          ]
        },
        {
          "output_type": "stream",
          "name": "stdout",
          "text": [
            "Start date updated for performance code PF219841: 2023.08.12 -> 2023.06.07\n"
          ]
        },
        {
          "output_type": "stream",
          "name": "stderr",
          "text": [
            "\rUpdating start dates:  10%|▉         | 112/1128 [00:43<05:49,  2.91it/s]"
          ]
        },
        {
          "output_type": "stream",
          "name": "stdout",
          "text": [
            "Start date updated for performance code PF223336: 2023.11.27 -> 2023.08.21\n"
          ]
        },
        {
          "output_type": "stream",
          "name": "stderr",
          "text": [
            "\rUpdating start dates:  10%|█         | 113/1128 [00:44<05:58,  2.83it/s]"
          ]
        },
        {
          "output_type": "stream",
          "name": "stdout",
          "text": [
            "Start date updated for performance code PF185604: 2022.02.25 -> 2022.02.11\n"
          ]
        },
        {
          "output_type": "stream",
          "name": "stderr",
          "text": [
            "\rUpdating start dates:  10%|█         | 114/1128 [00:44<05:53,  2.87it/s]"
          ]
        },
        {
          "output_type": "stream",
          "name": "stdout",
          "text": [
            "Start date updated for performance code PF188377: 2022.05.24 -> 2022.03.21\n"
          ]
        },
        {
          "output_type": "stream",
          "name": "stderr",
          "text": [
            "\rUpdating start dates:  10%|█         | 115/1128 [00:44<05:56,  2.84it/s]"
          ]
        },
        {
          "output_type": "stream",
          "name": "stdout",
          "text": [
            "Start date updated for performance code PF224336: 2023.10.21 -> 2023.08.21\n"
          ]
        },
        {
          "output_type": "stream",
          "name": "stderr",
          "text": [
            "\rUpdating start dates:  10%|█         | 116/1128 [00:44<05:32,  3.04it/s]"
          ]
        },
        {
          "output_type": "stream",
          "name": "stdout",
          "text": [
            "Start date updated for performance code PF224676: 2023.09.21 -> 2023.08.25\n"
          ]
        },
        {
          "output_type": "stream",
          "name": "stderr",
          "text": [
            "\rUpdating start dates:  10%|█         | 117/1128 [00:45<05:09,  3.27it/s]"
          ]
        },
        {
          "output_type": "stream",
          "name": "stdout",
          "text": [
            "Start date updated for performance code PF192768: 2022.07.23 -> 2022.07.22\n"
          ]
        },
        {
          "output_type": "stream",
          "name": "stderr",
          "text": [
            "\rUpdating start dates:  10%|█         | 118/1128 [00:45<05:08,  3.27it/s]"
          ]
        },
        {
          "output_type": "stream",
          "name": "stdout",
          "text": [
            "Start date updated for performance code PF197894: 2022.10.01 -> 2022.09.08\n"
          ]
        },
        {
          "output_type": "stream",
          "name": "stderr",
          "text": [
            "\rUpdating start dates:  11%|█         | 119/1128 [00:45<05:31,  3.05it/s]"
          ]
        },
        {
          "output_type": "stream",
          "name": "stdout",
          "text": [
            "Start date updated for performance code PF223601: 2023.09.15 -> 2023.08.08\n"
          ]
        },
        {
          "output_type": "stream",
          "name": "stderr",
          "text": [
            "\rUpdating start dates:  11%|█         | 120/1128 [00:46<05:18,  3.17it/s]"
          ]
        },
        {
          "output_type": "stream",
          "name": "stdout",
          "text": [
            "Start date updated for performance code PF228649: 2023.12.19 -> 2023.10.25\n"
          ]
        },
        {
          "output_type": "stream",
          "name": "stderr",
          "text": [
            "\rUpdating start dates:  11%|█         | 121/1128 [00:46<05:52,  2.86it/s]"
          ]
        },
        {
          "output_type": "stream",
          "name": "stdout",
          "text": [
            "Start date updated for performance code PF183835: 2022.02.23 -> 2021.11.25\n"
          ]
        },
        {
          "output_type": "stream",
          "name": "stderr",
          "text": [
            "\rUpdating start dates:  11%|█         | 122/1128 [00:47<06:16,  2.67it/s]"
          ]
        },
        {
          "output_type": "stream",
          "name": "stdout",
          "text": [
            "Start date updated for performance code PF195858: 2022.09.20 -> 2022.08.05\n"
          ]
        },
        {
          "output_type": "stream",
          "name": "stderr",
          "text": [
            "\rUpdating start dates:  11%|█         | 123/1128 [00:48<09:09,  1.83it/s]"
          ]
        },
        {
          "output_type": "stream",
          "name": "stdout",
          "text": [
            "Start date updated for performance code PF217464: 2023.07.15 -> 2023.06.20\n"
          ]
        },
        {
          "output_type": "stream",
          "name": "stderr",
          "text": [
            "\rUpdating start dates:  11%|█         | 124/1128 [00:48<08:07,  2.06it/s]"
          ]
        },
        {
          "output_type": "stream",
          "name": "stdout",
          "text": [
            "Start date updated for performance code PF192965: 2022.07.12 -> 2022.06.16\n"
          ]
        },
        {
          "output_type": "stream",
          "name": "stderr",
          "text": [
            "\rUpdating start dates:  11%|█         | 125/1128 [00:48<07:23,  2.26it/s]"
          ]
        },
        {
          "output_type": "stream",
          "name": "stdout",
          "text": [
            "Start date updated for performance code PF222883: 2023.09.02 -> 2023.07.26\n"
          ]
        },
        {
          "output_type": "stream",
          "name": "stderr",
          "text": [
            "\rUpdating start dates:  11%|█         | 126/1128 [00:49<07:14,  2.30it/s]"
          ]
        },
        {
          "output_type": "stream",
          "name": "stdout",
          "text": [
            "Start date updated for performance code PF217629: 2023.05.19 -> 2023.04.28\n"
          ]
        },
        {
          "output_type": "stream",
          "name": "stderr",
          "text": [
            "\rUpdating start dates:  11%|█▏        | 127/1128 [00:49<06:26,  2.59it/s]"
          ]
        },
        {
          "output_type": "stream",
          "name": "stdout",
          "text": [
            "Start date updated for performance code PF195335: 2022.09.01 -> 2022.08.23\n"
          ]
        },
        {
          "output_type": "stream",
          "name": "stderr",
          "text": [
            "\rUpdating start dates:  11%|█▏        | 128/1128 [00:49<05:57,  2.80it/s]"
          ]
        },
        {
          "output_type": "stream",
          "name": "stdout",
          "text": [
            "Start date updated for performance code PF201077: 2022.12.09 -> 2022.10.28\n"
          ]
        },
        {
          "output_type": "stream",
          "name": "stderr",
          "text": [
            "\rUpdating start dates:  11%|█▏        | 129/1128 [00:50<06:07,  2.72it/s]"
          ]
        },
        {
          "output_type": "stream",
          "name": "stdout",
          "text": [
            "Start date updated for performance code PF218101: 2023.06.13 -> 2023.06.12\n"
          ]
        },
        {
          "output_type": "stream",
          "name": "stderr",
          "text": [
            "\rUpdating start dates:  12%|█▏        | 130/1128 [00:50<05:45,  2.88it/s]"
          ]
        },
        {
          "output_type": "stream",
          "name": "stdout",
          "text": [
            "Start date updated for performance code PF202476: 2023.01.07 -> 2022.11.17\n"
          ]
        },
        {
          "output_type": "stream",
          "name": "stderr",
          "text": [
            "\rUpdating start dates:  12%|█▏        | 131/1128 [00:50<05:22,  3.09it/s]"
          ]
        },
        {
          "output_type": "stream",
          "name": "stdout",
          "text": [
            "Start date updated for performance code PF219777: 2023.07.21 -> 2023.06.07\n"
          ]
        },
        {
          "output_type": "stream",
          "name": "stderr",
          "text": [
            "\rUpdating start dates:  12%|█▏        | 132/1128 [00:50<05:00,  3.31it/s]"
          ]
        },
        {
          "output_type": "stream",
          "name": "stdout",
          "text": [
            "Start date updated for performance code PF199370: 2022.12.24 -> 2022.10.04\n"
          ]
        },
        {
          "output_type": "stream",
          "name": "stderr",
          "text": [
            "\rUpdating start dates:  12%|█▏        | 133/1128 [00:51<06:25,  2.58it/s]"
          ]
        },
        {
          "output_type": "stream",
          "name": "stdout",
          "text": [
            "Start date updated for performance code PF194035: 2022.10.08 -> 2022.07.04\n"
          ]
        },
        {
          "output_type": "stream",
          "name": "stderr",
          "text": [
            "\rUpdating start dates:  12%|█▏        | 134/1128 [00:51<05:33,  2.98it/s]"
          ]
        },
        {
          "output_type": "stream",
          "name": "stdout",
          "text": [
            "Start date updated for performance code PF190574: 2022.05.31 -> 2022.05.04\n"
          ]
        },
        {
          "output_type": "stream",
          "name": "stderr",
          "text": [
            "\rUpdating start dates:  12%|█▏        | 135/1128 [00:51<05:16,  3.13it/s]"
          ]
        },
        {
          "output_type": "stream",
          "name": "stdout",
          "text": [
            "Start date updated for performance code PF191404: 2022.06.18 -> 2022.05.19\n"
          ]
        },
        {
          "output_type": "stream",
          "name": "stderr",
          "text": [
            "\rUpdating start dates:  12%|█▏        | 136/1128 [00:52<05:22,  3.07it/s]"
          ]
        },
        {
          "output_type": "stream",
          "name": "stdout",
          "text": [
            "Start date updated for performance code PF195631: 2022.09.16 -> 2022.08.02\n"
          ]
        },
        {
          "output_type": "stream",
          "name": "stderr",
          "text": [
            "\rUpdating start dates:  12%|█▏        | 137/1128 [00:52<05:27,  3.02it/s]"
          ]
        },
        {
          "output_type": "stream",
          "name": "stdout",
          "text": [
            "Start date updated for performance code PF217406: 2023.05.27 -> 2023.04.24\n"
          ]
        },
        {
          "output_type": "stream",
          "name": "stderr",
          "text": [
            "\rUpdating start dates:  12%|█▏        | 138/1128 [00:52<05:21,  3.08it/s]"
          ]
        },
        {
          "output_type": "stream",
          "name": "stdout",
          "text": [
            "Start date updated for performance code PF186803: 2022.03.22 -> 2022.02.15\n"
          ]
        },
        {
          "output_type": "stream",
          "name": "stderr",
          "text": [
            "\rUpdating start dates:  12%|█▏        | 139/1128 [00:53<05:36,  2.94it/s]"
          ]
        },
        {
          "output_type": "stream",
          "name": "stdout",
          "text": [
            "Start date updated for performance code PF192149: 2022.07.08 -> 2022.06.02\n"
          ]
        },
        {
          "output_type": "stream",
          "name": "stderr",
          "text": [
            "\rUpdating start dates:  12%|█▏        | 140/1128 [00:53<05:30,  2.98it/s]"
          ]
        },
        {
          "output_type": "stream",
          "name": "stdout",
          "text": [
            "Start date updated for performance code PF187609: 2022.03.10 -> 2022.03.03\n"
          ]
        },
        {
          "output_type": "stream",
          "name": "stderr",
          "text": [
            "\rUpdating start dates:  12%|█▎        | 141/1128 [00:54<06:10,  2.67it/s]"
          ]
        },
        {
          "output_type": "stream",
          "name": "stdout",
          "text": [
            "Start date updated for performance code PF218294: 2023.06.05 -> 2023.05.11\n"
          ]
        },
        {
          "output_type": "stream",
          "name": "stderr",
          "text": [
            "\rUpdating start dates:  13%|█▎        | 142/1128 [00:54<06:05,  2.70it/s]"
          ]
        },
        {
          "output_type": "stream",
          "name": "stdout",
          "text": [
            "Start date updated for performance code PF228300: 2023.12.08 -> 2023.10.19\n"
          ]
        },
        {
          "output_type": "stream",
          "name": "stderr",
          "text": [
            "\rUpdating start dates:  13%|█▎        | 143/1128 [00:54<05:40,  2.89it/s]"
          ]
        },
        {
          "output_type": "stream",
          "name": "stdout",
          "text": [
            "Start date updated for performance code PF230537: 2023.12.14 -> 2023.11.21\n"
          ]
        },
        {
          "output_type": "stream",
          "name": "stderr",
          "text": [
            "\rUpdating start dates:  13%|█▎        | 144/1128 [00:55<05:32,  2.96it/s]"
          ]
        },
        {
          "output_type": "stream",
          "name": "stdout",
          "text": [
            "Start date updated for performance code PF203193: 2023.01.07 -> 2022.11.28\n"
          ]
        },
        {
          "output_type": "stream",
          "name": "stderr",
          "text": [
            "\rUpdating start dates:  13%|█▎        | 145/1128 [00:55<05:40,  2.89it/s]"
          ]
        },
        {
          "output_type": "stream",
          "name": "stdout",
          "text": [
            "Start date updated for performance code PF223241: 2023.09.23 -> 2023.08.02\n"
          ]
        },
        {
          "output_type": "stream",
          "name": "stderr",
          "text": [
            "\rUpdating start dates:  13%|█▎        | 146/1128 [00:55<05:13,  3.13it/s]"
          ]
        },
        {
          "output_type": "stream",
          "name": "stdout",
          "text": [
            "Start date updated for performance code PF211446: 2023.03.16 -> 2023.03.06\n"
          ]
        },
        {
          "output_type": "stream",
          "name": "stderr",
          "text": [
            "\rUpdating start dates:  13%|█▎        | 147/1128 [00:57<12:29,  1.31it/s]"
          ]
        },
        {
          "output_type": "stream",
          "name": "stdout",
          "text": [
            "Start date updated for performance code PF214990: 2023.04.15 -> 2023.03.14\n"
          ]
        },
        {
          "output_type": "stream",
          "name": "stderr",
          "text": [
            "\rUpdating start dates:  13%|█▎        | 148/1128 [00:57<10:12,  1.60it/s]"
          ]
        },
        {
          "output_type": "stream",
          "name": "stdout",
          "text": [
            "Start date updated for performance code PF195312: 2022.08.20 -> 2022.07.26\n"
          ]
        },
        {
          "output_type": "stream",
          "name": "stderr",
          "text": [
            "\rUpdating start dates:  13%|█▎        | 149/1128 [00:58<08:49,  1.85it/s]"
          ]
        },
        {
          "output_type": "stream",
          "name": "stdout",
          "text": [
            "Start date updated for performance code PF200706: 2022.12.03 -> 2022.10.24\n"
          ]
        },
        {
          "output_type": "stream",
          "name": "stderr",
          "text": [
            "\rUpdating start dates:  13%|█▎        | 150/1128 [00:58<07:35,  2.14it/s]"
          ]
        },
        {
          "output_type": "stream",
          "name": "stdout",
          "text": [
            "Start date updated for performance code PF192199: 2022.06.25 -> 2022.06.02\n"
          ]
        },
        {
          "output_type": "stream",
          "name": "stderr",
          "text": [
            "\rUpdating start dates:  13%|█▎        | 151/1128 [00:58<06:29,  2.51it/s]"
          ]
        },
        {
          "output_type": "stream",
          "name": "stdout",
          "text": [
            "Start date updated for performance code PF195918: 2022.09.06 -> 2022.08.08\n"
          ]
        },
        {
          "output_type": "stream",
          "name": "stderr",
          "text": [
            "Updating start dates:  14%|█▎        | 153/1128 [00:59<05:43,  2.84it/s]"
          ]
        },
        {
          "output_type": "stream",
          "name": "stdout",
          "text": [
            "Start date updated for performance code PF192962: 2022.08.06 -> 2022.06.16\n"
          ]
        },
        {
          "output_type": "stream",
          "name": "stderr",
          "text": [
            "\rUpdating start dates:  14%|█▎        | 154/1128 [00:59<05:17,  3.07it/s]"
          ]
        },
        {
          "output_type": "stream",
          "name": "stdout",
          "text": [
            "Start date updated for performance code PF193752: 2022.07.29 -> 2022.06.28\n"
          ]
        },
        {
          "output_type": "stream",
          "name": "stderr",
          "text": [
            "\rUpdating start dates:  14%|█▎        | 155/1128 [00:59<05:16,  3.08it/s]"
          ]
        },
        {
          "output_type": "stream",
          "name": "stdout",
          "text": [
            "Start date updated for performance code PF169647: 2020.12.10 -> 2022.12.30\n"
          ]
        },
        {
          "output_type": "stream",
          "name": "stderr",
          "text": [
            "\rUpdating start dates:  14%|█▍        | 156/1128 [01:00<05:32,  2.92it/s]"
          ]
        },
        {
          "output_type": "stream",
          "name": "stdout",
          "text": [
            "Start date updated for performance code PF214131: 2023.03.25 -> 2023.03.12\n"
          ]
        },
        {
          "output_type": "stream",
          "name": "stderr",
          "text": [
            "\rUpdating start dates:  14%|█▍        | 157/1128 [01:00<05:38,  2.87it/s]"
          ]
        },
        {
          "output_type": "stream",
          "name": "stdout",
          "text": [
            "Start date updated for performance code PF216828: 2023.06.02 -> 2023.04.13\n"
          ]
        },
        {
          "output_type": "stream",
          "name": "stderr",
          "text": [
            "\rUpdating start dates:  14%|█▍        | 158/1128 [01:00<05:08,  3.14it/s]"
          ]
        },
        {
          "output_type": "stream",
          "name": "stdout",
          "text": [
            "Start date updated for performance code PF188035: 2022.04.22 -> 2022.03.15\n"
          ]
        },
        {
          "output_type": "stream",
          "name": "stderr",
          "text": [
            "\rUpdating start dates:  14%|█▍        | 159/1128 [01:01<05:29,  2.94it/s]"
          ]
        },
        {
          "output_type": "stream",
          "name": "stdout",
          "text": [
            "Start date updated for performance code PF213870: 2023.04.20 -> 2023.02.22\n"
          ]
        },
        {
          "output_type": "stream",
          "name": "stderr",
          "text": [
            "\rUpdating start dates:  14%|█▍        | 160/1128 [01:01<05:09,  3.13it/s]"
          ]
        },
        {
          "output_type": "stream",
          "name": "stdout",
          "text": [
            "Start date updated for performance code PF222388: 2023.08.25 -> 2023.07.18\n"
          ]
        },
        {
          "output_type": "stream",
          "name": "stderr",
          "text": [
            "\rUpdating start dates:  14%|█▍        | 161/1128 [01:01<05:04,  3.18it/s]"
          ]
        },
        {
          "output_type": "stream",
          "name": "stdout",
          "text": [
            "Start date updated for performance code PF187073: 2022.04.02 -> 2022.02.21\n"
          ]
        },
        {
          "output_type": "stream",
          "name": "stderr",
          "text": [
            "\rUpdating start dates:  14%|█▍        | 162/1128 [01:02<05:46,  2.79it/s]"
          ]
        },
        {
          "output_type": "stream",
          "name": "stdout",
          "text": [
            "Start date updated for performance code PF196810: 2022.09.23 -> 2022.08.22\n"
          ]
        },
        {
          "output_type": "stream",
          "name": "stderr",
          "text": [
            "\rUpdating start dates:  14%|█▍        | 163/1128 [01:02<06:05,  2.64it/s]"
          ]
        },
        {
          "output_type": "stream",
          "name": "stdout",
          "text": [
            "Start date updated for performance code PF191300: 2022.07.16 -> 2022.07.15\n"
          ]
        },
        {
          "output_type": "stream",
          "name": "stderr",
          "text": [
            "\rUpdating start dates:  15%|█▍        | 164/1128 [01:03<05:55,  2.71it/s]"
          ]
        },
        {
          "output_type": "stream",
          "name": "stdout",
          "text": [
            "Start date updated for performance code PF202152: 2022.12.20 -> 2022.12.04\n"
          ]
        },
        {
          "output_type": "stream",
          "name": "stderr",
          "text": [
            "\rUpdating start dates:  15%|█▍        | 165/1128 [01:03<06:08,  2.61it/s]"
          ]
        },
        {
          "output_type": "stream",
          "name": "stdout",
          "text": [
            "Start date updated for performance code PF229062: 2023.12.01 -> 2023.10.31\n"
          ]
        },
        {
          "output_type": "stream",
          "name": "stderr",
          "text": [
            "\rUpdating start dates:  15%|█▍        | 166/1128 [01:03<06:18,  2.54it/s]"
          ]
        },
        {
          "output_type": "stream",
          "name": "stdout",
          "text": [
            "Start date updated for performance code PF224506: 2023.10.07 -> 2023.08.24\n"
          ]
        },
        {
          "output_type": "stream",
          "name": "stderr",
          "text": [
            "\rUpdating start dates:  15%|█▍        | 167/1128 [01:04<05:50,  2.74it/s]"
          ]
        },
        {
          "output_type": "stream",
          "name": "stdout",
          "text": [
            "Start date updated for performance code PF218607: 2023.07.14 -> 2023.07.10\n"
          ]
        },
        {
          "output_type": "stream",
          "name": "stderr",
          "text": [
            "\rUpdating start dates:  15%|█▍        | 168/1128 [01:04<05:50,  2.74it/s]"
          ]
        },
        {
          "output_type": "stream",
          "name": "stdout",
          "text": [
            "Start date updated for performance code PF200357: 2022.12.07 -> 2022.10.25\n"
          ]
        },
        {
          "output_type": "stream",
          "name": "stderr",
          "text": [
            "\rUpdating start dates:  15%|█▍        | 169/1128 [01:04<05:16,  3.03it/s]"
          ]
        },
        {
          "output_type": "stream",
          "name": "stdout",
          "text": [
            "Start date updated for performance code PF222938: 2023.09.23 -> 2023.07.27\n"
          ]
        },
        {
          "output_type": "stream",
          "name": "stderr",
          "text": [
            "\rUpdating start dates:  15%|█▌        | 170/1128 [01:05<05:11,  3.08it/s]"
          ]
        },
        {
          "output_type": "stream",
          "name": "stdout",
          "text": [
            "Start date updated for performance code PF204925: 2023.01.28 -> 2022.12.28\n"
          ]
        },
        {
          "output_type": "stream",
          "name": "stderr",
          "text": [
            "\rUpdating start dates:  15%|█▌        | 171/1128 [01:05<05:34,  2.86it/s]"
          ]
        },
        {
          "output_type": "stream",
          "name": "stdout",
          "text": [
            "Start date updated for performance code PF214546: 2023.05.13 -> 2023.03.08\n"
          ]
        },
        {
          "output_type": "stream",
          "name": "stderr",
          "text": [
            "\rUpdating start dates:  15%|█▌        | 172/1128 [01:05<05:30,  2.89it/s]"
          ]
        },
        {
          "output_type": "stream",
          "name": "stdout",
          "text": [
            "Start date updated for performance code PF190240: 2022.05.17 -> 2022.04.28\n"
          ]
        },
        {
          "output_type": "stream",
          "name": "stderr",
          "text": [
            "\rUpdating start dates:  15%|█▌        | 173/1128 [01:06<05:13,  3.05it/s]"
          ]
        },
        {
          "output_type": "stream",
          "name": "stdout",
          "text": [
            "Start date updated for performance code PF189707: 2022.05.20 -> 2022.04.20\n"
          ]
        },
        {
          "output_type": "stream",
          "name": "stderr",
          "text": [
            "\rUpdating start dates:  15%|█▌        | 174/1128 [01:06<04:50,  3.28it/s]"
          ]
        },
        {
          "output_type": "stream",
          "name": "stdout",
          "text": [
            "Start date updated for performance code PF214368: 2023.05.26 -> 2023.03.06\n"
          ]
        },
        {
          "output_type": "stream",
          "name": "stderr",
          "text": [
            "\rUpdating start dates:  16%|█▌        | 175/1128 [01:06<04:40,  3.39it/s]"
          ]
        },
        {
          "output_type": "stream",
          "name": "stdout",
          "text": [
            "Start date updated for performance code PF191785: 2022.06.11 -> 2022.04.26\n"
          ]
        },
        {
          "output_type": "stream",
          "name": "stderr",
          "text": [
            "\rUpdating start dates:  16%|█▌        | 176/1128 [01:07<04:56,  3.21it/s]"
          ]
        },
        {
          "output_type": "stream",
          "name": "stdout",
          "text": [
            "Start date updated for performance code PF222486: 2023.09.23 -> 2023.07.19\n"
          ]
        },
        {
          "output_type": "stream",
          "name": "stderr",
          "text": [
            "\rUpdating start dates:  16%|█▌        | 177/1128 [01:07<04:58,  3.18it/s]"
          ]
        },
        {
          "output_type": "stream",
          "name": "stdout",
          "text": [
            "Start date updated for performance code PF189647: 2022.04.22 -> 2022.04.15\n"
          ]
        },
        {
          "output_type": "stream",
          "name": "stderr",
          "text": [
            "Updating start dates:  16%|█▌        | 179/1128 [01:08<04:53,  3.24it/s]"
          ]
        },
        {
          "output_type": "stream",
          "name": "stdout",
          "text": [
            "Start date updated for performance code PF192774: 2022.07.12 -> 2022.06.13\n"
          ]
        },
        {
          "output_type": "stream",
          "name": "stderr",
          "text": [
            "\rUpdating start dates:  16%|█▌        | 180/1128 [01:08<05:09,  3.06it/s]"
          ]
        },
        {
          "output_type": "stream",
          "name": "stdout",
          "text": [
            "Start date updated for performance code PF190804: 2022.06.30 -> 2022.05.09\n"
          ]
        },
        {
          "output_type": "stream",
          "name": "stderr",
          "text": [
            "\rUpdating start dates:  16%|█▌        | 181/1128 [01:08<05:38,  2.80it/s]"
          ]
        },
        {
          "output_type": "stream",
          "name": "stdout",
          "text": [
            "Start date updated for performance code PF216728: 2023.06.07 -> 2023.04.12\n"
          ]
        },
        {
          "output_type": "stream",
          "name": "stderr",
          "text": [
            "\rUpdating start dates:  16%|█▌        | 182/1128 [01:09<05:45,  2.73it/s]"
          ]
        },
        {
          "output_type": "stream",
          "name": "stdout",
          "text": [
            "Start date updated for performance code PF231877: 2023.12.22 -> 2023.12.05\n"
          ]
        },
        {
          "output_type": "stream",
          "name": "stderr",
          "text": [
            "\rUpdating start dates:  16%|█▌        | 183/1128 [01:09<05:36,  2.81it/s]"
          ]
        },
        {
          "output_type": "stream",
          "name": "stdout",
          "text": [
            "Start date updated for performance code PF183407: 2021.12.12 -> 2021.12.17\n"
          ]
        },
        {
          "output_type": "stream",
          "name": "stderr",
          "text": [
            "\rUpdating start dates:  16%|█▋        | 184/1128 [01:09<05:42,  2.75it/s]"
          ]
        },
        {
          "output_type": "stream",
          "name": "stdout",
          "text": [
            "Start date updated for performance code PF185900: 2022.02.08 -> 2022.01.19\n"
          ]
        },
        {
          "output_type": "stream",
          "name": "stderr",
          "text": [
            "\rUpdating start dates:  16%|█▋        | 185/1128 [01:10<05:34,  2.82it/s]"
          ]
        },
        {
          "output_type": "stream",
          "name": "stdout",
          "text": [
            "Start date updated for performance code PF186500: 2022.04.22 -> 2022.04.02\n"
          ]
        },
        {
          "output_type": "stream",
          "name": "stderr",
          "text": [
            "\rUpdating start dates:  16%|█▋        | 186/1128 [01:10<06:09,  2.55it/s]"
          ]
        },
        {
          "output_type": "stream",
          "name": "stdout",
          "text": [
            "Start date updated for performance code PF222535: 2023.08.29 -> 2023.07.20\n"
          ]
        },
        {
          "output_type": "stream",
          "name": "stderr",
          "text": [
            "\rUpdating start dates:  17%|█▋        | 187/1128 [01:11<05:51,  2.68it/s]"
          ]
        },
        {
          "output_type": "stream",
          "name": "stdout",
          "text": [
            "Start date updated for performance code PF182831: 2021.12.24 -> 2021.11.10\n"
          ]
        },
        {
          "output_type": "stream",
          "name": "stderr",
          "text": [
            "\rUpdating start dates:  17%|█▋        | 188/1128 [01:11<05:50,  2.68it/s]"
          ]
        },
        {
          "output_type": "stream",
          "name": "stdout",
          "text": [
            "Start date updated for performance code PF192944: 2022.07.26 -> 2022.06.16\n"
          ]
        },
        {
          "output_type": "stream",
          "name": "stderr",
          "text": [
            "\rUpdating start dates:  17%|█▋        | 189/1128 [01:11<05:35,  2.80it/s]"
          ]
        },
        {
          "output_type": "stream",
          "name": "stdout",
          "text": [
            "Start date updated for performance code PF216764: 2023.05.27 -> 2023.05.14\n"
          ]
        },
        {
          "output_type": "stream",
          "name": "stderr",
          "text": [
            "\rUpdating start dates:  17%|█▋        | 190/1128 [01:12<05:30,  2.84it/s]"
          ]
        },
        {
          "output_type": "stream",
          "name": "stdout",
          "text": [
            "Start date updated for performance code PF201638: 2022.12.10 -> 2022.11.07\n"
          ]
        },
        {
          "output_type": "stream",
          "name": "stderr",
          "text": [
            "\rUpdating start dates:  17%|█▋        | 191/1128 [01:12<05:03,  3.09it/s]"
          ]
        },
        {
          "output_type": "stream",
          "name": "stdout",
          "text": [
            "Start date updated for performance code PF202275: 2022.12.23 -> 2022.11.15\n"
          ]
        },
        {
          "output_type": "stream",
          "name": "stderr",
          "text": [
            "\rUpdating start dates:  17%|█▋        | 192/1128 [01:12<04:54,  3.18it/s]"
          ]
        },
        {
          "output_type": "stream",
          "name": "stdout",
          "text": [
            "Start date updated for performance code PF185027: 2022.01.08 -> 2021.12.20\n"
          ]
        },
        {
          "output_type": "stream",
          "name": "stderr",
          "text": [
            "\rUpdating start dates:  17%|█▋        | 193/1128 [01:12<04:50,  3.22it/s]"
          ]
        },
        {
          "output_type": "stream",
          "name": "stdout",
          "text": [
            "Start date updated for performance code PF224462: 2023.09.22 -> 2023.08.22\n"
          ]
        },
        {
          "output_type": "stream",
          "name": "stderr",
          "text": [
            "\rUpdating start dates:  17%|█▋        | 194/1128 [01:13<04:32,  3.42it/s]"
          ]
        },
        {
          "output_type": "stream",
          "name": "stdout",
          "text": [
            "Start date updated for performance code PF160272: 2018.12.31 -> 2022.11.22\n"
          ]
        },
        {
          "output_type": "stream",
          "name": "stderr",
          "text": [
            "\rUpdating start dates:  17%|█▋        | 195/1128 [01:13<04:26,  3.51it/s]"
          ]
        },
        {
          "output_type": "stream",
          "name": "stdout",
          "text": [
            "Start date updated for performance code PF186980: 2022.03.18 -> 2022.02.18\n"
          ]
        },
        {
          "output_type": "stream",
          "name": "stderr",
          "text": [
            "\rUpdating start dates:  17%|█▋        | 196/1128 [01:13<04:16,  3.63it/s]"
          ]
        },
        {
          "output_type": "stream",
          "name": "stdout",
          "text": [
            "Start date updated for performance code PF192027: 2022.07.05 -> 2022.05.30\n"
          ]
        },
        {
          "output_type": "stream",
          "name": "stderr",
          "text": [
            "\rUpdating start dates:  17%|█▋        | 197/1128 [01:14<04:35,  3.37it/s]"
          ]
        },
        {
          "output_type": "stream",
          "name": "stdout",
          "text": [
            "Start date updated for performance code PF184115: 2022.01.21 -> 2021.12.27\n"
          ]
        },
        {
          "output_type": "stream",
          "name": "stderr",
          "text": [
            "\rUpdating start dates:  18%|█▊        | 198/1128 [01:14<04:20,  3.57it/s]"
          ]
        },
        {
          "output_type": "stream",
          "name": "stdout",
          "text": [
            "Start date updated for performance code PF209484: 2023.06.20 -> 2023.03.30\n"
          ]
        },
        {
          "output_type": "stream",
          "name": "stderr",
          "text": [
            "\rUpdating start dates:  18%|█▊        | 199/1128 [01:14<04:44,  3.27it/s]"
          ]
        },
        {
          "output_type": "stream",
          "name": "stdout",
          "text": [
            "Start date updated for performance code PF220156: 2023.07.25 -> 2023.06.13\n"
          ]
        },
        {
          "output_type": "stream",
          "name": "stderr",
          "text": [
            "\rUpdating start dates:  18%|█▊        | 200/1128 [01:15<05:12,  2.97it/s]"
          ]
        },
        {
          "output_type": "stream",
          "name": "stdout",
          "text": [
            "Start date updated for performance code PF192961: 2022.07.09 -> 2022.06.16\n"
          ]
        },
        {
          "output_type": "stream",
          "name": "stderr",
          "text": [
            "\rUpdating start dates:  18%|█▊        | 201/1128 [01:15<05:04,  3.04it/s]"
          ]
        },
        {
          "output_type": "stream",
          "name": "stdout",
          "text": [
            "Start date updated for performance code PF219524: 2023.08.25 -> 2023.07.10\n"
          ]
        },
        {
          "output_type": "stream",
          "name": "stderr",
          "text": [
            "\rUpdating start dates:  18%|█▊        | 202/1128 [01:15<05:14,  2.95it/s]"
          ]
        },
        {
          "output_type": "stream",
          "name": "stdout",
          "text": [
            "Start date updated for performance code PF223872: 2023.09.21 -> 2023.09.01\n"
          ]
        },
        {
          "output_type": "stream",
          "name": "stderr",
          "text": [
            "\rUpdating start dates:  18%|█▊        | 203/1128 [01:16<05:05,  3.03it/s]"
          ]
        },
        {
          "output_type": "stream",
          "name": "stdout",
          "text": [
            "Start date updated for performance code PF190311: 2022.06.21 -> 2022.04.29\n"
          ]
        },
        {
          "output_type": "stream",
          "name": "stderr",
          "text": [
            "\rUpdating start dates:  18%|█▊        | 204/1128 [01:16<05:12,  2.95it/s]"
          ]
        },
        {
          "output_type": "stream",
          "name": "stdout",
          "text": [
            "Start date updated for performance code PF212584: 2023.03.04 -> 2023.03.03\n"
          ]
        },
        {
          "output_type": "stream",
          "name": "stderr",
          "text": [
            "\rUpdating start dates:  18%|█▊        | 205/1128 [01:16<05:20,  2.88it/s]"
          ]
        },
        {
          "output_type": "stream",
          "name": "stdout",
          "text": [
            "Start date updated for performance code PF198038: 2022.09.30 -> 2022.09.13\n"
          ]
        },
        {
          "output_type": "stream",
          "name": "stderr",
          "text": [
            "\rUpdating start dates:  18%|█▊        | 206/1128 [01:17<05:22,  2.85it/s]"
          ]
        },
        {
          "output_type": "stream",
          "name": "stdout",
          "text": [
            "Start date updated for performance code PF193215: 2022.10.01 -> 2022.06.21\n"
          ]
        },
        {
          "output_type": "stream",
          "name": "stderr",
          "text": [
            "\rUpdating start dates:  18%|█▊        | 207/1128 [01:17<05:03,  3.04it/s]"
          ]
        },
        {
          "output_type": "stream",
          "name": "stdout",
          "text": [
            "Start date updated for performance code PF224117: 2023.09.19 -> 2023.08.29\n"
          ]
        },
        {
          "output_type": "stream",
          "name": "stderr",
          "text": [
            "Updating start dates:  19%|█▊        | 209/1128 [01:18<05:26,  2.81it/s]"
          ]
        },
        {
          "output_type": "stream",
          "name": "stdout",
          "text": [
            "Start date updated for performance code PF192980: 2022.08.20 -> 2022.06.16\n"
          ]
        },
        {
          "output_type": "stream",
          "name": "stderr",
          "text": [
            "\rUpdating start dates:  19%|█▊        | 210/1128 [01:18<05:10,  2.95it/s]"
          ]
        },
        {
          "output_type": "stream",
          "name": "stdout",
          "text": [
            "Start date updated for performance code PF213430: 2023.03.28 -> 2023.03.09\n"
          ]
        },
        {
          "output_type": "stream",
          "name": "stderr",
          "text": [
            "\rUpdating start dates:  19%|█▊        | 211/1128 [01:18<05:37,  2.72it/s]"
          ]
        },
        {
          "output_type": "stream",
          "name": "stdout",
          "text": [
            "Start date updated for performance code PF190368: 2022.05.27 -> 2022.05.06\n"
          ]
        },
        {
          "output_type": "stream",
          "name": "stderr",
          "text": [
            "\rUpdating start dates:  19%|█▉        | 212/1128 [01:19<05:31,  2.77it/s]"
          ]
        },
        {
          "output_type": "stream",
          "name": "stdout",
          "text": [
            "Start date updated for performance code PF219330: 2023.07.11 -> 2023.05.26\n"
          ]
        },
        {
          "output_type": "stream",
          "name": "stderr",
          "text": [
            "\rUpdating start dates:  19%|█▉        | 213/1128 [01:19<05:21,  2.85it/s]"
          ]
        },
        {
          "output_type": "stream",
          "name": "stdout",
          "text": [
            "Start date updated for performance code PF218615: 2023.07.14 -> 2023.07.04\n"
          ]
        },
        {
          "output_type": "stream",
          "name": "stderr",
          "text": [
            "\rUpdating start dates:  19%|█▉        | 214/1128 [01:19<04:44,  3.21it/s]"
          ]
        },
        {
          "output_type": "stream",
          "name": "stdout",
          "text": [
            "Start date updated for performance code PF192095: 2022.06.19 -> 2022.05.31\n"
          ]
        },
        {
          "output_type": "stream",
          "name": "stderr",
          "text": [
            "\rUpdating start dates:  19%|█▉        | 215/1128 [01:20<04:40,  3.25it/s]"
          ]
        },
        {
          "output_type": "stream",
          "name": "stdout",
          "text": [
            "Start date updated for performance code PF228235: 2023.11.17 -> 2023.10.19\n"
          ]
        },
        {
          "output_type": "stream",
          "name": "stderr",
          "text": [
            "\rUpdating start dates:  19%|█▉        | 216/1128 [01:20<05:12,  2.92it/s]"
          ]
        },
        {
          "output_type": "stream",
          "name": "stdout",
          "text": [
            "Start date updated for performance code PF194109: 2022.09.06 -> 2022.07.05\n"
          ]
        },
        {
          "output_type": "stream",
          "name": "stderr",
          "text": [
            "\rUpdating start dates:  19%|█▉        | 217/1128 [01:20<04:59,  3.05it/s]"
          ]
        },
        {
          "output_type": "stream",
          "name": "stdout",
          "text": [
            "Start date updated for performance code PF228513: 2023.12.09 -> 2023.11.02\n"
          ]
        },
        {
          "output_type": "stream",
          "name": "stderr",
          "text": [
            "\rUpdating start dates:  19%|█▉        | 218/1128 [01:21<05:13,  2.91it/s]"
          ]
        },
        {
          "output_type": "stream",
          "name": "stdout",
          "text": [
            "Start date updated for performance code PF226005: 2023.10.12 -> 2023.09.19\n"
          ]
        },
        {
          "output_type": "stream",
          "name": "stderr",
          "text": [
            "\rUpdating start dates:  19%|█▉        | 219/1128 [01:21<04:44,  3.20it/s]"
          ]
        },
        {
          "output_type": "stream",
          "name": "stdout",
          "text": [
            "Start date updated for performance code PF199652: 2022.11.18 -> 2022.10.07\n"
          ]
        },
        {
          "output_type": "stream",
          "name": "stderr",
          "text": [
            "\rUpdating start dates:  20%|█▉        | 220/1128 [01:22<06:44,  2.25it/s]"
          ]
        },
        {
          "output_type": "stream",
          "name": "stdout",
          "text": [
            "Start date updated for performance code PF200548: 2022.12.02 -> 2022.10.20\n"
          ]
        },
        {
          "output_type": "stream",
          "name": "stderr",
          "text": [
            "\rUpdating start dates:  20%|█▉        | 221/1128 [01:22<05:42,  2.65it/s]"
          ]
        },
        {
          "output_type": "stream",
          "name": "stdout",
          "text": [
            "Start date updated for performance code PF209957: 2023.03.08 -> 2023.01.18\n"
          ]
        },
        {
          "output_type": "stream",
          "name": "stderr",
          "text": [
            "\rUpdating start dates:  20%|█▉        | 222/1128 [01:22<05:55,  2.55it/s]"
          ]
        },
        {
          "output_type": "stream",
          "name": "stdout",
          "text": [
            "Start date updated for performance code PF198072: 2022.11.04 -> 2022.09.13\n"
          ]
        },
        {
          "output_type": "stream",
          "name": "stderr",
          "text": [
            "\rUpdating start dates:  20%|█▉        | 223/1128 [01:23<05:42,  2.64it/s]"
          ]
        },
        {
          "output_type": "stream",
          "name": "stdout",
          "text": [
            "Start date updated for performance code PF228491: 2023.11.17 -> 2023.10.23\n"
          ]
        },
        {
          "output_type": "stream",
          "name": "stderr",
          "text": [
            "\rUpdating start dates:  20%|█▉        | 224/1128 [01:23<05:06,  2.95it/s]"
          ]
        },
        {
          "output_type": "stream",
          "name": "stdout",
          "text": [
            "Start date updated for performance code PF224406: 2023.09.26 -> 2023.08.22\n"
          ]
        },
        {
          "output_type": "stream",
          "name": "stderr",
          "text": [
            "\rUpdating start dates:  20%|█▉        | 225/1128 [01:23<04:53,  3.07it/s]"
          ]
        },
        {
          "output_type": "stream",
          "name": "stdout",
          "text": [
            "Start date updated for performance code PF186695: 2022.04.01 -> 2022.02.11\n"
          ]
        },
        {
          "output_type": "stream",
          "name": "stderr",
          "text": [
            "\rUpdating start dates:  20%|██        | 226/1128 [01:23<04:38,  3.24it/s]"
          ]
        },
        {
          "output_type": "stream",
          "name": "stdout",
          "text": [
            "Start date updated for performance code PF215020: 2023.04.01 -> 2023.04.02\n"
          ]
        },
        {
          "output_type": "stream",
          "name": "stderr",
          "text": [
            "\rUpdating start dates:  20%|██        | 227/1128 [01:24<04:32,  3.31it/s]"
          ]
        },
        {
          "output_type": "stream",
          "name": "stdout",
          "text": [
            "Start date updated for performance code PF134308: 2016.11.20 -> 2022.12.22\n"
          ]
        },
        {
          "output_type": "stream",
          "name": "stderr",
          "text": [
            "\rUpdating start dates:  20%|██        | 228/1128 [01:24<04:42,  3.19it/s]"
          ]
        },
        {
          "output_type": "stream",
          "name": "stdout",
          "text": [
            "Start date updated for performance code PF222065: 2023.09.02 -> 2023.07.12\n"
          ]
        },
        {
          "output_type": "stream",
          "name": "stderr",
          "text": [
            "\rUpdating start dates:  20%|██        | 229/1128 [01:24<04:21,  3.44it/s]"
          ]
        },
        {
          "output_type": "stream",
          "name": "stdout",
          "text": [
            "Start date updated for performance code PF215060: 2023.05.27 -> 2023.03.15\n"
          ]
        },
        {
          "output_type": "stream",
          "name": "stderr",
          "text": [
            "\rUpdating start dates:  20%|██        | 230/1128 [01:25<04:00,  3.73it/s]"
          ]
        },
        {
          "output_type": "stream",
          "name": "stdout",
          "text": [
            "Start date updated for performance code PF193899: 2022.08.15 -> 2022.07.01\n"
          ]
        },
        {
          "output_type": "stream",
          "name": "stderr",
          "text": [
            "\rUpdating start dates:  20%|██        | 231/1128 [01:25<04:52,  3.07it/s]"
          ]
        },
        {
          "output_type": "stream",
          "name": "stdout",
          "text": [
            "Start date updated for performance code PF185279: 2021.12.31 -> 2021.12.28\n"
          ]
        },
        {
          "output_type": "stream",
          "name": "stderr",
          "text": [
            "\rUpdating start dates:  21%|██        | 232/1128 [01:26<05:44,  2.60it/s]"
          ]
        },
        {
          "output_type": "stream",
          "name": "stdout",
          "text": [
            "Start date updated for performance code PF196765: 2022.09.17 -> 2022.08.19\n"
          ]
        },
        {
          "output_type": "stream",
          "name": "stderr",
          "text": [
            "\rUpdating start dates:  21%|██        | 233/1128 [01:26<05:38,  2.65it/s]"
          ]
        },
        {
          "output_type": "stream",
          "name": "stdout",
          "text": [
            "Start date updated for performance code PF190899: 2022.06.11 -> 2022.05.10\n"
          ]
        },
        {
          "output_type": "stream",
          "name": "stderr",
          "text": [
            "\rUpdating start dates:  21%|██        | 234/1128 [01:26<05:10,  2.88it/s]"
          ]
        },
        {
          "output_type": "stream",
          "name": "stdout",
          "text": [
            "Start date updated for performance code PF214155: 2023.05.13 -> 2023.02.27\n"
          ]
        },
        {
          "output_type": "stream",
          "name": "stderr",
          "text": [
            "\rUpdating start dates:  21%|██        | 235/1128 [01:27<05:05,  2.92it/s]"
          ]
        },
        {
          "output_type": "stream",
          "name": "stdout",
          "text": [
            "Start date updated for performance code PF191062: 2022.06.18 -> 2022.05.13\n"
          ]
        },
        {
          "output_type": "stream",
          "name": "stderr",
          "text": [
            "\rUpdating start dates:  21%|██        | 236/1128 [01:27<04:55,  3.01it/s]"
          ]
        },
        {
          "output_type": "stream",
          "name": "stdout",
          "text": [
            "Start date updated for performance code PF132171: 2016.07.01 -> 2022.12.06\n"
          ]
        },
        {
          "output_type": "stream",
          "name": "stderr",
          "text": [
            "\rUpdating start dates:  21%|██        | 237/1128 [01:27<04:45,  3.12it/s]"
          ]
        },
        {
          "output_type": "stream",
          "name": "stdout",
          "text": [
            "Start date updated for performance code PF225284: 2023.09.09 -> 2023.07.27\n"
          ]
        },
        {
          "output_type": "stream",
          "name": "stderr",
          "text": [
            "\rUpdating start dates:  21%|██        | 238/1128 [01:27<04:45,  3.12it/s]"
          ]
        },
        {
          "output_type": "stream",
          "name": "stdout",
          "text": [
            "Start date updated for performance code PF202630: 2022.12.23 -> 2022.11.18\n"
          ]
        },
        {
          "output_type": "stream",
          "name": "stderr",
          "text": [
            "\rUpdating start dates:  21%|██        | 239/1128 [01:28<04:24,  3.36it/s]"
          ]
        },
        {
          "output_type": "stream",
          "name": "stdout",
          "text": [
            "Start date updated for performance code PF201748: 2022.12.17 -> 2022.11.08\n"
          ]
        },
        {
          "output_type": "stream",
          "name": "stderr",
          "text": [
            "\rUpdating start dates:  21%|██▏       | 240/1128 [01:28<05:03,  2.93it/s]"
          ]
        },
        {
          "output_type": "stream",
          "name": "stdout",
          "text": [
            "Start date updated for performance code PF223598: 2023.10.21 -> 2023.09.21\n"
          ]
        },
        {
          "output_type": "stream",
          "name": "stderr",
          "text": [
            "\rUpdating start dates:  21%|██▏       | 241/1128 [01:28<04:59,  2.97it/s]"
          ]
        },
        {
          "output_type": "stream",
          "name": "stdout",
          "text": [
            "Start date updated for performance code PF194381: 2022.08.05 -> 2022.07.08\n"
          ]
        },
        {
          "output_type": "stream",
          "name": "stderr",
          "text": [
            "\rUpdating start dates:  21%|██▏       | 242/1128 [01:29<04:37,  3.19it/s]"
          ]
        },
        {
          "output_type": "stream",
          "name": "stdout",
          "text": [
            "Start date updated for performance code PF230486: 2023.12.29 -> 2023.11.20\n"
          ]
        },
        {
          "output_type": "stream",
          "name": "stderr",
          "text": [
            "\rUpdating start dates:  22%|██▏       | 243/1128 [01:29<04:29,  3.28it/s]"
          ]
        },
        {
          "output_type": "stream",
          "name": "stdout",
          "text": [
            "Start date updated for performance code PF201421: 2023.01.06 -> 2022.11.02\n"
          ]
        },
        {
          "output_type": "stream",
          "name": "stderr",
          "text": [
            "\rUpdating start dates:  22%|██▏       | 244/1128 [01:29<04:53,  3.01it/s]"
          ]
        },
        {
          "output_type": "stream",
          "name": "stdout",
          "text": [
            "Start date updated for performance code PF223914: 2023.09.09 -> 2023.08.21\n"
          ]
        },
        {
          "output_type": "stream",
          "name": "stderr",
          "text": [
            "\rUpdating start dates:  22%|██▏       | 245/1128 [01:30<04:56,  2.98it/s]"
          ]
        },
        {
          "output_type": "stream",
          "name": "stdout",
          "text": [
            "Start date updated for performance code PF190226: 2022.06.10 -> 2022.04.27\n"
          ]
        },
        {
          "output_type": "stream",
          "name": "stderr",
          "text": [
            "\rUpdating start dates:  22%|██▏       | 246/1128 [01:30<04:57,  2.97it/s]"
          ]
        },
        {
          "output_type": "stream",
          "name": "stdout",
          "text": [
            "Start date updated for performance code PF194633: 2022.10.01 -> 2022.09.21\n"
          ]
        },
        {
          "output_type": "stream",
          "name": "stderr",
          "text": [
            "\rUpdating start dates:  22%|██▏       | 247/1128 [01:31<05:29,  2.68it/s]"
          ]
        },
        {
          "output_type": "stream",
          "name": "stdout",
          "text": [
            "Start date updated for performance code PF188391: 2022.06.10 -> 2022.05.18\n"
          ]
        },
        {
          "output_type": "stream",
          "name": "stderr",
          "text": [
            "\rUpdating start dates:  22%|██▏       | 248/1128 [01:31<05:36,  2.62it/s]"
          ]
        },
        {
          "output_type": "stream",
          "name": "stdout",
          "text": [
            "Start date updated for performance code PF201215: 2022.12.23 -> 2022.11.01\n"
          ]
        },
        {
          "output_type": "stream",
          "name": "stderr",
          "text": [
            "\rUpdating start dates:  22%|██▏       | 249/1128 [01:31<05:43,  2.56it/s]"
          ]
        },
        {
          "output_type": "stream",
          "name": "stdout",
          "text": [
            "Start date updated for performance code PF230318: 2023.12.22 -> 2023.11.19\n"
          ]
        },
        {
          "output_type": "stream",
          "name": "stderr",
          "text": [
            "\rUpdating start dates:  22%|██▏       | 250/1128 [01:32<05:01,  2.91it/s]"
          ]
        },
        {
          "output_type": "stream",
          "name": "stdout",
          "text": [
            "Start date updated for performance code PF216820: 2023.05.05 -> 2023.04.13\n"
          ]
        },
        {
          "output_type": "stream",
          "name": "stderr",
          "text": [
            "\rUpdating start dates:  22%|██▏       | 251/1128 [01:32<05:01,  2.91it/s]"
          ]
        },
        {
          "output_type": "stream",
          "name": "stdout",
          "text": [
            "Start date updated for performance code PF190057: 2022.05.27 -> 2022.04.25\n"
          ]
        },
        {
          "output_type": "stream",
          "name": "stderr",
          "text": [
            "\rUpdating start dates:  22%|██▏       | 252/1128 [01:32<05:06,  2.86it/s]"
          ]
        },
        {
          "output_type": "stream",
          "name": "stdout",
          "text": [
            "Start date updated for performance code PF223528: 2023.09.09 -> 2023.08.07\n"
          ]
        },
        {
          "output_type": "stream",
          "name": "stderr",
          "text": [
            "\rUpdating start dates:  22%|██▏       | 253/1128 [01:33<04:35,  3.17it/s]"
          ]
        },
        {
          "output_type": "stream",
          "name": "stdout",
          "text": [
            "Start date updated for performance code PF182383: 2021.12.03 -> 2021.12.22\n"
          ]
        },
        {
          "output_type": "stream",
          "name": "stderr",
          "text": [
            "\rUpdating start dates:  23%|██▎       | 254/1128 [01:33<04:48,  3.03it/s]"
          ]
        },
        {
          "output_type": "stream",
          "name": "stdout",
          "text": [
            "Start date updated for performance code PF200986: 2022.12.10 -> 2022.10.27\n"
          ]
        },
        {
          "output_type": "stream",
          "name": "stderr",
          "text": [
            "\rUpdating start dates:  23%|██▎       | 255/1128 [01:33<04:38,  3.13it/s]"
          ]
        },
        {
          "output_type": "stream",
          "name": "stdout",
          "text": [
            "Start date updated for performance code PF184932: 2022.01.25 -> 2021.12.16\n"
          ]
        },
        {
          "output_type": "stream",
          "name": "stderr",
          "text": [
            "\rUpdating start dates:  23%|██▎       | 256/1128 [01:34<04:43,  3.08it/s]"
          ]
        },
        {
          "output_type": "stream",
          "name": "stdout",
          "text": [
            "Start date updated for performance code PF218604: 2023.06.23 -> 2023.06.22\n"
          ]
        },
        {
          "output_type": "stream",
          "name": "stderr",
          "text": [
            "\rUpdating start dates:  23%|██▎       | 257/1128 [01:34<04:26,  3.27it/s]"
          ]
        },
        {
          "output_type": "stream",
          "name": "stdout",
          "text": [
            "Start date updated for performance code PF194484: 2022.09.03 -> 2022.08.10\n"
          ]
        },
        {
          "output_type": "stream",
          "name": "stderr",
          "text": [
            "\rUpdating start dates:  23%|██▎       | 258/1128 [01:34<04:23,  3.30it/s]"
          ]
        },
        {
          "output_type": "stream",
          "name": "stdout",
          "text": [
            "Start date updated for performance code PF187451: 2022.03.18 -> 2022.02.28\n"
          ]
        },
        {
          "output_type": "stream",
          "name": "stderr",
          "text": [
            "\rUpdating start dates:  23%|██▎       | 259/1128 [01:34<04:05,  3.55it/s]"
          ]
        },
        {
          "output_type": "stream",
          "name": "stdout",
          "text": [
            "Start date updated for performance code PF218493: 2023.06.10 -> 2023.05.15\n"
          ]
        },
        {
          "output_type": "stream",
          "name": "stderr",
          "text": [
            "\rUpdating start dates:  23%|██▎       | 260/1128 [01:35<04:39,  3.10it/s]"
          ]
        },
        {
          "output_type": "stream",
          "name": "stdout",
          "text": [
            "Start date updated for performance code PF223095: 2023.09.05 -> 2023.07.31\n"
          ]
        },
        {
          "output_type": "stream",
          "name": "stderr",
          "text": [
            "\rUpdating start dates:  23%|██▎       | 261/1128 [01:35<04:26,  3.25it/s]"
          ]
        },
        {
          "output_type": "stream",
          "name": "stdout",
          "text": [
            "Start date updated for performance code PF197853: 2022.10.01 -> 2022.09.07\n"
          ]
        },
        {
          "output_type": "stream",
          "name": "stderr",
          "text": [
            "\rUpdating start dates:  23%|██▎       | 262/1128 [01:35<04:21,  3.31it/s]"
          ]
        },
        {
          "output_type": "stream",
          "name": "stdout",
          "text": [
            "Start date updated for performance code PF227052: 2023.11.24 -> 2023.10.04\n"
          ]
        },
        {
          "output_type": "stream",
          "name": "stderr",
          "text": [
            "Updating start dates:  23%|██▎       | 264/1128 [01:36<04:21,  3.30it/s]"
          ]
        },
        {
          "output_type": "stream",
          "name": "stdout",
          "text": [
            "Start date updated for performance code PF186425: 2022.03.12 -> 2022.03.01\n"
          ]
        },
        {
          "output_type": "stream",
          "name": "stderr",
          "text": [
            "\rUpdating start dates:  23%|██▎       | 265/1128 [01:36<04:20,  3.31it/s]"
          ]
        },
        {
          "output_type": "stream",
          "name": "stdout",
          "text": [
            "Start date updated for performance code PF209863: 2023.02.07 -> 2023.01.16\n"
          ]
        },
        {
          "output_type": "stream",
          "name": "stderr",
          "text": [
            "\rUpdating start dates:  24%|██▎       | 266/1128 [01:37<04:48,  2.99it/s]"
          ]
        },
        {
          "output_type": "stream",
          "name": "stdout",
          "text": [
            "Start date updated for performance code PF136032: 2012.04.01 -> 2022.12.07\n"
          ]
        },
        {
          "output_type": "stream",
          "name": "stderr",
          "text": [
            "\rUpdating start dates:  24%|██▎       | 267/1128 [01:37<04:19,  3.32it/s]"
          ]
        },
        {
          "output_type": "stream",
          "name": "stdout",
          "text": [
            "Start date updated for performance code PF196938: 2022.10.22 -> 2022.08.23\n"
          ]
        },
        {
          "output_type": "stream",
          "name": "stderr",
          "text": [
            "\rUpdating start dates:  24%|██▍       | 268/1128 [01:37<04:09,  3.45it/s]"
          ]
        },
        {
          "output_type": "stream",
          "name": "stdout",
          "text": [
            "Start date updated for performance code PF192201: 2022.07.30 -> 2022.06.02\n"
          ]
        },
        {
          "output_type": "stream",
          "name": "stderr",
          "text": [
            "\rUpdating start dates:  24%|██▍       | 269/1128 [01:37<03:54,  3.66it/s]"
          ]
        },
        {
          "output_type": "stream",
          "name": "stdout",
          "text": [
            "Start date updated for performance code PF193231: 2022.08.06 -> 2022.06.21\n"
          ]
        },
        {
          "output_type": "stream",
          "name": "stderr",
          "text": [
            "\rUpdating start dates:  24%|██▍       | 270/1128 [01:38<03:48,  3.75it/s]"
          ]
        },
        {
          "output_type": "stream",
          "name": "stdout",
          "text": [
            "Start date updated for performance code PF212788: 2023.03.04 -> 2023.02.07\n"
          ]
        },
        {
          "output_type": "stream",
          "name": "stderr",
          "text": [
            "\rUpdating start dates:  24%|██▍       | 271/1128 [01:38<04:20,  3.29it/s]"
          ]
        },
        {
          "output_type": "stream",
          "name": "stdout",
          "text": [
            "Start date updated for performance code PF200097: 2022.12.03 -> 2022.10.14\n"
          ]
        },
        {
          "output_type": "stream",
          "name": "stderr",
          "text": [
            "\rUpdating start dates:  24%|██▍       | 272/1128 [01:38<04:32,  3.14it/s]"
          ]
        },
        {
          "output_type": "stream",
          "name": "stdout",
          "text": [
            "Start date updated for performance code PF192390: 2022.07.16 -> 2022.06.08\n"
          ]
        },
        {
          "output_type": "stream",
          "name": "stderr",
          "text": [
            "\rUpdating start dates:  24%|██▍       | 273/1128 [01:39<04:13,  3.37it/s]"
          ]
        },
        {
          "output_type": "stream",
          "name": "stdout",
          "text": [
            "Start date updated for performance code PF228897: 2023.12.12 -> 2023.10.26\n"
          ]
        },
        {
          "output_type": "stream",
          "name": "stderr",
          "text": [
            "\rUpdating start dates:  24%|██▍       | 274/1128 [01:39<04:21,  3.27it/s]"
          ]
        },
        {
          "output_type": "stream",
          "name": "stdout",
          "text": [
            "Start date updated for performance code PF193637: 2022.08.20 -> 2022.06.27\n"
          ]
        },
        {
          "output_type": "stream",
          "name": "stderr",
          "text": [
            "\rUpdating start dates:  24%|██▍       | 275/1128 [01:39<04:52,  2.92it/s]"
          ]
        },
        {
          "output_type": "stream",
          "name": "stdout",
          "text": [
            "Start date updated for performance code PF212581: 2023.03.07 -> 2023.02.02\n"
          ]
        },
        {
          "output_type": "stream",
          "name": "stderr",
          "text": [
            "\rUpdating start dates:  24%|██▍       | 276/1128 [01:40<04:53,  2.90it/s]"
          ]
        },
        {
          "output_type": "stream",
          "name": "stdout",
          "text": [
            "Start date updated for performance code PF214507: 2023.04.08 -> 2023.03.29\n"
          ]
        },
        {
          "output_type": "stream",
          "name": "stderr",
          "text": [
            "\rUpdating start dates:  25%|██▍       | 277/1128 [01:40<05:26,  2.61it/s]"
          ]
        },
        {
          "output_type": "stream",
          "name": "stdout",
          "text": [
            "Start date updated for performance code PF215061: 2023.05.13 -> 2023.03.15\n"
          ]
        },
        {
          "output_type": "stream",
          "name": "stderr",
          "text": [
            "\rUpdating start dates:  25%|██▍       | 278/1128 [01:40<04:48,  2.95it/s]"
          ]
        },
        {
          "output_type": "stream",
          "name": "stdout",
          "text": [
            "Start date updated for performance code PF184891: 2022.02.15 -> 2022.02.14\n"
          ]
        },
        {
          "output_type": "stream",
          "name": "stderr",
          "text": [
            "\rUpdating start dates:  25%|██▍       | 279/1128 [01:41<05:05,  2.78it/s]"
          ]
        },
        {
          "output_type": "stream",
          "name": "stdout",
          "text": [
            "Start date updated for performance code PF202352: 2023.02.28 -> 2022.12.15\n"
          ]
        },
        {
          "output_type": "stream",
          "name": "stderr",
          "text": [
            "\rUpdating start dates:  25%|██▍       | 280/1128 [01:41<04:48,  2.94it/s]"
          ]
        },
        {
          "output_type": "stream",
          "name": "stdout",
          "text": [
            "Start date updated for performance code PF224187: 2023.09.14 -> 2023.08.17\n"
          ]
        },
        {
          "output_type": "stream",
          "name": "stderr",
          "text": [
            "\rUpdating start dates:  25%|██▍       | 281/1128 [01:41<04:32,  3.11it/s]"
          ]
        },
        {
          "output_type": "stream",
          "name": "stdout",
          "text": [
            "Start date updated for performance code PF219243: 2023.07.27 -> 2023.07.25\n"
          ]
        },
        {
          "output_type": "stream",
          "name": "stderr",
          "text": [
            "\rUpdating start dates:  25%|██▌       | 282/1128 [01:42<04:38,  3.04it/s]"
          ]
        },
        {
          "output_type": "stream",
          "name": "stdout",
          "text": [
            "Start date updated for performance code PF197001: 2022.09.28 -> 2022.08.25\n"
          ]
        },
        {
          "output_type": "stream",
          "name": "stderr",
          "text": [
            "\rUpdating start dates:  25%|██▌       | 283/1128 [01:42<04:41,  3.00it/s]"
          ]
        },
        {
          "output_type": "stream",
          "name": "stdout",
          "text": [
            "Start date updated for performance code PF214754: 2023.04.15 -> 2023.03.09\n"
          ]
        },
        {
          "output_type": "stream",
          "name": "stderr",
          "text": [
            "\rUpdating start dates:  25%|██▌       | 284/1128 [01:42<04:19,  3.25it/s]"
          ]
        },
        {
          "output_type": "stream",
          "name": "stdout",
          "text": [
            "Start date updated for performance code PF217859: 2023.06.04 -> 2023.05.02\n"
          ]
        },
        {
          "output_type": "stream",
          "name": "stderr",
          "text": [
            "\rUpdating start dates:  25%|██▌       | 285/1128 [01:43<04:13,  3.33it/s]"
          ]
        },
        {
          "output_type": "stream",
          "name": "stdout",
          "text": [
            "Start date updated for performance code PF230087: 2023.12.15 -> 2023.12.01\n"
          ]
        },
        {
          "output_type": "stream",
          "name": "stderr",
          "text": [
            "\rUpdating start dates:  25%|██▌       | 286/1128 [01:43<05:00,  2.81it/s]"
          ]
        },
        {
          "output_type": "stream",
          "name": "stdout",
          "text": [
            "Start date updated for performance code PF215161: 2023.06.10 -> 2023.03.16\n"
          ]
        },
        {
          "output_type": "stream",
          "name": "stderr",
          "text": [
            "\rUpdating start dates:  25%|██▌       | 287/1128 [01:43<04:29,  3.12it/s]"
          ]
        },
        {
          "output_type": "stream",
          "name": "stdout",
          "text": [
            "Start date updated for performance code PF187203: 2022.03.27 -> 2022.03.03\n"
          ]
        },
        {
          "output_type": "stream",
          "name": "stderr",
          "text": [
            "\rUpdating start dates:  26%|██▌       | 288/1128 [01:44<04:45,  2.94it/s]"
          ]
        },
        {
          "output_type": "stream",
          "name": "stdout",
          "text": [
            "Start date updated for performance code PF186272: 2022.02.27 -> 2022.01.27\n"
          ]
        },
        {
          "output_type": "stream",
          "name": "stderr",
          "text": [
            "\rUpdating start dates:  26%|██▌       | 289/1128 [01:44<04:17,  3.26it/s]"
          ]
        },
        {
          "output_type": "stream",
          "name": "stdout",
          "text": [
            "Start date updated for performance code PF225247: 2023.09.23 -> 2023.09.04\n"
          ]
        },
        {
          "output_type": "stream",
          "name": "stderr",
          "text": [
            "\rUpdating start dates:  26%|██▌       | 290/1128 [01:44<04:45,  2.93it/s]"
          ]
        },
        {
          "output_type": "stream",
          "name": "stdout",
          "text": [
            "Start date updated for performance code PF190927: 2022.07.02 -> 2022.06.26\n"
          ]
        },
        {
          "output_type": "stream",
          "name": "stderr",
          "text": [
            "\rUpdating start dates:  26%|██▌       | 291/1128 [01:45<04:52,  2.86it/s]"
          ]
        },
        {
          "output_type": "stream",
          "name": "stdout",
          "text": [
            "Start date updated for performance code PF199900: 2022.12.10 -> 2022.10.12\n"
          ]
        },
        {
          "output_type": "stream",
          "name": "stderr",
          "text": [
            "\rUpdating start dates:  26%|██▌       | 292/1128 [01:45<04:35,  3.04it/s]"
          ]
        },
        {
          "output_type": "stream",
          "name": "stdout",
          "text": [
            "Start date updated for performance code PF204707: 2023.01.19 -> 2022.12.22\n"
          ]
        },
        {
          "output_type": "stream",
          "name": "stderr",
          "text": [
            "\rUpdating start dates:  26%|██▌       | 293/1128 [01:45<04:44,  2.94it/s]"
          ]
        },
        {
          "output_type": "stream",
          "name": "stdout",
          "text": [
            "Start date updated for performance code PF219100: 2023.07.28 -> 2023.07.20\n"
          ]
        },
        {
          "output_type": "stream",
          "name": "stderr",
          "text": [
            "Updating start dates:  26%|██▌       | 295/1128 [01:46<04:26,  3.13it/s]"
          ]
        },
        {
          "output_type": "stream",
          "name": "stdout",
          "text": [
            "Start date updated for performance code PF192963: 2022.07.23 -> 2022.06.16\n"
          ]
        },
        {
          "output_type": "stream",
          "name": "stderr",
          "text": [
            "\rUpdating start dates:  26%|██▌       | 296/1128 [01:46<04:12,  3.29it/s]"
          ]
        },
        {
          "output_type": "stream",
          "name": "stdout",
          "text": [
            "Start date updated for performance code PF212833: 2023.03.10 -> 2023.02.07\n"
          ]
        },
        {
          "output_type": "stream",
          "name": "stderr",
          "text": [
            "\rUpdating start dates:  26%|██▋       | 297/1128 [01:47<04:19,  3.20it/s]"
          ]
        },
        {
          "output_type": "stream",
          "name": "stdout",
          "text": [
            "Start date updated for performance code PF224821: 2023.09.22 -> 2023.08.28\n"
          ]
        },
        {
          "output_type": "stream",
          "name": "stderr",
          "text": [
            "\rUpdating start dates:  26%|██▋       | 298/1128 [01:47<04:08,  3.34it/s]"
          ]
        },
        {
          "output_type": "stream",
          "name": "stdout",
          "text": [
            "Start date updated for performance code PF217601: 2023.05.20 -> 2023.04.27\n"
          ]
        },
        {
          "output_type": "stream",
          "name": "stderr",
          "text": [
            "\rUpdating start dates:  27%|██▋       | 299/1128 [01:47<04:16,  3.23it/s]"
          ]
        },
        {
          "output_type": "stream",
          "name": "stdout",
          "text": [
            "Start date updated for performance code PF177100: 2021.07.10 -> 2022.12.19\n"
          ]
        },
        {
          "output_type": "stream",
          "name": "stderr",
          "text": [
            "\rUpdating start dates:  27%|██▋       | 300/1128 [01:48<04:42,  2.93it/s]"
          ]
        },
        {
          "output_type": "stream",
          "name": "stdout",
          "text": [
            "Start date updated for performance code PF230432: 2023.12.23 -> 2023.12.09\n"
          ]
        },
        {
          "output_type": "stream",
          "name": "stderr",
          "text": [
            "\rUpdating start dates:  27%|██▋       | 301/1128 [01:48<04:44,  2.91it/s]"
          ]
        },
        {
          "output_type": "stream",
          "name": "stdout",
          "text": [
            "Start date updated for performance code PF219424: 2023.08.01 -> 2023.06.28\n"
          ]
        },
        {
          "output_type": "stream",
          "name": "stderr",
          "text": [
            "\rUpdating start dates:  27%|██▋       | 302/1128 [01:48<04:34,  3.01it/s]"
          ]
        },
        {
          "output_type": "stream",
          "name": "stdout",
          "text": [
            "Start date updated for performance code PF191628: 2022.06.03 -> 2022.05.24\n"
          ]
        },
        {
          "output_type": "stream",
          "name": "stderr",
          "text": [
            "\rUpdating start dates:  27%|██▋       | 303/1128 [01:49<04:47,  2.87it/s]"
          ]
        },
        {
          "output_type": "stream",
          "name": "stdout",
          "text": [
            "Start date updated for performance code PF202032: 2022.12.21 -> 2022.11.11\n"
          ]
        },
        {
          "output_type": "stream",
          "name": "stderr",
          "text": [
            "\rUpdating start dates:  27%|██▋       | 304/1128 [01:49<04:57,  2.77it/s]"
          ]
        },
        {
          "output_type": "stream",
          "name": "stdout",
          "text": [
            "Start date updated for performance code PF199346: 2022.10.09 -> 2022.10.01\n"
          ]
        },
        {
          "output_type": "stream",
          "name": "stderr",
          "text": [
            "\rUpdating start dates:  27%|██▋       | 305/1128 [01:49<04:26,  3.09it/s]"
          ]
        },
        {
          "output_type": "stream",
          "name": "stdout",
          "text": [
            "Start date updated for performance code PF215787: 2023.04.21 -> 2023.03.27\n"
          ]
        },
        {
          "output_type": "stream",
          "name": "stderr",
          "text": [
            "\rUpdating start dates:  27%|██▋       | 306/1128 [01:49<04:03,  3.37it/s]"
          ]
        },
        {
          "output_type": "stream",
          "name": "stdout",
          "text": [
            "Start date updated for performance code PF187522: 2022.04.16 -> 2022.03.02\n"
          ]
        },
        {
          "output_type": "stream",
          "name": "stderr",
          "text": [
            "\rUpdating start dates:  27%|██▋       | 307/1128 [01:50<03:44,  3.66it/s]"
          ]
        },
        {
          "output_type": "stream",
          "name": "stdout",
          "text": [
            "Start date updated for performance code PF215236: 2023.07.08 -> 2023.03.17\n"
          ]
        },
        {
          "output_type": "stream",
          "name": "stderr",
          "text": [
            "\rUpdating start dates:  27%|██▋       | 308/1128 [01:50<04:06,  3.32it/s]"
          ]
        },
        {
          "output_type": "stream",
          "name": "stdout",
          "text": [
            "Start date updated for performance code PF213378: 2023.03.25 -> 2023.02.14\n"
          ]
        },
        {
          "output_type": "stream",
          "name": "stderr",
          "text": [
            "\rUpdating start dates:  27%|██▋       | 309/1128 [01:50<03:46,  3.61it/s]"
          ]
        },
        {
          "output_type": "stream",
          "name": "stdout",
          "text": [
            "Start date updated for performance code PF215422: 2023.04.15 -> 2023.03.21\n"
          ]
        },
        {
          "output_type": "stream",
          "name": "stderr",
          "text": [
            "\rUpdating start dates:  27%|██▋       | 310/1128 [01:51<03:52,  3.52it/s]"
          ]
        },
        {
          "output_type": "stream",
          "name": "stdout",
          "text": [
            "Start date updated for performance code PF222066: 2023.08.29 -> 2023.07.12\n"
          ]
        },
        {
          "output_type": "stream",
          "name": "stderr",
          "text": [
            "\rUpdating start dates:  28%|██▊       | 311/1128 [01:51<03:49,  3.56it/s]"
          ]
        },
        {
          "output_type": "stream",
          "name": "stdout",
          "text": [
            "Start date updated for performance code PF189333: 2022.05.06 -> 2022.04.11\n"
          ]
        },
        {
          "output_type": "stream",
          "name": "stderr",
          "text": [
            "\rUpdating start dates:  28%|██▊       | 312/1128 [01:51<03:35,  3.79it/s]"
          ]
        },
        {
          "output_type": "stream",
          "name": "stdout",
          "text": [
            "Start date updated for performance code PF219548: 2023.07.22 -> 2023.07.17\n"
          ]
        },
        {
          "output_type": "stream",
          "name": "stderr",
          "text": [
            "\rUpdating start dates:  28%|██▊       | 313/1128 [01:52<04:46,  2.85it/s]"
          ]
        },
        {
          "output_type": "stream",
          "name": "stdout",
          "text": [
            "Start date updated for performance code PF201280: 2022.12.13 -> 2022.11.18\n"
          ]
        },
        {
          "output_type": "stream",
          "name": "stderr",
          "text": [
            "\rUpdating start dates:  28%|██▊       | 314/1128 [01:52<04:21,  3.11it/s]"
          ]
        },
        {
          "output_type": "stream",
          "name": "stdout",
          "text": [
            "Start date updated for performance code PF189580: 2022.05.20 -> 2022.04.14\n"
          ]
        },
        {
          "output_type": "stream",
          "name": "stderr",
          "text": [
            "\rUpdating start dates:  28%|██▊       | 315/1128 [01:52<04:00,  3.38it/s]"
          ]
        },
        {
          "output_type": "stream",
          "name": "stdout",
          "text": [
            "Start date updated for performance code PF229023: 2023.12.23 -> 2023.10.30\n"
          ]
        },
        {
          "output_type": "stream",
          "name": "stderr",
          "text": [
            "\rUpdating start dates:  28%|██▊       | 316/1128 [01:54<12:06,  1.12it/s]"
          ]
        },
        {
          "output_type": "stream",
          "name": "stdout",
          "text": [
            "Start date updated for performance code PF191429: 2022.07.30 -> 2022.07.20\n"
          ]
        },
        {
          "output_type": "stream",
          "name": "stderr",
          "text": [
            "\rUpdating start dates:  28%|██▊       | 317/1128 [01:55<09:27,  1.43it/s]"
          ]
        },
        {
          "output_type": "stream",
          "name": "stdout",
          "text": [
            "Start date updated for performance code PF215160: 2023.06.03 -> 2023.03.16\n"
          ]
        },
        {
          "output_type": "stream",
          "name": "stderr",
          "text": [
            "\rUpdating start dates:  28%|██▊       | 318/1128 [01:55<07:51,  1.72it/s]"
          ]
        },
        {
          "output_type": "stream",
          "name": "stdout",
          "text": [
            "Start date updated for performance code PF190439: 2022.05.21 -> 2022.05.02\n"
          ]
        },
        {
          "output_type": "stream",
          "name": "stderr",
          "text": [
            "\rUpdating start dates:  28%|██▊       | 319/1128 [01:55<07:05,  1.90it/s]"
          ]
        },
        {
          "output_type": "stream",
          "name": "stdout",
          "text": [
            "Start date updated for performance code PF222860: 2023.09.12 -> 2023.07.26\n"
          ]
        },
        {
          "output_type": "stream",
          "name": "stderr",
          "text": [
            "\rUpdating start dates:  28%|██▊       | 320/1128 [01:56<05:51,  2.30it/s]"
          ]
        },
        {
          "output_type": "stream",
          "name": "stdout",
          "text": [
            "Start date updated for performance code PF189135: 2022.05.06 -> 2022.04.06\n"
          ]
        },
        {
          "output_type": "stream",
          "name": "stderr",
          "text": [
            "\rUpdating start dates:  28%|██▊       | 321/1128 [01:56<05:15,  2.56it/s]"
          ]
        },
        {
          "output_type": "stream",
          "name": "stdout",
          "text": [
            "Start date updated for performance code PF188735: 2022.05.14 -> 2022.03.29\n"
          ]
        },
        {
          "output_type": "stream",
          "name": "stderr",
          "text": [
            "\rUpdating start dates:  29%|██▊       | 322/1128 [01:56<04:55,  2.72it/s]"
          ]
        },
        {
          "output_type": "stream",
          "name": "stdout",
          "text": [
            "Start date updated for performance code PF201908: 2022.12.10 -> 2022.12.14\n"
          ]
        },
        {
          "output_type": "stream",
          "name": "stderr",
          "text": [
            "\rUpdating start dates:  29%|██▊       | 323/1128 [01:56<04:29,  2.99it/s]"
          ]
        },
        {
          "output_type": "stream",
          "name": "stdout",
          "text": [
            "Start date updated for performance code PF199209: 2022.11.22 -> 2022.10.05\n"
          ]
        },
        {
          "output_type": "stream",
          "name": "stderr",
          "text": [
            "\rUpdating start dates:  29%|██▊       | 324/1128 [01:57<04:17,  3.13it/s]"
          ]
        },
        {
          "output_type": "stream",
          "name": "stdout",
          "text": [
            "Start date updated for performance code PF214279: 2023.04.01 -> 2023.03.02\n"
          ]
        },
        {
          "output_type": "stream",
          "name": "stderr",
          "text": [
            "\rUpdating start dates:  29%|██▉       | 325/1128 [01:57<04:44,  2.82it/s]"
          ]
        },
        {
          "output_type": "stream",
          "name": "stdout",
          "text": [
            "Start date updated for performance code PF191037: 2022.07.01 -> 2022.05.12\n"
          ]
        },
        {
          "output_type": "stream",
          "name": "stderr",
          "text": [
            "\rUpdating start dates:  29%|██▉       | 326/1128 [01:58<07:59,  1.67it/s]"
          ]
        },
        {
          "output_type": "stream",
          "name": "stdout",
          "text": [
            "Start date updated for performance code PF192723: 2022.07.15 -> 2022.06.10\n"
          ]
        },
        {
          "output_type": "stream",
          "name": "stderr",
          "text": [
            "\rUpdating start dates:  29%|██▉       | 327/1128 [01:59<07:26,  1.79it/s]"
          ]
        },
        {
          "output_type": "stream",
          "name": "stdout",
          "text": [
            "Start date updated for performance code PF227680: 2023.12.15 -> 2023.10.27\n"
          ]
        },
        {
          "output_type": "stream",
          "name": "stderr",
          "text": [
            "\rUpdating start dates:  29%|██▉       | 328/1128 [01:59<06:09,  2.17it/s]"
          ]
        },
        {
          "output_type": "stream",
          "name": "stdout",
          "text": [
            "Start date updated for performance code PF215062: 2023.05.20 -> 2023.03.15\n"
          ]
        },
        {
          "output_type": "stream",
          "name": "stderr",
          "text": [
            "\rUpdating start dates:  29%|██▉       | 329/1128 [01:59<05:28,  2.43it/s]"
          ]
        },
        {
          "output_type": "stream",
          "name": "stdout",
          "text": [
            "Start date updated for performance code PF224360: 2023.12.23 -> 2023.10.16\n"
          ]
        },
        {
          "output_type": "stream",
          "name": "stderr",
          "text": [
            "\rUpdating start dates:  29%|██▉       | 330/1128 [02:00<05:22,  2.48it/s]"
          ]
        },
        {
          "output_type": "stream",
          "name": "stdout",
          "text": [
            "Start date updated for performance code PF175093: 2021.02.06 -> 2022.12.20\n"
          ]
        },
        {
          "output_type": "stream",
          "name": "stderr",
          "text": [
            "\rUpdating start dates:  29%|██▉       | 331/1128 [02:00<05:00,  2.65it/s]"
          ]
        },
        {
          "output_type": "stream",
          "name": "stdout",
          "text": [
            "Start date updated for performance code PF196840: 2022.10.15 -> 2022.08.22\n"
          ]
        },
        {
          "output_type": "stream",
          "name": "stderr",
          "text": [
            "\rUpdating start dates:  29%|██▉       | 332/1128 [02:00<05:09,  2.57it/s]"
          ]
        },
        {
          "output_type": "stream",
          "name": "stdout",
          "text": [
            "Start date updated for performance code PF194273: 2022.08.12 -> 2022.07.07\n"
          ]
        },
        {
          "output_type": "stream",
          "name": "stderr",
          "text": [
            "\rUpdating start dates:  30%|██▉       | 333/1128 [02:01<05:14,  2.53it/s]"
          ]
        },
        {
          "output_type": "stream",
          "name": "stdout",
          "text": [
            "Start date updated for performance code PF188284: 2022.04.09 -> 2022.03.28\n"
          ]
        },
        {
          "output_type": "stream",
          "name": "stderr",
          "text": [
            "\rUpdating start dates:  30%|██▉       | 334/1128 [02:01<04:34,  2.89it/s]"
          ]
        },
        {
          "output_type": "stream",
          "name": "stdout",
          "text": [
            "Start date updated for performance code PF161298: 2020.02.28 -> 2022.12.25\n"
          ]
        },
        {
          "output_type": "stream",
          "name": "stderr",
          "text": [
            "\rUpdating start dates:  30%|██▉       | 335/1128 [02:01<04:30,  2.93it/s]"
          ]
        },
        {
          "output_type": "stream",
          "name": "stdout",
          "text": [
            "Start date updated for performance code PF196199: 2022.09.04 -> 2022.08.11\n"
          ]
        },
        {
          "output_type": "stream",
          "name": "stderr",
          "text": [
            "\rUpdating start dates:  30%|██▉       | 336/1128 [02:02<04:06,  3.21it/s]"
          ]
        },
        {
          "output_type": "stream",
          "name": "stdout",
          "text": [
            "Start date updated for performance code PF187202: 2022.04.02 -> 2022.04.01\n"
          ]
        },
        {
          "output_type": "stream",
          "name": "stderr",
          "text": [
            "\rUpdating start dates:  30%|██▉       | 337/1128 [02:02<04:44,  2.78it/s]"
          ]
        },
        {
          "output_type": "stream",
          "name": "stdout",
          "text": [
            "Start date updated for performance code PF202374: 2022.12.16 -> 2022.11.16\n"
          ]
        },
        {
          "output_type": "stream",
          "name": "stderr",
          "text": [
            "\rUpdating start dates:  30%|██▉       | 338/1128 [02:02<04:39,  2.82it/s]"
          ]
        },
        {
          "output_type": "stream",
          "name": "stdout",
          "text": [
            "Start date updated for performance code PF228194: 2023.12.02 -> 2023.11.07\n"
          ]
        },
        {
          "output_type": "stream",
          "name": "stderr",
          "text": [
            "\rUpdating start dates:  30%|███       | 339/1128 [02:03<04:30,  2.92it/s]"
          ]
        },
        {
          "output_type": "stream",
          "name": "stdout",
          "text": [
            "Start date updated for performance code PF195334: 2022.08.30 -> 2022.07.27\n"
          ]
        },
        {
          "output_type": "stream",
          "name": "stderr",
          "text": [
            "\rUpdating start dates:  30%|███       | 340/1128 [02:03<04:00,  3.28it/s]"
          ]
        },
        {
          "output_type": "stream",
          "name": "stdout",
          "text": [
            "Start date updated for performance code PF229261: 2023.12.29 -> 2023.11.02\n"
          ]
        },
        {
          "output_type": "stream",
          "name": "stderr",
          "text": [
            "\rUpdating start dates:  30%|███       | 341/1128 [02:03<04:16,  3.07it/s]"
          ]
        },
        {
          "output_type": "stream",
          "name": "stdout",
          "text": [
            "Start date updated for performance code PF183821: 2022.01.08 -> 2021.12.21\n"
          ]
        },
        {
          "output_type": "stream",
          "name": "stderr",
          "text": [
            "\rUpdating start dates:  30%|███       | 342/1128 [02:04<03:59,  3.28it/s]"
          ]
        },
        {
          "output_type": "stream",
          "name": "stdout",
          "text": [
            "Start date updated for performance code PF220277: 2023.07.29 -> 2023.06.14\n"
          ]
        },
        {
          "output_type": "stream",
          "name": "stderr",
          "text": [
            "\rUpdating start dates:  30%|███       | 343/1128 [02:04<03:47,  3.45it/s]"
          ]
        },
        {
          "output_type": "stream",
          "name": "stdout",
          "text": [
            "Start date updated for performance code PF192123: 2022.07.15 -> 2022.05.31\n"
          ]
        },
        {
          "output_type": "stream",
          "name": "stderr",
          "text": [
            "\rUpdating start dates:  30%|███       | 344/1128 [02:04<03:34,  3.65it/s]"
          ]
        },
        {
          "output_type": "stream",
          "name": "stdout",
          "text": [
            "Start date updated for performance code PF198689: 2022.11.12 -> 2022.09.22\n"
          ]
        },
        {
          "output_type": "stream",
          "name": "stderr",
          "text": [
            "\rUpdating start dates:  31%|███       | 345/1128 [02:04<04:03,  3.21it/s]"
          ]
        },
        {
          "output_type": "stream",
          "name": "stdout",
          "text": [
            "Start date updated for performance code PF189587: 2022.04.30 -> 2022.04.14\n"
          ]
        },
        {
          "output_type": "stream",
          "name": "stderr",
          "text": [
            "\rUpdating start dates:  31%|███       | 346/1128 [02:05<03:50,  3.40it/s]"
          ]
        },
        {
          "output_type": "stream",
          "name": "stdout",
          "text": [
            "Start date updated for performance code PF190556: 2022.06.18 -> 2022.05.03\n"
          ]
        },
        {
          "output_type": "stream",
          "name": "stderr",
          "text": [
            "\rUpdating start dates:  31%|███       | 347/1128 [02:05<04:01,  3.24it/s]"
          ]
        },
        {
          "output_type": "stream",
          "name": "stdout",
          "text": [
            "Start date updated for performance code PF217432: 2023.05.30 -> 2023.04.25\n"
          ]
        },
        {
          "output_type": "stream",
          "name": "stderr",
          "text": [
            "\rUpdating start dates:  31%|███       | 348/1128 [02:05<04:21,  2.98it/s]"
          ]
        },
        {
          "output_type": "stream",
          "name": "stdout",
          "text": [
            "Start date updated for performance code PF219820: 2023.07.14 -> 2023.06.15\n"
          ]
        },
        {
          "output_type": "stream",
          "name": "stderr",
          "text": [
            "\rUpdating start dates:  31%|███       | 349/1128 [02:06<04:00,  3.24it/s]"
          ]
        },
        {
          "output_type": "stream",
          "name": "stdout",
          "text": [
            "Start date updated for performance code PF217835: 2023.06.16 -> 2023.05.02\n"
          ]
        },
        {
          "output_type": "stream",
          "name": "stderr",
          "text": [
            "\rUpdating start dates:  31%|███       | 350/1128 [02:06<03:54,  3.32it/s]"
          ]
        },
        {
          "output_type": "stream",
          "name": "stdout",
          "text": [
            "Start date updated for performance code PF224906: 2023.10.13 -> 2023.08.30\n"
          ]
        },
        {
          "output_type": "stream",
          "name": "stderr",
          "text": [
            "\rUpdating start dates:  31%|███       | 351/1128 [02:06<03:41,  3.50it/s]"
          ]
        },
        {
          "output_type": "stream",
          "name": "stdout",
          "text": [
            "Start date updated for performance code PF194456: 2022.09.17 -> 2022.07.12\n"
          ]
        },
        {
          "output_type": "stream",
          "name": "stderr",
          "text": [
            "\rUpdating start dates:  31%|███       | 352/1128 [02:07<04:11,  3.09it/s]"
          ]
        },
        {
          "output_type": "stream",
          "name": "stdout",
          "text": [
            "Start date updated for performance code PF186424: 2022.03.11 -> 2022.03.09\n"
          ]
        },
        {
          "output_type": "stream",
          "name": "stderr",
          "text": [
            "\rUpdating start dates:  31%|███▏      | 353/1128 [02:07<03:59,  3.24it/s]"
          ]
        },
        {
          "output_type": "stream",
          "name": "stdout",
          "text": [
            "Start date updated for performance code PF214732: 2023.04.08 -> 2023.03.27\n"
          ]
        },
        {
          "output_type": "stream",
          "name": "stderr",
          "text": [
            "\rUpdating start dates:  31%|███▏      | 354/1128 [02:07<03:49,  3.37it/s]"
          ]
        },
        {
          "output_type": "stream",
          "name": "stdout",
          "text": [
            "Start date updated for performance code PF222107: 2023.08.12 -> 2023.08.11\n"
          ]
        },
        {
          "output_type": "stream",
          "name": "stderr",
          "text": [
            "\rUpdating start dates:  31%|███▏      | 355/1128 [02:08<03:53,  3.31it/s]"
          ]
        },
        {
          "output_type": "stream",
          "name": "stdout",
          "text": [
            "Start date updated for performance code PF197695: 2022.09.24 -> 2022.09.05\n"
          ]
        },
        {
          "output_type": "stream",
          "name": "stderr",
          "text": [
            "\rUpdating start dates:  32%|███▏      | 356/1128 [02:08<04:03,  3.17it/s]"
          ]
        },
        {
          "output_type": "stream",
          "name": "stdout",
          "text": [
            "Start date updated for performance code PF194043: 2022.09.03 -> 2022.07.04\n"
          ]
        },
        {
          "output_type": "stream",
          "name": "stderr",
          "text": [
            "\rUpdating start dates:  32%|███▏      | 357/1128 [02:08<04:10,  3.08it/s]"
          ]
        },
        {
          "output_type": "stream",
          "name": "stdout",
          "text": [
            "Start date updated for performance code PF186600: 2022.02.27 -> 2022.02.09\n"
          ]
        },
        {
          "output_type": "stream",
          "name": "stderr",
          "text": [
            "\rUpdating start dates:  32%|███▏      | 358/1128 [02:08<03:46,  3.40it/s]"
          ]
        },
        {
          "output_type": "stream",
          "name": "stdout",
          "text": [
            "Start date updated for performance code PF202938: 2022.12.24 -> 2022.11.28\n"
          ]
        },
        {
          "output_type": "stream",
          "name": "stderr",
          "text": [
            "\rUpdating start dates:  32%|███▏      | 359/1128 [02:09<03:30,  3.66it/s]"
          ]
        },
        {
          "output_type": "stream",
          "name": "stdout",
          "text": [
            "Start date updated for performance code PF213551: 2023.04.22 -> 2023.02.24\n"
          ]
        },
        {
          "output_type": "stream",
          "name": "stderr",
          "text": [
            "\rUpdating start dates:  32%|███▏      | 360/1128 [02:09<03:35,  3.56it/s]"
          ]
        },
        {
          "output_type": "stream",
          "name": "stdout",
          "text": [
            "Start date updated for performance code PF219767: 2023.07.08 -> 2023.06.05\n"
          ]
        },
        {
          "output_type": "stream",
          "name": "stderr",
          "text": [
            "\rUpdating start dates:  32%|███▏      | 361/1128 [02:10<04:46,  2.68it/s]"
          ]
        },
        {
          "output_type": "stream",
          "name": "stdout",
          "text": [
            "Start date updated for performance code PF189248: 2022.04.29 -> 2022.04.08\n"
          ]
        },
        {
          "output_type": "stream",
          "name": "stderr",
          "text": [
            "\rUpdating start dates:  32%|███▏      | 362/1128 [02:10<04:12,  3.03it/s]"
          ]
        },
        {
          "output_type": "stream",
          "name": "stdout",
          "text": [
            "Start date updated for performance code PF230713: 2023.12.30 -> 2023.12.18\n"
          ]
        },
        {
          "output_type": "stream",
          "name": "stderr",
          "text": [
            "\rUpdating start dates:  32%|███▏      | 363/1128 [02:10<03:58,  3.21it/s]"
          ]
        },
        {
          "output_type": "stream",
          "name": "stdout",
          "text": [
            "Start date updated for performance code PF200871: 2022.12.01 -> 2022.10.26\n"
          ]
        },
        {
          "output_type": "stream",
          "name": "stderr",
          "text": [
            "\rUpdating start dates:  32%|███▏      | 364/1128 [02:10<04:01,  3.17it/s]"
          ]
        },
        {
          "output_type": "stream",
          "name": "stdout",
          "text": [
            "Start date updated for performance code PF223848: 2023.10.07 -> 2023.08.11\n"
          ]
        },
        {
          "output_type": "stream",
          "name": "stderr",
          "text": [
            "\rUpdating start dates:  32%|███▏      | 365/1128 [02:11<04:28,  2.85it/s]"
          ]
        },
        {
          "output_type": "stream",
          "name": "stdout",
          "text": [
            "Start date updated for performance code PF219422: 2023.06.24 -> 2023.05.30\n"
          ]
        },
        {
          "output_type": "stream",
          "name": "stderr",
          "text": [
            "\rUpdating start dates:  32%|███▏      | 366/1128 [02:11<04:29,  2.83it/s]"
          ]
        },
        {
          "output_type": "stream",
          "name": "stdout",
          "text": [
            "Start date updated for performance code PF217132: 2023.06.02 -> 2023.05.19\n"
          ]
        },
        {
          "output_type": "stream",
          "name": "stderr",
          "text": [
            "\rUpdating start dates:  33%|███▎      | 367/1128 [02:11<04:17,  2.95it/s]"
          ]
        },
        {
          "output_type": "stream",
          "name": "stdout",
          "text": [
            "Start date updated for performance code PF200398: 2022.12.20 -> 2022.10.19\n"
          ]
        },
        {
          "output_type": "stream",
          "name": "stderr",
          "text": [
            "\rUpdating start dates:  33%|███▎      | 368/1128 [02:12<03:58,  3.18it/s]"
          ]
        },
        {
          "output_type": "stream",
          "name": "stdout",
          "text": [
            "Start date updated for performance code PF202246: 2022.12.24 -> 2022.11.15\n"
          ]
        },
        {
          "output_type": "stream",
          "name": "stderr",
          "text": [
            "\rUpdating start dates:  33%|███▎      | 369/1128 [02:12<03:47,  3.33it/s]"
          ]
        },
        {
          "output_type": "stream",
          "name": "stdout",
          "text": [
            "Start date updated for performance code PF222710: 2023.08.15 -> 2023.07.24\n"
          ]
        },
        {
          "output_type": "stream",
          "name": "stderr",
          "text": [
            "\rUpdating start dates:  33%|███▎      | 370/1128 [02:12<03:44,  3.37it/s]"
          ]
        },
        {
          "output_type": "stream",
          "name": "stdout",
          "text": [
            "Start date updated for performance code PF224701: 2023.11.24 -> 2023.08.25\n"
          ]
        },
        {
          "output_type": "stream",
          "name": "stderr",
          "text": [
            "\rUpdating start dates:  33%|███▎      | 371/1128 [02:13<03:34,  3.53it/s]"
          ]
        },
        {
          "output_type": "stream",
          "name": "stdout",
          "text": [
            "Start date updated for performance code PF202033: 2022.12.30 -> 2022.11.11\n"
          ]
        },
        {
          "output_type": "stream",
          "name": "stderr",
          "text": [
            "\rUpdating start dates:  33%|███▎      | 372/1128 [02:13<03:18,  3.80it/s]"
          ]
        },
        {
          "output_type": "stream",
          "name": "stdout",
          "text": [
            "Start date updated for performance code PF196113: 2022.09.05 -> 2022.08.10\n"
          ]
        },
        {
          "output_type": "stream",
          "name": "stderr",
          "text": [
            "\rUpdating start dates:  33%|███▎      | 373/1128 [02:13<03:12,  3.92it/s]"
          ]
        },
        {
          "output_type": "stream",
          "name": "stdout",
          "text": [
            "Start date updated for performance code PF196216: 2022.10.06 -> 2022.08.11\n"
          ]
        },
        {
          "output_type": "stream",
          "name": "stderr",
          "text": [
            "Updating start dates:  33%|███▎      | 375/1128 [02:14<03:34,  3.52it/s]"
          ]
        },
        {
          "output_type": "stream",
          "name": "stdout",
          "text": [
            "Start date updated for performance code PF213412: 2023.03.31 -> 2023.02.21\n"
          ]
        },
        {
          "output_type": "stream",
          "name": "stderr",
          "text": [
            "\rUpdating start dates:  33%|███▎      | 376/1128 [02:14<04:24,  2.84it/s]"
          ]
        },
        {
          "output_type": "stream",
          "name": "stdout",
          "text": [
            "Start date updated for performance code PF149775: 2017.11.10 -> 2021.12.22\n"
          ]
        },
        {
          "output_type": "stream",
          "name": "stderr",
          "text": [
            "\rUpdating start dates:  33%|███▎      | 377/1128 [02:14<04:15,  2.94it/s]"
          ]
        },
        {
          "output_type": "stream",
          "name": "stdout",
          "text": [
            "Start date updated for performance code PF229662: 2023.12.22 -> 2023.11.08\n"
          ]
        },
        {
          "output_type": "stream",
          "name": "stderr",
          "text": [
            "\rUpdating start dates:  34%|███▎      | 378/1128 [02:15<03:50,  3.26it/s]"
          ]
        },
        {
          "output_type": "stream",
          "name": "stdout",
          "text": [
            "Start date updated for performance code PF220192: 2023.07.29 -> 2023.07.12\n"
          ]
        },
        {
          "output_type": "stream",
          "name": "stderr",
          "text": [
            "Updating start dates:  34%|███▎      | 380/1128 [02:15<03:44,  3.33it/s]"
          ]
        },
        {
          "output_type": "stream",
          "name": "stdout",
          "text": [
            "Start date updated for performance code PF186780: 2022.03.12 -> 2022.02.15\n"
          ]
        },
        {
          "output_type": "stream",
          "name": "stderr",
          "text": [
            "\rUpdating start dates:  34%|███▍      | 381/1128 [02:16<03:30,  3.55it/s]"
          ]
        },
        {
          "output_type": "stream",
          "name": "stdout",
          "text": [
            "Start date updated for performance code PF186753: 2022.03.12 -> 2022.02.11\n"
          ]
        },
        {
          "output_type": "stream",
          "name": "stderr",
          "text": [
            "\rUpdating start dates:  34%|███▍      | 382/1128 [02:16<03:55,  3.16it/s]"
          ]
        },
        {
          "output_type": "stream",
          "name": "stdout",
          "text": [
            "Start date updated for performance code PF192533: 2022.07.29 -> 2022.06.08\n"
          ]
        },
        {
          "output_type": "stream",
          "name": "stderr",
          "text": [
            "\rUpdating start dates:  34%|███▍      | 383/1128 [02:16<04:19,  2.87it/s]"
          ]
        },
        {
          "output_type": "stream",
          "name": "stdout",
          "text": [
            "Start date updated for performance code PF189512: 2022.05.14 -> 2022.04.14\n"
          ]
        },
        {
          "output_type": "stream",
          "name": "stderr",
          "text": [
            "\rUpdating start dates:  34%|███▍      | 384/1128 [02:17<03:54,  3.17it/s]"
          ]
        },
        {
          "output_type": "stream",
          "name": "stdout",
          "text": [
            "Start date updated for performance code PF190587: 2022.09.03 -> 2022.05.10\n"
          ]
        },
        {
          "output_type": "stream",
          "name": "stderr",
          "text": [
            "\rUpdating start dates:  34%|███▍      | 385/1128 [02:17<03:58,  3.12it/s]"
          ]
        },
        {
          "output_type": "stream",
          "name": "stdout",
          "text": [
            "Start date updated for performance code PF226540: 2023.11.24 -> 2023.10.02\n"
          ]
        },
        {
          "output_type": "stream",
          "name": "stderr",
          "text": [
            "\rUpdating start dates:  34%|███▍      | 386/1128 [02:17<03:36,  3.42it/s]"
          ]
        },
        {
          "output_type": "stream",
          "name": "stdout",
          "text": [
            "Start date updated for performance code PF199614: 2022.10.07 -> 2022.12.11\n"
          ]
        },
        {
          "output_type": "stream",
          "name": "stderr",
          "text": [
            "\rUpdating start dates:  34%|███▍      | 387/1128 [02:17<03:27,  3.56it/s]"
          ]
        },
        {
          "output_type": "stream",
          "name": "stdout",
          "text": [
            "Start date updated for performance code PF201000: 2022.12.03 -> 2022.12.17\n"
          ]
        },
        {
          "output_type": "stream",
          "name": "stderr",
          "text": [
            "\rUpdating start dates:  34%|███▍      | 388/1128 [02:18<03:31,  3.49it/s]"
          ]
        },
        {
          "output_type": "stream",
          "name": "stdout",
          "text": [
            "Start date updated for performance code PF197874: 2022.09.16 -> 2022.09.13\n"
          ]
        },
        {
          "output_type": "stream",
          "name": "stderr",
          "text": [
            "\rUpdating start dates:  34%|███▍      | 389/1128 [02:18<03:14,  3.80it/s]"
          ]
        },
        {
          "output_type": "stream",
          "name": "stdout",
          "text": [
            "Start date updated for performance code PF214326: 2023.03.24 -> 2023.03.02\n"
          ]
        },
        {
          "output_type": "stream",
          "name": "stderr",
          "text": [
            "\rUpdating start dates:  35%|███▍      | 390/1128 [02:18<03:37,  3.39it/s]"
          ]
        },
        {
          "output_type": "stream",
          "name": "stdout",
          "text": [
            "Start date updated for performance code PF197786: 2022.11.11 -> 2022.09.07\n"
          ]
        },
        {
          "output_type": "stream",
          "name": "stderr",
          "text": [
            "\rUpdating start dates:  35%|███▍      | 391/1128 [02:19<04:24,  2.79it/s]"
          ]
        },
        {
          "output_type": "stream",
          "name": "stdout",
          "text": [
            "Start date updated for performance code PF182453: 2021.12.11 -> 2021.12.19\n"
          ]
        },
        {
          "output_type": "stream",
          "name": "stderr",
          "text": [
            "\rUpdating start dates:  35%|███▍      | 392/1128 [02:19<04:06,  2.98it/s]"
          ]
        },
        {
          "output_type": "stream",
          "name": "stdout",
          "text": [
            "Start date updated for performance code PF227142: 2023.11.15 -> 2023.11.14\n"
          ]
        },
        {
          "output_type": "stream",
          "name": "stderr",
          "text": [
            "\rUpdating start dates:  35%|███▍      | 393/1128 [02:19<04:02,  3.03it/s]"
          ]
        },
        {
          "output_type": "stream",
          "name": "stdout",
          "text": [
            "Start date updated for performance code PF188378: 2022.05.17 -> 2022.03.21\n"
          ]
        },
        {
          "output_type": "stream",
          "name": "stderr",
          "text": [
            "\rUpdating start dates:  35%|███▍      | 394/1128 [02:20<03:55,  3.12it/s]"
          ]
        },
        {
          "output_type": "stream",
          "name": "stdout",
          "text": [
            "Start date updated for performance code PF216047: 2023.04.23 -> 2023.03.30\n"
          ]
        },
        {
          "output_type": "stream",
          "name": "stderr",
          "text": [
            "\rUpdating start dates:  35%|███▌      | 395/1128 [02:20<03:49,  3.19it/s]"
          ]
        },
        {
          "output_type": "stream",
          "name": "stdout",
          "text": [
            "Start date updated for performance code PF214367: 2023.05.20 -> 2023.03.06\n"
          ]
        },
        {
          "output_type": "stream",
          "name": "stderr",
          "text": [
            "\rUpdating start dates:  35%|███▌      | 396/1128 [02:20<03:34,  3.41it/s]"
          ]
        },
        {
          "output_type": "stream",
          "name": "stdout",
          "text": [
            "Start date updated for performance code PF204641: 2023.01.17 -> 2022.12.21\n"
          ]
        },
        {
          "output_type": "stream",
          "name": "stderr",
          "text": [
            "\rUpdating start dates:  35%|███▌      | 397/1128 [02:21<04:20,  2.81it/s]"
          ]
        },
        {
          "output_type": "stream",
          "name": "stdout",
          "text": [
            "Start date updated for performance code PF196033: 2022.10.01 -> 2022.08.09\n"
          ]
        },
        {
          "output_type": "stream",
          "name": "stderr",
          "text": [
            "\rUpdating start dates:  35%|███▌      | 398/1128 [02:21<03:51,  3.16it/s]"
          ]
        },
        {
          "output_type": "stream",
          "name": "stdout",
          "text": [
            "Start date updated for performance code PF190401: 2022.07.23 -> 2022.04.29\n"
          ]
        },
        {
          "output_type": "stream",
          "name": "stderr",
          "text": [
            "\rUpdating start dates:  35%|███▌      | 399/1128 [02:21<03:36,  3.37it/s]"
          ]
        },
        {
          "output_type": "stream",
          "name": "stdout",
          "text": [
            "Start date updated for performance code PF216318: 2023.08.19 -> 2023.04.05\n"
          ]
        },
        {
          "output_type": "stream",
          "name": "stderr",
          "text": [
            "\rUpdating start dates:  35%|███▌      | 400/1128 [02:22<03:53,  3.12it/s]"
          ]
        },
        {
          "output_type": "stream",
          "name": "stdout",
          "text": [
            "Start date updated for performance code PF192596: 2022.07.26 -> 2022.07.19\n"
          ]
        },
        {
          "output_type": "stream",
          "name": "stderr",
          "text": [
            "\rUpdating start dates:  36%|███▌      | 401/1128 [02:22<03:31,  3.43it/s]"
          ]
        },
        {
          "output_type": "stream",
          "name": "stdout",
          "text": [
            "Start date updated for performance code PF195467: 2022.09.06 -> 2022.07.28\n"
          ]
        },
        {
          "output_type": "stream",
          "name": "stderr",
          "text": [
            "\rUpdating start dates:  36%|███▌      | 402/1128 [02:22<03:28,  3.49it/s]"
          ]
        },
        {
          "output_type": "stream",
          "name": "stdout",
          "text": [
            "Start date updated for performance code PF216537: 2023.05.05 -> 2023.04.07\n"
          ]
        },
        {
          "output_type": "stream",
          "name": "stderr",
          "text": [
            "\rUpdating start dates:  36%|███▌      | 403/1128 [02:22<03:30,  3.44it/s]"
          ]
        },
        {
          "output_type": "stream",
          "name": "stdout",
          "text": [
            "Start date updated for performance code PF178933: 2021.10.01 -> 2021.11.05\n"
          ]
        },
        {
          "output_type": "stream",
          "name": "stderr",
          "text": [
            "\rUpdating start dates:  36%|███▌      | 404/1128 [02:23<03:28,  3.48it/s]"
          ]
        },
        {
          "output_type": "stream",
          "name": "stdout",
          "text": [
            "Start date updated for performance code PF220385: 2023.07.28 -> 2023.06.29\n"
          ]
        },
        {
          "output_type": "stream",
          "name": "stderr",
          "text": [
            "\rUpdating start dates:  36%|███▌      | 405/1128 [02:23<03:47,  3.18it/s]"
          ]
        },
        {
          "output_type": "stream",
          "name": "stdout",
          "text": [
            "Start date updated for performance code PF187989: 2022.04.01 -> 2022.03.30\n"
          ]
        },
        {
          "output_type": "stream",
          "name": "stderr",
          "text": [
            "\rUpdating start dates:  36%|███▌      | 406/1128 [02:23<03:36,  3.34it/s]"
          ]
        },
        {
          "output_type": "stream",
          "name": "stdout",
          "text": [
            "Start date updated for performance code PF216482: 2023.05.25 -> 2023.04.07\n"
          ]
        },
        {
          "output_type": "stream",
          "name": "stderr",
          "text": [
            "\rUpdating start dates:  36%|███▌      | 407/1128 [02:24<04:10,  2.88it/s]"
          ]
        },
        {
          "output_type": "stream",
          "name": "stdout",
          "text": [
            "Start date updated for performance code PF209513: 2023.02.05 -> 2023.01.06\n"
          ]
        },
        {
          "output_type": "stream",
          "name": "stderr",
          "text": [
            "\rUpdating start dates:  36%|███▌      | 408/1128 [02:24<03:59,  3.01it/s]"
          ]
        },
        {
          "output_type": "stream",
          "name": "stdout",
          "text": [
            "Start date updated for performance code PF189025: 2022.04.26 -> 2022.04.05\n"
          ]
        },
        {
          "output_type": "stream",
          "name": "stderr",
          "text": [
            "Updating start dates:  36%|███▋      | 410/1128 [02:25<03:30,  3.42it/s]"
          ]
        },
        {
          "output_type": "stream",
          "name": "stdout",
          "text": [
            "Start date updated for performance code PF218185: 2023.06.13 -> 2023.05.09\n",
            "Start date updated for performance code PF216568: 2023.05.27 -> 2023.04.10\n"
          ]
        },
        {
          "output_type": "stream",
          "name": "stderr",
          "text": [
            "\rUpdating start dates:  36%|███▋      | 411/1128 [02:25<03:36,  3.32it/s]"
          ]
        },
        {
          "output_type": "stream",
          "name": "stdout",
          "text": [
            "Start date updated for performance code PF219460: 2023.07.15 -> 2023.05.31\n"
          ]
        },
        {
          "output_type": "stream",
          "name": "stderr",
          "text": [
            "\rUpdating start dates:  37%|███▋      | 412/1128 [02:25<04:32,  2.63it/s]"
          ]
        },
        {
          "output_type": "stream",
          "name": "stdout",
          "text": [
            "Start date updated for performance code PF196055: 2022.12.03 -> 2022.08.09\n"
          ]
        },
        {
          "output_type": "stream",
          "name": "stderr",
          "text": [
            "\rUpdating start dates:  37%|███▋      | 413/1128 [02:26<03:59,  2.98it/s]"
          ]
        },
        {
          "output_type": "stream",
          "name": "stdout",
          "text": [
            "Start date updated for performance code PF203734: 2023.01.14 -> 2022.12.06\n"
          ]
        },
        {
          "output_type": "stream",
          "name": "stderr",
          "text": [
            "\rUpdating start dates:  37%|███▋      | 414/1128 [02:26<03:47,  3.14it/s]"
          ]
        },
        {
          "output_type": "stream",
          "name": "stdout",
          "text": [
            "Start date updated for performance code PF203159: 2023.01.06 -> 2022.11.25\n"
          ]
        },
        {
          "output_type": "stream",
          "name": "stderr",
          "text": [
            "\rUpdating start dates:  37%|███▋      | 415/1128 [02:26<03:30,  3.38it/s]"
          ]
        },
        {
          "output_type": "stream",
          "name": "stdout",
          "text": [
            "Start date updated for performance code PF142539: 2018.03.08 -> 2022.12.28\n"
          ]
        },
        {
          "output_type": "stream",
          "name": "stderr",
          "text": [
            "\rUpdating start dates:  37%|███▋      | 416/1128 [02:26<03:23,  3.50it/s]"
          ]
        },
        {
          "output_type": "stream",
          "name": "stdout",
          "text": [
            "Start date updated for performance code PF191565: 2022.07.23 -> 2022.07.22\n"
          ]
        },
        {
          "output_type": "stream",
          "name": "stderr",
          "text": [
            "\rUpdating start dates:  37%|███▋      | 417/1128 [02:27<03:39,  3.24it/s]"
          ]
        },
        {
          "output_type": "stream",
          "name": "stdout",
          "text": [
            "Start date updated for performance code PF228039: 2023.12.06 -> 2023.10.17\n"
          ]
        },
        {
          "output_type": "stream",
          "name": "stderr",
          "text": [
            "\rUpdating start dates:  37%|███▋      | 418/1128 [02:27<03:31,  3.35it/s]"
          ]
        },
        {
          "output_type": "stream",
          "name": "stdout",
          "text": [
            "Start date updated for performance code PF224796: 2023.10.08 -> 2023.08.28\n"
          ]
        },
        {
          "output_type": "stream",
          "name": "stderr",
          "text": [
            "\rUpdating start dates:  37%|███▋      | 419/1128 [02:27<03:17,  3.59it/s]"
          ]
        },
        {
          "output_type": "stream",
          "name": "stdout",
          "text": [
            "Start date updated for performance code PF200875: 2022.11.22 -> 2022.12.08\n"
          ]
        },
        {
          "output_type": "stream",
          "name": "stderr",
          "text": [
            "\rUpdating start dates:  37%|███▋      | 420/1128 [02:28<03:12,  3.68it/s]"
          ]
        },
        {
          "output_type": "stream",
          "name": "stdout",
          "text": [
            "Start date updated for performance code PF222020: 2023.09.02 -> 2023.07.12\n"
          ]
        },
        {
          "output_type": "stream",
          "name": "stderr",
          "text": [
            "\rUpdating start dates:  37%|███▋      | 421/1128 [02:28<03:29,  3.38it/s]"
          ]
        },
        {
          "output_type": "stream",
          "name": "stdout",
          "text": [
            "Start date updated for performance code PF199898: 2022.11.26 -> 2022.10.12\n"
          ]
        },
        {
          "output_type": "stream",
          "name": "stderr",
          "text": [
            "\rUpdating start dates:  37%|███▋      | 422/1128 [02:28<03:25,  3.43it/s]"
          ]
        },
        {
          "output_type": "stream",
          "name": "stdout",
          "text": [
            "Start date updated for performance code PF228773: 2023.12.02 -> 2023.10.26\n"
          ]
        },
        {
          "output_type": "stream",
          "name": "stderr",
          "text": [
            "\rUpdating start dates:  38%|███▊      | 423/1128 [02:29<03:26,  3.41it/s]"
          ]
        },
        {
          "output_type": "stream",
          "name": "stdout",
          "text": [
            "Start date updated for performance code PF224422: 2023.10.07 -> 2023.08.22\n"
          ]
        },
        {
          "output_type": "stream",
          "name": "stderr",
          "text": [
            "\rUpdating start dates:  38%|███▊      | 424/1128 [02:29<03:12,  3.66it/s]"
          ]
        },
        {
          "output_type": "stream",
          "name": "stdout",
          "text": [
            "Start date updated for performance code PF221528: 2023.06.24 -> 2023.03.10\n"
          ]
        },
        {
          "output_type": "stream",
          "name": "stderr",
          "text": [
            "\rUpdating start dates:  38%|███▊      | 425/1128 [02:29<03:14,  3.61it/s]"
          ]
        },
        {
          "output_type": "stream",
          "name": "stdout",
          "text": [
            "Start date updated for performance code PF188546: 2022.04.30 -> 2022.03.25\n"
          ]
        },
        {
          "output_type": "stream",
          "name": "stderr",
          "text": [
            "\rUpdating start dates:  38%|███▊      | 426/1128 [02:29<03:43,  3.14it/s]"
          ]
        },
        {
          "output_type": "stream",
          "name": "stdout",
          "text": [
            "Start date updated for performance code PF200953: 2022.12.18 -> 2022.11.11\n"
          ]
        },
        {
          "output_type": "stream",
          "name": "stderr",
          "text": [
            "\rUpdating start dates:  38%|███▊      | 427/1128 [02:30<04:06,  2.84it/s]"
          ]
        },
        {
          "output_type": "stream",
          "name": "stdout",
          "text": [
            "Start date updated for performance code PF223940: 2023.09.23 -> 2023.09.01\n"
          ]
        },
        {
          "output_type": "stream",
          "name": "stderr",
          "text": [
            "\rUpdating start dates:  38%|███▊      | 428/1128 [02:30<03:48,  3.06it/s]"
          ]
        },
        {
          "output_type": "stream",
          "name": "stdout",
          "text": [
            "Start date updated for performance code PF190663: 2022.05.28 -> 2022.05.25\n"
          ]
        },
        {
          "output_type": "stream",
          "name": "stderr",
          "text": [
            "\rUpdating start dates:  38%|███▊      | 429/1128 [02:30<03:28,  3.35it/s]"
          ]
        },
        {
          "output_type": "stream",
          "name": "stdout",
          "text": [
            "Start date updated for performance code PF196592: 2022.10.12 -> 2022.08.18\n"
          ]
        },
        {
          "output_type": "stream",
          "name": "stderr",
          "text": [
            "\rUpdating start dates:  38%|███▊      | 430/1128 [02:31<03:16,  3.55it/s]"
          ]
        },
        {
          "output_type": "stream",
          "name": "stdout",
          "text": [
            "Start date updated for performance code PF202524: 2022.12.14 -> 2022.12.08\n"
          ]
        },
        {
          "output_type": "stream",
          "name": "stderr",
          "text": [
            "\rUpdating start dates:  38%|███▊      | 431/1128 [02:31<03:03,  3.80it/s]"
          ]
        },
        {
          "output_type": "stream",
          "name": "stdout",
          "text": [
            "Start date updated for performance code PF228462: 2023.12.15 -> 2023.10.20\n"
          ]
        },
        {
          "output_type": "stream",
          "name": "stderr",
          "text": [
            "\rUpdating start dates:  38%|███▊      | 432/1128 [02:31<02:54,  3.99it/s]"
          ]
        },
        {
          "output_type": "stream",
          "name": "stdout",
          "text": [
            "Start date updated for performance code PF198423: 2022.10.25 -> 2022.12.07\n"
          ]
        },
        {
          "output_type": "stream",
          "name": "stderr",
          "text": [
            "\rUpdating start dates:  38%|███▊      | 433/1128 [02:31<03:09,  3.68it/s]"
          ]
        },
        {
          "output_type": "stream",
          "name": "stdout",
          "text": [
            "Start date updated for performance code PF197594: 2022.10.28 -> 2022.09.05\n"
          ]
        },
        {
          "output_type": "stream",
          "name": "stderr",
          "text": [
            "\rUpdating start dates:  38%|███▊      | 434/1128 [02:32<03:19,  3.48it/s]"
          ]
        },
        {
          "output_type": "stream",
          "name": "stdout",
          "text": [
            "Start date updated for performance code PF218567: 2023.06.16 -> 2023.05.16\n"
          ]
        },
        {
          "output_type": "stream",
          "name": "stderr",
          "text": [
            "\rUpdating start dates:  39%|███▊      | 435/1128 [02:32<03:09,  3.66it/s]"
          ]
        },
        {
          "output_type": "stream",
          "name": "stdout",
          "text": [
            "Start date updated for performance code PF209865: 2023.03.31 -> 2023.03.27\n"
          ]
        },
        {
          "output_type": "stream",
          "name": "stderr",
          "text": [
            "\rUpdating start dates:  39%|███▊      | 436/1128 [02:32<03:33,  3.24it/s]"
          ]
        },
        {
          "output_type": "stream",
          "name": "stdout",
          "text": [
            "Start date updated for performance code PF201075: 2022.11.26 -> 2022.12.10\n"
          ]
        },
        {
          "output_type": "stream",
          "name": "stderr",
          "text": [
            "\rUpdating start dates:  39%|███▊      | 437/1128 [02:33<03:57,  2.91it/s]"
          ]
        },
        {
          "output_type": "stream",
          "name": "stdout",
          "text": [
            "Start date updated for performance code PF228590: 2023.12.16 -> 2023.10.24\n"
          ]
        },
        {
          "output_type": "stream",
          "name": "stderr",
          "text": [
            "\rUpdating start dates:  39%|███▉      | 438/1128 [02:33<03:31,  3.26it/s]"
          ]
        },
        {
          "output_type": "stream",
          "name": "stdout",
          "text": [
            "Start date updated for performance code PF198887: 2022.10.09 -> 2022.09.26\n"
          ]
        },
        {
          "output_type": "stream",
          "name": "stderr",
          "text": [
            "\rUpdating start dates:  39%|███▉      | 439/1128 [02:33<03:45,  3.05it/s]"
          ]
        },
        {
          "output_type": "stream",
          "name": "stdout",
          "text": [
            "Start date updated for performance code PF190483: 2022.07.14 -> 2022.05.03\n"
          ]
        },
        {
          "output_type": "stream",
          "name": "stderr",
          "text": [
            "\rUpdating start dates:  39%|███▉      | 440/1128 [02:34<03:44,  3.06it/s]"
          ]
        },
        {
          "output_type": "stream",
          "name": "stdout",
          "text": [
            "Start date updated for performance code PF192467: 2022.07.16 -> 2022.06.15\n"
          ]
        },
        {
          "output_type": "stream",
          "name": "stderr",
          "text": [
            "\rUpdating start dates:  39%|███▉      | 441/1128 [02:34<03:38,  3.14it/s]"
          ]
        },
        {
          "output_type": "stream",
          "name": "stdout",
          "text": [
            "Start date updated for performance code PF201002: 2022.12.30 -> 2022.10.27\n"
          ]
        },
        {
          "output_type": "stream",
          "name": "stderr",
          "text": [
            "Updating start dates:  39%|███▉      | 443/1128 [02:35<03:30,  3.25it/s]"
          ]
        },
        {
          "output_type": "stream",
          "name": "stdout",
          "text": [
            "Start date updated for performance code PF194423: 2022.08.12 -> 2022.07.11\n"
          ]
        },
        {
          "output_type": "stream",
          "name": "stderr",
          "text": [
            "\rUpdating start dates:  39%|███▉      | 444/1128 [02:35<03:22,  3.37it/s]"
          ]
        },
        {
          "output_type": "stream",
          "name": "stdout",
          "text": [
            "Start date updated for performance code PF215233: 2023.07.29 -> 2023.03.17\n"
          ]
        },
        {
          "output_type": "stream",
          "name": "stderr",
          "text": [
            "Updating start dates:  40%|███▉      | 446/1128 [02:35<03:05,  3.68it/s]"
          ]
        },
        {
          "output_type": "stream",
          "name": "stdout",
          "text": [
            "Start date updated for performance code PF224118: 2023.10.06 -> 2023.09.22\n",
            "Start date updated for performance code PF202814: 2023.03.20 -> 2022.11.23\n"
          ]
        },
        {
          "output_type": "stream",
          "name": "stderr",
          "text": [
            "\rUpdating start dates:  40%|███▉      | 447/1128 [02:36<03:09,  3.59it/s]"
          ]
        },
        {
          "output_type": "stream",
          "name": "stdout",
          "text": [
            "Start date updated for performance code PF225249: 2023.10.14 -> 2023.10.04\n"
          ]
        },
        {
          "output_type": "stream",
          "name": "stderr",
          "text": [
            "\rUpdating start dates:  40%|███▉      | 448/1128 [02:36<03:38,  3.11it/s]"
          ]
        },
        {
          "output_type": "stream",
          "name": "stdout",
          "text": [
            "Start date updated for performance code PF217497: 2023.06.27 -> 2023.04.26\n"
          ]
        },
        {
          "output_type": "stream",
          "name": "stderr",
          "text": [
            "\rUpdating start dates:  40%|███▉      | 449/1128 [02:36<03:21,  3.37it/s]"
          ]
        },
        {
          "output_type": "stream",
          "name": "stdout",
          "text": [
            "Start date updated for performance code PF196105: 2022.09.03 -> 2022.08.10\n"
          ]
        },
        {
          "output_type": "stream",
          "name": "stderr",
          "text": [
            "\rUpdating start dates:  40%|███▉      | 450/1128 [02:37<03:49,  2.96it/s]"
          ]
        },
        {
          "output_type": "stream",
          "name": "stdout",
          "text": [
            "Start date updated for performance code PF195255: 2022.10.07 -> 2022.08.02\n"
          ]
        },
        {
          "output_type": "stream",
          "name": "stderr",
          "text": [
            "\rUpdating start dates:  40%|███▉      | 451/1128 [02:37<03:48,  2.97it/s]"
          ]
        },
        {
          "output_type": "stream",
          "name": "stdout",
          "text": [
            "Start date updated for performance code PF180296: 2021.11.02 -> 2021.11.13\n"
          ]
        },
        {
          "output_type": "stream",
          "name": "stderr",
          "text": [
            "\rUpdating start dates:  40%|████      | 452/1128 [02:38<04:26,  2.53it/s]"
          ]
        },
        {
          "output_type": "stream",
          "name": "stdout",
          "text": [
            "Start date updated for performance code PF182737: 2021.11.01 -> 2022.12.16\n"
          ]
        },
        {
          "output_type": "stream",
          "name": "stderr",
          "text": [
            "\rUpdating start dates:  40%|████      | 453/1128 [02:38<04:19,  2.60it/s]"
          ]
        },
        {
          "output_type": "stream",
          "name": "stdout",
          "text": [
            "Start date updated for performance code PF229500: 2023.12.02 -> 2023.11.06\n"
          ]
        },
        {
          "output_type": "stream",
          "name": "stderr",
          "text": [
            "\rUpdating start dates:  40%|████      | 454/1128 [02:38<03:56,  2.85it/s]"
          ]
        },
        {
          "output_type": "stream",
          "name": "stdout",
          "text": [
            "Start date updated for performance code PF190022: 2022.06.25 -> 2022.04.22\n"
          ]
        },
        {
          "output_type": "stream",
          "name": "stderr",
          "text": [
            "\rUpdating start dates:  40%|████      | 455/1128 [02:38<03:28,  3.23it/s]"
          ]
        },
        {
          "output_type": "stream",
          "name": "stdout",
          "text": [
            "Start date updated for performance code PF204346: 2023.01.15 -> 2022.12.15\n"
          ]
        },
        {
          "output_type": "stream",
          "name": "stderr",
          "text": [
            "\rUpdating start dates:  40%|████      | 456/1128 [02:39<03:33,  3.15it/s]"
          ]
        },
        {
          "output_type": "stream",
          "name": "stdout",
          "text": [
            "Start date updated for performance code PF201517: 2022.12.01 -> 2022.12.13\n"
          ]
        },
        {
          "output_type": "stream",
          "name": "stderr",
          "text": [
            "\rUpdating start dates:  41%|████      | 457/1128 [02:39<03:35,  3.12it/s]"
          ]
        },
        {
          "output_type": "stream",
          "name": "stdout",
          "text": [
            "Start date updated for performance code PF201746: 2022.12.24 -> 2022.11.08\n"
          ]
        },
        {
          "output_type": "stream",
          "name": "stderr",
          "text": [
            "\rUpdating start dates:  41%|████      | 458/1128 [02:39<03:24,  3.28it/s]"
          ]
        },
        {
          "output_type": "stream",
          "name": "stdout",
          "text": [
            "Start date updated for performance code PF209440: 2023.02.11 -> 2023.01.05\n"
          ]
        },
        {
          "output_type": "stream",
          "name": "stderr",
          "text": [
            "\rUpdating start dates:  41%|████      | 459/1128 [02:40<03:12,  3.47it/s]"
          ]
        },
        {
          "output_type": "stream",
          "name": "stdout",
          "text": [
            "Start date updated for performance code PF215162: 2023.06.24 -> 2023.03.16\n"
          ]
        },
        {
          "output_type": "stream",
          "name": "stderr",
          "text": [
            "\rUpdating start dates:  41%|████      | 460/1128 [02:40<03:04,  3.62it/s]"
          ]
        },
        {
          "output_type": "stream",
          "name": "stdout",
          "text": [
            "Start date updated for performance code PF202394: 2022.12.30 -> 2022.11.16\n"
          ]
        },
        {
          "output_type": "stream",
          "name": "stderr",
          "text": [
            "\rUpdating start dates:  41%|████      | 461/1128 [02:40<02:58,  3.74it/s]"
          ]
        },
        {
          "output_type": "stream",
          "name": "stdout",
          "text": [
            "Start date updated for performance code PF227066: 2023.11.07 -> 2023.10.04\n"
          ]
        },
        {
          "output_type": "stream",
          "name": "stderr",
          "text": [
            "\rUpdating start dates:  41%|████      | 462/1128 [02:40<03:07,  3.55it/s]"
          ]
        },
        {
          "output_type": "stream",
          "name": "stdout",
          "text": [
            "Start date updated for performance code PF185688: 2022.02.08 -> 2022.01.12\n"
          ]
        },
        {
          "output_type": "stream",
          "name": "stderr",
          "text": [
            "\rUpdating start dates:  41%|████      | 463/1128 [02:41<03:08,  3.52it/s]"
          ]
        },
        {
          "output_type": "stream",
          "name": "stdout",
          "text": [
            "Start date updated for performance code PF213560: 2023.05.06 -> 2023.02.16\n"
          ]
        },
        {
          "output_type": "stream",
          "name": "stderr",
          "text": [
            "\rUpdating start dates:  41%|████      | 464/1128 [02:41<03:32,  3.13it/s]"
          ]
        },
        {
          "output_type": "stream",
          "name": "stdout",
          "text": [
            "Start date updated for performance code PF194477: 2022.08.30 -> 2022.08.29\n"
          ]
        },
        {
          "output_type": "stream",
          "name": "stderr",
          "text": [
            "\rUpdating start dates:  41%|████      | 465/1128 [02:41<03:21,  3.29it/s]"
          ]
        },
        {
          "output_type": "stream",
          "name": "stdout",
          "text": [
            "Start date updated for performance code PF218655: 2023.06.17 -> 2023.05.17\n"
          ]
        },
        {
          "output_type": "stream",
          "name": "stderr",
          "text": [
            "\rUpdating start dates:  41%|████▏     | 466/1128 [02:42<03:16,  3.36it/s]"
          ]
        },
        {
          "output_type": "stream",
          "name": "stdout",
          "text": [
            "Start date updated for performance code PF215621: 2023.04.15 -> 2023.03.23\n"
          ]
        },
        {
          "output_type": "stream",
          "name": "stderr",
          "text": [
            "\rUpdating start dates:  41%|████▏     | 467/1128 [02:42<03:06,  3.54it/s]"
          ]
        },
        {
          "output_type": "stream",
          "name": "stdout",
          "text": [
            "Start date updated for performance code PF218413: 2023.06.03 -> 2023.05.12\n"
          ]
        },
        {
          "output_type": "stream",
          "name": "stderr",
          "text": [
            "\rUpdating start dates:  41%|████▏     | 468/1128 [02:42<03:30,  3.14it/s]"
          ]
        },
        {
          "output_type": "stream",
          "name": "stdout",
          "text": [
            "Start date updated for performance code PF183092: 2021.11.30 -> 2021.12.31\n"
          ]
        },
        {
          "output_type": "stream",
          "name": "stderr",
          "text": [
            "\rUpdating start dates:  42%|████▏     | 469/1128 [02:43<03:36,  3.04it/s]"
          ]
        },
        {
          "output_type": "stream",
          "name": "stdout",
          "text": [
            "Start date updated for performance code PF226273: 2023.10.20 -> 2023.09.19\n"
          ]
        },
        {
          "output_type": "stream",
          "name": "stderr",
          "text": [
            "\rUpdating start dates:  42%|████▏     | 470/1128 [02:43<03:28,  3.15it/s]"
          ]
        },
        {
          "output_type": "stream",
          "name": "stdout",
          "text": [
            "Start date updated for performance code PF197783: 2022.10.29 -> 2022.09.07\n"
          ]
        },
        {
          "output_type": "stream",
          "name": "stderr",
          "text": [
            "\rUpdating start dates:  42%|████▏     | 471/1128 [02:43<03:20,  3.28it/s]"
          ]
        },
        {
          "output_type": "stream",
          "name": "stdout",
          "text": [
            "Start date updated for performance code PF214580: 2023.04.01 -> 2023.03.07\n"
          ]
        },
        {
          "output_type": "stream",
          "name": "stderr",
          "text": [
            "\rUpdating start dates:  42%|████▏     | 472/1128 [02:43<03:00,  3.64it/s]"
          ]
        },
        {
          "output_type": "stream",
          "name": "stdout",
          "text": [
            "Start date updated for performance code PF226730: 2023.10.14 -> 2023.09.08\n"
          ]
        },
        {
          "output_type": "stream",
          "name": "stderr",
          "text": [
            "\rUpdating start dates:  42%|████▏     | 473/1128 [02:44<02:55,  3.73it/s]"
          ]
        },
        {
          "output_type": "stream",
          "name": "stdout",
          "text": [
            "Start date updated for performance code PF219469: 2023.09.16 -> 2023.07.13\n"
          ]
        },
        {
          "output_type": "stream",
          "name": "stderr",
          "text": [
            "\rUpdating start dates:  42%|████▏     | 474/1128 [02:44<03:05,  3.52it/s]"
          ]
        },
        {
          "output_type": "stream",
          "name": "stdout",
          "text": [
            "Start date updated for performance code PF223267: 2023.09.02 -> 2023.08.02\n"
          ]
        },
        {
          "output_type": "stream",
          "name": "stderr",
          "text": [
            "\rUpdating start dates:  42%|████▏     | 475/1128 [02:44<02:53,  3.76it/s]"
          ]
        },
        {
          "output_type": "stream",
          "name": "stdout",
          "text": [
            "Start date updated for performance code PF215820: 2023.04.28 -> 2023.03.28\n"
          ]
        },
        {
          "output_type": "stream",
          "name": "stderr",
          "text": [
            "\rUpdating start dates:  42%|████▏     | 476/1128 [02:44<02:49,  3.84it/s]"
          ]
        },
        {
          "output_type": "stream",
          "name": "stdout",
          "text": [
            "Start date updated for performance code PF201821: 2022.12.09 -> 2022.12.07\n"
          ]
        },
        {
          "output_type": "stream",
          "name": "stderr",
          "text": [
            "\rUpdating start dates:  42%|████▏     | 477/1128 [02:45<02:45,  3.94it/s]"
          ]
        },
        {
          "output_type": "stream",
          "name": "stdout",
          "text": [
            "Start date updated for performance code PF204905: 2023.02.11 -> 2022.12.28\n"
          ]
        },
        {
          "output_type": "stream",
          "name": "stderr",
          "text": [
            "\rUpdating start dates:  42%|████▏     | 478/1128 [02:45<03:24,  3.19it/s]"
          ]
        },
        {
          "output_type": "stream",
          "name": "stdout",
          "text": [
            "Start date updated for performance code PF224804: 2023.11.11 -> 2023.08.28\n"
          ]
        },
        {
          "output_type": "stream",
          "name": "stderr",
          "text": [
            "\rUpdating start dates:  42%|████▏     | 479/1128 [02:45<03:05,  3.50it/s]"
          ]
        },
        {
          "output_type": "stream",
          "name": "stdout",
          "text": [
            "Start date updated for performance code PF218984: 2023.07.15 -> 2023.07.11\n"
          ]
        },
        {
          "output_type": "stream",
          "name": "stderr",
          "text": [
            "\rUpdating start dates:  43%|████▎     | 480/1128 [02:46<03:48,  2.84it/s]"
          ]
        },
        {
          "output_type": "stream",
          "name": "stdout",
          "text": [
            "Start date updated for performance code PF187201: 2022.04.22 -> 2022.03.26\n"
          ]
        },
        {
          "output_type": "stream",
          "name": "stderr",
          "text": [
            "\rUpdating start dates:  43%|████▎     | 481/1128 [02:46<03:57,  2.73it/s]"
          ]
        },
        {
          "output_type": "stream",
          "name": "stdout",
          "text": [
            "Start date updated for performance code PF202276: 2022.12.10 -> 2022.11.15\n"
          ]
        },
        {
          "output_type": "stream",
          "name": "stderr",
          "text": [
            "\rUpdating start dates:  43%|████▎     | 482/1128 [02:47<03:32,  3.04it/s]"
          ]
        },
        {
          "output_type": "stream",
          "name": "stdout",
          "text": [
            "Start date updated for performance code PF229594: 2023.12.16 -> 2023.11.07\n"
          ]
        },
        {
          "output_type": "stream",
          "name": "stderr",
          "text": [
            "\rUpdating start dates:  43%|████▎     | 483/1128 [02:47<03:10,  3.39it/s]"
          ]
        },
        {
          "output_type": "stream",
          "name": "stdout",
          "text": [
            "Start date updated for performance code PF228708: 2023.12.05 -> 2023.10.25\n"
          ]
        },
        {
          "output_type": "stream",
          "name": "stderr",
          "text": [
            "\rUpdating start dates:  43%|████▎     | 484/1128 [02:47<03:18,  3.24it/s]"
          ]
        },
        {
          "output_type": "stream",
          "name": "stdout",
          "text": [
            "Start date updated for performance code PF197897: 2022.10.29 -> 2022.09.08\n"
          ]
        },
        {
          "output_type": "stream",
          "name": "stderr",
          "text": [
            "\rUpdating start dates:  43%|████▎     | 485/1128 [02:47<03:15,  3.28it/s]"
          ]
        },
        {
          "output_type": "stream",
          "name": "stdout",
          "text": [
            "Start date updated for performance code PF198771: 2022.10.15 -> 2022.09.23\n"
          ]
        },
        {
          "output_type": "stream",
          "name": "stderr",
          "text": [
            "\rUpdating start dates:  43%|████▎     | 486/1128 [02:48<03:04,  3.47it/s]"
          ]
        },
        {
          "output_type": "stream",
          "name": "stdout",
          "text": [
            "Start date updated for performance code PF198250: 2022.11.08 -> 2022.12.30\n"
          ]
        },
        {
          "output_type": "stream",
          "name": "stderr",
          "text": [
            "\rUpdating start dates:  43%|████▎     | 487/1128 [02:48<02:53,  3.70it/s]"
          ]
        },
        {
          "output_type": "stream",
          "name": "stdout",
          "text": [
            "Start date updated for performance code PF200991: 2022.12.30 -> 2022.10.27\n"
          ]
        },
        {
          "output_type": "stream",
          "name": "stderr",
          "text": [
            "\rUpdating start dates:  43%|████▎     | 488/1128 [02:48<02:47,  3.83it/s]"
          ]
        },
        {
          "output_type": "stream",
          "name": "stdout",
          "text": [
            "Start date updated for performance code PF204746: 2023.01.14 -> 2022.12.23\n"
          ]
        },
        {
          "output_type": "stream",
          "name": "stderr",
          "text": [
            "\rUpdating start dates:  43%|████▎     | 489/1128 [02:49<03:21,  3.17it/s]"
          ]
        },
        {
          "output_type": "stream",
          "name": "stdout",
          "text": [
            "Start date updated for performance code PF188206: 2022.04.22 -> 2022.03.17\n"
          ]
        },
        {
          "output_type": "stream",
          "name": "stderr",
          "text": [
            "\rUpdating start dates:  43%|████▎     | 490/1128 [02:49<03:06,  3.42it/s]"
          ]
        },
        {
          "output_type": "stream",
          "name": "stdout",
          "text": [
            "Start date updated for performance code PF204198: 2023.01.07 -> 2022.12.13\n"
          ]
        },
        {
          "output_type": "stream",
          "name": "stderr",
          "text": [
            "\rUpdating start dates:  44%|████▎     | 491/1128 [02:49<03:14,  3.27it/s]"
          ]
        },
        {
          "output_type": "stream",
          "name": "stdout",
          "text": [
            "Start date updated for performance code PF225122: 2023.10.04 -> 2023.09.01\n"
          ]
        },
        {
          "output_type": "stream",
          "name": "stderr",
          "text": [
            "\rUpdating start dates:  44%|████▎     | 492/1128 [02:50<03:34,  2.96it/s]"
          ]
        },
        {
          "output_type": "stream",
          "name": "stdout",
          "text": [
            "Start date updated for performance code PF213584: 2023.03.09 -> 2023.02.16\n"
          ]
        },
        {
          "output_type": "stream",
          "name": "stderr",
          "text": [
            "\rUpdating start dates:  44%|████▎     | 493/1128 [02:50<03:24,  3.11it/s]"
          ]
        },
        {
          "output_type": "stream",
          "name": "stdout",
          "text": [
            "Start date updated for performance code PF209992: 2023.02.25 -> 2023.02.24\n"
          ]
        },
        {
          "output_type": "stream",
          "name": "stderr",
          "text": [
            "\rUpdating start dates:  44%|████▍     | 494/1128 [02:50<03:18,  3.20it/s]"
          ]
        },
        {
          "output_type": "stream",
          "name": "stdout",
          "text": [
            "Start date updated for performance code PF215232: 2023.08.05 -> 2023.03.17\n"
          ]
        },
        {
          "output_type": "stream",
          "name": "stderr",
          "text": [
            "\rUpdating start dates:  44%|████▍     | 495/1128 [02:50<03:10,  3.32it/s]"
          ]
        },
        {
          "output_type": "stream",
          "name": "stdout",
          "text": [
            "Start date updated for performance code PF230635: 2023.12.30 -> 2023.11.21\n"
          ]
        },
        {
          "output_type": "stream",
          "name": "stderr",
          "text": [
            "\rUpdating start dates:  44%|████▍     | 496/1128 [02:51<03:02,  3.47it/s]"
          ]
        },
        {
          "output_type": "stream",
          "name": "stdout",
          "text": [
            "Start date updated for performance code PF225639: 2023.12.22 -> 2023.12.15\n"
          ]
        },
        {
          "output_type": "stream",
          "name": "stderr",
          "text": [
            "\rUpdating start dates:  44%|████▍     | 497/1128 [02:51<02:54,  3.62it/s]"
          ]
        },
        {
          "output_type": "stream",
          "name": "stdout",
          "text": [
            "Start date updated for performance code PF182979: 2021.12.30 -> 2021.11.11\n"
          ]
        },
        {
          "output_type": "stream",
          "name": "stderr",
          "text": [
            "\rUpdating start dates:  44%|████▍     | 498/1128 [02:51<03:08,  3.35it/s]"
          ]
        },
        {
          "output_type": "stream",
          "name": "stdout",
          "text": [
            "Start date updated for performance code PF195014: 2022.08.27 -> 2022.07.20\n"
          ]
        },
        {
          "output_type": "stream",
          "name": "stderr",
          "text": [
            "\rUpdating start dates:  44%|████▍     | 499/1128 [02:51<02:57,  3.54it/s]"
          ]
        },
        {
          "output_type": "stream",
          "name": "stdout",
          "text": [
            "Start date updated for performance code PF222033: 2023.08.19 -> 2023.07.12\n"
          ]
        },
        {
          "output_type": "stream",
          "name": "stderr",
          "text": [
            "\rUpdating start dates:  44%|████▍     | 500/1128 [02:52<02:52,  3.64it/s]"
          ]
        },
        {
          "output_type": "stream",
          "name": "stdout",
          "text": [
            "Start date updated for performance code PF200604: 2022.12.10 -> 2022.10.21\n"
          ]
        },
        {
          "output_type": "stream",
          "name": "stderr",
          "text": [
            "\rUpdating start dates:  44%|████▍     | 501/1128 [02:52<02:58,  3.51it/s]"
          ]
        },
        {
          "output_type": "stream",
          "name": "stdout",
          "text": [
            "Start date updated for performance code PF224568: 2023.10.14 -> 2023.08.23\n"
          ]
        },
        {
          "output_type": "stream",
          "name": "stderr",
          "text": [
            "\rUpdating start dates:  45%|████▍     | 502/1128 [02:52<02:58,  3.51it/s]"
          ]
        },
        {
          "output_type": "stream",
          "name": "stdout",
          "text": [
            "Start date updated for performance code PF201988: 2022.12.10 -> 2022.11.10\n",
            "Start date updated for performance code PF190066: 2022.05.20 -> 2022.04.25\n"
          ]
        },
        {
          "output_type": "stream",
          "name": "stderr",
          "text": [
            "Updating start dates:  45%|████▍     | 504/1128 [02:53<02:52,  3.62it/s]"
          ]
        },
        {
          "output_type": "stream",
          "name": "stdout",
          "text": [
            "Start date updated for performance code PF191112: 2022.06.17 -> 2022.05.24\n"
          ]
        },
        {
          "output_type": "stream",
          "name": "stderr",
          "text": [
            "\rUpdating start dates:  45%|████▍     | 505/1128 [02:53<02:45,  3.76it/s]"
          ]
        },
        {
          "output_type": "stream",
          "name": "stdout",
          "text": [
            "Start date updated for performance code PF227779: 2023.11.25 -> 2023.10.13\n"
          ]
        },
        {
          "output_type": "stream",
          "name": "stderr",
          "text": [
            "\rUpdating start dates:  45%|████▍     | 506/1128 [02:53<02:51,  3.63it/s]"
          ]
        },
        {
          "output_type": "stream",
          "name": "stdout",
          "text": [
            "Start date updated for performance code PF228786: 2023.12.07 -> 2023.12.05\n"
          ]
        },
        {
          "output_type": "stream",
          "name": "stderr",
          "text": [
            "\rUpdating start dates:  45%|████▍     | 507/1128 [02:54<02:46,  3.74it/s]"
          ]
        },
        {
          "output_type": "stream",
          "name": "stdout",
          "text": [
            "Start date updated for performance code PF186286: 2022.03.08 -> 2022.01.28\n"
          ]
        },
        {
          "output_type": "stream",
          "name": "stderr",
          "text": [
            "\rUpdating start dates:  45%|████▌     | 508/1128 [02:54<02:44,  3.77it/s]"
          ]
        },
        {
          "output_type": "stream",
          "name": "stdout",
          "text": [
            "Start date updated for performance code PF226599: 2023.10.21 -> 2023.09.22\n"
          ]
        },
        {
          "output_type": "stream",
          "name": "stderr",
          "text": [
            "\rUpdating start dates:  45%|████▌     | 509/1128 [02:54<02:51,  3.60it/s]"
          ]
        },
        {
          "output_type": "stream",
          "name": "stdout",
          "text": [
            "Start date updated for performance code PF228547: 2023.12.23 -> 2023.10.23\n"
          ]
        },
        {
          "output_type": "stream",
          "name": "stderr",
          "text": [
            "\rUpdating start dates:  45%|████▌     | 510/1128 [02:54<02:42,  3.81it/s]"
          ]
        },
        {
          "output_type": "stream",
          "name": "stdout",
          "text": [
            "Start date updated for performance code PF232466: 2023.10.08 -> 2023.09.21\n"
          ]
        },
        {
          "output_type": "stream",
          "name": "stderr",
          "text": [
            "\rUpdating start dates:  45%|████▌     | 511/1128 [02:55<02:43,  3.77it/s]"
          ]
        },
        {
          "output_type": "stream",
          "name": "stdout",
          "text": [
            "Start date updated for performance code PF222911: 2023.08.29 -> 2023.07.27\n"
          ]
        },
        {
          "output_type": "stream",
          "name": "stderr",
          "text": [
            "\rUpdating start dates:  45%|████▌     | 512/1128 [02:55<02:49,  3.64it/s]"
          ]
        },
        {
          "output_type": "stream",
          "name": "stdout",
          "text": [
            "Start date updated for performance code PF201692: 2022.12.03 -> 2022.11.07\n"
          ]
        },
        {
          "output_type": "stream",
          "name": "stderr",
          "text": [
            "\rUpdating start dates:  45%|████▌     | 513/1128 [02:55<03:08,  3.26it/s]"
          ]
        },
        {
          "output_type": "stream",
          "name": "stdout",
          "text": [
            "Start date updated for performance code PF228385: 2023.12.29 -> 2023.10.20\n"
          ]
        },
        {
          "output_type": "stream",
          "name": "stderr",
          "text": [
            "\rUpdating start dates:  46%|████▌     | 514/1128 [02:56<03:06,  3.29it/s]"
          ]
        },
        {
          "output_type": "stream",
          "name": "stdout",
          "text": [
            "Start date updated for performance code PF220146: 2023.08.04 -> 2023.06.26\n"
          ]
        },
        {
          "output_type": "stream",
          "name": "stderr",
          "text": [
            "\rUpdating start dates:  46%|████▌     | 515/1128 [02:56<03:14,  3.16it/s]"
          ]
        },
        {
          "output_type": "stream",
          "name": "stdout",
          "text": [
            "Start date updated for performance code PF214547: 2023.04.12 -> 2023.03.08\n"
          ]
        },
        {
          "output_type": "stream",
          "name": "stderr",
          "text": [
            "\rUpdating start dates:  46%|████▌     | 516/1128 [02:56<03:13,  3.17it/s]"
          ]
        },
        {
          "output_type": "stream",
          "name": "stdout",
          "text": [
            "Start date updated for performance code PF219004: 2023.06.17 -> 2023.05.23\n"
          ]
        },
        {
          "output_type": "stream",
          "name": "stderr",
          "text": [
            "\rUpdating start dates:  46%|████▌     | 517/1128 [02:57<02:57,  3.44it/s]"
          ]
        },
        {
          "output_type": "stream",
          "name": "stdout",
          "text": [
            "Start date updated for performance code PF225803: 2023.10.28 -> 2023.09.12\n"
          ]
        },
        {
          "output_type": "stream",
          "name": "stderr",
          "text": [
            "\rUpdating start dates:  46%|████▌     | 518/1128 [02:57<03:01,  3.36it/s]"
          ]
        },
        {
          "output_type": "stream",
          "name": "stdout",
          "text": [
            "Start date updated for performance code PF194310: 2022.08.13 -> 2022.07.08\n"
          ]
        },
        {
          "output_type": "stream",
          "name": "stderr",
          "text": [
            "\rUpdating start dates:  46%|████▌     | 519/1128 [02:57<03:25,  2.97it/s]"
          ]
        },
        {
          "output_type": "stream",
          "name": "stdout",
          "text": [
            "Start date updated for performance code PF203356: 2022.12.24 -> 2022.11.29\n"
          ]
        },
        {
          "output_type": "stream",
          "name": "stderr",
          "text": [
            "\rUpdating start dates:  46%|████▌     | 520/1128 [02:58<03:08,  3.23it/s]"
          ]
        },
        {
          "output_type": "stream",
          "name": "stdout",
          "text": [
            "Start date updated for performance code PF182018: 2021.12.08 -> 2021.12.28\n"
          ]
        },
        {
          "output_type": "stream",
          "name": "stderr",
          "text": [
            "\rUpdating start dates:  46%|████▌     | 521/1128 [02:58<03:17,  3.07it/s]"
          ]
        },
        {
          "output_type": "stream",
          "name": "stdout",
          "text": [
            "Start date updated for performance code PF188889: 2022.04.26 -> 2022.04.01\n"
          ]
        },
        {
          "output_type": "stream",
          "name": "stderr",
          "text": [
            "\rUpdating start dates:  46%|████▋     | 522/1128 [02:58<03:19,  3.04it/s]"
          ]
        },
        {
          "output_type": "stream",
          "name": "stdout",
          "text": [
            "Start date updated for performance code PF202834: 2022.12.17 -> 2022.11.22\n"
          ]
        },
        {
          "output_type": "stream",
          "name": "stderr",
          "text": [
            "\rUpdating start dates:  46%|████▋     | 523/1128 [02:59<03:17,  3.06it/s]"
          ]
        },
        {
          "output_type": "stream",
          "name": "stdout",
          "text": [
            "Start date updated for performance code PF229523: 2023.12.09 -> 2023.11.29\n"
          ]
        },
        {
          "output_type": "stream",
          "name": "stderr",
          "text": [
            "\rUpdating start dates:  46%|████▋     | 524/1128 [02:59<03:03,  3.28it/s]"
          ]
        },
        {
          "output_type": "stream",
          "name": "stdout",
          "text": [
            "Start date updated for performance code PF216014: 2023.07.29 -> 2023.03.30\n"
          ]
        },
        {
          "output_type": "stream",
          "name": "stderr",
          "text": [
            "\rUpdating start dates:  47%|████▋     | 525/1128 [02:59<02:48,  3.59it/s]"
          ]
        },
        {
          "output_type": "stream",
          "name": "stdout",
          "text": [
            "Start date updated for performance code PF223466: 2023.09.09 -> 2023.08.04\n"
          ]
        },
        {
          "output_type": "stream",
          "name": "stderr",
          "text": [
            "\rUpdating start dates:  47%|████▋     | 526/1128 [02:59<02:42,  3.70it/s]"
          ]
        },
        {
          "output_type": "stream",
          "name": "stdout",
          "text": [
            "Start date updated for performance code PF213384: 2023.03.03 -> 2023.03.01\n"
          ]
        },
        {
          "output_type": "stream",
          "name": "stderr",
          "text": [
            "\rUpdating start dates:  47%|████▋     | 527/1128 [03:00<02:39,  3.77it/s]"
          ]
        },
        {
          "output_type": "stream",
          "name": "stdout",
          "text": [
            "Start date updated for performance code PF186508: 2022.02.28 -> 2022.02.07\n"
          ]
        },
        {
          "output_type": "stream",
          "name": "stderr",
          "text": [
            "\rUpdating start dates:  47%|████▋     | 528/1128 [03:00<02:34,  3.88it/s]"
          ]
        },
        {
          "output_type": "stream",
          "name": "stdout",
          "text": [
            "Start date updated for performance code PF198849: 2022.10.25 -> 2022.12.19\n"
          ]
        },
        {
          "output_type": "stream",
          "name": "stderr",
          "text": [
            "\rUpdating start dates:  47%|████▋     | 529/1128 [03:00<03:08,  3.18it/s]"
          ]
        },
        {
          "output_type": "stream",
          "name": "stdout",
          "text": [
            "Start date updated for performance code PF228214: 2023.12.09 -> 2023.10.19\n"
          ]
        },
        {
          "output_type": "stream",
          "name": "stderr",
          "text": [
            "\rUpdating start dates:  47%|████▋     | 530/1128 [03:01<02:57,  3.37it/s]"
          ]
        },
        {
          "output_type": "stream",
          "name": "stdout",
          "text": [
            "Start date updated for performance code PF182725: 2021.11.26 -> 2021.12.30\n"
          ]
        },
        {
          "output_type": "stream",
          "name": "stderr",
          "text": [
            "\rUpdating start dates:  47%|████▋     | 531/1128 [03:01<03:14,  3.07it/s]"
          ]
        },
        {
          "output_type": "stream",
          "name": "stdout",
          "text": [
            "Start date updated for performance code PF215546: 2023.04.29 -> 2023.03.22\n"
          ]
        },
        {
          "output_type": "stream",
          "name": "stderr",
          "text": [
            "\rUpdating start dates:  47%|████▋     | 532/1128 [03:01<03:35,  2.77it/s]"
          ]
        },
        {
          "output_type": "stream",
          "name": "stdout",
          "text": [
            "Start date updated for performance code PF220051: 2023.07.02 -> 2023.06.08\n"
          ]
        },
        {
          "output_type": "stream",
          "name": "stderr",
          "text": [
            "\rUpdating start dates:  47%|████▋     | 533/1128 [03:02<03:33,  2.78it/s]"
          ]
        },
        {
          "output_type": "stream",
          "name": "stdout",
          "text": [
            "Start date updated for performance code PF215448: 2023.07.08 -> 2023.03.21\n"
          ]
        },
        {
          "output_type": "stream",
          "name": "stderr",
          "text": [
            "\rUpdating start dates:  47%|████▋     | 534/1128 [03:02<03:21,  2.95it/s]"
          ]
        },
        {
          "output_type": "stream",
          "name": "stdout",
          "text": [
            "Start date updated for performance code PF228203: 2023.12.01 -> 2023.10.19\n"
          ]
        },
        {
          "output_type": "stream",
          "name": "stderr",
          "text": [
            "\rUpdating start dates:  47%|████▋     | 535/1128 [03:02<03:01,  3.27it/s]"
          ]
        },
        {
          "output_type": "stream",
          "name": "stdout",
          "text": [
            "Start date updated for performance code PF228601: 2023.12.22 -> 2023.10.25\n"
          ]
        },
        {
          "output_type": "stream",
          "name": "stderr",
          "text": [
            "\rUpdating start dates:  48%|████▊     | 536/1128 [03:03<02:59,  3.30it/s]"
          ]
        },
        {
          "output_type": "stream",
          "name": "stdout",
          "text": [
            "Start date updated for performance code PF218950: 2023.07.01 -> 2023.05.22\n"
          ]
        },
        {
          "output_type": "stream",
          "name": "stderr",
          "text": [
            "\rUpdating start dates:  48%|████▊     | 537/1128 [03:03<02:50,  3.46it/s]"
          ]
        },
        {
          "output_type": "stream",
          "name": "stdout",
          "text": [
            "Start date updated for performance code PF218032: 2023.06.24 -> 2023.05.04\n"
          ]
        },
        {
          "output_type": "stream",
          "name": "stderr",
          "text": [
            "\rUpdating start dates:  48%|████▊     | 538/1128 [03:03<02:43,  3.61it/s]"
          ]
        },
        {
          "output_type": "stream",
          "name": "stdout",
          "text": [
            "Start date updated for performance code PF185835: 2022.03.05 -> 2022.03.04\n"
          ]
        },
        {
          "output_type": "stream",
          "name": "stderr",
          "text": [
            "\rUpdating start dates:  48%|████▊     | 539/1128 [03:03<03:11,  3.07it/s]"
          ]
        },
        {
          "output_type": "stream",
          "name": "stdout",
          "text": [
            "Start date updated for performance code PF190928: 2022.07.02 -> 2022.05.25\n"
          ]
        },
        {
          "output_type": "stream",
          "name": "stderr",
          "text": [
            "\rUpdating start dates:  48%|████▊     | 540/1128 [03:04<03:04,  3.19it/s]"
          ]
        },
        {
          "output_type": "stream",
          "name": "stdout",
          "text": [
            "Start date updated for performance code PF197771: 2022.10.04 -> 2022.09.06\n"
          ]
        },
        {
          "output_type": "stream",
          "name": "stderr",
          "text": [
            "\rUpdating start dates:  48%|████▊     | 541/1128 [03:04<02:59,  3.26it/s]"
          ]
        },
        {
          "output_type": "stream",
          "name": "stdout",
          "text": [
            "Start date updated for performance code PF196200: 2022.09.14 -> 2022.08.11\n"
          ]
        },
        {
          "output_type": "stream",
          "name": "stderr",
          "text": [
            "\rUpdating start dates:  48%|████▊     | 542/1128 [03:04<02:44,  3.56it/s]"
          ]
        },
        {
          "output_type": "stream",
          "name": "stdout",
          "text": [
            "Start date updated for performance code PF184856: 2022.01.08 -> 2021.12.14\n"
          ]
        },
        {
          "output_type": "stream",
          "name": "stderr",
          "text": [
            "\rUpdating start dates:  48%|████▊     | 543/1128 [03:05<02:38,  3.68it/s]"
          ]
        },
        {
          "output_type": "stream",
          "name": "stdout",
          "text": [
            "Start date updated for performance code PF228695: 2023.12.22 -> 2023.10.25\n"
          ]
        },
        {
          "output_type": "stream",
          "name": "stderr",
          "text": [
            "\rUpdating start dates:  48%|████▊     | 544/1128 [03:05<02:51,  3.41it/s]"
          ]
        },
        {
          "output_type": "stream",
          "name": "stdout",
          "text": [
            "Start date updated for performance code PF213287: 2023.03.10 -> 2023.02.16\n"
          ]
        },
        {
          "output_type": "stream",
          "name": "stderr",
          "text": [
            "\rUpdating start dates:  48%|████▊     | 545/1128 [03:05<03:14,  3.00it/s]"
          ]
        },
        {
          "output_type": "stream",
          "name": "stdout",
          "text": [
            "Start date updated for performance code PF185164: 2022.01.15 -> 2021.12.23\n"
          ]
        },
        {
          "output_type": "stream",
          "name": "stderr",
          "text": [
            "\rUpdating start dates:  48%|████▊     | 546/1128 [03:06<02:59,  3.25it/s]"
          ]
        },
        {
          "output_type": "stream",
          "name": "stdout",
          "text": [
            "Start date updated for performance code PF215514: 2023.07.22 -> 2023.03.22\n"
          ]
        },
        {
          "output_type": "stream",
          "name": "stderr",
          "text": [
            "\rUpdating start dates:  48%|████▊     | 547/1128 [03:06<02:59,  3.24it/s]"
          ]
        },
        {
          "output_type": "stream",
          "name": "stdout",
          "text": [
            "Start date updated for performance code PF222926: 2023.08.12 -> 2023.07.28\n"
          ]
        },
        {
          "output_type": "stream",
          "name": "stderr",
          "text": [
            "\rUpdating start dates:  49%|████▊     | 548/1128 [03:06<03:12,  3.02it/s]"
          ]
        },
        {
          "output_type": "stream",
          "name": "stdout",
          "text": [
            "Start date updated for performance code PF203327: 2023.01.28 -> 2022.11.29\n"
          ]
        },
        {
          "output_type": "stream",
          "name": "stderr",
          "text": [
            "\rUpdating start dates:  49%|████▊     | 549/1128 [03:07<03:02,  3.17it/s]"
          ]
        },
        {
          "output_type": "stream",
          "name": "stdout",
          "text": [
            "Start date updated for performance code PF225326: 2023.11.08 -> 2023.09.05\n"
          ]
        },
        {
          "output_type": "stream",
          "name": "stderr",
          "text": [
            "\rUpdating start dates:  49%|████▉     | 550/1128 [03:07<03:14,  2.97it/s]"
          ]
        },
        {
          "output_type": "stream",
          "name": "stdout",
          "text": [
            "Start date updated for performance code PF204871: 2023.01.20 -> 2022.12.27\n"
          ]
        },
        {
          "output_type": "stream",
          "name": "stderr",
          "text": [
            "\rUpdating start dates:  49%|████▉     | 551/1128 [03:07<03:27,  2.78it/s]"
          ]
        },
        {
          "output_type": "stream",
          "name": "stdout",
          "text": [
            "Start date updated for performance code PF180314: 2021.11.09 -> 2021.11.14\n"
          ]
        },
        {
          "output_type": "stream",
          "name": "stderr",
          "text": [
            "\rUpdating start dates:  49%|████▉     | 552/1128 [03:08<03:13,  2.98it/s]"
          ]
        },
        {
          "output_type": "stream",
          "name": "stdout",
          "text": [
            "Start date updated for performance code PF218491: 2023.08.05 -> 2023.05.15\n"
          ]
        },
        {
          "output_type": "stream",
          "name": "stderr",
          "text": [
            "\rUpdating start dates:  49%|████▉     | 553/1128 [03:08<03:05,  3.09it/s]"
          ]
        },
        {
          "output_type": "stream",
          "name": "stdout",
          "text": [
            "Start date updated for performance code PF209760: 2023.03.10 -> 2023.02.21\n"
          ]
        },
        {
          "output_type": "stream",
          "name": "stderr",
          "text": [
            "\rUpdating start dates:  49%|████▉     | 554/1128 [03:08<02:51,  3.35it/s]"
          ]
        },
        {
          "output_type": "stream",
          "name": "stdout",
          "text": [
            "Start date updated for performance code PF229101: 2023.12.29 -> 2023.10.31\n"
          ]
        },
        {
          "output_type": "stream",
          "name": "stderr",
          "text": [
            "\rUpdating start dates:  49%|████▉     | 555/1128 [03:08<02:43,  3.51it/s]"
          ]
        },
        {
          "output_type": "stream",
          "name": "stdout",
          "text": [
            "Start date updated for performance code PF200754: 2022.12.31 -> 2022.10.24\n"
          ]
        },
        {
          "output_type": "stream",
          "name": "stderr",
          "text": [
            "\rUpdating start dates:  49%|████▉     | 556/1128 [03:09<03:07,  3.05it/s]"
          ]
        },
        {
          "output_type": "stream",
          "name": "stdout",
          "text": [
            "Start date updated for performance code PF224322: 2023.09.30 -> 2023.08.29\n"
          ]
        },
        {
          "output_type": "stream",
          "name": "stderr",
          "text": [
            "\rUpdating start dates:  49%|████▉     | 557/1128 [03:09<03:01,  3.15it/s]"
          ]
        },
        {
          "output_type": "stream",
          "name": "stdout",
          "text": [
            "Start date updated for performance code PF230312: 2023.12.16 -> 2023.11.17\n"
          ]
        },
        {
          "output_type": "stream",
          "name": "stderr",
          "text": [
            "\rUpdating start dates:  49%|████▉     | 558/1128 [03:10<03:27,  2.75it/s]"
          ]
        },
        {
          "output_type": "stream",
          "name": "stdout",
          "text": [
            "Start date updated for performance code PF228100: 2023.12.05 -> 2023.11.17\n"
          ]
        },
        {
          "output_type": "stream",
          "name": "stderr",
          "text": [
            "\rUpdating start dates:  50%|████▉     | 559/1128 [03:10<03:18,  2.87it/s]"
          ]
        },
        {
          "output_type": "stream",
          "name": "stdout",
          "text": [
            "Start date updated for performance code PF215059: 2023.05.12 -> 2023.03.26\n"
          ]
        },
        {
          "output_type": "stream",
          "name": "stderr",
          "text": [
            "\rUpdating start dates:  50%|████▉     | 560/1128 [03:10<02:58,  3.18it/s]"
          ]
        },
        {
          "output_type": "stream",
          "name": "stdout",
          "text": [
            "Start date updated for performance code PF221855: 2023.08.04 -> 2023.07.10\n"
          ]
        },
        {
          "output_type": "stream",
          "name": "stderr",
          "text": [
            "\rUpdating start dates:  50%|████▉     | 561/1128 [03:10<02:43,  3.47it/s]"
          ]
        },
        {
          "output_type": "stream",
          "name": "stdout",
          "text": [
            "Start date updated for performance code PF209495: 2023.05.10 -> 2023.01.25\n"
          ]
        },
        {
          "output_type": "stream",
          "name": "stderr",
          "text": [
            "\rUpdating start dates:  50%|████▉     | 562/1128 [03:11<02:45,  3.43it/s]"
          ]
        },
        {
          "output_type": "stream",
          "name": "stdout",
          "text": [
            "Start date updated for performance code PF186237: 2022.02.25 -> 2022.01.27\n"
          ]
        },
        {
          "output_type": "stream",
          "name": "stderr",
          "text": [
            "\rUpdating start dates:  50%|████▉     | 563/1128 [03:11<02:32,  3.72it/s]"
          ]
        },
        {
          "output_type": "stream",
          "name": "stdout",
          "text": [
            "Start date updated for performance code PF204073: 2023.03.05 -> 2022.12.12\n"
          ]
        },
        {
          "output_type": "stream",
          "name": "stderr",
          "text": [
            "\rUpdating start dates:  50%|█████     | 564/1128 [03:11<02:23,  3.94it/s]"
          ]
        },
        {
          "output_type": "stream",
          "name": "stdout",
          "text": [
            "Start date updated for performance code PF200460: 2022.11.18 -> 2022.10.19\n"
          ]
        },
        {
          "output_type": "stream",
          "name": "stderr",
          "text": [
            "\rUpdating start dates:  50%|█████     | 565/1128 [03:11<02:23,  3.93it/s]"
          ]
        },
        {
          "output_type": "stream",
          "name": "stdout",
          "text": [
            "Start date updated for performance code PF196259: 2022.09.14 -> 2022.08.12\n"
          ]
        },
        {
          "output_type": "stream",
          "name": "stderr",
          "text": [
            "\rUpdating start dates:  50%|█████     | 566/1128 [03:12<02:40,  3.50it/s]"
          ]
        },
        {
          "output_type": "stream",
          "name": "stdout",
          "text": [
            "Start date updated for performance code PF211480: 2023.03.04 -> 2023.01.26\n"
          ]
        },
        {
          "output_type": "stream",
          "name": "stderr",
          "text": [
            "\rUpdating start dates:  50%|█████     | 567/1128 [03:12<02:46,  3.36it/s]"
          ]
        },
        {
          "output_type": "stream",
          "name": "stdout",
          "text": [
            "Start date updated for performance code PF183973: 2022.01.05 -> 2021.12.30\n"
          ]
        },
        {
          "output_type": "stream",
          "name": "stderr",
          "text": [
            "\rUpdating start dates:  50%|█████     | 568/1128 [03:12<02:41,  3.46it/s]"
          ]
        },
        {
          "output_type": "stream",
          "name": "stdout",
          "text": [
            "Start date updated for performance code PF225917: 2023.10.17 -> 2023.09.14\n"
          ]
        },
        {
          "output_type": "stream",
          "name": "stderr",
          "text": [
            "\rUpdating start dates:  50%|█████     | 569/1128 [03:13<02:35,  3.60it/s]"
          ]
        },
        {
          "output_type": "stream",
          "name": "stdout",
          "text": [
            "Start date updated for performance code PF188969: 2022.08.26 -> 2021.11.01\n"
          ]
        },
        {
          "output_type": "stream",
          "name": "stderr",
          "text": [
            "\rUpdating start dates:  51%|█████     | 570/1128 [03:13<02:27,  3.78it/s]"
          ]
        },
        {
          "output_type": "stream",
          "name": "stdout",
          "text": [
            "Start date updated for performance code PF188458: 2022.04.07 -> 2022.12.18\n"
          ]
        },
        {
          "output_type": "stream",
          "name": "stderr",
          "text": [
            "\rUpdating start dates:  51%|█████     | 571/1128 [03:13<02:26,  3.81it/s]"
          ]
        },
        {
          "output_type": "stream",
          "name": "stdout",
          "text": [
            "Start date updated for performance code PF213083: 2023.03.11 -> 2023.02.08\n"
          ]
        },
        {
          "output_type": "stream",
          "name": "stderr",
          "text": [
            "\rUpdating start dates:  51%|█████     | 572/1128 [03:13<02:25,  3.82it/s]"
          ]
        },
        {
          "output_type": "stream",
          "name": "stdout",
          "text": [
            "Start date updated for performance code PF219133: 2023.07.15 -> 2023.07.04\n"
          ]
        },
        {
          "output_type": "stream",
          "name": "stderr",
          "text": [
            "\rUpdating start dates:  51%|█████     | 573/1128 [03:14<02:44,  3.37it/s]"
          ]
        },
        {
          "output_type": "stream",
          "name": "stdout",
          "text": [
            "Start date updated for performance code PF188943: 2022.05.05 -> 2022.12.28\n"
          ]
        },
        {
          "output_type": "stream",
          "name": "stderr",
          "text": [
            "\rUpdating start dates:  51%|█████     | 574/1128 [03:14<02:39,  3.47it/s]"
          ]
        },
        {
          "output_type": "stream",
          "name": "stdout",
          "text": [
            "Start date updated for performance code PF186902: 2022.04.08 -> 2022.03.29\n"
          ]
        },
        {
          "output_type": "stream",
          "name": "stderr",
          "text": [
            "\rUpdating start dates:  51%|█████     | 575/1128 [03:14<02:45,  3.33it/s]"
          ]
        },
        {
          "output_type": "stream",
          "name": "stdout",
          "text": [
            "Start date updated for performance code PF203674: 2023.01.01 -> 2022.12.05\n"
          ]
        },
        {
          "output_type": "stream",
          "name": "stderr",
          "text": [
            "\rUpdating start dates:  51%|█████     | 576/1128 [03:15<02:59,  3.07it/s]"
          ]
        },
        {
          "output_type": "stream",
          "name": "stdout",
          "text": [
            "Start date updated for performance code PF186363: 2022.03.26 -> 2022.01.28\n"
          ]
        },
        {
          "output_type": "stream",
          "name": "stderr",
          "text": [
            "\rUpdating start dates:  51%|█████     | 577/1128 [03:15<03:16,  2.81it/s]"
          ]
        },
        {
          "output_type": "stream",
          "name": "stdout",
          "text": [
            "Start date updated for performance code PF198552: 2022.10.29 -> 2022.09.27\n"
          ]
        },
        {
          "output_type": "stream",
          "name": "stderr",
          "text": [
            "\rUpdating start dates:  51%|█████     | 578/1128 [03:15<03:00,  3.04it/s]"
          ]
        },
        {
          "output_type": "stream",
          "name": "stdout",
          "text": [
            "Start date updated for performance code PF228673: 2023.12.16 -> 2023.10.25\n"
          ]
        },
        {
          "output_type": "stream",
          "name": "stderr",
          "text": [
            "\rUpdating start dates:  51%|█████▏    | 579/1128 [03:16<02:55,  3.13it/s]"
          ]
        },
        {
          "output_type": "stream",
          "name": "stdout",
          "text": [
            "Start date updated for performance code PF217442: 2023.05.21 -> 2023.05.19\n"
          ]
        },
        {
          "output_type": "stream",
          "name": "stderr",
          "text": [
            "\rUpdating start dates:  51%|█████▏    | 580/1128 [03:16<02:41,  3.38it/s]"
          ]
        },
        {
          "output_type": "stream",
          "name": "stdout",
          "text": [
            "Start date updated for performance code PF216297: 2023.06.09 -> 2023.04.04\n"
          ]
        },
        {
          "output_type": "stream",
          "name": "stderr",
          "text": [
            "\rUpdating start dates:  52%|█████▏    | 581/1128 [03:16<02:34,  3.54it/s]"
          ]
        },
        {
          "output_type": "stream",
          "name": "stdout",
          "text": [
            "Start date updated for performance code PF199210: 2022.12.09 -> 2022.09.30\n"
          ]
        },
        {
          "output_type": "stream",
          "name": "stderr",
          "text": [
            "\rUpdating start dates:  52%|█████▏    | 582/1128 [03:16<02:24,  3.79it/s]"
          ]
        },
        {
          "output_type": "stream",
          "name": "stdout",
          "text": [
            "Start date updated for performance code PF229319: 2023.12.16 -> 2023.12.10\n"
          ]
        },
        {
          "output_type": "stream",
          "name": "stderr",
          "text": [
            "\rUpdating start dates:  52%|█████▏    | 583/1128 [03:17<02:29,  3.64it/s]"
          ]
        },
        {
          "output_type": "stream",
          "name": "stdout",
          "text": [
            "Start date updated for performance code PF200765: 2022.11.19 -> 2022.10.24\n"
          ]
        },
        {
          "output_type": "stream",
          "name": "stderr",
          "text": [
            "\rUpdating start dates:  52%|█████▏    | 584/1128 [03:17<02:33,  3.54it/s]"
          ]
        },
        {
          "output_type": "stream",
          "name": "stdout",
          "text": [
            "Start date updated for performance code PF227946: 2023.11.19 -> 2023.11.18\n"
          ]
        },
        {
          "output_type": "stream",
          "name": "stderr",
          "text": [
            "\rUpdating start dates:  52%|█████▏    | 585/1128 [03:17<02:31,  3.58it/s]"
          ]
        },
        {
          "output_type": "stream",
          "name": "stdout",
          "text": [
            "Start date updated for performance code PF200307: 2022.11.19 -> 2022.10.18\n"
          ]
        },
        {
          "output_type": "stream",
          "name": "stderr",
          "text": [
            "\rUpdating start dates:  52%|█████▏    | 586/1128 [03:18<02:57,  3.05it/s]"
          ]
        },
        {
          "output_type": "stream",
          "name": "stdout",
          "text": [
            "Start date updated for performance code PF228981: 2023.12.09 -> 2023.10.30\n"
          ]
        },
        {
          "output_type": "stream",
          "name": "stderr",
          "text": [
            "\rUpdating start dates:  52%|█████▏    | 587/1128 [03:18<02:37,  3.43it/s]"
          ]
        },
        {
          "output_type": "stream",
          "name": "stdout",
          "text": [
            "Start date updated for performance code PF144565: 2018.04.07 -> 2022.12.18\n"
          ]
        },
        {
          "output_type": "stream",
          "name": "stderr",
          "text": [
            "\rUpdating start dates:  52%|█████▏    | 588/1128 [03:18<02:30,  3.58it/s]"
          ]
        },
        {
          "output_type": "stream",
          "name": "stdout",
          "text": [
            "Start date updated for performance code PF217129: 2023.05.17 -> 2023.05.16\n"
          ]
        },
        {
          "output_type": "stream",
          "name": "stderr",
          "text": [
            "\rUpdating start dates:  52%|█████▏    | 589/1128 [03:18<02:31,  3.57it/s]"
          ]
        },
        {
          "output_type": "stream",
          "name": "stdout",
          "text": [
            "Start date updated for performance code PF213876: 2023.04.01 -> 2023.03.14\n"
          ]
        },
        {
          "output_type": "stream",
          "name": "stderr",
          "text": [
            "\rUpdating start dates:  52%|█████▏    | 590/1128 [03:19<02:30,  3.58it/s]"
          ]
        },
        {
          "output_type": "stream",
          "name": "stdout",
          "text": [
            "Start date updated for performance code PF185242: 2022.01.18 -> 2021.12.28\n"
          ]
        },
        {
          "output_type": "stream",
          "name": "stderr",
          "text": [
            "\rUpdating start dates:  52%|█████▏    | 591/1128 [03:19<02:30,  3.56it/s]"
          ]
        },
        {
          "output_type": "stream",
          "name": "stdout",
          "text": [
            "Start date updated for performance code PF191331: 2022.07.02 -> 2022.05.18\n"
          ]
        },
        {
          "output_type": "stream",
          "name": "stderr",
          "text": [
            "\rUpdating start dates:  52%|█████▏    | 592/1128 [03:19<02:28,  3.62it/s]"
          ]
        },
        {
          "output_type": "stream",
          "name": "stdout",
          "text": [
            "Start date updated for performance code PF189438: 2022.05.07 -> 2022.04.12\n"
          ]
        },
        {
          "output_type": "stream",
          "name": "stderr",
          "text": [
            "\rUpdating start dates:  53%|█████▎    | 593/1128 [03:20<03:11,  2.79it/s]"
          ]
        },
        {
          "output_type": "stream",
          "name": "stdout",
          "text": [
            "Start date updated for performance code PF228741: 2023.12.23 -> 2023.10.26\n"
          ]
        },
        {
          "output_type": "stream",
          "name": "stderr",
          "text": [
            "\rUpdating start dates:  53%|█████▎    | 594/1128 [03:20<02:55,  3.04it/s]"
          ]
        },
        {
          "output_type": "stream",
          "name": "stdout",
          "text": [
            "Start date updated for performance code PF194791: 2022.08.13 -> 2022.07.15\n"
          ]
        },
        {
          "output_type": "stream",
          "name": "stderr",
          "text": [
            "\rUpdating start dates:  53%|█████▎    | 595/1128 [03:20<02:51,  3.11it/s]"
          ]
        },
        {
          "output_type": "stream",
          "name": "stdout",
          "text": [
            "Start date updated for performance code PF203021: 2022.12.15 -> 2022.12.08\n"
          ]
        },
        {
          "output_type": "stream",
          "name": "stderr",
          "text": [
            "\rUpdating start dates:  53%|█████▎    | 596/1128 [03:21<02:40,  3.30it/s]"
          ]
        },
        {
          "output_type": "stream",
          "name": "stdout",
          "text": [
            "Start date updated for performance code PF225553: 2023.10.28 -> 2023.09.08\n"
          ]
        },
        {
          "output_type": "stream",
          "name": "stderr",
          "text": [
            "\rUpdating start dates:  53%|█████▎    | 597/1128 [03:21<02:30,  3.53it/s]"
          ]
        },
        {
          "output_type": "stream",
          "name": "stdout",
          "text": [
            "Start date updated for performance code PF188632: 2022.06.03 -> 2022.03.29\n"
          ]
        },
        {
          "output_type": "stream",
          "name": "stderr",
          "text": [
            "\rUpdating start dates:  53%|█████▎    | 598/1128 [03:21<02:22,  3.72it/s]"
          ]
        },
        {
          "output_type": "stream",
          "name": "stdout",
          "text": [
            "Start date updated for performance code PF228212: 2023.12.25 -> 2023.10.19\n"
          ]
        },
        {
          "output_type": "stream",
          "name": "stderr",
          "text": [
            "\rUpdating start dates:  53%|█████▎    | 599/1128 [03:21<02:24,  3.67it/s]"
          ]
        },
        {
          "output_type": "stream",
          "name": "stdout",
          "text": [
            "Start date updated for performance code PF219724: 2023.07.08 -> 2023.06.30\n"
          ]
        },
        {
          "output_type": "stream",
          "name": "stderr",
          "text": [
            "\rUpdating start dates:  53%|█████▎    | 600/1128 [03:22<02:48,  3.13it/s]"
          ]
        },
        {
          "output_type": "stream",
          "name": "stdout",
          "text": [
            "Start date updated for performance code PF222974: 2023.10.06 -> 2023.07.27\n"
          ]
        },
        {
          "output_type": "stream",
          "name": "stderr",
          "text": [
            "\rUpdating start dates:  53%|█████▎    | 601/1128 [03:22<02:38,  3.32it/s]"
          ]
        },
        {
          "output_type": "stream",
          "name": "stdout",
          "text": [
            "Start date updated for performance code PF223540: 2023.09.09 -> 2023.08.07\n"
          ]
        },
        {
          "output_type": "stream",
          "name": "stderr",
          "text": [
            "\rUpdating start dates:  53%|█████▎    | 602/1128 [03:22<02:29,  3.52it/s]"
          ]
        },
        {
          "output_type": "stream",
          "name": "stdout",
          "text": [
            "Start date updated for performance code PF223431: 2023.10.14 -> 2023.08.04\n"
          ]
        },
        {
          "output_type": "stream",
          "name": "stderr",
          "text": [
            "\rUpdating start dates:  53%|█████▎    | 603/1128 [03:23<02:42,  3.23it/s]"
          ]
        },
        {
          "output_type": "stream",
          "name": "stdout",
          "text": [
            "Start date updated for performance code PF215388: 2023.05.05 -> 2023.03.20\n"
          ]
        },
        {
          "output_type": "stream",
          "name": "stderr",
          "text": [
            "\rUpdating start dates:  54%|█████▎    | 604/1128 [03:23<02:40,  3.26it/s]"
          ]
        },
        {
          "output_type": "stream",
          "name": "stdout",
          "text": [
            "Start date updated for performance code PF221147: 2023.08.25 -> 2023.06.28\n"
          ]
        },
        {
          "output_type": "stream",
          "name": "stderr",
          "text": [
            "\rUpdating start dates:  54%|█████▎    | 605/1128 [03:23<02:35,  3.36it/s]"
          ]
        },
        {
          "output_type": "stream",
          "name": "stdout",
          "text": [
            "Start date updated for performance code PF189043: 2022.05.07 -> 2022.04.05\n"
          ]
        },
        {
          "output_type": "stream",
          "name": "stderr",
          "text": [
            "\rUpdating start dates:  54%|█████▎    | 606/1128 [03:24<02:35,  3.36it/s]"
          ]
        },
        {
          "output_type": "stream",
          "name": "stdout",
          "text": [
            "Start date updated for performance code PF228336: 2023.12.02 -> 2023.10.20\n"
          ]
        },
        {
          "output_type": "stream",
          "name": "stderr",
          "text": [
            "\rUpdating start dates:  54%|█████▍    | 607/1128 [03:24<02:41,  3.22it/s]"
          ]
        },
        {
          "output_type": "stream",
          "name": "stdout",
          "text": [
            "Start date updated for performance code PF222316: 2023.10.26 -> 2023.07.25\n"
          ]
        },
        {
          "output_type": "stream",
          "name": "stderr",
          "text": [
            "Updating start dates:  54%|█████▍    | 609/1128 [03:24<02:19,  3.71it/s]"
          ]
        },
        {
          "output_type": "stream",
          "name": "stdout",
          "text": [
            "Start date updated for performance code PF195026: 2022.08.26 -> 2022.08.25\n",
            "Start date updated for performance code PF201250: 2022.12.09 -> 2022.11.01\n"
          ]
        },
        {
          "output_type": "stream",
          "name": "stderr",
          "text": [
            "\rUpdating start dates:  54%|█████▍    | 610/1128 [03:25<02:18,  3.75it/s]"
          ]
        },
        {
          "output_type": "stream",
          "name": "stdout",
          "text": [
            "Start date updated for performance code PF192425: 2022.08.05 -> 2022.06.08\n"
          ]
        },
        {
          "output_type": "stream",
          "name": "stderr",
          "text": [
            "\rUpdating start dates:  54%|█████▍    | 611/1128 [03:25<02:17,  3.77it/s]"
          ]
        },
        {
          "output_type": "stream",
          "name": "stdout",
          "text": [
            "Start date updated for performance code PF197005: 2022.11.11 -> 2022.08.25\n"
          ]
        },
        {
          "output_type": "stream",
          "name": "stderr",
          "text": [
            "\rUpdating start dates:  54%|█████▍    | 612/1128 [03:25<02:08,  4.00it/s]"
          ]
        },
        {
          "output_type": "stream",
          "name": "stdout",
          "text": [
            "Start date updated for performance code PF147207: 2019.03.15 -> 2022.12.29\n"
          ]
        },
        {
          "output_type": "stream",
          "name": "stderr",
          "text": [
            "\rUpdating start dates:  54%|█████▍    | 613/1128 [03:25<02:14,  3.84it/s]"
          ]
        },
        {
          "output_type": "stream",
          "name": "stdout",
          "text": [
            "Start date updated for performance code PF201996: 2022.12.02 -> 2022.11.10\n"
          ]
        },
        {
          "output_type": "stream",
          "name": "stderr",
          "text": [
            "\rUpdating start dates:  54%|█████▍    | 614/1128 [03:26<02:24,  3.55it/s]"
          ]
        },
        {
          "output_type": "stream",
          "name": "stdout",
          "text": [
            "Start date updated for performance code PF225439: 2023.11.04 -> 2023.09.06\n"
          ]
        },
        {
          "output_type": "stream",
          "name": "stderr",
          "text": [
            "\rUpdating start dates:  55%|█████▍    | 615/1128 [03:26<02:22,  3.59it/s]"
          ]
        },
        {
          "output_type": "stream",
          "name": "stdout",
          "text": [
            "Start date updated for performance code PF217425: 2023.06.30 -> 2023.06.13\n"
          ]
        },
        {
          "output_type": "stream",
          "name": "stderr",
          "text": [
            "\rUpdating start dates:  55%|█████▍    | 616/1128 [03:26<02:50,  3.00it/s]"
          ]
        },
        {
          "output_type": "stream",
          "name": "stdout",
          "text": [
            "Start date updated for performance code PF185647: 2022.01.28 -> 2022.01.11\n"
          ]
        },
        {
          "output_type": "stream",
          "name": "stderr",
          "text": [
            "\rUpdating start dates:  55%|█████▍    | 617/1128 [03:27<02:33,  3.32it/s]"
          ]
        },
        {
          "output_type": "stream",
          "name": "stdout",
          "text": [
            "Start date updated for performance code PF193273: 2022.06.26 -> 2022.06.21\n"
          ]
        },
        {
          "output_type": "stream",
          "name": "stderr",
          "text": [
            "\rUpdating start dates:  55%|█████▍    | 618/1128 [03:27<02:37,  3.25it/s]"
          ]
        },
        {
          "output_type": "stream",
          "name": "stdout",
          "text": [
            "Start date updated for performance code PF189044: 2022.06.11 -> 2022.04.05\n"
          ]
        },
        {
          "output_type": "stream",
          "name": "stderr",
          "text": [
            "\rUpdating start dates:  55%|█████▍    | 619/1128 [03:27<02:40,  3.17it/s]"
          ]
        },
        {
          "output_type": "stream",
          "name": "stdout",
          "text": [
            "Start date updated for performance code PF220445: 2023.09.23 -> 2023.06.19\n"
          ]
        },
        {
          "output_type": "stream",
          "name": "stderr",
          "text": [
            "\rUpdating start dates:  55%|█████▍    | 620/1128 [03:28<02:33,  3.31it/s]"
          ]
        },
        {
          "output_type": "stream",
          "name": "stdout",
          "text": [
            "Start date updated for performance code PF193046: 2022.08.27 -> 2022.06.17\n"
          ]
        },
        {
          "output_type": "stream",
          "name": "stderr",
          "text": [
            "\rUpdating start dates:  55%|█████▌    | 621/1128 [03:28<02:37,  3.23it/s]"
          ]
        },
        {
          "output_type": "stream",
          "name": "stdout",
          "text": [
            "Start date updated for performance code PF214889: 2023.04.22 -> 2023.03.10\n"
          ]
        },
        {
          "output_type": "stream",
          "name": "stderr",
          "text": [
            "\rUpdating start dates:  55%|█████▌    | 622/1128 [03:28<02:34,  3.28it/s]"
          ]
        },
        {
          "output_type": "stream",
          "name": "stdout",
          "text": [
            "Start date updated for performance code PF219859: 2023.07.22 -> 2023.06.15\n"
          ]
        },
        {
          "output_type": "stream",
          "name": "stderr",
          "text": [
            "\rUpdating start dates:  55%|█████▌    | 623/1128 [03:28<02:28,  3.41it/s]"
          ]
        },
        {
          "output_type": "stream",
          "name": "stdout",
          "text": [
            "Start date updated for performance code PF188382: 2022.04.22 -> 2022.03.22\n"
          ]
        },
        {
          "output_type": "stream",
          "name": "stderr",
          "text": [
            "\rUpdating start dates:  55%|█████▌    | 624/1128 [03:29<02:31,  3.33it/s]"
          ]
        },
        {
          "output_type": "stream",
          "name": "stdout",
          "text": [
            "Start date updated for performance code PF189008: 2022.04.29 -> 2022.04.04\n"
          ]
        },
        {
          "output_type": "stream",
          "name": "stderr",
          "text": [
            "\rUpdating start dates:  55%|█████▌    | 625/1128 [03:29<02:24,  3.48it/s]"
          ]
        },
        {
          "output_type": "stream",
          "name": "stdout",
          "text": [
            "Start date updated for performance code PF209577: 2023.02.18 -> 2023.02.17\n"
          ]
        },
        {
          "output_type": "stream",
          "name": "stderr",
          "text": [
            "\rUpdating start dates:  55%|█████▌    | 626/1128 [03:29<02:17,  3.64it/s]"
          ]
        },
        {
          "output_type": "stream",
          "name": "stdout",
          "text": [
            "Start date updated for performance code PF194754: 2022.08.19 -> 2022.08.04\n"
          ]
        },
        {
          "output_type": "stream",
          "name": "stderr",
          "text": [
            "\rUpdating start dates:  56%|█████▌    | 627/1128 [03:29<02:07,  3.92it/s]"
          ]
        },
        {
          "output_type": "stream",
          "name": "stdout",
          "text": [
            "Start date updated for performance code PF198141: 2022.11.26 -> 2022.09.14\n"
          ]
        },
        {
          "output_type": "stream",
          "name": "stderr",
          "text": [
            "\rUpdating start dates:  56%|█████▌    | 628/1128 [03:30<02:05,  3.99it/s]"
          ]
        },
        {
          "output_type": "stream",
          "name": "stdout",
          "text": [
            "Start date updated for performance code PF189879: 2022.05.21 -> 2022.04.20\n"
          ]
        },
        {
          "output_type": "stream",
          "name": "stderr",
          "text": [
            "\rUpdating start dates:  56%|█████▌    | 629/1128 [03:30<02:12,  3.77it/s]"
          ]
        },
        {
          "output_type": "stream",
          "name": "stdout",
          "text": [
            "Start date updated for performance code PF218279: 2023.07.22 -> 2023.05.11\n"
          ]
        },
        {
          "output_type": "stream",
          "name": "stderr",
          "text": [
            "\rUpdating start dates:  56%|█████▌    | 630/1128 [03:30<02:13,  3.74it/s]"
          ]
        },
        {
          "output_type": "stream",
          "name": "stdout",
          "text": [
            "Start date updated for performance code PF202267: 2022.12.24 -> 2022.12.28\n"
          ]
        },
        {
          "output_type": "stream",
          "name": "stderr",
          "text": [
            "\rUpdating start dates:  56%|█████▌    | 631/1128 [03:31<02:05,  3.95it/s]"
          ]
        },
        {
          "output_type": "stream",
          "name": "stdout",
          "text": [
            "Start date updated for performance code PF199937: 2022.11.12 -> 2022.10.12\n"
          ]
        },
        {
          "output_type": "stream",
          "name": "stderr",
          "text": [
            "\rUpdating start dates:  56%|█████▌    | 632/1128 [03:31<02:25,  3.41it/s]"
          ]
        },
        {
          "output_type": "stream",
          "name": "stdout",
          "text": [
            "Start date updated for performance code PF219773: 2023.08.29 -> 2023.06.05\n"
          ]
        },
        {
          "output_type": "stream",
          "name": "stderr",
          "text": [
            "\rUpdating start dates:  56%|█████▌    | 633/1128 [03:31<02:22,  3.47it/s]"
          ]
        },
        {
          "output_type": "stream",
          "name": "stdout",
          "text": [
            "Start date updated for performance code PF215946: 2023.04.29 -> 2023.03.29\n"
          ]
        },
        {
          "output_type": "stream",
          "name": "stderr",
          "text": [
            "Updating start dates:  56%|█████▋    | 635/1128 [03:32<02:05,  3.92it/s]"
          ]
        },
        {
          "output_type": "stream",
          "name": "stdout",
          "text": [
            "Start date updated for performance code PF187486: 2022.05.05 -> 2022.04.04\n",
            "Start date updated for performance code PF194380: 2022.08.13 -> 2022.07.08\n"
          ]
        },
        {
          "output_type": "stream",
          "name": "stderr",
          "text": [
            "\rUpdating start dates:  56%|█████▋    | 636/1128 [03:32<02:12,  3.70it/s]"
          ]
        },
        {
          "output_type": "stream",
          "name": "stdout",
          "text": [
            "Start date updated for performance code PF184766: 2022.01.08 -> 2021.12.10\n"
          ]
        },
        {
          "output_type": "stream",
          "name": "stderr",
          "text": [
            "\rUpdating start dates:  56%|█████▋    | 637/1128 [03:32<02:12,  3.72it/s]"
          ]
        },
        {
          "output_type": "stream",
          "name": "stdout",
          "text": [
            "Start date updated for performance code PF202566: 2023.02.03 -> 2022.12.17\n"
          ]
        },
        {
          "output_type": "stream",
          "name": "stderr",
          "text": [
            "\rUpdating start dates:  57%|█████▋    | 638/1128 [03:32<02:08,  3.81it/s]"
          ]
        },
        {
          "output_type": "stream",
          "name": "stdout",
          "text": [
            "Start date updated for performance code PF194612: 2022.08.20 -> 2022.07.13\n"
          ]
        },
        {
          "output_type": "stream",
          "name": "stderr",
          "text": [
            "\rUpdating start dates:  57%|█████▋    | 639/1128 [03:33<02:08,  3.80it/s]"
          ]
        },
        {
          "output_type": "stream",
          "name": "stdout",
          "text": [
            "Start date updated for performance code PF194971: 2022.08.13 -> 2022.07.20\n"
          ]
        },
        {
          "output_type": "stream",
          "name": "stderr",
          "text": [
            "\rUpdating start dates:  57%|█████▋    | 640/1128 [03:33<02:02,  3.97it/s]"
          ]
        },
        {
          "output_type": "stream",
          "name": "stdout",
          "text": [
            "Start date updated for performance code PF216377: 2023.05.05 -> 2023.04.06\n"
          ]
        },
        {
          "output_type": "stream",
          "name": "stderr",
          "text": [
            "\rUpdating start dates:  57%|█████▋    | 641/1128 [03:33<02:00,  4.02it/s]"
          ]
        },
        {
          "output_type": "stream",
          "name": "stdout",
          "text": [
            "Start date updated for performance code PF150509: 2019.06.22 -> 2022.12.25\n"
          ]
        },
        {
          "output_type": "stream",
          "name": "stderr",
          "text": [
            "\rUpdating start dates:  57%|█████▋    | 642/1128 [03:33<01:59,  4.07it/s]"
          ]
        },
        {
          "output_type": "stream",
          "name": "stdout",
          "text": [
            "Start date updated for performance code PF193336: 2022.08.27 -> 2022.06.22\n"
          ]
        },
        {
          "output_type": "stream",
          "name": "stderr",
          "text": [
            "\rUpdating start dates:  57%|█████▋    | 643/1128 [03:34<02:01,  3.98it/s]"
          ]
        },
        {
          "output_type": "stream",
          "name": "stdout",
          "text": [
            "Start date updated for performance code PF216603: 2023.05.27 -> 2023.04.11\n"
          ]
        },
        {
          "output_type": "stream",
          "name": "stderr",
          "text": [
            "\rUpdating start dates:  57%|█████▋    | 644/1128 [03:34<02:01,  3.97it/s]"
          ]
        },
        {
          "output_type": "stream",
          "name": "stdout",
          "text": [
            "Start date updated for performance code PF215897: 2023.04.29 -> 2023.03.28\n"
          ]
        },
        {
          "output_type": "stream",
          "name": "stderr",
          "text": [
            "\rUpdating start dates:  57%|█████▋    | 645/1128 [03:34<02:00,  4.01it/s]"
          ]
        },
        {
          "output_type": "stream",
          "name": "stdout",
          "text": [
            "Start date updated for performance code PF220540: 2023.09.02 -> 2023.06.19\n"
          ]
        },
        {
          "output_type": "stream",
          "name": "stderr",
          "text": [
            "\rUpdating start dates:  57%|█████▋    | 646/1128 [03:34<02:00,  4.00it/s]"
          ]
        },
        {
          "output_type": "stream",
          "name": "stdout",
          "text": [
            "Start date updated for performance code PF199961: 2022.12.03 -> 2022.10.12\n"
          ]
        },
        {
          "output_type": "stream",
          "name": "stderr",
          "text": [
            "\rUpdating start dates:  57%|█████▋    | 647/1128 [03:35<02:02,  3.92it/s]"
          ]
        },
        {
          "output_type": "stream",
          "name": "stdout",
          "text": [
            "Start date updated for performance code PF201640: 2023.01.04 -> 2022.11.10\n"
          ]
        },
        {
          "output_type": "stream",
          "name": "stderr",
          "text": [
            "\rUpdating start dates:  57%|█████▋    | 648/1128 [03:35<02:06,  3.78it/s]"
          ]
        },
        {
          "output_type": "stream",
          "name": "stdout",
          "text": [
            "Start date updated for performance code PF219923: 2023.08.11 -> 2023.06.08\n"
          ]
        },
        {
          "output_type": "stream",
          "name": "stderr",
          "text": [
            "\rUpdating start dates:  58%|█████▊    | 649/1128 [03:36<02:52,  2.78it/s]"
          ]
        },
        {
          "output_type": "stream",
          "name": "stdout",
          "text": [
            "Start date updated for performance code PF185026: 2022.02.25 -> 2021.12.31\n"
          ]
        },
        {
          "output_type": "stream",
          "name": "stderr",
          "text": [
            "\rUpdating start dates:  58%|█████▊    | 650/1128 [03:36<02:59,  2.66it/s]"
          ]
        },
        {
          "output_type": "stream",
          "name": "stdout",
          "text": [
            "Start date updated for performance code PF223473: 2023.09.09 -> 2023.08.25\n"
          ]
        },
        {
          "output_type": "stream",
          "name": "stderr",
          "text": [
            "\rUpdating start dates:  58%|█████▊    | 651/1128 [03:36<02:38,  3.02it/s]"
          ]
        },
        {
          "output_type": "stream",
          "name": "stdout",
          "text": [
            "Start date updated for performance code PF199368: 2022.12.31 -> 2022.10.04\n"
          ]
        },
        {
          "output_type": "stream",
          "name": "stderr",
          "text": [
            "\rUpdating start dates:  58%|█████▊    | 652/1128 [03:36<02:19,  3.40it/s]"
          ]
        },
        {
          "output_type": "stream",
          "name": "stdout",
          "text": [
            "Start date updated for performance code PF218725: 2023.07.26 -> 2023.07.07\n"
          ]
        },
        {
          "output_type": "stream",
          "name": "stderr",
          "text": [
            "\rUpdating start dates:  58%|█████▊    | 653/1128 [03:37<02:08,  3.70it/s]"
          ]
        },
        {
          "output_type": "stream",
          "name": "stdout",
          "text": [
            "Start date updated for performance code PF217259: 2023.06.01 -> 2023.04.26\n"
          ]
        },
        {
          "output_type": "stream",
          "name": "stderr",
          "text": [
            "\rUpdating start dates:  58%|█████▊    | 654/1128 [03:37<02:14,  3.54it/s]"
          ]
        },
        {
          "output_type": "stream",
          "name": "stdout",
          "text": [
            "Start date updated for performance code PF201909: 2023.01.14 -> 2022.11.10\n"
          ]
        },
        {
          "output_type": "stream",
          "name": "stderr",
          "text": [
            "\rUpdating start dates:  58%|█████▊    | 655/1128 [03:37<02:13,  3.54it/s]"
          ]
        },
        {
          "output_type": "stream",
          "name": "stdout",
          "text": [
            "Start date updated for performance code PF229747: 2023.12.23 -> 2023.11.09\n"
          ]
        },
        {
          "output_type": "stream",
          "name": "stderr",
          "text": [
            "\rUpdating start dates:  58%|█████▊    | 656/1128 [03:38<02:20,  3.35it/s]"
          ]
        },
        {
          "output_type": "stream",
          "name": "stdout",
          "text": [
            "Start date updated for performance code PF200092: 2022.12.16 -> 2022.10.14\n"
          ]
        },
        {
          "output_type": "stream",
          "name": "stderr",
          "text": [
            "\rUpdating start dates:  58%|█████▊    | 657/1128 [03:38<02:11,  3.57it/s]"
          ]
        },
        {
          "output_type": "stream",
          "name": "stdout",
          "text": [
            "Start date updated for performance code PF220834: 2023.06.23 -> 2023.06.16\n"
          ]
        },
        {
          "output_type": "stream",
          "name": "stderr",
          "text": [
            "\rUpdating start dates:  58%|█████▊    | 658/1128 [03:38<02:23,  3.27it/s]"
          ]
        },
        {
          "output_type": "stream",
          "name": "stdout",
          "text": [
            "Start date updated for performance code PF223120: 2023.10.07 -> 2023.07.31\n"
          ]
        },
        {
          "output_type": "stream",
          "name": "stderr",
          "text": [
            "\rUpdating start dates:  58%|█████▊    | 659/1128 [03:38<02:24,  3.24it/s]"
          ]
        },
        {
          "output_type": "stream",
          "name": "stdout",
          "text": [
            "Start date updated for performance code PF194253: 2022.08.06 -> 2022.07.07\n"
          ]
        },
        {
          "output_type": "stream",
          "name": "stderr",
          "text": [
            "\rUpdating start dates:  59%|█████▊    | 660/1128 [03:39<02:32,  3.06it/s]"
          ]
        },
        {
          "output_type": "stream",
          "name": "stdout",
          "text": [
            "Start date updated for performance code PF229804: 2023.12.16 -> 2023.11.10\n"
          ]
        },
        {
          "output_type": "stream",
          "name": "stderr",
          "text": [
            "\rUpdating start dates:  59%|█████▊    | 661/1128 [03:39<02:18,  3.38it/s]"
          ]
        },
        {
          "output_type": "stream",
          "name": "stdout",
          "text": [
            "Start date updated for performance code PF229517: 2023.12.23 -> 2023.11.09\n"
          ]
        },
        {
          "output_type": "stream",
          "name": "stderr",
          "text": [
            "\rUpdating start dates:  59%|█████▊    | 662/1128 [03:39<02:12,  3.51it/s]"
          ]
        },
        {
          "output_type": "stream",
          "name": "stdout",
          "text": [
            "Start date updated for performance code PF201805: 2022.11.26 -> 2022.11.08\n"
          ]
        },
        {
          "output_type": "stream",
          "name": "stderr",
          "text": [
            "\rUpdating start dates:  59%|█████▉    | 663/1128 [03:40<02:27,  3.15it/s]"
          ]
        },
        {
          "output_type": "stream",
          "name": "stdout",
          "text": [
            "Start date updated for performance code PF191799: 2022.06.25 -> 2022.05.26\n"
          ]
        },
        {
          "output_type": "stream",
          "name": "stderr",
          "text": [
            "\rUpdating start dates:  59%|█████▉    | 664/1128 [03:40<02:21,  3.28it/s]"
          ]
        },
        {
          "output_type": "stream",
          "name": "stdout",
          "text": [
            "Start date updated for performance code PF227584: 2023.12.02 -> 2023.10.11\n"
          ]
        },
        {
          "output_type": "stream",
          "name": "stderr",
          "text": [
            "\rUpdating start dates:  59%|█████▉    | 665/1128 [03:40<02:11,  3.51it/s]"
          ]
        },
        {
          "output_type": "stream",
          "name": "stdout",
          "text": [
            "Start date updated for performance code PF195888: 2022.10.01 -> 2022.08.05\n"
          ]
        },
        {
          "output_type": "stream",
          "name": "stderr",
          "text": [
            "\rUpdating start dates:  59%|█████▉    | 666/1128 [03:41<02:09,  3.58it/s]"
          ]
        },
        {
          "output_type": "stream",
          "name": "stdout",
          "text": [
            "Start date updated for performance code PF202389: 2022.12.17 -> 2022.11.16\n"
          ]
        },
        {
          "output_type": "stream",
          "name": "stderr",
          "text": [
            "\rUpdating start dates:  59%|█████▉    | 667/1128 [03:41<02:12,  3.48it/s]"
          ]
        },
        {
          "output_type": "stream",
          "name": "stdout",
          "text": [
            "Start date updated for performance code PF203636: 2023.02.10 -> 2022.12.13\n"
          ]
        },
        {
          "output_type": "stream",
          "name": "stderr",
          "text": [
            "\rUpdating start dates:  59%|█████▉    | 668/1128 [03:41<02:31,  3.03it/s]"
          ]
        },
        {
          "output_type": "stream",
          "name": "stdout",
          "text": [
            "Start date updated for performance code PF223821: 2023.09.01 -> 2023.08.10\n"
          ]
        },
        {
          "output_type": "stream",
          "name": "stderr",
          "text": [
            "\rUpdating start dates:  59%|█████▉    | 669/1128 [03:42<02:57,  2.59it/s]"
          ]
        },
        {
          "output_type": "stream",
          "name": "stdout",
          "text": [
            "Start date updated for performance code PF201047: 2022.12.03 -> 2022.10.27\n"
          ]
        },
        {
          "output_type": "stream",
          "name": "stderr",
          "text": [
            "\rUpdating start dates:  59%|█████▉    | 670/1128 [03:42<02:49,  2.70it/s]"
          ]
        },
        {
          "output_type": "stream",
          "name": "stdout",
          "text": [
            "Start date updated for performance code PF221776: 2023.09.02 -> 2023.07.07\n"
          ]
        },
        {
          "output_type": "stream",
          "name": "stderr",
          "text": [
            "\rUpdating start dates:  59%|█████▉    | 671/1128 [03:43<02:55,  2.60it/s]"
          ]
        },
        {
          "output_type": "stream",
          "name": "stdout",
          "text": [
            "Start date updated for performance code PF228666: 2023.11.30 -> 2023.10.25\n"
          ]
        },
        {
          "output_type": "stream",
          "name": "stderr",
          "text": [
            "\rUpdating start dates:  60%|█████▉    | 672/1128 [03:43<02:48,  2.70it/s]"
          ]
        },
        {
          "output_type": "stream",
          "name": "stdout",
          "text": [
            "Start date updated for performance code PF193011: 2022.09.03 -> 2022.06.16\n"
          ]
        },
        {
          "output_type": "stream",
          "name": "stderr",
          "text": [
            "\rUpdating start dates:  60%|█████▉    | 673/1128 [03:43<02:33,  2.96it/s]"
          ]
        },
        {
          "output_type": "stream",
          "name": "stdout",
          "text": [
            "Start date updated for performance code PF220517: 2023.08.04 -> 2023.06.19\n"
          ]
        },
        {
          "output_type": "stream",
          "name": "stderr",
          "text": [
            "\rUpdating start dates:  60%|█████▉    | 674/1128 [03:43<02:30,  3.01it/s]"
          ]
        },
        {
          "output_type": "stream",
          "name": "stdout",
          "text": [
            "Start date updated for performance code PF224287: 2023.10.13 -> 2023.08.18\n"
          ]
        },
        {
          "output_type": "stream",
          "name": "stderr",
          "text": [
            "\rUpdating start dates:  60%|█████▉    | 675/1128 [03:44<02:18,  3.26it/s]"
          ]
        },
        {
          "output_type": "stream",
          "name": "stdout",
          "text": [
            "Start date updated for performance code PF193829: 2022.07.16 -> 2022.06.30\n"
          ]
        },
        {
          "output_type": "stream",
          "name": "stderr",
          "text": [
            "\rUpdating start dates:  60%|█████▉    | 676/1128 [03:44<02:13,  3.39it/s]"
          ]
        },
        {
          "output_type": "stream",
          "name": "stdout",
          "text": [
            "Start date updated for performance code PF182734: 2021.12.14 -> 2021.11.09\n"
          ]
        },
        {
          "output_type": "stream",
          "name": "stderr",
          "text": [
            "\rUpdating start dates:  60%|██████    | 677/1128 [03:44<02:06,  3.57it/s]"
          ]
        },
        {
          "output_type": "stream",
          "name": "stdout",
          "text": [
            "Start date updated for performance code PF200668: 2022.12.23 -> 2022.10.21\n"
          ]
        },
        {
          "output_type": "stream",
          "name": "stderr",
          "text": [
            "\rUpdating start dates:  60%|██████    | 678/1128 [03:44<01:58,  3.81it/s]"
          ]
        },
        {
          "output_type": "stream",
          "name": "stdout",
          "text": [
            "Start date updated for performance code PF163945: 2018.04.25 -> 2022.12.26\n"
          ]
        },
        {
          "output_type": "stream",
          "name": "stderr",
          "text": [
            "\rUpdating start dates:  60%|██████    | 679/1128 [03:45<01:58,  3.78it/s]"
          ]
        },
        {
          "output_type": "stream",
          "name": "stdout",
          "text": [
            "Start date updated for performance code PF230401: 2023.12.24 -> 2023.11.17\n"
          ]
        },
        {
          "output_type": "stream",
          "name": "stderr",
          "text": [
            "\rUpdating start dates:  60%|██████    | 680/1128 [03:45<02:03,  3.64it/s]"
          ]
        },
        {
          "output_type": "stream",
          "name": "stdout",
          "text": [
            "Start date updated for performance code PF216157: 2023.05.12 -> 2023.04.03\n"
          ]
        },
        {
          "output_type": "stream",
          "name": "stderr",
          "text": [
            "\rUpdating start dates:  60%|██████    | 681/1128 [03:45<02:06,  3.54it/s]"
          ]
        },
        {
          "output_type": "stream",
          "name": "stdout",
          "text": [
            "Start date updated for performance code PF184627: 2022.01.01 -> 2021.12.08\n"
          ]
        },
        {
          "output_type": "stream",
          "name": "stderr",
          "text": [
            "\rUpdating start dates:  60%|██████    | 682/1128 [03:46<02:09,  3.44it/s]"
          ]
        },
        {
          "output_type": "stream",
          "name": "stdout",
          "text": [
            "Start date updated for performance code PF187403: 2022.04.09 -> 2022.03.08\n"
          ]
        },
        {
          "output_type": "stream",
          "name": "stderr",
          "text": [
            "\rUpdating start dates:  61%|██████    | 683/1128 [03:46<02:10,  3.40it/s]"
          ]
        },
        {
          "output_type": "stream",
          "name": "stdout",
          "text": [
            "Start date updated for performance code PF193924: 2022.12.03 -> 2022.07.01\n"
          ]
        },
        {
          "output_type": "stream",
          "name": "stderr",
          "text": [
            "\rUpdating start dates:  61%|██████    | 684/1128 [03:46<02:06,  3.52it/s]"
          ]
        },
        {
          "output_type": "stream",
          "name": "stdout",
          "text": [
            "Start date updated for performance code PF187576: 2022.05.07 -> 2022.03.22\n"
          ]
        },
        {
          "output_type": "stream",
          "name": "stderr",
          "text": [
            "\rUpdating start dates:  61%|██████    | 685/1128 [03:46<02:10,  3.40it/s]"
          ]
        },
        {
          "output_type": "stream",
          "name": "stdout",
          "text": [
            "Start date updated for performance code PF209631: 2023.02.04 -> 2023.01.10\n"
          ]
        },
        {
          "output_type": "stream",
          "name": "stderr",
          "text": [
            "\rUpdating start dates:  61%|██████    | 686/1128 [03:47<02:33,  2.88it/s]"
          ]
        },
        {
          "output_type": "stream",
          "name": "stdout",
          "text": [
            "Start date updated for performance code PF202388: 2022.12.10 -> 2022.11.16\n"
          ]
        },
        {
          "output_type": "stream",
          "name": "stderr",
          "text": [
            "\rUpdating start dates:  61%|██████    | 687/1128 [03:47<02:19,  3.16it/s]"
          ]
        },
        {
          "output_type": "stream",
          "name": "stdout",
          "text": [
            "Start date updated for performance code PF194428: 2022.09.24 -> 2022.07.11\n"
          ]
        },
        {
          "output_type": "stream",
          "name": "stderr",
          "text": [
            "\rUpdating start dates:  61%|██████    | 688/1128 [03:48<02:36,  2.81it/s]"
          ]
        },
        {
          "output_type": "stream",
          "name": "stdout",
          "text": [
            "Start date updated for performance code PF200139: 2022.12.31 -> 2022.10.26\n"
          ]
        },
        {
          "output_type": "stream",
          "name": "stderr",
          "text": [
            "\rUpdating start dates:  61%|██████    | 689/1128 [03:48<02:34,  2.84it/s]"
          ]
        },
        {
          "output_type": "stream",
          "name": "stdout",
          "text": [
            "Start date updated for performance code PF181356: 2021.11.23 -> 2021.12.06\n"
          ]
        },
        {
          "output_type": "stream",
          "name": "stderr",
          "text": [
            "\rUpdating start dates:  61%|██████    | 690/1128 [03:48<02:33,  2.86it/s]"
          ]
        },
        {
          "output_type": "stream",
          "name": "stdout",
          "text": [
            "Start date updated for performance code PF230774: 2023.12.29 -> 2023.11.23\n"
          ]
        },
        {
          "output_type": "stream",
          "name": "stderr",
          "text": [
            "\rUpdating start dates:  61%|██████▏   | 691/1128 [03:49<02:16,  3.19it/s]"
          ]
        },
        {
          "output_type": "stream",
          "name": "stdout",
          "text": [
            "Start date updated for performance code PF200990: 2022.12.24 -> 2022.10.27\n"
          ]
        },
        {
          "output_type": "stream",
          "name": "stderr",
          "text": [
            "\rUpdating start dates:  61%|██████▏   | 692/1128 [03:49<02:21,  3.09it/s]"
          ]
        },
        {
          "output_type": "stream",
          "name": "stdout",
          "text": [
            "Start date updated for performance code PF197267: 2022.09.02 -> 2022.08.29\n"
          ]
        },
        {
          "output_type": "stream",
          "name": "stderr",
          "text": [
            "\rUpdating start dates:  61%|██████▏   | 693/1128 [03:49<02:07,  3.42it/s]"
          ]
        },
        {
          "output_type": "stream",
          "name": "stdout",
          "text": [
            "Start date updated for performance code PF223602: 2023.09.09 -> 2023.08.08\n"
          ]
        },
        {
          "output_type": "stream",
          "name": "stderr",
          "text": [
            "\rUpdating start dates:  62%|██████▏   | 694/1128 [03:49<02:08,  3.38it/s]"
          ]
        },
        {
          "output_type": "stream",
          "name": "stdout",
          "text": [
            "Start date updated for performance code PF195079: 2022.08.27 -> 2022.08.25\n"
          ]
        },
        {
          "output_type": "stream",
          "name": "stderr",
          "text": [
            "Updating start dates:  62%|██████▏   | 696/1128 [03:50<01:53,  3.80it/s]"
          ]
        },
        {
          "output_type": "stream",
          "name": "stdout",
          "text": [
            "Start date updated for performance code PF195683: 2022.08.27 -> 2022.08.02\n",
            "Start date updated for performance code PF196294: 2022.10.15 -> 2022.08.12\n"
          ]
        },
        {
          "output_type": "stream",
          "name": "stderr",
          "text": [
            "\rUpdating start dates:  62%|██████▏   | 697/1128 [03:50<01:52,  3.83it/s]"
          ]
        },
        {
          "output_type": "stream",
          "name": "stdout",
          "text": [
            "Start date updated for performance code PF199899: 2022.12.17 -> 2022.10.13\n"
          ]
        },
        {
          "output_type": "stream",
          "name": "stderr",
          "text": [
            "\rUpdating start dates:  62%|██████▏   | 698/1128 [03:51<02:04,  3.44it/s]"
          ]
        },
        {
          "output_type": "stream",
          "name": "stdout",
          "text": [
            "Start date updated for performance code PF230419: 2023.12.16 -> 2023.11.17\n"
          ]
        },
        {
          "output_type": "stream",
          "name": "stderr",
          "text": [
            "\rUpdating start dates:  62%|██████▏   | 699/1128 [03:51<01:54,  3.75it/s]"
          ]
        },
        {
          "output_type": "stream",
          "name": "stdout",
          "text": [
            "Start date updated for performance code PF197143: 2022.09.30 -> 2022.08.26\n"
          ]
        },
        {
          "output_type": "stream",
          "name": "stderr",
          "text": [
            "\rUpdating start dates:  62%|██████▏   | 700/1128 [03:51<02:13,  3.21it/s]"
          ]
        },
        {
          "output_type": "stream",
          "name": "stdout",
          "text": [
            "Start date updated for performance code PF215170: 2023.06.03 -> 2023.03.16\n"
          ]
        },
        {
          "output_type": "stream",
          "name": "stderr",
          "text": [
            "\rUpdating start dates:  62%|██████▏   | 701/1128 [03:51<02:16,  3.14it/s]"
          ]
        },
        {
          "output_type": "stream",
          "name": "stdout",
          "text": [
            "Start date updated for performance code PF198485: 2022.11.12 -> 2022.09.20\n"
          ]
        },
        {
          "output_type": "stream",
          "name": "stderr",
          "text": [
            "\rUpdating start dates:  62%|██████▏   | 702/1128 [03:52<02:18,  3.08it/s]"
          ]
        },
        {
          "output_type": "stream",
          "name": "stdout",
          "text": [
            "Start date updated for performance code PF215494: 2023.05.12 -> 2023.03.22\n"
          ]
        },
        {
          "output_type": "stream",
          "name": "stderr",
          "text": [
            "\rUpdating start dates:  62%|██████▏   | 703/1128 [03:52<02:10,  3.26it/s]"
          ]
        },
        {
          "output_type": "stream",
          "name": "stdout",
          "text": [
            "Start date updated for performance code PF187745: 2022.05.14 -> 2022.03.07\n"
          ]
        },
        {
          "output_type": "stream",
          "name": "stderr",
          "text": [
            "\rUpdating start dates:  62%|██████▏   | 704/1128 [03:52<02:09,  3.27it/s]"
          ]
        },
        {
          "output_type": "stream",
          "name": "stdout",
          "text": [
            "Start date updated for performance code PF200306: 2022.11.21 -> 2022.12.18\n"
          ]
        },
        {
          "output_type": "stream",
          "name": "stderr",
          "text": [
            "\rUpdating start dates:  62%|██████▎   | 705/1128 [03:53<02:01,  3.50it/s]"
          ]
        },
        {
          "output_type": "stream",
          "name": "stdout",
          "text": [
            "Start date updated for performance code PF195305: 2022.11.22 -> 2022.07.26\n"
          ]
        },
        {
          "output_type": "stream",
          "name": "stderr",
          "text": [
            "\rUpdating start dates:  63%|██████▎   | 706/1128 [03:53<01:56,  3.62it/s]"
          ]
        },
        {
          "output_type": "stream",
          "name": "stdout",
          "text": [
            "Start date updated for performance code PF189203: 2022.06.18 -> 2022.04.07\n"
          ]
        },
        {
          "output_type": "stream",
          "name": "stderr",
          "text": [
            "\rUpdating start dates:  63%|██████▎   | 707/1128 [03:53<01:56,  3.61it/s]"
          ]
        },
        {
          "output_type": "stream",
          "name": "stdout",
          "text": [
            "Start date updated for performance code PF201157: 2022.12.09 -> 2022.10.28\n"
          ]
        },
        {
          "output_type": "stream",
          "name": "stderr",
          "text": [
            "\rUpdating start dates:  63%|██████▎   | 708/1128 [03:53<01:55,  3.63it/s]"
          ]
        },
        {
          "output_type": "stream",
          "name": "stdout",
          "text": [
            "Start date updated for performance code PF201412: 2022.12.29 -> 2022.11.02\n"
          ]
        },
        {
          "output_type": "stream",
          "name": "stderr",
          "text": [
            "\rUpdating start dates:  63%|██████▎   | 709/1128 [03:54<01:54,  3.66it/s]"
          ]
        },
        {
          "output_type": "stream",
          "name": "stdout",
          "text": [
            "Start date updated for performance code PF223666: 2023.10.20 -> 2023.08.09\n"
          ]
        },
        {
          "output_type": "stream",
          "name": "stderr",
          "text": [
            "\rUpdating start dates:  63%|██████▎   | 710/1128 [03:54<01:46,  3.91it/s]"
          ]
        },
        {
          "output_type": "stream",
          "name": "stdout",
          "text": [
            "Start date updated for performance code PF211589: 2023.02.25 -> 2023.01.27\n"
          ]
        },
        {
          "output_type": "stream",
          "name": "stderr",
          "text": [
            "\rUpdating start dates:  63%|██████▎   | 711/1128 [03:54<01:46,  3.91it/s]"
          ]
        },
        {
          "output_type": "stream",
          "name": "stdout",
          "text": [
            "Start date updated for performance code PF195547: 2022.09.17 -> 2022.07.29\n"
          ]
        },
        {
          "output_type": "stream",
          "name": "stderr",
          "text": [
            "\rUpdating start dates:  63%|██████▎   | 712/1128 [03:54<01:48,  3.82it/s]"
          ]
        },
        {
          "output_type": "stream",
          "name": "stdout",
          "text": [
            "Start date updated for performance code PF196345: 2022.09.03 -> 2022.08.12\n"
          ]
        },
        {
          "output_type": "stream",
          "name": "stderr",
          "text": [
            "\rUpdating start dates:  63%|██████▎   | 713/1128 [03:55<01:47,  3.86it/s]"
          ]
        },
        {
          "output_type": "stream",
          "name": "stdout",
          "text": [
            "Start date updated for performance code PF193040: 2022.07.15 -> 2022.06.23\n"
          ]
        },
        {
          "output_type": "stream",
          "name": "stderr",
          "text": [
            "\rUpdating start dates:  63%|██████▎   | 714/1128 [03:55<02:01,  3.41it/s]"
          ]
        },
        {
          "output_type": "stream",
          "name": "stdout",
          "text": [
            "Start date updated for performance code PF200751: 2022.11.23 -> 2022.10.24\n"
          ]
        },
        {
          "output_type": "stream",
          "name": "stderr",
          "text": [
            "\rUpdating start dates:  63%|██████▎   | 715/1128 [03:55<01:56,  3.53it/s]"
          ]
        },
        {
          "output_type": "stream",
          "name": "stdout",
          "text": [
            "Start date updated for performance code PF199986: 2022.12.31 -> 2022.10.13\n"
          ]
        },
        {
          "output_type": "stream",
          "name": "stderr",
          "text": [
            "\rUpdating start dates:  63%|██████▎   | 716/1128 [03:56<01:47,  3.85it/s]"
          ]
        },
        {
          "output_type": "stream",
          "name": "stdout",
          "text": [
            "Start date updated for performance code PF199196: 2022.12.30 -> 2022.09.29\n"
          ]
        },
        {
          "output_type": "stream",
          "name": "stderr",
          "text": [
            "\rUpdating start dates:  64%|██████▎   | 717/1128 [03:56<01:45,  3.89it/s]"
          ]
        },
        {
          "output_type": "stream",
          "name": "stdout",
          "text": [
            "Start date updated for performance code PF199403: 2022.11.26 -> 2022.10.04\n"
          ]
        },
        {
          "output_type": "stream",
          "name": "stderr",
          "text": [
            "\rUpdating start dates:  64%|██████▎   | 718/1128 [03:56<01:41,  4.03it/s]"
          ]
        },
        {
          "output_type": "stream",
          "name": "stdout",
          "text": [
            "Start date updated for performance code PF226885: 2023.12.23 -> 2023.09.27\n"
          ]
        },
        {
          "output_type": "stream",
          "name": "stderr",
          "text": [
            "\rUpdating start dates:  64%|██████▎   | 719/1128 [03:56<01:39,  4.13it/s]"
          ]
        },
        {
          "output_type": "stream",
          "name": "stdout",
          "text": [
            "Start date updated for performance code PF230241: 2023.12.23 -> 2023.11.16\n"
          ]
        },
        {
          "output_type": "stream",
          "name": "stderr",
          "text": [
            "\rUpdating start dates:  64%|██████▍   | 720/1128 [03:57<02:06,  3.22it/s]"
          ]
        },
        {
          "output_type": "stream",
          "name": "stdout",
          "text": [
            "Start date updated for performance code PF186897: 2022.04.15 -> 2022.02.17\n"
          ]
        },
        {
          "output_type": "stream",
          "name": "stderr",
          "text": [
            "\rUpdating start dates:  64%|██████▍   | 721/1128 [03:57<02:06,  3.21it/s]"
          ]
        },
        {
          "output_type": "stream",
          "name": "stdout",
          "text": [
            "Start date updated for performance code PF228205: 2023.12.30 -> 2023.10.19\n"
          ]
        },
        {
          "output_type": "stream",
          "name": "stderr",
          "text": [
            "\rUpdating start dates:  64%|██████▍   | 722/1128 [03:57<02:07,  3.19it/s]"
          ]
        },
        {
          "output_type": "stream",
          "name": "stdout",
          "text": [
            "Start date updated for performance code PF218756: 2023.07.02 -> 2023.05.18\n"
          ]
        },
        {
          "output_type": "stream",
          "name": "stderr",
          "text": [
            "\rUpdating start dates:  64%|██████▍   | 723/1128 [03:58<01:54,  3.54it/s]"
          ]
        },
        {
          "output_type": "stream",
          "name": "stdout",
          "text": [
            "Start date updated for performance code PF197217: 2022.10.01 -> 2022.12.16\n"
          ]
        },
        {
          "output_type": "stream",
          "name": "stderr",
          "text": [
            "Updating start dates:  64%|██████▍   | 725/1128 [03:58<01:48,  3.72it/s]"
          ]
        },
        {
          "output_type": "stream",
          "name": "stdout",
          "text": [
            "Start date updated for performance code PF200387: 2022.12.17 -> 2022.10.18\n",
            "Start date updated for performance code PF151901: 2019.06.29 -> 2022.12.30\n"
          ]
        },
        {
          "output_type": "stream",
          "name": "stderr",
          "text": [
            "\rUpdating start dates:  64%|██████▍   | 726/1128 [03:58<01:42,  3.93it/s]"
          ]
        },
        {
          "output_type": "stream",
          "name": "stdout",
          "text": [
            "Start date updated for performance code PF190508: 2022.06.11 -> 2022.05.03\n"
          ]
        },
        {
          "output_type": "stream",
          "name": "stderr",
          "text": [
            "\rUpdating start dates:  64%|██████▍   | 727/1128 [03:59<02:17,  2.91it/s]"
          ]
        },
        {
          "output_type": "stream",
          "name": "stdout",
          "text": [
            "Start date updated for performance code PF212830: 2023.03.03 -> 2023.02.15\n"
          ]
        },
        {
          "output_type": "stream",
          "name": "stderr",
          "text": [
            "\rUpdating start dates:  65%|██████▍   | 728/1128 [03:59<02:03,  3.24it/s]"
          ]
        },
        {
          "output_type": "stream",
          "name": "stdout",
          "text": [
            "Start date updated for performance code PF186398: 2022.04.01 -> 2022.02.23\n"
          ]
        },
        {
          "output_type": "stream",
          "name": "stderr",
          "text": [
            "\rUpdating start dates:  65%|██████▍   | 729/1128 [03:59<01:58,  3.37it/s]"
          ]
        },
        {
          "output_type": "stream",
          "name": "stdout",
          "text": [
            "Start date updated for performance code PF144982: 2018.10.12 -> 2022.12.25\n"
          ]
        },
        {
          "output_type": "stream",
          "name": "stderr",
          "text": [
            "\rUpdating start dates:  65%|██████▍   | 730/1128 [04:00<01:57,  3.38it/s]"
          ]
        },
        {
          "output_type": "stream",
          "name": "stdout",
          "text": [
            "Start date updated for performance code PF188826: 2022.04.14 -> 2022.04.05\n"
          ]
        },
        {
          "output_type": "stream",
          "name": "stderr",
          "text": [
            "\rUpdating start dates:  65%|██████▍   | 731/1128 [04:00<01:48,  3.65it/s]"
          ]
        },
        {
          "output_type": "stream",
          "name": "stdout",
          "text": [
            "Start date updated for performance code PF191688: 2022.06.18 -> 2022.05.24\n"
          ]
        },
        {
          "output_type": "stream",
          "name": "stderr",
          "text": [
            "\rUpdating start dates:  65%|██████▍   | 732/1128 [04:00<01:56,  3.39it/s]"
          ]
        },
        {
          "output_type": "stream",
          "name": "stdout",
          "text": [
            "Start date updated for performance code PF226536: 2023.11.11 -> 2023.09.22\n"
          ]
        },
        {
          "output_type": "stream",
          "name": "stderr",
          "text": [
            "\rUpdating start dates:  65%|██████▍   | 733/1128 [04:01<02:04,  3.17it/s]"
          ]
        },
        {
          "output_type": "stream",
          "name": "stdout",
          "text": [
            "Start date updated for performance code PF198213: 2022.10.09 -> 2022.09.14\n"
          ]
        },
        {
          "output_type": "stream",
          "name": "stderr",
          "text": [
            "\rUpdating start dates:  65%|██████▌   | 734/1128 [04:01<02:00,  3.27it/s]"
          ]
        },
        {
          "output_type": "stream",
          "name": "stdout",
          "text": [
            "Start date updated for performance code PF209529: 2023.02.03 -> 2023.01.09\n"
          ]
        },
        {
          "output_type": "stream",
          "name": "stderr",
          "text": [
            "\rUpdating start dates:  65%|██████▌   | 735/1128 [04:01<02:02,  3.21it/s]"
          ]
        },
        {
          "output_type": "stream",
          "name": "stdout",
          "text": [
            "Start date updated for performance code PF219442: 2023.07.04 -> 2023.06.30\n"
          ]
        },
        {
          "output_type": "stream",
          "name": "stderr",
          "text": [
            "\rUpdating start dates:  65%|██████▌   | 736/1128 [04:01<01:53,  3.44it/s]"
          ]
        },
        {
          "output_type": "stream",
          "name": "stdout",
          "text": [
            "Start date updated for performance code PF229447: 2023.12.02 -> 2023.11.06\n"
          ]
        },
        {
          "output_type": "stream",
          "name": "stderr",
          "text": [
            "\rUpdating start dates:  65%|██████▌   | 737/1128 [04:02<01:48,  3.60it/s]"
          ]
        },
        {
          "output_type": "stream",
          "name": "stdout",
          "text": [
            "Start date updated for performance code PF199019: 2022.10.22 -> 2022.09.27\n"
          ]
        },
        {
          "output_type": "stream",
          "name": "stderr",
          "text": [
            "\rUpdating start dates:  65%|██████▌   | 738/1128 [04:02<01:42,  3.79it/s]"
          ]
        },
        {
          "output_type": "stream",
          "name": "stdout",
          "text": [
            "Start date updated for performance code PF226225: 2023.12.09 -> 2023.09.19\n"
          ]
        },
        {
          "output_type": "stream",
          "name": "stderr",
          "text": [
            "\rUpdating start dates:  66%|██████▌   | 739/1128 [04:02<01:47,  3.60it/s]"
          ]
        },
        {
          "output_type": "stream",
          "name": "stdout",
          "text": [
            "Start date updated for performance code PF157288: 2019.11.02 -> 2022.12.08\n"
          ]
        },
        {
          "output_type": "stream",
          "name": "stderr",
          "text": [
            "\rUpdating start dates:  66%|██████▌   | 740/1128 [04:03<02:00,  3.22it/s]"
          ]
        },
        {
          "output_type": "stream",
          "name": "stdout",
          "text": [
            "Start date updated for performance code PF225334: 2023.10.14 -> 2023.09.05\n"
          ]
        },
        {
          "output_type": "stream",
          "name": "stderr",
          "text": [
            "\rUpdating start dates:  66%|██████▌   | 741/1128 [04:03<02:10,  2.97it/s]"
          ]
        },
        {
          "output_type": "stream",
          "name": "stdout",
          "text": [
            "Start date updated for performance code PF197464: 2022.09.28 -> 2022.09.01\n"
          ]
        },
        {
          "output_type": "stream",
          "name": "stderr",
          "text": [
            "\rUpdating start dates:  66%|██████▌   | 742/1128 [04:03<02:06,  3.05it/s]"
          ]
        },
        {
          "output_type": "stream",
          "name": "stdout",
          "text": [
            "Start date updated for performance code PF194286: 2022.08.06 -> 2022.07.07\n"
          ]
        },
        {
          "output_type": "stream",
          "name": "stderr",
          "text": [
            "\rUpdating start dates:  66%|██████▌   | 743/1128 [04:04<01:58,  3.26it/s]"
          ]
        },
        {
          "output_type": "stream",
          "name": "stdout",
          "text": [
            "Start date updated for performance code PF204778: 2023.01.14 -> 2022.12.23\n"
          ]
        },
        {
          "output_type": "stream",
          "name": "stderr",
          "text": [
            "\rUpdating start dates:  66%|██████▌   | 744/1128 [04:04<01:50,  3.47it/s]"
          ]
        },
        {
          "output_type": "stream",
          "name": "stdout",
          "text": [
            "Start date updated for performance code PF193635: 2022.08.05 -> 2022.07.26\n"
          ]
        },
        {
          "output_type": "stream",
          "name": "stderr",
          "text": [
            "\rUpdating start dates:  66%|██████▌   | 745/1128 [04:04<01:48,  3.52it/s]"
          ]
        },
        {
          "output_type": "stream",
          "name": "stdout",
          "text": [
            "Start date updated for performance code PF222022: 2023.08.12 -> 2023.07.12\n"
          ]
        },
        {
          "output_type": "stream",
          "name": "stderr",
          "text": [
            "\rUpdating start dates:  66%|██████▌   | 746/1128 [04:04<01:50,  3.45it/s]"
          ]
        },
        {
          "output_type": "stream",
          "name": "stdout",
          "text": [
            "Start date updated for performance code PF195357: 2022.09.17 -> 2022.07.27\n"
          ]
        },
        {
          "output_type": "stream",
          "name": "stderr",
          "text": [
            "\rUpdating start dates:  66%|██████▌   | 747/1128 [04:05<01:42,  3.71it/s]"
          ]
        },
        {
          "output_type": "stream",
          "name": "stdout",
          "text": [
            "Start date updated for performance code PF191041: 2022.06.04 -> 2022.05.12\n"
          ]
        },
        {
          "output_type": "stream",
          "name": "stderr",
          "text": [
            "\rUpdating start dates:  66%|██████▋   | 748/1128 [04:05<01:40,  3.77it/s]"
          ]
        },
        {
          "output_type": "stream",
          "name": "stdout",
          "text": [
            "Start date updated for performance code PF202609: 2022.12.22 -> 2022.12.09\n"
          ]
        },
        {
          "output_type": "stream",
          "name": "stderr",
          "text": [
            "\rUpdating start dates:  66%|██████▋   | 749/1128 [04:05<01:41,  3.75it/s]"
          ]
        },
        {
          "output_type": "stream",
          "name": "stdout",
          "text": [
            "Start date updated for performance code PF200075: 2022.12.10 -> 2022.10.14\n"
          ]
        },
        {
          "output_type": "stream",
          "name": "stderr",
          "text": [
            "\rUpdating start dates:  66%|██████▋   | 750/1128 [04:05<01:37,  3.86it/s]"
          ]
        },
        {
          "output_type": "stream",
          "name": "stdout",
          "text": [
            "Start date updated for performance code PF201422: 2022.12.10 -> 2022.11.02\n"
          ]
        },
        {
          "output_type": "stream",
          "name": "stderr",
          "text": [
            "\rUpdating start dates:  67%|██████▋   | 751/1128 [04:06<01:34,  3.98it/s]"
          ]
        },
        {
          "output_type": "stream",
          "name": "stdout",
          "text": [
            "Start date updated for performance code PF215042: 2023.04.29 -> 2023.03.14\n"
          ]
        },
        {
          "output_type": "stream",
          "name": "stderr",
          "text": [
            "\rUpdating start dates:  67%|██████▋   | 752/1128 [04:06<01:51,  3.36it/s]"
          ]
        },
        {
          "output_type": "stream",
          "name": "stdout",
          "text": [
            "Start date updated for performance code PF191871: 2022.06.25 -> 2022.05.27\n"
          ]
        },
        {
          "output_type": "stream",
          "name": "stderr",
          "text": [
            "\rUpdating start dates:  67%|██████▋   | 753/1128 [04:06<01:53,  3.29it/s]"
          ]
        },
        {
          "output_type": "stream",
          "name": "stdout",
          "text": [
            "Start date updated for performance code PF219395: 2023.08.11 -> 2023.05.31\n"
          ]
        },
        {
          "output_type": "stream",
          "name": "stderr",
          "text": [
            "\rUpdating start dates:  67%|██████▋   | 754/1128 [04:07<01:53,  3.31it/s]"
          ]
        },
        {
          "output_type": "stream",
          "name": "stdout",
          "text": [
            "Start date updated for performance code PF195155: 2022.09.03 -> 2022.07.22\n"
          ]
        },
        {
          "output_type": "stream",
          "name": "stderr",
          "text": [
            "\rUpdating start dates:  67%|██████▋   | 755/1128 [04:07<01:56,  3.19it/s]"
          ]
        },
        {
          "output_type": "stream",
          "name": "stdout",
          "text": [
            "Start date updated for performance code PF218102: 2023.06.25 -> 2023.06.12\n"
          ]
        },
        {
          "output_type": "stream",
          "name": "stderr",
          "text": [
            "\rUpdating start dates:  67%|██████▋   | 756/1128 [04:07<01:47,  3.44it/s]"
          ]
        },
        {
          "output_type": "stream",
          "name": "stdout",
          "text": [
            "Start date updated for performance code PF197373: 2022.10.04 -> 2022.08.30\n"
          ]
        },
        {
          "output_type": "stream",
          "name": "stderr",
          "text": [
            "\rUpdating start dates:  67%|██████▋   | 757/1128 [04:09<04:02,  1.53it/s]"
          ]
        },
        {
          "output_type": "stream",
          "name": "stdout",
          "text": [
            "Start date updated for performance code PF191731: 2022.07.12 -> 2022.05.25\n"
          ]
        },
        {
          "output_type": "stream",
          "name": "stderr",
          "text": [
            "\rUpdating start dates:  67%|██████▋   | 758/1128 [04:09<03:22,  1.82it/s]"
          ]
        },
        {
          "output_type": "stream",
          "name": "stdout",
          "text": [
            "Start date updated for performance code PF191933: 2022.07.15 -> 2022.05.27\n"
          ]
        },
        {
          "output_type": "stream",
          "name": "stderr",
          "text": [
            "\rUpdating start dates:  67%|██████▋   | 759/1128 [04:09<02:45,  2.23it/s]"
          ]
        },
        {
          "output_type": "stream",
          "name": "stdout",
          "text": [
            "Start date updated for performance code PF194660: 2022.11.10 -> 2022.08.17\n"
          ]
        },
        {
          "output_type": "stream",
          "name": "stderr",
          "text": [
            "\rUpdating start dates:  67%|██████▋   | 760/1128 [04:09<02:21,  2.59it/s]"
          ]
        },
        {
          "output_type": "stream",
          "name": "stdout",
          "text": [
            "Start date updated for performance code PF189911: 2022.06.04 -> 2022.04.21\n"
          ]
        },
        {
          "output_type": "stream",
          "name": "stderr",
          "text": [
            "\rUpdating start dates:  67%|██████▋   | 761/1128 [04:10<02:16,  2.69it/s]"
          ]
        },
        {
          "output_type": "stream",
          "name": "stdout",
          "text": [
            "Start date updated for performance code PF202341: 2023.01.21 -> 2022.12.07\n"
          ]
        },
        {
          "output_type": "stream",
          "name": "stderr",
          "text": [
            "\rUpdating start dates:  68%|██████▊   | 762/1128 [04:11<04:31,  1.35it/s]"
          ]
        },
        {
          "output_type": "stream",
          "name": "stdout",
          "text": [
            "Start date updated for performance code PF216698: 2023.05.05 -> 2023.04.12\n"
          ]
        },
        {
          "output_type": "stream",
          "name": "stderr",
          "text": [
            "\rUpdating start dates:  68%|██████▊   | 763/1128 [04:12<03:33,  1.71it/s]"
          ]
        },
        {
          "output_type": "stream",
          "name": "stdout",
          "text": [
            "Start date updated for performance code PF185333: 2022.01.14 -> 2021.12.30\n"
          ]
        },
        {
          "output_type": "stream",
          "name": "stderr",
          "text": [
            "\rUpdating start dates:  68%|██████▊   | 764/1128 [04:12<02:55,  2.08it/s]"
          ]
        },
        {
          "output_type": "stream",
          "name": "stdout",
          "text": [
            "Start date updated for performance code PF231854: 2023.12.30 -> 2023.12.04\n"
          ]
        },
        {
          "output_type": "stream",
          "name": "stderr",
          "text": [
            "\rUpdating start dates:  68%|██████▊   | 765/1128 [04:12<02:31,  2.39it/s]"
          ]
        },
        {
          "output_type": "stream",
          "name": "stdout",
          "text": [
            "Start date updated for performance code PF228208: 2023.12.01 -> 2023.11.09\n"
          ]
        },
        {
          "output_type": "stream",
          "name": "stderr",
          "text": [
            "\rUpdating start dates:  68%|██████▊   | 766/1128 [04:12<02:13,  2.70it/s]"
          ]
        },
        {
          "output_type": "stream",
          "name": "stdout",
          "text": [
            "Start date updated for performance code PF229630: 2023.12.16 -> 2023.11.08\n"
          ]
        },
        {
          "output_type": "stream",
          "name": "stderr",
          "text": [
            "\rUpdating start dates:  68%|██████▊   | 767/1128 [04:13<02:02,  2.95it/s]"
          ]
        },
        {
          "output_type": "stream",
          "name": "stdout",
          "text": [
            "Start date updated for performance code PF211629: 2023.02.18 -> 2023.01.30\n"
          ]
        },
        {
          "output_type": "stream",
          "name": "stderr",
          "text": [
            "\rUpdating start dates:  68%|██████▊   | 768/1128 [04:13<01:50,  3.26it/s]"
          ]
        },
        {
          "output_type": "stream",
          "name": "stdout",
          "text": [
            "Start date updated for performance code PF214680: 2023.05.12 -> 2023.03.10\n"
          ]
        },
        {
          "output_type": "stream",
          "name": "stderr",
          "text": [
            "\rUpdating start dates:  68%|██████▊   | 769/1128 [04:13<01:49,  3.27it/s]"
          ]
        },
        {
          "output_type": "stream",
          "name": "stdout",
          "text": [
            "Start date updated for performance code PF228193: 2023.12.09 -> 2023.11.07\n"
          ]
        },
        {
          "output_type": "stream",
          "name": "stderr",
          "text": [
            "\rUpdating start dates:  68%|██████▊   | 770/1128 [04:14<01:49,  3.26it/s]"
          ]
        },
        {
          "output_type": "stream",
          "name": "stdout",
          "text": [
            "Start date updated for performance code PF215235: 2023.07.15 -> 2023.03.17\n"
          ]
        },
        {
          "output_type": "stream",
          "name": "stderr",
          "text": [
            "\rUpdating start dates:  68%|██████▊   | 771/1128 [04:14<01:58,  3.01it/s]"
          ]
        },
        {
          "output_type": "stream",
          "name": "stdout",
          "text": [
            "Start date updated for performance code PF222362: 2023.08.19 -> 2023.07.18\n"
          ]
        },
        {
          "output_type": "stream",
          "name": "stderr",
          "text": [
            "\rUpdating start dates:  68%|██████▊   | 772/1128 [04:14<02:16,  2.61it/s]"
          ]
        },
        {
          "output_type": "stream",
          "name": "stdout",
          "text": [
            "Start date updated for performance code PF228217: 2023.12.23 -> 2023.10.19\n"
          ]
        },
        {
          "output_type": "stream",
          "name": "stderr",
          "text": [
            "\rUpdating start dates:  69%|██████▊   | 773/1128 [04:15<01:58,  2.99it/s]"
          ]
        },
        {
          "output_type": "stream",
          "name": "stdout",
          "text": [
            "Start date updated for performance code PF223667: 2023.08.25 -> 2023.08.09\n"
          ]
        },
        {
          "output_type": "stream",
          "name": "stderr",
          "text": [
            "\rUpdating start dates:  69%|██████▊   | 774/1128 [04:15<01:54,  3.10it/s]"
          ]
        },
        {
          "output_type": "stream",
          "name": "stdout",
          "text": [
            "Start date updated for performance code PF202627: 2022.12.30 -> 2022.11.18\n"
          ]
        },
        {
          "output_type": "stream",
          "name": "stderr",
          "text": [
            "\rUpdating start dates:  69%|██████▊   | 775/1128 [04:15<01:52,  3.15it/s]"
          ]
        },
        {
          "output_type": "stream",
          "name": "stdout",
          "text": [
            "Start date updated for performance code PF229313: 2023.12.07 -> 2023.12.05\n"
          ]
        },
        {
          "output_type": "stream",
          "name": "stderr",
          "text": [
            "\rUpdating start dates:  69%|██████▉   | 776/1128 [04:16<01:58,  2.98it/s]"
          ]
        },
        {
          "output_type": "stream",
          "name": "stdout",
          "text": [
            "Start date updated for performance code PF204736: 2023.02.03 -> 2022.12.23\n"
          ]
        },
        {
          "output_type": "stream",
          "name": "stderr",
          "text": [
            "\rUpdating start dates:  69%|██████▉   | 777/1128 [04:16<01:46,  3.29it/s]"
          ]
        },
        {
          "output_type": "stream",
          "name": "stdout",
          "text": [
            "Start date updated for performance code PF229501: 2023.12.05 -> 2023.11.06\n"
          ]
        },
        {
          "output_type": "stream",
          "name": "stderr",
          "text": [
            "\rUpdating start dates:  69%|██████▉   | 778/1128 [04:16<02:03,  2.83it/s]"
          ]
        },
        {
          "output_type": "stream",
          "name": "stdout",
          "text": [
            "Start date updated for performance code PF184862: 2022.03.26 -> 2020.10.08\n"
          ]
        },
        {
          "output_type": "stream",
          "name": "stderr",
          "text": [
            "\rUpdating start dates:  69%|██████▉   | 779/1128 [04:17<01:57,  2.97it/s]"
          ]
        },
        {
          "output_type": "stream",
          "name": "stdout",
          "text": [
            "Start date updated for performance code PF181626: 2021.12.18 -> 2021.10.25\n"
          ]
        },
        {
          "output_type": "stream",
          "name": "stderr",
          "text": [
            "\rUpdating start dates:  69%|██████▉   | 780/1128 [04:17<01:47,  3.23it/s]"
          ]
        },
        {
          "output_type": "stream",
          "name": "stdout",
          "text": [
            "Start date updated for performance code PF228923: 2023.12.11 -> 2023.10.30\n"
          ]
        },
        {
          "output_type": "stream",
          "name": "stderr",
          "text": [
            "Updating start dates:  69%|██████▉   | 782/1128 [04:18<01:55,  3.01it/s]"
          ]
        },
        {
          "output_type": "stream",
          "name": "stdout",
          "text": [
            "Start date updated for performance code PF202481: 2023.01.13 -> 2022.11.30\n"
          ]
        },
        {
          "output_type": "stream",
          "name": "stderr",
          "text": [
            "\rUpdating start dates:  69%|██████▉   | 783/1128 [04:18<01:57,  2.94it/s]"
          ]
        },
        {
          "output_type": "stream",
          "name": "stdout",
          "text": [
            "Start date updated for performance code PF183854: 2021.12.10 -> 2022.01.04\n"
          ]
        },
        {
          "output_type": "stream",
          "name": "stderr",
          "text": [
            "\rUpdating start dates:  70%|██████▉   | 784/1128 [04:18<01:52,  3.05it/s]"
          ]
        },
        {
          "output_type": "stream",
          "name": "stdout",
          "text": [
            "Start date updated for performance code PF228196: 2023.12.30 -> 2023.10.18\n"
          ]
        },
        {
          "output_type": "stream",
          "name": "stderr",
          "text": [
            "\rUpdating start dates:  70%|██████▉   | 785/1128 [04:18<01:44,  3.28it/s]"
          ]
        },
        {
          "output_type": "stream",
          "name": "stdout",
          "text": [
            "Start date updated for performance code PF190917: 2022.07.15 -> 2022.05.10\n"
          ]
        },
        {
          "output_type": "stream",
          "name": "stderr",
          "text": [
            "\rUpdating start dates:  70%|██████▉   | 786/1128 [04:19<01:44,  3.28it/s]"
          ]
        },
        {
          "output_type": "stream",
          "name": "stdout",
          "text": [
            "Start date updated for performance code PF216426: 2023.05.19 -> 2023.04.06\n"
          ]
        },
        {
          "output_type": "stream",
          "name": "stderr",
          "text": [
            "\rUpdating start dates:  70%|██████▉   | 787/1128 [04:19<01:39,  3.42it/s]"
          ]
        },
        {
          "output_type": "stream",
          "name": "stdout",
          "text": [
            "Start date updated for performance code PF194578: 2022.11.04 -> 2022.07.13\n"
          ]
        },
        {
          "output_type": "stream",
          "name": "stderr",
          "text": [
            "\rUpdating start dates:  70%|██████▉   | 788/1128 [04:19<01:33,  3.63it/s]"
          ]
        },
        {
          "output_type": "stream",
          "name": "stdout",
          "text": [
            "Start date updated for performance code PF186242: 2022.03.01 -> 2022.01.27\n"
          ]
        },
        {
          "output_type": "stream",
          "name": "stderr",
          "text": [
            "\rUpdating start dates:  70%|██████▉   | 789/1128 [04:20<01:30,  3.74it/s]"
          ]
        },
        {
          "output_type": "stream",
          "name": "stdout",
          "text": [
            "Start date updated for performance code PF189167: 2022.05.07 -> 2022.04.20\n"
          ]
        },
        {
          "output_type": "stream",
          "name": "stderr",
          "text": [
            "\rUpdating start dates:  70%|███████   | 790/1128 [04:20<01:29,  3.76it/s]"
          ]
        },
        {
          "output_type": "stream",
          "name": "stdout",
          "text": [
            "Start date updated for performance code PF219279: 2023.07.22 -> 2023.06.19\n"
          ]
        },
        {
          "output_type": "stream",
          "name": "stderr",
          "text": [
            "\rUpdating start dates:  70%|███████   | 791/1128 [04:20<01:27,  3.85it/s]"
          ]
        },
        {
          "output_type": "stream",
          "name": "stdout",
          "text": [
            "Start date updated for performance code PF185639: 2022.02.03 -> 2022.01.11\n"
          ]
        },
        {
          "output_type": "stream",
          "name": "stderr",
          "text": [
            "\rUpdating start dates:  70%|███████   | 792/1128 [04:20<01:24,  3.96it/s]"
          ]
        },
        {
          "output_type": "stream",
          "name": "stdout",
          "text": [
            "Start date updated for performance code PF215630: 2023.05.13 -> 2023.03.24\n"
          ]
        },
        {
          "output_type": "stream",
          "name": "stderr",
          "text": [
            "\rUpdating start dates:  70%|███████   | 793/1128 [04:21<01:27,  3.82it/s]"
          ]
        },
        {
          "output_type": "stream",
          "name": "stdout",
          "text": [
            "Start date updated for performance code PF186153: 2022.02.26 -> 2022.01.25\n"
          ]
        },
        {
          "output_type": "stream",
          "name": "stderr",
          "text": [
            "\rUpdating start dates:  70%|███████   | 794/1128 [04:21<01:29,  3.71it/s]"
          ]
        },
        {
          "output_type": "stream",
          "name": "stdout",
          "text": [
            "Start date updated for performance code PF229142: 2023.12.09 -> 2023.11.29\n"
          ]
        },
        {
          "output_type": "stream",
          "name": "stderr",
          "text": [
            "\rUpdating start dates:  70%|███████   | 795/1128 [04:21<01:36,  3.46it/s]"
          ]
        },
        {
          "output_type": "stream",
          "name": "stdout",
          "text": [
            "Start date updated for performance code PF180742: 2021.11.12 -> 2021.12.03\n"
          ]
        },
        {
          "output_type": "stream",
          "name": "stderr",
          "text": [
            "\rUpdating start dates:  71%|███████   | 796/1128 [04:22<01:41,  3.27it/s]"
          ]
        },
        {
          "output_type": "stream",
          "name": "stdout",
          "text": [
            "Start date updated for performance code PF187524: 2022.04.23 -> 2022.03.02\n"
          ]
        },
        {
          "output_type": "stream",
          "name": "stderr",
          "text": [
            "\rUpdating start dates:  71%|███████   | 797/1128 [04:22<01:40,  3.30it/s]"
          ]
        },
        {
          "output_type": "stream",
          "name": "stdout",
          "text": [
            "Start date updated for performance code PF196754: 2022.10.29 -> 2022.08.19\n"
          ]
        },
        {
          "output_type": "stream",
          "name": "stderr",
          "text": [
            "\rUpdating start dates:  71%|███████   | 798/1128 [04:22<01:48,  3.05it/s]"
          ]
        },
        {
          "output_type": "stream",
          "name": "stdout",
          "text": [
            "Start date updated for performance code PF190152: 2022.07.07 -> 2022.04.26\n"
          ]
        },
        {
          "output_type": "stream",
          "name": "stderr",
          "text": [
            "\rUpdating start dates:  71%|███████   | 799/1128 [04:22<01:38,  3.35it/s]"
          ]
        },
        {
          "output_type": "stream",
          "name": "stdout",
          "text": [
            "Start date updated for performance code PF191899: 2022.06.04 -> 2022.05.30\n"
          ]
        },
        {
          "output_type": "stream",
          "name": "stderr",
          "text": [
            "\rUpdating start dates:  71%|███████   | 800/1128 [04:23<01:32,  3.53it/s]"
          ]
        },
        {
          "output_type": "stream",
          "name": "stdout",
          "text": [
            "Start date updated for performance code PF200073: 2022.12.02 -> 2022.10.14\n"
          ]
        },
        {
          "output_type": "stream",
          "name": "stderr",
          "text": [
            "\rUpdating start dates:  71%|███████   | 801/1128 [04:23<01:24,  3.85it/s]"
          ]
        },
        {
          "output_type": "stream",
          "name": "stdout",
          "text": [
            "Start date updated for performance code PF188115: 2022.04.20 -> 2022.03.17\n"
          ]
        },
        {
          "output_type": "stream",
          "name": "stderr",
          "text": [
            "\rUpdating start dates:  71%|███████   | 802/1128 [04:23<01:24,  3.84it/s]"
          ]
        },
        {
          "output_type": "stream",
          "name": "stdout",
          "text": [
            "Start date updated for performance code PF223281: 2023.10.14 -> 2023.08.02\n"
          ]
        },
        {
          "output_type": "stream",
          "name": "stderr",
          "text": [
            "\rUpdating start dates:  71%|███████   | 803/1128 [04:23<01:27,  3.73it/s]"
          ]
        },
        {
          "output_type": "stream",
          "name": "stdout",
          "text": [
            "Start date updated for performance code PF202754: 2023.05.23 -> 2022.11.22\n"
          ]
        },
        {
          "output_type": "stream",
          "name": "stderr",
          "text": [
            "\rUpdating start dates:  71%|███████▏  | 804/1128 [04:24<01:22,  3.94it/s]"
          ]
        },
        {
          "output_type": "stream",
          "name": "stdout",
          "text": [
            "Start date updated for performance code PF214398: 2023.04.18 -> 2023.03.03\n"
          ]
        },
        {
          "output_type": "stream",
          "name": "stderr",
          "text": [
            "\rUpdating start dates:  71%|███████▏  | 805/1128 [04:24<01:24,  3.83it/s]"
          ]
        },
        {
          "output_type": "stream",
          "name": "stdout",
          "text": [
            "Start date updated for performance code PF220548: 2023.07.15 -> 2023.06.19\n"
          ]
        },
        {
          "output_type": "stream",
          "name": "stderr",
          "text": [
            "\rUpdating start dates:  71%|███████▏  | 806/1128 [04:24<01:31,  3.53it/s]"
          ]
        },
        {
          "output_type": "stream",
          "name": "stdout",
          "text": [
            "Start date updated for performance code PF186410: 2022.03.25 -> 2022.02.03\n"
          ]
        },
        {
          "output_type": "stream",
          "name": "stderr",
          "text": [
            "\rUpdating start dates:  72%|███████▏  | 807/1128 [04:25<01:32,  3.49it/s]"
          ]
        },
        {
          "output_type": "stream",
          "name": "stdout",
          "text": [
            "Start date updated for performance code PF191467: 2022.07.01 -> 2022.05.20\n"
          ]
        },
        {
          "output_type": "stream",
          "name": "stderr",
          "text": [
            "\rUpdating start dates:  72%|███████▏  | 808/1128 [04:25<01:32,  3.47it/s]"
          ]
        },
        {
          "output_type": "stream",
          "name": "stdout",
          "text": [
            "Start date updated for performance code PF226311: 2023.10.28 -> 2023.09.19\n"
          ]
        },
        {
          "output_type": "stream",
          "name": "stderr",
          "text": [
            "\rUpdating start dates:  72%|███████▏  | 809/1128 [04:25<01:35,  3.36it/s]"
          ]
        },
        {
          "output_type": "stream",
          "name": "stdout",
          "text": [
            "Start date updated for performance code PF186364: 2022.03.19 -> 2022.01.28\n"
          ]
        },
        {
          "output_type": "stream",
          "name": "stderr",
          "text": [
            "\rUpdating start dates:  72%|███████▏  | 810/1128 [04:25<01:32,  3.42it/s]"
          ]
        },
        {
          "output_type": "stream",
          "name": "stdout",
          "text": [
            "Start date updated for performance code PF185682: 2022.02.05 -> 2022.01.11\n"
          ]
        },
        {
          "output_type": "stream",
          "name": "stderr",
          "text": [
            "\rUpdating start dates:  72%|███████▏  | 811/1128 [04:26<01:36,  3.28it/s]"
          ]
        },
        {
          "output_type": "stream",
          "name": "stdout",
          "text": [
            "Start date updated for performance code PF200420: 2022.12.24 -> 2022.10.20\n"
          ]
        },
        {
          "output_type": "stream",
          "name": "stderr",
          "text": [
            "\rUpdating start dates:  72%|███████▏  | 812/1128 [04:26<01:35,  3.31it/s]"
          ]
        },
        {
          "output_type": "stream",
          "name": "stdout",
          "text": [
            "Start date updated for performance code PF214757: 2023.05.05 -> 2023.03.10\n"
          ]
        },
        {
          "output_type": "stream",
          "name": "stderr",
          "text": [
            "\rUpdating start dates:  72%|███████▏  | 813/1128 [04:26<01:34,  3.32it/s]"
          ]
        },
        {
          "output_type": "stream",
          "name": "stdout",
          "text": [
            "Start date updated for performance code PF191702: 2022.07.09 -> 2022.05.27\n"
          ]
        },
        {
          "output_type": "stream",
          "name": "stderr",
          "text": [
            "Updating start dates:  72%|███████▏  | 815/1128 [04:27<01:20,  3.87it/s]"
          ]
        },
        {
          "output_type": "stream",
          "name": "stdout",
          "text": [
            "Start date updated for performance code PF228209: 2023.12.16 -> 2023.10.19\n",
            "Start date updated for performance code PF223346: 2023.08.19 -> 2023.08.03\n"
          ]
        },
        {
          "output_type": "stream",
          "name": "stderr",
          "text": [
            "\rUpdating start dates:  72%|███████▏  | 816/1128 [04:27<01:21,  3.82it/s]"
          ]
        },
        {
          "output_type": "stream",
          "name": "stdout",
          "text": [
            "Start date updated for performance code PF204439: 2023.01.06 -> 2022.12.16\n"
          ]
        },
        {
          "output_type": "stream",
          "name": "stderr",
          "text": [
            "\rUpdating start dates:  72%|███████▏  | 817/1128 [04:27<01:22,  3.75it/s]"
          ]
        },
        {
          "output_type": "stream",
          "name": "stdout",
          "text": [
            "Start date updated for performance code PF214706: 2023.03.17 -> 2023.03.13\n"
          ]
        },
        {
          "output_type": "stream",
          "name": "stderr",
          "text": [
            "\rUpdating start dates:  73%|███████▎  | 818/1128 [04:28<01:21,  3.79it/s]"
          ]
        },
        {
          "output_type": "stream",
          "name": "stdout",
          "text": [
            "Start date updated for performance code PF219915: 2023.07.08 -> 2023.06.21\n"
          ]
        },
        {
          "output_type": "stream",
          "name": "stderr",
          "text": [
            "\rUpdating start dates:  73%|███████▎  | 819/1128 [04:28<01:18,  3.92it/s]"
          ]
        },
        {
          "output_type": "stream",
          "name": "stdout",
          "text": [
            "Start date updated for performance code PF183289: 2022.01.28 -> 2022.01.06\n"
          ]
        },
        {
          "output_type": "stream",
          "name": "stderr",
          "text": [
            "\rUpdating start dates:  73%|███████▎  | 820/1128 [04:28<01:15,  4.05it/s]"
          ]
        },
        {
          "output_type": "stream",
          "name": "stdout",
          "text": [
            "Start date updated for performance code PF216240: 2023.05.04 -> 2023.04.04\n"
          ]
        },
        {
          "output_type": "stream",
          "name": "stderr",
          "text": [
            "\rUpdating start dates:  73%|███████▎  | 821/1128 [04:28<01:20,  3.84it/s]"
          ]
        },
        {
          "output_type": "stream",
          "name": "stdout",
          "text": [
            "Start date updated for performance code PF196015: 2022.09.02 -> 2022.08.09\n"
          ]
        },
        {
          "output_type": "stream",
          "name": "stderr",
          "text": [
            "\rUpdating start dates:  73%|███████▎  | 822/1128 [04:29<01:19,  3.84it/s]"
          ]
        },
        {
          "output_type": "stream",
          "name": "stdout",
          "text": [
            "Start date updated for performance code PF229324: 2023.12.15 -> 2023.11.03\n"
          ]
        },
        {
          "output_type": "stream",
          "name": "stderr",
          "text": [
            "\rUpdating start dates:  73%|███████▎  | 823/1128 [04:29<01:19,  3.82it/s]"
          ]
        },
        {
          "output_type": "stream",
          "name": "stdout",
          "text": [
            "Start date updated for performance code PF186076: 2022.02.08 -> 2022.01.24\n"
          ]
        },
        {
          "output_type": "stream",
          "name": "stderr",
          "text": [
            "\rUpdating start dates:  73%|███████▎  | 824/1128 [04:29<01:22,  3.69it/s]"
          ]
        },
        {
          "output_type": "stream",
          "name": "stdout",
          "text": [
            "Start date updated for performance code PF222866: 2023.09.16 -> 2023.07.28\n"
          ]
        },
        {
          "output_type": "stream",
          "name": "stderr",
          "text": [
            "\rUpdating start dates:  73%|███████▎  | 825/1128 [04:30<01:25,  3.53it/s]"
          ]
        },
        {
          "output_type": "stream",
          "name": "stdout",
          "text": [
            "Start date updated for performance code PF192401: 2022.07.10 -> 2022.06.07\n"
          ]
        },
        {
          "output_type": "stream",
          "name": "stderr",
          "text": [
            "\rUpdating start dates:  73%|███████▎  | 826/1128 [04:30<01:19,  3.79it/s]"
          ]
        },
        {
          "output_type": "stream",
          "name": "stdout",
          "text": [
            "Start date updated for performance code PF222507: 2023.11.11 -> 2023.07.25\n"
          ]
        },
        {
          "output_type": "stream",
          "name": "stderr",
          "text": [
            "\rUpdating start dates:  73%|███████▎  | 827/1128 [04:30<01:37,  3.09it/s]"
          ]
        },
        {
          "output_type": "stream",
          "name": "stdout",
          "text": [
            "Start date updated for performance code PF230403: 2023.12.22 -> 2023.11.17\n"
          ]
        },
        {
          "output_type": "stream",
          "name": "stderr",
          "text": [
            "\rUpdating start dates:  73%|███████▎  | 828/1128 [04:30<01:27,  3.42it/s]"
          ]
        },
        {
          "output_type": "stream",
          "name": "stdout",
          "text": [
            "Start date updated for performance code PF211428: 2023.03.25 -> 2023.01.25\n"
          ]
        },
        {
          "output_type": "stream",
          "name": "stderr",
          "text": [
            "\rUpdating start dates:  73%|███████▎  | 829/1128 [04:31<01:24,  3.54it/s]"
          ]
        },
        {
          "output_type": "stream",
          "name": "stdout",
          "text": [
            "Start date updated for performance code PF202729: 2022.12.24 -> 2022.11.21\n"
          ]
        },
        {
          "output_type": "stream",
          "name": "stderr",
          "text": [
            "\rUpdating start dates:  74%|███████▎  | 830/1128 [04:31<01:27,  3.42it/s]"
          ]
        },
        {
          "output_type": "stream",
          "name": "stdout",
          "text": [
            "Start date updated for performance code PF185994: 2022.03.19 -> 2022.01.20\n"
          ]
        },
        {
          "output_type": "stream",
          "name": "stderr",
          "text": [
            "\rUpdating start dates:  74%|███████▎  | 831/1128 [04:31<01:20,  3.69it/s]"
          ]
        },
        {
          "output_type": "stream",
          "name": "stdout",
          "text": [
            "Start date updated for performance code PF221362: 2023.08.25 -> 2023.06.30\n"
          ]
        },
        {
          "output_type": "stream",
          "name": "stderr",
          "text": [
            "Updating start dates:  74%|███████▍  | 833/1128 [04:32<01:32,  3.18it/s]"
          ]
        },
        {
          "output_type": "stream",
          "name": "stdout",
          "text": [
            "Start date updated for performance code PF230262: 2023.12.30 -> 2023.11.16\n"
          ]
        },
        {
          "output_type": "stream",
          "name": "stderr",
          "text": [
            "\rUpdating start dates:  74%|███████▍  | 834/1128 [04:32<01:32,  3.16it/s]"
          ]
        },
        {
          "output_type": "stream",
          "name": "stdout",
          "text": [
            "Start date updated for performance code PF199264: 2022.11.19 -> 2022.12.09\n"
          ]
        },
        {
          "output_type": "stream",
          "name": "stderr",
          "text": [
            "\rUpdating start dates:  74%|███████▍  | 835/1128 [04:33<01:34,  3.09it/s]"
          ]
        },
        {
          "output_type": "stream",
          "name": "stdout",
          "text": [
            "Start date updated for performance code PF224638: 2023.10.07 -> 2023.08.24\n"
          ]
        },
        {
          "output_type": "stream",
          "name": "stderr",
          "text": [
            "\rUpdating start dates:  74%|███████▍  | 836/1128 [04:33<01:27,  3.35it/s]"
          ]
        },
        {
          "output_type": "stream",
          "name": "stdout",
          "text": [
            "Start date updated for performance code PF199896: 2022.11.19 -> 2022.10.12\n"
          ]
        },
        {
          "output_type": "stream",
          "name": "stderr",
          "text": [
            "\rUpdating start dates:  74%|███████▍  | 837/1128 [04:34<02:53,  1.68it/s]"
          ]
        },
        {
          "output_type": "stream",
          "name": "stdout",
          "text": [
            "Start date updated for performance code PF217868: 2023.06.01 -> 2023.05.03\n"
          ]
        },
        {
          "output_type": "stream",
          "name": "stderr",
          "text": [
            "\rUpdating start dates:  74%|███████▍  | 838/1128 [04:34<02:25,  1.99it/s]"
          ]
        },
        {
          "output_type": "stream",
          "name": "stdout",
          "text": [
            "Start date updated for performance code PF187799: 2022.04.23 -> 2022.03.08\n"
          ]
        },
        {
          "output_type": "stream",
          "name": "stderr",
          "text": [
            "\rUpdating start dates:  74%|███████▍  | 839/1128 [04:35<02:10,  2.21it/s]"
          ]
        },
        {
          "output_type": "stream",
          "name": "stdout",
          "text": [
            "Start date updated for performance code PF188633: 2022.05.20 -> 2022.03.29\n"
          ]
        },
        {
          "output_type": "stream",
          "name": "stderr",
          "text": [
            "\rUpdating start dates:  74%|███████▍  | 840/1128 [04:35<01:53,  2.53it/s]"
          ]
        },
        {
          "output_type": "stream",
          "name": "stdout",
          "text": [
            "Start date updated for performance code PF173894: 2021.05.01 -> 2023.01.01\n"
          ]
        },
        {
          "output_type": "stream",
          "name": "stderr",
          "text": [
            "\rUpdating start dates:  75%|███████▍  | 841/1128 [04:35<01:42,  2.79it/s]"
          ]
        },
        {
          "output_type": "stream",
          "name": "stdout",
          "text": [
            "Start date updated for performance code PF223604: 2023.09.09 -> 2023.08.09\n"
          ]
        },
        {
          "output_type": "stream",
          "name": "stderr",
          "text": [
            "\rUpdating start dates:  75%|███████▍  | 842/1128 [04:36<01:33,  3.05it/s]"
          ]
        },
        {
          "output_type": "stream",
          "name": "stdout",
          "text": [
            "Start date updated for performance code PF205250: 2023.02.04 -> 2022.12.30\n"
          ]
        },
        {
          "output_type": "stream",
          "name": "stderr",
          "text": [
            "\rUpdating start dates:  75%|███████▍  | 843/1128 [04:36<01:25,  3.33it/s]"
          ]
        },
        {
          "output_type": "stream",
          "name": "stdout",
          "text": [
            "Start date updated for performance code PF194591: 2022.08.31 -> 2022.07.13\n"
          ]
        },
        {
          "output_type": "stream",
          "name": "stderr",
          "text": [
            "\rUpdating start dates:  75%|███████▍  | 844/1128 [04:36<01:41,  2.81it/s]"
          ]
        },
        {
          "output_type": "stream",
          "name": "stdout",
          "text": [
            "Start date updated for performance code PF225069: 2023.11.24 -> 2023.09.01\n"
          ]
        },
        {
          "output_type": "stream",
          "name": "stderr",
          "text": [
            "Updating start dates:  75%|███████▌  | 846/1128 [04:37<01:31,  3.08it/s]"
          ]
        },
        {
          "output_type": "stream",
          "name": "stdout",
          "text": [
            "Start date updated for performance code PF192959: 2022.07.19 -> 2022.06.16\n"
          ]
        },
        {
          "output_type": "stream",
          "name": "stderr",
          "text": [
            "\rUpdating start dates:  75%|███████▌  | 847/1128 [04:37<01:26,  3.25it/s]"
          ]
        },
        {
          "output_type": "stream",
          "name": "stdout",
          "text": [
            "Start date updated for performance code PF222673: 2023.08.04 -> 2023.07.21\n"
          ]
        },
        {
          "output_type": "stream",
          "name": "stderr",
          "text": [
            "\rUpdating start dates:  75%|███████▌  | 848/1128 [04:37<01:26,  3.24it/s]"
          ]
        },
        {
          "output_type": "stream",
          "name": "stdout",
          "text": [
            "Start date updated for performance code PF228220: 2023.12.01 -> 2023.10.19\n"
          ]
        },
        {
          "output_type": "stream",
          "name": "stderr",
          "text": [
            "\rUpdating start dates:  75%|███████▌  | 849/1128 [04:38<01:19,  3.52it/s]"
          ]
        },
        {
          "output_type": "stream",
          "name": "stdout",
          "text": [
            "Start date updated for performance code PF191287: 2022.06.18 -> 2022.05.17\n"
          ]
        },
        {
          "output_type": "stream",
          "name": "stderr",
          "text": [
            "\rUpdating start dates:  75%|███████▌  | 850/1128 [04:38<01:14,  3.73it/s]"
          ]
        },
        {
          "output_type": "stream",
          "name": "stdout",
          "text": [
            "Start date updated for performance code PF199987: 2022.12.03 -> 2022.10.13\n"
          ]
        },
        {
          "output_type": "stream",
          "name": "stderr",
          "text": [
            "\rUpdating start dates:  75%|███████▌  | 851/1128 [04:38<01:18,  3.55it/s]"
          ]
        },
        {
          "output_type": "stream",
          "name": "stdout",
          "text": [
            "Start date updated for performance code PF215614: 2023.04.25 -> 2023.03.23\n"
          ]
        },
        {
          "output_type": "stream",
          "name": "stderr",
          "text": [
            "\rUpdating start dates:  76%|███████▌  | 852/1128 [04:39<01:29,  3.10it/s]"
          ]
        },
        {
          "output_type": "stream",
          "name": "stdout",
          "text": [
            "Start date updated for performance code PF220055: 2023.07.07 -> 2023.06.08\n"
          ]
        },
        {
          "output_type": "stream",
          "name": "stderr",
          "text": [
            "\rUpdating start dates:  76%|███████▌  | 853/1128 [04:39<01:25,  3.23it/s]"
          ]
        },
        {
          "output_type": "stream",
          "name": "stdout",
          "text": [
            "Start date updated for performance code PF187834: 2022.04.29 -> 2022.03.10\n"
          ]
        },
        {
          "output_type": "stream",
          "name": "stderr",
          "text": [
            "\rUpdating start dates:  76%|███████▌  | 854/1128 [04:39<01:18,  3.48it/s]"
          ]
        },
        {
          "output_type": "stream",
          "name": "stdout",
          "text": [
            "Start date updated for performance code PF203370: 2023.01.14 -> 2022.12.15\n"
          ]
        },
        {
          "output_type": "stream",
          "name": "stderr",
          "text": [
            "\rUpdating start dates:  76%|███████▌  | 855/1128 [04:39<01:19,  3.44it/s]"
          ]
        },
        {
          "output_type": "stream",
          "name": "stdout",
          "text": [
            "Start date updated for performance code PF214157: 2023.03.31 -> 2023.03.10\n"
          ]
        },
        {
          "output_type": "stream",
          "name": "stderr",
          "text": [
            "\rUpdating start dates:  76%|███████▌  | 856/1128 [04:40<01:13,  3.72it/s]"
          ]
        },
        {
          "output_type": "stream",
          "name": "stdout",
          "text": [
            "Start date updated for performance code PF228494: 2023.12.09 -> 2023.10.27\n"
          ]
        },
        {
          "output_type": "stream",
          "name": "stderr",
          "text": [
            "\rUpdating start dates:  76%|███████▌  | 857/1128 [04:40<01:11,  3.81it/s]"
          ]
        },
        {
          "output_type": "stream",
          "name": "stdout",
          "text": [
            "Start date updated for performance code PF200074: 2022.12.23 -> 2022.10.14\n"
          ]
        },
        {
          "output_type": "stream",
          "name": "stderr",
          "text": [
            "\rUpdating start dates:  76%|███████▌  | 858/1128 [04:40<01:22,  3.29it/s]"
          ]
        },
        {
          "output_type": "stream",
          "name": "stdout",
          "text": [
            "Start date updated for performance code PF194815: 2022.12.05 -> 2022.07.26\n"
          ]
        },
        {
          "output_type": "stream",
          "name": "stderr",
          "text": [
            "\rUpdating start dates:  76%|███████▌  | 859/1128 [04:41<01:20,  3.33it/s]"
          ]
        },
        {
          "output_type": "stream",
          "name": "stdout",
          "text": [
            "Start date updated for performance code PF218590: 2023.06.24 -> 2023.05.16\n"
          ]
        },
        {
          "output_type": "stream",
          "name": "stderr",
          "text": [
            "\rUpdating start dates:  76%|███████▌  | 860/1128 [04:41<01:14,  3.59it/s]"
          ]
        },
        {
          "output_type": "stream",
          "name": "stdout",
          "text": [
            "Start date updated for performance code PF216686: 2023.05.19 -> 2023.04.12\n"
          ]
        },
        {
          "output_type": "stream",
          "name": "stderr",
          "text": [
            "\rUpdating start dates:  76%|███████▋  | 861/1128 [04:41<01:13,  3.65it/s]"
          ]
        },
        {
          "output_type": "stream",
          "name": "stdout",
          "text": [
            "Start date updated for performance code PF226074: 2023.11.24 -> 2023.09.15\n"
          ]
        },
        {
          "output_type": "stream",
          "name": "stderr",
          "text": [
            "\rUpdating start dates:  76%|███████▋  | 862/1128 [04:41<01:11,  3.73it/s]"
          ]
        },
        {
          "output_type": "stream",
          "name": "stdout",
          "text": [
            "Start date updated for performance code PF232142: 2023.12.09 -> 2023.10.17\n"
          ]
        },
        {
          "output_type": "stream",
          "name": "stderr",
          "text": [
            "\rUpdating start dates:  77%|███████▋  | 863/1128 [04:42<01:20,  3.30it/s]"
          ]
        },
        {
          "output_type": "stream",
          "name": "stdout",
          "text": [
            "Start date updated for performance code PF178134: 2021.08.21 -> 2022.12.31\n"
          ]
        },
        {
          "output_type": "stream",
          "name": "stderr",
          "text": [
            "\rUpdating start dates:  77%|███████▋  | 864/1128 [04:42<01:13,  3.58it/s]"
          ]
        },
        {
          "output_type": "stream",
          "name": "stdout",
          "text": [
            "Start date updated for performance code PF215985: 2023.07.22 -> 2023.03.30\n"
          ]
        },
        {
          "output_type": "stream",
          "name": "stderr",
          "text": [
            "\rUpdating start dates:  77%|███████▋  | 865/1128 [04:42<01:10,  3.75it/s]"
          ]
        },
        {
          "output_type": "stream",
          "name": "stdout",
          "text": [
            "Start date updated for performance code PF209919: 2023.03.03 -> 2023.01.17\n"
          ]
        },
        {
          "output_type": "stream",
          "name": "stderr",
          "text": [
            "\rUpdating start dates:  77%|███████▋  | 866/1128 [04:43<01:19,  3.28it/s]"
          ]
        },
        {
          "output_type": "stream",
          "name": "stdout",
          "text": [
            "Start date updated for performance code PF189758: 2022.06.30 -> 2022.04.19\n"
          ]
        },
        {
          "output_type": "stream",
          "name": "stderr",
          "text": [
            "\rUpdating start dates:  77%|███████▋  | 867/1128 [04:43<01:13,  3.56it/s]"
          ]
        },
        {
          "output_type": "stream",
          "name": "stdout",
          "text": [
            "Start date updated for performance code PF224435: 2023.09.23 -> 2023.08.22\n"
          ]
        },
        {
          "output_type": "stream",
          "name": "stderr",
          "text": [
            "\rUpdating start dates:  77%|███████▋  | 868/1128 [04:43<01:14,  3.51it/s]"
          ]
        },
        {
          "output_type": "stream",
          "name": "stdout",
          "text": [
            "Start date updated for performance code PF199985: 2022.12.24 -> 2022.10.13\n"
          ]
        },
        {
          "output_type": "stream",
          "name": "stderr",
          "text": [
            "\rUpdating start dates:  77%|███████▋  | 869/1128 [04:43<01:17,  3.35it/s]"
          ]
        },
        {
          "output_type": "stream",
          "name": "stdout",
          "text": [
            "Start date updated for performance code PF182391: 2021.11.20 -> 2022.12.18\n"
          ]
        },
        {
          "output_type": "stream",
          "name": "stderr",
          "text": [
            "\rUpdating start dates:  77%|███████▋  | 870/1128 [04:44<01:15,  3.40it/s]"
          ]
        },
        {
          "output_type": "stream",
          "name": "stdout",
          "text": [
            "Start date updated for performance code PF187523: 2022.04.09 -> 2022.03.02\n"
          ]
        },
        {
          "output_type": "stream",
          "name": "stderr",
          "text": [
            "\rUpdating start dates:  77%|███████▋  | 871/1128 [04:44<01:33,  2.75it/s]"
          ]
        },
        {
          "output_type": "stream",
          "name": "stdout",
          "text": [
            "Start date updated for performance code PF215616: 2023.07.29 -> 2023.03.23\n"
          ]
        },
        {
          "output_type": "stream",
          "name": "stderr",
          "text": [
            "\rUpdating start dates:  77%|███████▋  | 872/1128 [04:44<01:25,  2.98it/s]"
          ]
        },
        {
          "output_type": "stream",
          "name": "stdout",
          "text": [
            "Start date updated for performance code PF227720: 2023.12.15 -> 2023.10.28\n"
          ]
        },
        {
          "output_type": "stream",
          "name": "stderr",
          "text": [
            "\rUpdating start dates:  77%|███████▋  | 873/1128 [04:45<01:18,  3.23it/s]"
          ]
        },
        {
          "output_type": "stream",
          "name": "stdout",
          "text": [
            "Start date updated for performance code PF213962: 2023.03.25 -> 2023.02.23\n"
          ]
        },
        {
          "output_type": "stream",
          "name": "stderr",
          "text": [
            "\rUpdating start dates:  77%|███████▋  | 874/1128 [04:45<01:25,  2.97it/s]"
          ]
        },
        {
          "output_type": "stream",
          "name": "stdout",
          "text": [
            "Start date updated for performance code PF184049: 2021.12.31 -> 2021.11.30\n"
          ]
        },
        {
          "output_type": "stream",
          "name": "stderr",
          "text": [
            "\rUpdating start dates:  78%|███████▊  | 875/1128 [04:45<01:24,  3.00it/s]"
          ]
        },
        {
          "output_type": "stream",
          "name": "stdout",
          "text": [
            "Start date updated for performance code PF228269: 2023.11.22 -> 2023.11.21\n"
          ]
        },
        {
          "output_type": "stream",
          "name": "stderr",
          "text": [
            "\rUpdating start dates:  78%|███████▊  | 876/1128 [04:46<01:15,  3.34it/s]"
          ]
        },
        {
          "output_type": "stream",
          "name": "stdout",
          "text": [
            "Start date updated for performance code PF223963: 2023.09.16 -> 2023.08.14\n"
          ]
        },
        {
          "output_type": "stream",
          "name": "stderr",
          "text": [
            "\rUpdating start dates:  78%|███████▊  | 877/1128 [04:46<01:16,  3.28it/s]"
          ]
        },
        {
          "output_type": "stream",
          "name": "stdout",
          "text": [
            "Start date updated for performance code PF228602: 2023.12.19 -> 2023.10.25\n"
          ]
        },
        {
          "output_type": "stream",
          "name": "stderr",
          "text": [
            "\rUpdating start dates:  78%|███████▊  | 878/1128 [04:46<01:11,  3.48it/s]"
          ]
        },
        {
          "output_type": "stream",
          "name": "stdout",
          "text": [
            "Start date updated for performance code PF195448: 2022.09.24 -> 2022.07.28\n"
          ]
        },
        {
          "output_type": "stream",
          "name": "stderr",
          "text": [
            "\rUpdating start dates:  78%|███████▊  | 879/1128 [04:47<01:12,  3.42it/s]"
          ]
        },
        {
          "output_type": "stream",
          "name": "stdout",
          "text": [
            "Start date updated for performance code PF194088: 2022.08.28 -> 2022.07.04\n"
          ]
        },
        {
          "output_type": "stream",
          "name": "stderr",
          "text": [
            "\rUpdating start dates:  78%|███████▊  | 880/1128 [04:47<01:28,  2.79it/s]"
          ]
        },
        {
          "output_type": "stream",
          "name": "stdout",
          "text": [
            "Start date updated for performance code PF212579: 2023.03.30 -> 2023.02.18\n"
          ]
        },
        {
          "output_type": "stream",
          "name": "stderr",
          "text": [
            "\rUpdating start dates:  78%|███████▊  | 881/1128 [04:47<01:20,  3.08it/s]"
          ]
        },
        {
          "output_type": "stream",
          "name": "stdout",
          "text": [
            "Start date updated for performance code PF187759: 2022.05.05 -> 2022.04.17\n"
          ]
        },
        {
          "output_type": "stream",
          "name": "stderr",
          "text": [
            "\rUpdating start dates:  78%|███████▊  | 882/1128 [04:48<01:26,  2.85it/s]"
          ]
        },
        {
          "output_type": "stream",
          "name": "stdout",
          "text": [
            "Start date updated for performance code PF199111: 2022.11.26 -> 2022.09.29\n"
          ]
        },
        {
          "output_type": "stream",
          "name": "stderr",
          "text": [
            "\rUpdating start dates:  78%|███████▊  | 883/1128 [04:48<01:22,  2.99it/s]"
          ]
        },
        {
          "output_type": "stream",
          "name": "stdout",
          "text": [
            "Start date updated for performance code PF191036: 2022.06.04 -> 2022.05.12\n"
          ]
        },
        {
          "output_type": "stream",
          "name": "stderr",
          "text": [
            "\rUpdating start dates:  78%|███████▊  | 884/1128 [04:48<01:25,  2.84it/s]"
          ]
        },
        {
          "output_type": "stream",
          "name": "stdout",
          "text": [
            "Start date updated for performance code PF227144: 2023.11.18 -> 2023.10.05\n"
          ]
        },
        {
          "output_type": "stream",
          "name": "stderr",
          "text": [
            "\rUpdating start dates:  78%|███████▊  | 885/1128 [04:49<01:22,  2.93it/s]"
          ]
        },
        {
          "output_type": "stream",
          "name": "stdout",
          "text": [
            "Start date updated for performance code PF191935: 2022.07.09 -> 2022.05.31\n"
          ]
        },
        {
          "output_type": "stream",
          "name": "stderr",
          "text": [
            "\rUpdating start dates:  79%|███████▊  | 886/1128 [04:49<01:23,  2.89it/s]"
          ]
        },
        {
          "output_type": "stream",
          "name": "stdout",
          "text": [
            "Start date updated for performance code PF221408: 2023.08.18 -> 2023.07.03\n"
          ]
        },
        {
          "output_type": "stream",
          "name": "stderr",
          "text": [
            "\rUpdating start dates:  79%|███████▊  | 887/1128 [04:49<01:14,  3.25it/s]"
          ]
        },
        {
          "output_type": "stream",
          "name": "stdout",
          "text": [
            "Start date updated for performance code PF213589: 2023.04.14 -> 2023.02.17\n"
          ]
        },
        {
          "output_type": "stream",
          "name": "stderr",
          "text": [
            "\rUpdating start dates:  79%|███████▊  | 888/1128 [04:50<01:07,  3.58it/s]"
          ]
        },
        {
          "output_type": "stream",
          "name": "stdout",
          "text": [
            "Start date updated for performance code PF196487: 2022.09.16 -> 2022.08.16\n"
          ]
        },
        {
          "output_type": "stream",
          "name": "stderr",
          "text": [
            "\rUpdating start dates:  79%|███████▉  | 889/1128 [04:50<01:04,  3.72it/s]"
          ]
        },
        {
          "output_type": "stream",
          "name": "stdout",
          "text": [
            "Start date updated for performance code PF203663: 2022.12.17 -> 2022.12.07\n"
          ]
        },
        {
          "output_type": "stream",
          "name": "stderr",
          "text": [
            "\rUpdating start dates:  79%|███████▉  | 890/1128 [04:50<01:09,  3.41it/s]"
          ]
        },
        {
          "output_type": "stream",
          "name": "stdout",
          "text": [
            "Start date updated for performance code PF217698: 2023.06.30 -> 2023.04.28\n"
          ]
        },
        {
          "output_type": "stream",
          "name": "stderr",
          "text": [
            "Updating start dates:  79%|███████▉  | 893/1128 [04:51<01:08,  3.43it/s]"
          ]
        },
        {
          "output_type": "stream",
          "name": "stdout",
          "text": [
            "Start date updated for performance code PF194170: 2022.08.06 -> 2022.07.05\n",
            "Start date updated for performance code PF183541: 2022.01.07 -> 2021.12.20\n"
          ]
        },
        {
          "output_type": "stream",
          "name": "stderr",
          "text": [
            "\rUpdating start dates:  79%|███████▉  | 894/1128 [04:51<01:04,  3.65it/s]"
          ]
        },
        {
          "output_type": "stream",
          "name": "stdout",
          "text": [
            "Start date updated for performance code PF185301: 2022.01.21 -> 2022.01.04\n"
          ]
        },
        {
          "output_type": "stream",
          "name": "stderr",
          "text": [
            "\rUpdating start dates:  79%|███████▉  | 895/1128 [04:51<01:01,  3.78it/s]"
          ]
        },
        {
          "output_type": "stream",
          "name": "stdout",
          "text": [
            "Start date updated for performance code PF212523: 2023.05.25 -> 2023.02.18\n"
          ]
        },
        {
          "output_type": "stream",
          "name": "stderr",
          "text": [
            "\rUpdating start dates:  79%|███████▉  | 896/1128 [04:52<01:03,  3.63it/s]"
          ]
        },
        {
          "output_type": "stream",
          "name": "stdout",
          "text": [
            "Start date updated for performance code PF194359: 2022.07.06 -> 2022.12.25\n"
          ]
        },
        {
          "output_type": "stream",
          "name": "stderr",
          "text": [
            "\rUpdating start dates:  80%|███████▉  | 897/1128 [04:52<01:15,  3.04it/s]"
          ]
        },
        {
          "output_type": "stream",
          "name": "stdout",
          "text": [
            "Start date updated for performance code PF219125: 2023.07.05 -> 2023.07.03\n"
          ]
        },
        {
          "output_type": "stream",
          "name": "stderr",
          "text": [
            "\rUpdating start dates:  80%|███████▉  | 898/1128 [04:52<01:07,  3.39it/s]"
          ]
        },
        {
          "output_type": "stream",
          "name": "stdout",
          "text": [
            "Start date updated for performance code PF197259: 2022.11.18 -> 2022.08.29\n"
          ]
        },
        {
          "output_type": "stream",
          "name": "stderr",
          "text": [
            "\rUpdating start dates:  80%|███████▉  | 899/1128 [04:53<01:01,  3.70it/s]"
          ]
        },
        {
          "output_type": "stream",
          "name": "stdout",
          "text": [
            "Start date updated for performance code PF183801: 2021.12.21 -> 2021.12.02\n"
          ]
        },
        {
          "output_type": "stream",
          "name": "stderr",
          "text": [
            "\rUpdating start dates:  80%|███████▉  | 900/1128 [04:53<01:04,  3.55it/s]"
          ]
        },
        {
          "output_type": "stream",
          "name": "stdout",
          "text": [
            "Start date updated for performance code PF192471: 2022.08.20 -> 2022.07.29\n"
          ]
        },
        {
          "output_type": "stream",
          "name": "stderr",
          "text": [
            "\rUpdating start dates:  80%|███████▉  | 901/1128 [04:53<01:02,  3.65it/s]"
          ]
        },
        {
          "output_type": "stream",
          "name": "stdout",
          "text": [
            "Start date updated for performance code PF212827: 2023.03.04 -> 2023.02.07\n",
            "Start date updated for performance code PF222527: 2023.09.23 -> 2023.07.20\n"
          ]
        },
        {
          "output_type": "stream",
          "name": "stderr",
          "text": [
            "Updating start dates:  80%|████████  | 903/1128 [04:54<00:53,  4.17it/s]"
          ]
        },
        {
          "output_type": "stream",
          "name": "stdout",
          "text": [
            "Start date updated for performance code PF194649: 2022.10.19 -> 2022.07.14\n"
          ]
        },
        {
          "output_type": "stream",
          "name": "stderr",
          "text": [
            "\rUpdating start dates:  80%|████████  | 904/1128 [04:54<00:54,  4.13it/s]"
          ]
        },
        {
          "output_type": "stream",
          "name": "stdout",
          "text": [
            "Start date updated for performance code PF187224: 2022.03.19 -> 2022.02.23\n"
          ]
        },
        {
          "output_type": "stream",
          "name": "stderr",
          "text": [
            "\rUpdating start dates:  80%|████████  | 905/1128 [04:54<00:59,  3.76it/s]"
          ]
        },
        {
          "output_type": "stream",
          "name": "stdout",
          "text": [
            "Start date updated for performance code PF190826: 2022.07.22 -> 2022.05.09\n"
          ]
        },
        {
          "output_type": "stream",
          "name": "stderr",
          "text": [
            "\rUpdating start dates:  80%|████████  | 906/1128 [04:54<00:55,  3.99it/s]"
          ]
        },
        {
          "output_type": "stream",
          "name": "stdout",
          "text": [
            "Start date updated for performance code PF199274: 2022.12.31 -> 2022.09.30\n"
          ]
        },
        {
          "output_type": "stream",
          "name": "stderr",
          "text": [
            "\rUpdating start dates:  80%|████████  | 907/1128 [04:55<00:53,  4.12it/s]"
          ]
        },
        {
          "output_type": "stream",
          "name": "stdout",
          "text": [
            "Start date updated for performance code PF197707: 2022.10.05 -> 2022.09.05\n"
          ]
        },
        {
          "output_type": "stream",
          "name": "stderr",
          "text": [
            "\rUpdating start dates:  80%|████████  | 908/1128 [04:55<00:53,  4.10it/s]"
          ]
        },
        {
          "output_type": "stream",
          "name": "stdout",
          "text": [
            "Start date updated for performance code PF186616: 2022.02.19 -> 2022.02.09\n"
          ]
        },
        {
          "output_type": "stream",
          "name": "stderr",
          "text": [
            "\rUpdating start dates:  81%|████████  | 909/1128 [04:55<00:59,  3.66it/s]"
          ]
        },
        {
          "output_type": "stream",
          "name": "stdout",
          "text": [
            "Start date updated for performance code PF228643: 2023.12.05 -> 2023.12.02\n"
          ]
        },
        {
          "output_type": "stream",
          "name": "stderr",
          "text": [
            "\rUpdating start dates:  81%|████████  | 910/1128 [04:55<00:54,  3.97it/s]"
          ]
        },
        {
          "output_type": "stream",
          "name": "stdout",
          "text": [
            "Start date updated for performance code PF225046: 2023.11.18 -> 2023.08.31\n"
          ]
        },
        {
          "output_type": "stream",
          "name": "stderr",
          "text": [
            "\rUpdating start dates:  81%|████████  | 911/1128 [04:56<01:02,  3.48it/s]"
          ]
        },
        {
          "output_type": "stream",
          "name": "stdout",
          "text": [
            "Start date updated for performance code PF210103: 2023.04.14 -> 2023.02.21\n"
          ]
        },
        {
          "output_type": "stream",
          "name": "stderr",
          "text": [
            "\rUpdating start dates:  81%|████████  | 912/1128 [04:56<00:58,  3.69it/s]"
          ]
        },
        {
          "output_type": "stream",
          "name": "stdout",
          "text": [
            "Start date updated for performance code PF202956: 2023.02.04 -> 2022.11.23\n"
          ]
        },
        {
          "output_type": "stream",
          "name": "stderr",
          "text": [
            "\rUpdating start dates:  81%|████████  | 913/1128 [04:56<00:57,  3.73it/s]"
          ]
        },
        {
          "output_type": "stream",
          "name": "stdout",
          "text": [
            "Start date updated for performance code PF198981: 2022.10.29 -> 2022.09.27\n"
          ]
        },
        {
          "output_type": "stream",
          "name": "stderr",
          "text": [
            "\rUpdating start dates:  81%|████████  | 914/1128 [04:57<01:02,  3.41it/s]"
          ]
        },
        {
          "output_type": "stream",
          "name": "stdout",
          "text": [
            "Start date updated for performance code PF220143: 2023.07.22 -> 2023.06.13\n"
          ]
        },
        {
          "output_type": "stream",
          "name": "stderr",
          "text": [
            "\rUpdating start dates:  81%|████████  | 915/1128 [04:57<01:03,  3.38it/s]"
          ]
        },
        {
          "output_type": "stream",
          "name": "stdout",
          "text": [
            "Start date updated for performance code PF141838: 2016.03.01 -> 2022.12.08\n"
          ]
        },
        {
          "output_type": "stream",
          "name": "stderr",
          "text": [
            "\rUpdating start dates:  81%|████████  | 916/1128 [04:57<01:00,  3.50it/s]"
          ]
        },
        {
          "output_type": "stream",
          "name": "stdout",
          "text": [
            "Start date updated for performance code PF194047: 2022.08.26 -> 2022.08.02\n"
          ]
        },
        {
          "output_type": "stream",
          "name": "stderr",
          "text": [
            "\rUpdating start dates:  81%|████████▏ | 917/1128 [04:57<00:57,  3.70it/s]"
          ]
        },
        {
          "output_type": "stream",
          "name": "stdout",
          "text": [
            "Start date updated for performance code PF218506: 2023.08.26 -> 2023.05.15\n"
          ]
        },
        {
          "output_type": "stream",
          "name": "stderr",
          "text": [
            "\rUpdating start dates:  81%|████████▏ | 918/1128 [04:58<00:55,  3.78it/s]"
          ]
        },
        {
          "output_type": "stream",
          "name": "stdout",
          "text": [
            "Start date updated for performance code PF202749: 2023.03.17 -> 2022.11.22\n"
          ]
        },
        {
          "output_type": "stream",
          "name": "stderr",
          "text": [
            "\rUpdating start dates:  81%|████████▏ | 919/1128 [04:58<00:52,  3.95it/s]"
          ]
        },
        {
          "output_type": "stream",
          "name": "stdout",
          "text": [
            "Start date updated for performance code PF195894: 2022.09.03 -> 2022.08.05\n"
          ]
        },
        {
          "output_type": "stream",
          "name": "stderr",
          "text": [
            "\rUpdating start dates:  82%|████████▏ | 920/1128 [04:58<00:52,  3.94it/s]"
          ]
        },
        {
          "output_type": "stream",
          "name": "stdout",
          "text": [
            "Start date updated for performance code PF186568: 2022.03.19 -> 2022.02.08\n"
          ]
        },
        {
          "output_type": "stream",
          "name": "stderr",
          "text": [
            "\rUpdating start dates:  82%|████████▏ | 921/1128 [04:58<00:50,  4.10it/s]"
          ]
        },
        {
          "output_type": "stream",
          "name": "stdout",
          "text": [
            "Start date updated for performance code PF194400: 2022.10.06 -> 2022.07.08\n"
          ]
        },
        {
          "output_type": "stream",
          "name": "stderr",
          "text": [
            "\rUpdating start dates:  82%|████████▏ | 922/1128 [04:59<00:50,  4.08it/s]"
          ]
        },
        {
          "output_type": "stream",
          "name": "stdout",
          "text": [
            "Start date updated for performance code PF192808: 2022.07.24 -> 2022.06.13\n"
          ]
        },
        {
          "output_type": "stream",
          "name": "stderr",
          "text": [
            "\rUpdating start dates:  82%|████████▏ | 923/1128 [04:59<00:59,  3.42it/s]"
          ]
        },
        {
          "output_type": "stream",
          "name": "stdout",
          "text": [
            "Start date updated for performance code PF190779: 2022.06.03 -> 2022.05.09\n"
          ]
        },
        {
          "output_type": "stream",
          "name": "stderr",
          "text": [
            "\rUpdating start dates:  82%|████████▏ | 924/1128 [04:59<01:00,  3.36it/s]"
          ]
        },
        {
          "output_type": "stream",
          "name": "stdout",
          "text": [
            "Start date updated for performance code PF226828: 2023.11.17 -> 2023.09.26\n"
          ]
        },
        {
          "output_type": "stream",
          "name": "stderr",
          "text": [
            "\rUpdating start dates:  82%|████████▏ | 925/1128 [05:00<01:04,  3.13it/s]"
          ]
        },
        {
          "output_type": "stream",
          "name": "stdout",
          "text": [
            "Start date updated for performance code PF193022: 2022.09.17 -> 2022.07.16\n"
          ]
        },
        {
          "output_type": "stream",
          "name": "stderr",
          "text": [
            "\rUpdating start dates:  82%|████████▏ | 926/1128 [05:00<00:58,  3.43it/s]"
          ]
        },
        {
          "output_type": "stream",
          "name": "stdout",
          "text": [
            "Start date updated for performance code PF219904: 2023.07.15 -> 2023.06.08\n"
          ]
        },
        {
          "output_type": "stream",
          "name": "stderr",
          "text": [
            "\rUpdating start dates:  82%|████████▏ | 927/1128 [05:00<01:00,  3.34it/s]"
          ]
        },
        {
          "output_type": "stream",
          "name": "stdout",
          "text": [
            "Start date updated for performance code PF228603: 2023.12.01 -> 2023.10.25\n"
          ]
        },
        {
          "output_type": "stream",
          "name": "stderr",
          "text": [
            "\rUpdating start dates:  82%|████████▏ | 928/1128 [05:01<01:10,  2.84it/s]"
          ]
        },
        {
          "output_type": "stream",
          "name": "stdout",
          "text": [
            "Start date updated for performance code PF199405: 2022.11.05 -> 2022.10.04\n"
          ]
        },
        {
          "output_type": "stream",
          "name": "stderr",
          "text": [
            "\rUpdating start dates:  82%|████████▏ | 929/1128 [05:01<01:02,  3.16it/s]"
          ]
        },
        {
          "output_type": "stream",
          "name": "stdout",
          "text": [
            "Start date updated for performance code PF224486: 2023.09.23 -> 2023.08.23\n"
          ]
        },
        {
          "output_type": "stream",
          "name": "stderr",
          "text": [
            "\rUpdating start dates:  82%|████████▏ | 930/1128 [05:01<00:57,  3.44it/s]"
          ]
        },
        {
          "output_type": "stream",
          "name": "stdout",
          "text": [
            "Start date updated for performance code PF223790: 2023.09.09 -> 2023.08.10\n"
          ]
        },
        {
          "output_type": "stream",
          "name": "stderr",
          "text": [
            "\rUpdating start dates:  83%|████████▎ | 931/1128 [05:01<00:54,  3.65it/s]"
          ]
        },
        {
          "output_type": "stream",
          "name": "stdout",
          "text": [
            "Start date updated for performance code PF216473: 2023.05.05 -> 2023.04.09\n"
          ]
        },
        {
          "output_type": "stream",
          "name": "stderr",
          "text": [
            "\rUpdating start dates:  83%|████████▎ | 932/1128 [05:02<00:52,  3.73it/s]"
          ]
        },
        {
          "output_type": "stream",
          "name": "stdout",
          "text": [
            "Start date updated for performance code PF215234: 2023.06.24 -> 2023.03.17\n"
          ]
        },
        {
          "output_type": "stream",
          "name": "stderr",
          "text": [
            "\rUpdating start dates:  83%|████████▎ | 933/1128 [05:02<00:57,  3.39it/s]"
          ]
        },
        {
          "output_type": "stream",
          "name": "stdout",
          "text": [
            "Start date updated for performance code PF191729: 2022.08.05 -> 2022.07.05\n"
          ]
        },
        {
          "output_type": "stream",
          "name": "stderr",
          "text": [
            "Updating start dates:  83%|████████▎ | 935/1128 [05:03<00:50,  3.82it/s]"
          ]
        },
        {
          "output_type": "stream",
          "name": "stdout",
          "text": [
            "Start date updated for performance code PF200094: 2022.12.30 -> 2022.10.14\n",
            "Start date updated for performance code PF227671: 2023.11.11 -> 2023.10.12\n"
          ]
        },
        {
          "output_type": "stream",
          "name": "stderr",
          "text": [
            "\rUpdating start dates:  83%|████████▎ | 936/1128 [05:03<00:51,  3.72it/s]"
          ]
        },
        {
          "output_type": "stream",
          "name": "stdout",
          "text": [
            "Start date updated for performance code PF187883: 2022.04.01 -> 2022.03.10\n"
          ]
        },
        {
          "output_type": "stream",
          "name": "stderr",
          "text": [
            "\rUpdating start dates:  83%|████████▎ | 937/1128 [05:03<00:49,  3.85it/s]"
          ]
        },
        {
          "output_type": "stream",
          "name": "stdout",
          "text": [
            "Start date updated for performance code PF220958: 2023.07.29 -> 2023.07.14\n"
          ]
        },
        {
          "output_type": "stream",
          "name": "stderr",
          "text": [
            "\rUpdating start dates:  83%|████████▎ | 938/1128 [05:03<00:47,  3.99it/s]"
          ]
        },
        {
          "output_type": "stream",
          "name": "stdout",
          "text": [
            "Start date updated for performance code PF215156: 2023.06.10 -> 2023.03.16\n"
          ]
        },
        {
          "output_type": "stream",
          "name": "stderr",
          "text": [
            "\rUpdating start dates:  83%|████████▎ | 939/1128 [05:04<00:46,  4.04it/s]"
          ]
        },
        {
          "output_type": "stream",
          "name": "stdout",
          "text": [
            "Start date updated for performance code PF226484: 2023.12.16 -> 2023.09.21\n"
          ]
        },
        {
          "output_type": "stream",
          "name": "stderr",
          "text": [
            "\rUpdating start dates:  83%|████████▎ | 940/1128 [05:04<00:51,  3.64it/s]"
          ]
        },
        {
          "output_type": "stream",
          "name": "stdout",
          "text": [
            "Start date updated for performance code PF185417: 2022.02.18 -> 2022.02.15\n"
          ]
        },
        {
          "output_type": "stream",
          "name": "stderr",
          "text": [
            "\rUpdating start dates:  83%|████████▎ | 941/1128 [05:04<01:01,  3.04it/s]"
          ]
        },
        {
          "output_type": "stream",
          "name": "stdout",
          "text": [
            "Start date updated for performance code PF191212: 2022.07.29 -> 2022.05.17\n"
          ]
        },
        {
          "output_type": "stream",
          "name": "stderr",
          "text": [
            "\rUpdating start dates:  84%|████████▎ | 942/1128 [05:05<00:57,  3.21it/s]"
          ]
        },
        {
          "output_type": "stream",
          "name": "stdout",
          "text": [
            "Start date updated for performance code PF226366: 2023.12.01 -> 2023.09.21\n"
          ]
        },
        {
          "output_type": "stream",
          "name": "stderr",
          "text": [
            "\rUpdating start dates:  84%|████████▎ | 943/1128 [05:05<00:52,  3.54it/s]"
          ]
        },
        {
          "output_type": "stream",
          "name": "stdout",
          "text": [
            "Start date updated for performance code PF215333: 2023.06.17 -> 2023.03.17\n"
          ]
        },
        {
          "output_type": "stream",
          "name": "stderr",
          "text": [
            "\rUpdating start dates:  84%|████████▎ | 944/1128 [05:05<00:50,  3.61it/s]"
          ]
        },
        {
          "output_type": "stream",
          "name": "stdout",
          "text": [
            "Start date updated for performance code PF225268: 2023.10.07 -> 2023.09.04\n"
          ]
        },
        {
          "output_type": "stream",
          "name": "stderr",
          "text": [
            "\rUpdating start dates:  84%|████████▍ | 945/1128 [05:05<00:49,  3.68it/s]"
          ]
        },
        {
          "output_type": "stream",
          "name": "stdout",
          "text": [
            "Start date updated for performance code PF201420: 2023.01.28 -> 2022.11.02\n"
          ]
        },
        {
          "output_type": "stream",
          "name": "stderr",
          "text": [
            "\rUpdating start dates:  84%|████████▍ | 946/1128 [05:06<00:51,  3.53it/s]"
          ]
        },
        {
          "output_type": "stream",
          "name": "stdout",
          "text": [
            "Start date updated for performance code PF187993: 2022.04.09 -> 2022.03.14\n"
          ]
        },
        {
          "output_type": "stream",
          "name": "stderr",
          "text": [
            "\rUpdating start dates:  84%|████████▍ | 947/1128 [05:06<00:53,  3.39it/s]"
          ]
        },
        {
          "output_type": "stream",
          "name": "stdout",
          "text": [
            "Start date updated for performance code PF204767: 2023.03.11 -> 2022.11.08\n"
          ]
        },
        {
          "output_type": "stream",
          "name": "stderr",
          "text": [
            "\rUpdating start dates:  84%|████████▍ | 948/1128 [05:06<00:51,  3.50it/s]"
          ]
        },
        {
          "output_type": "stream",
          "name": "stdout",
          "text": [
            "Start date updated for performance code PF221615: 2023.07.22 -> 2023.07.05\n"
          ]
        },
        {
          "output_type": "stream",
          "name": "stderr",
          "text": [
            "\rUpdating start dates:  84%|████████▍ | 949/1128 [05:07<00:50,  3.56it/s]"
          ]
        },
        {
          "output_type": "stream",
          "name": "stdout",
          "text": [
            "Start date updated for performance code PF200362: 2022.11.12 -> 2022.10.18\n"
          ]
        },
        {
          "output_type": "stream",
          "name": "stderr",
          "text": [
            "\rUpdating start dates:  84%|████████▍ | 950/1128 [05:07<00:49,  3.62it/s]"
          ]
        },
        {
          "output_type": "stream",
          "name": "stdout",
          "text": [
            "Start date updated for performance code PF209846: 2023.02.10 -> 2023.01.16\n"
          ]
        },
        {
          "output_type": "stream",
          "name": "stderr",
          "text": [
            "\rUpdating start dates:  84%|████████▍ | 951/1128 [05:07<00:47,  3.76it/s]"
          ]
        },
        {
          "output_type": "stream",
          "name": "stdout",
          "text": [
            "Start date updated for performance code PF229607: 2023.12.15 -> 2023.12.04\n"
          ]
        },
        {
          "output_type": "stream",
          "name": "stderr",
          "text": [
            "\rUpdating start dates:  84%|████████▍ | 952/1128 [05:07<00:49,  3.55it/s]"
          ]
        },
        {
          "output_type": "stream",
          "name": "stdout",
          "text": [
            "Start date updated for performance code PF200661: 2022.11.18 -> 2022.10.21\n"
          ]
        },
        {
          "output_type": "stream",
          "name": "stderr",
          "text": [
            "\rUpdating start dates:  84%|████████▍ | 953/1128 [05:08<00:46,  3.75it/s]"
          ]
        },
        {
          "output_type": "stream",
          "name": "stdout",
          "text": [
            "Start date updated for performance code PF200988: 2022.12.10 -> 2022.10.27\n"
          ]
        },
        {
          "output_type": "stream",
          "name": "stderr",
          "text": [
            "\rUpdating start dates:  85%|████████▍ | 954/1128 [05:08<00:49,  3.50it/s]"
          ]
        },
        {
          "output_type": "stream",
          "name": "stdout",
          "text": [
            "Start date updated for performance code PF190926: 2022.06.03 -> 2022.12.18\n"
          ]
        },
        {
          "output_type": "stream",
          "name": "stderr",
          "text": [
            "\rUpdating start dates:  85%|████████▍ | 955/1128 [05:08<01:02,  2.76it/s]"
          ]
        },
        {
          "output_type": "stream",
          "name": "stdout",
          "text": [
            "Start date updated for performance code PF228204: 2023.12.20 -> 2023.10.22\n"
          ]
        },
        {
          "output_type": "stream",
          "name": "stderr",
          "text": [
            "\rUpdating start dates:  85%|████████▍ | 956/1128 [05:09<00:57,  2.99it/s]"
          ]
        },
        {
          "output_type": "stream",
          "name": "stdout",
          "text": [
            "Start date updated for performance code PF222146: 2023.08.11 -> 2023.07.13\n"
          ]
        },
        {
          "output_type": "stream",
          "name": "stderr",
          "text": [
            "\rUpdating start dates:  85%|████████▍ | 957/1128 [05:09<00:53,  3.20it/s]"
          ]
        },
        {
          "output_type": "stream",
          "name": "stdout",
          "text": [
            "Start date updated for performance code PF218802: 2023.07.14 -> 2023.05.19\n"
          ]
        },
        {
          "output_type": "stream",
          "name": "stderr",
          "text": [
            "Updating start dates:  85%|████████▌ | 959/1128 [05:10<01:05,  2.59it/s]"
          ]
        },
        {
          "output_type": "stream",
          "name": "stdout",
          "text": [
            "Start date updated for performance code PF225293: 2023.09.23 -> 2023.09.05\n"
          ]
        },
        {
          "output_type": "stream",
          "name": "stderr",
          "text": [
            "\rUpdating start dates:  85%|████████▌ | 960/1128 [05:10<00:59,  2.83it/s]"
          ]
        },
        {
          "output_type": "stream",
          "name": "stdout",
          "text": [
            "Start date updated for performance code PF147099: 2018.11.04 -> 2022.12.26\n"
          ]
        },
        {
          "output_type": "stream",
          "name": "stderr",
          "text": [
            "\rUpdating start dates:  85%|████████▌ | 961/1128 [05:10<00:54,  3.07it/s]"
          ]
        },
        {
          "output_type": "stream",
          "name": "stdout",
          "text": [
            "Start date updated for performance code PF196885: 2022.10.23 -> 2022.08.22\n"
          ]
        },
        {
          "output_type": "stream",
          "name": "stderr",
          "text": [
            "\rUpdating start dates:  85%|████████▌ | 962/1128 [05:11<00:52,  3.18it/s]"
          ]
        },
        {
          "output_type": "stream",
          "name": "stdout",
          "text": [
            "Start date updated for performance code PF220222: 2023.08.19 -> 2023.06.14\n"
          ]
        },
        {
          "output_type": "stream",
          "name": "stderr",
          "text": [
            "\rUpdating start dates:  85%|████████▌ | 963/1128 [05:11<00:48,  3.41it/s]"
          ]
        },
        {
          "output_type": "stream",
          "name": "stdout",
          "text": [
            "Start date updated for performance code PF174214: 2021.05.08 -> 2022.12.15\n"
          ]
        },
        {
          "output_type": "stream",
          "name": "stderr",
          "text": [
            "\rUpdating start dates:  85%|████████▌ | 964/1128 [05:11<00:47,  3.48it/s]"
          ]
        },
        {
          "output_type": "stream",
          "name": "stdout",
          "text": [
            "Start date updated for performance code PF212502: 2023.03.17 -> 2023.02.01\n"
          ]
        },
        {
          "output_type": "stream",
          "name": "stderr",
          "text": [
            "\rUpdating start dates:  86%|████████▌ | 965/1128 [05:12<00:50,  3.24it/s]"
          ]
        },
        {
          "output_type": "stream",
          "name": "stdout",
          "text": [
            "Start date updated for performance code PF231837: 2023.12.30 -> 2023.12.04\n"
          ]
        },
        {
          "output_type": "stream",
          "name": "stderr",
          "text": [
            "\rUpdating start dates:  86%|████████▌ | 966/1128 [05:12<00:48,  3.35it/s]"
          ]
        },
        {
          "output_type": "stream",
          "name": "stdout",
          "text": [
            "Start date updated for performance code PF192311: 2022.08.12 -> 2022.08.01\n"
          ]
        },
        {
          "output_type": "stream",
          "name": "stderr",
          "text": [
            "\rUpdating start dates:  86%|████████▌ | 967/1128 [05:12<00:45,  3.57it/s]"
          ]
        },
        {
          "output_type": "stream",
          "name": "stdout",
          "text": [
            "Start date updated for performance code PF228694: 2023.12.02 -> 2023.10.25\n"
          ]
        },
        {
          "output_type": "stream",
          "name": "stderr",
          "text": [
            "\rUpdating start dates:  86%|████████▌ | 968/1128 [05:12<00:43,  3.67it/s]"
          ]
        },
        {
          "output_type": "stream",
          "name": "stdout",
          "text": [
            "Start date updated for performance code PF199934: 2023.01.07 -> 2022.10.12\n"
          ]
        },
        {
          "output_type": "stream",
          "name": "stderr",
          "text": [
            "\rUpdating start dates:  86%|████████▌ | 969/1128 [05:13<00:42,  3.76it/s]"
          ]
        },
        {
          "output_type": "stream",
          "name": "stdout",
          "text": [
            "Start date updated for performance code PF221451: 2023.07.29 -> 2023.07.03\n"
          ]
        },
        {
          "output_type": "stream",
          "name": "stderr",
          "text": [
            "\rUpdating start dates:  86%|████████▌ | 970/1128 [05:13<00:39,  3.96it/s]"
          ]
        },
        {
          "output_type": "stream",
          "name": "stdout",
          "text": [
            "Start date updated for performance code PF204709: 2023.02.24 -> 2022.12.22\n"
          ]
        },
        {
          "output_type": "stream",
          "name": "stderr",
          "text": [
            "\rUpdating start dates:  86%|████████▌ | 971/1128 [05:13<00:38,  4.09it/s]"
          ]
        },
        {
          "output_type": "stream",
          "name": "stdout",
          "text": [
            "Start date updated for performance code PF194079: 2022.07.30 -> 2022.07.19\n"
          ]
        },
        {
          "output_type": "stream",
          "name": "stderr",
          "text": [
            "\rUpdating start dates:  86%|████████▌ | 972/1128 [05:13<00:42,  3.69it/s]"
          ]
        },
        {
          "output_type": "stream",
          "name": "stdout",
          "text": [
            "Start date updated for performance code PF227674: 2023.12.15 -> 2023.10.24\n"
          ]
        },
        {
          "output_type": "stream",
          "name": "stderr",
          "text": [
            "\rUpdating start dates:  86%|████████▋ | 973/1128 [05:14<00:40,  3.87it/s]"
          ]
        },
        {
          "output_type": "stream",
          "name": "stdout",
          "text": [
            "Start date updated for performance code PF194767: 2022.09.24 -> 2022.08.19\n"
          ]
        },
        {
          "output_type": "stream",
          "name": "stderr",
          "text": [
            "\rUpdating start dates:  86%|████████▋ | 974/1128 [05:14<00:40,  3.79it/s]"
          ]
        },
        {
          "output_type": "stream",
          "name": "stdout",
          "text": [
            "Start date updated for performance code PF202738: 2022.12.16 -> 2022.11.21\n"
          ]
        },
        {
          "output_type": "stream",
          "name": "stderr",
          "text": [
            "\rUpdating start dates:  86%|████████▋ | 975/1128 [05:14<00:41,  3.67it/s]"
          ]
        },
        {
          "output_type": "stream",
          "name": "stdout",
          "text": [
            "Start date updated for performance code PF226152: 2023.10.28 -> 2023.09.18\n"
          ]
        },
        {
          "output_type": "stream",
          "name": "stderr",
          "text": [
            "\rUpdating start dates:  87%|████████▋ | 976/1128 [05:14<00:39,  3.84it/s]"
          ]
        },
        {
          "output_type": "stream",
          "name": "stdout",
          "text": [
            "Start date updated for performance code PF227755: 2023.12.02 -> 2023.11.20\n"
          ]
        },
        {
          "output_type": "stream",
          "name": "stderr",
          "text": [
            "\rUpdating start dates:  87%|████████▋ | 977/1128 [05:15<00:40,  3.77it/s]"
          ]
        },
        {
          "output_type": "stream",
          "name": "stdout",
          "text": [
            "Start date updated for performance code PF192624: 2022.08.20 -> 2022.06.09\n"
          ]
        },
        {
          "output_type": "stream",
          "name": "stderr",
          "text": [
            "\rUpdating start dates:  87%|████████▋ | 978/1128 [05:15<00:49,  3.03it/s]"
          ]
        },
        {
          "output_type": "stream",
          "name": "stdout",
          "text": [
            "Start date updated for performance code PF203812: 2023.01.07 -> 2022.12.07\n"
          ]
        },
        {
          "output_type": "stream",
          "name": "stderr",
          "text": [
            "\rUpdating start dates:  87%|████████▋ | 979/1128 [05:15<00:46,  3.24it/s]"
          ]
        },
        {
          "output_type": "stream",
          "name": "stdout",
          "text": [
            "Start date updated for performance code PF215988: 2023.05.20 -> 2023.03.30\n"
          ]
        },
        {
          "output_type": "stream",
          "name": "stderr",
          "text": [
            "\rUpdating start dates:  87%|████████▋ | 980/1128 [05:16<00:45,  3.23it/s]"
          ]
        },
        {
          "output_type": "stream",
          "name": "stdout",
          "text": [
            "Start date updated for performance code PF199902: 2022.12.03 -> 2022.10.12\n"
          ]
        },
        {
          "output_type": "stream",
          "name": "stderr",
          "text": [
            "\rUpdating start dates:  87%|████████▋ | 981/1128 [05:16<00:44,  3.34it/s]"
          ]
        },
        {
          "output_type": "stream",
          "name": "stdout",
          "text": [
            "Start date updated for performance code PF219269: 2023.06.02 -> 2023.05.31\n"
          ]
        },
        {
          "output_type": "stream",
          "name": "stderr",
          "text": [
            "\rUpdating start dates:  87%|████████▋ | 982/1128 [05:16<00:48,  3.02it/s]"
          ]
        },
        {
          "output_type": "stream",
          "name": "stdout",
          "text": [
            "Start date updated for performance code PF189219: 2022.05.13 -> 2022.04.08\n"
          ]
        },
        {
          "output_type": "stream",
          "name": "stderr",
          "text": [
            "\rUpdating start dates:  87%|████████▋ | 983/1128 [05:17<00:44,  3.29it/s]"
          ]
        },
        {
          "output_type": "stream",
          "name": "stdout",
          "text": [
            "Start date updated for performance code PF222686: 2023.08.31 -> 2023.07.24\n"
          ]
        },
        {
          "output_type": "stream",
          "name": "stderr",
          "text": [
            "\rUpdating start dates:  87%|████████▋ | 984/1128 [05:17<00:44,  3.23it/s]"
          ]
        },
        {
          "output_type": "stream",
          "name": "stdout",
          "text": [
            "Start date updated for performance code PF188631: 2022.05.27 -> 2022.03.29\n"
          ]
        },
        {
          "output_type": "stream",
          "name": "stderr",
          "text": [
            "Updating start dates:  87%|████████▋ | 986/1128 [05:17<00:37,  3.80it/s]"
          ]
        },
        {
          "output_type": "stream",
          "name": "stdout",
          "text": [
            "Start date updated for performance code PF212501: 2023.04.07 -> 2023.02.19\n",
            "Start date updated for performance code PF184773: 2022.03.05 -> 2022.02.21\n"
          ]
        },
        {
          "output_type": "stream",
          "name": "stderr",
          "text": [
            "\rUpdating start dates:  88%|████████▊ | 987/1128 [05:18<00:36,  3.90it/s]"
          ]
        },
        {
          "output_type": "stream",
          "name": "stdout",
          "text": [
            "Start date updated for performance code PF209838: 2023.01.27 -> 2023.01.19\n"
          ]
        },
        {
          "output_type": "stream",
          "name": "stderr",
          "text": [
            "\rUpdating start dates:  88%|████████▊ | 988/1128 [05:18<00:36,  3.82it/s]"
          ]
        },
        {
          "output_type": "stream",
          "name": "stdout",
          "text": [
            "Start date updated for performance code PF201124: 2022.12.16 -> 2022.11.15\n"
          ]
        },
        {
          "output_type": "stream",
          "name": "stderr",
          "text": [
            "\rUpdating start dates:  88%|████████▊ | 989/1128 [05:18<00:41,  3.33it/s]"
          ]
        },
        {
          "output_type": "stream",
          "name": "stdout",
          "text": [
            "Start date updated for performance code PF190204: 2022.06.17 -> 2022.05.13\n"
          ]
        },
        {
          "output_type": "stream",
          "name": "stderr",
          "text": [
            "\rUpdating start dates:  88%|████████▊ | 990/1128 [05:19<00:41,  3.30it/s]"
          ]
        },
        {
          "output_type": "stream",
          "name": "stdout",
          "text": [
            "Start date updated for performance code PF196664: 2022.10.07 -> 2022.08.18\n"
          ]
        },
        {
          "output_type": "stream",
          "name": "stderr",
          "text": [
            "\rUpdating start dates:  88%|████████▊ | 991/1128 [05:19<00:40,  3.38it/s]"
          ]
        },
        {
          "output_type": "stream",
          "name": "stdout",
          "text": [
            "Start date updated for performance code PF190618: 2022.08.02 -> 2022.05.05\n"
          ]
        },
        {
          "output_type": "stream",
          "name": "stderr",
          "text": [
            "\rUpdating start dates:  88%|████████▊ | 992/1128 [05:19<00:41,  3.29it/s]"
          ]
        },
        {
          "output_type": "stream",
          "name": "stdout",
          "text": [
            "Start date updated for performance code PF191145: 2022.05.21 -> 2022.05.13\n"
          ]
        },
        {
          "output_type": "stream",
          "name": "stderr",
          "text": [
            "\rUpdating start dates:  88%|████████▊ | 993/1128 [05:19<00:40,  3.35it/s]"
          ]
        },
        {
          "output_type": "stream",
          "name": "stdout",
          "text": [
            "Start date updated for performance code PF195298: 2022.10.08 -> 2022.09.22\n"
          ]
        },
        {
          "output_type": "stream",
          "name": "stderr",
          "text": [
            "\rUpdating start dates:  88%|████████▊ | 994/1128 [05:20<00:36,  3.69it/s]"
          ]
        },
        {
          "output_type": "stream",
          "name": "stdout",
          "text": [
            "Start date updated for performance code PF217215: 2023.06.23 -> 2023.04.20\n"
          ]
        },
        {
          "output_type": "stream",
          "name": "stderr",
          "text": [
            "\rUpdating start dates:  88%|████████▊ | 995/1128 [05:20<00:35,  3.71it/s]"
          ]
        },
        {
          "output_type": "stream",
          "name": "stdout",
          "text": [
            "Start date updated for performance code PF191386: 2022.07.02 -> 2022.05.19\n"
          ]
        },
        {
          "output_type": "stream",
          "name": "stderr",
          "text": [
            "\rUpdating start dates:  88%|████████▊ | 996/1128 [05:20<00:35,  3.74it/s]"
          ]
        },
        {
          "output_type": "stream",
          "name": "stdout",
          "text": [
            "Start date updated for performance code PF201368: 2022.12.30 -> 2022.11.02\n"
          ]
        },
        {
          "output_type": "stream",
          "name": "stderr",
          "text": [
            "\rUpdating start dates:  88%|████████▊ | 997/1128 [05:21<00:37,  3.50it/s]"
          ]
        },
        {
          "output_type": "stream",
          "name": "stdout",
          "text": [
            "Start date updated for performance code PF214532: 2023.04.08 -> 2023.03.06\n"
          ]
        },
        {
          "output_type": "stream",
          "name": "stderr",
          "text": [
            "\rUpdating start dates:  88%|████████▊ | 998/1128 [05:21<00:36,  3.59it/s]"
          ]
        },
        {
          "output_type": "stream",
          "name": "stdout",
          "text": [
            "Start date updated for performance code PF224901: 2023.10.13 -> 2023.08.29\n"
          ]
        },
        {
          "output_type": "stream",
          "name": "stderr",
          "text": [
            "\rUpdating start dates:  89%|████████▊ | 999/1128 [05:21<00:36,  3.50it/s]"
          ]
        },
        {
          "output_type": "stream",
          "name": "stdout",
          "text": [
            "Start date updated for performance code PF231071: 2023.12.21 -> 2023.11.27\n"
          ]
        },
        {
          "output_type": "stream",
          "name": "stderr",
          "text": [
            "\rUpdating start dates:  89%|████████▊ | 1000/1128 [05:21<00:35,  3.56it/s]"
          ]
        },
        {
          "output_type": "stream",
          "name": "stdout",
          "text": [
            "Start date updated for performance code PF218773: 2023.07.21 -> 2023.05.19\n"
          ]
        },
        {
          "output_type": "stream",
          "name": "stderr",
          "text": [
            "\rUpdating start dates:  89%|████████▊ | 1001/1128 [05:22<00:34,  3.70it/s]"
          ]
        },
        {
          "output_type": "stream",
          "name": "stdout",
          "text": [
            "Start date updated for performance code PF224517: 2023.09.25 -> 2023.08.23\n"
          ]
        },
        {
          "output_type": "stream",
          "name": "stderr",
          "text": [
            "\rUpdating start dates:  89%|████████▉ | 1002/1128 [05:22<00:34,  3.64it/s]"
          ]
        },
        {
          "output_type": "stream",
          "name": "stdout",
          "text": [
            "Start date updated for performance code PF187832: 2022.05.06 -> 2022.03.10\n"
          ]
        },
        {
          "output_type": "stream",
          "name": "stderr",
          "text": [
            "\rUpdating start dates:  89%|████████▉ | 1003/1128 [05:22<00:32,  3.85it/s]"
          ]
        },
        {
          "output_type": "stream",
          "name": "stdout",
          "text": [
            "Start date updated for performance code PF224831: 2023.10.06 -> 2023.08.29\n"
          ]
        },
        {
          "output_type": "stream",
          "name": "stderr",
          "text": [
            "\rUpdating start dates:  89%|████████▉ | 1004/1128 [05:22<00:31,  3.92it/s]"
          ]
        },
        {
          "output_type": "stream",
          "name": "stdout",
          "text": [
            "Start date updated for performance code PF202087: 2022.12.23 -> 2022.11.11\n"
          ]
        },
        {
          "output_type": "stream",
          "name": "stderr",
          "text": [
            "\rUpdating start dates:  89%|████████▉ | 1005/1128 [05:23<00:35,  3.47it/s]"
          ]
        },
        {
          "output_type": "stream",
          "name": "stdout",
          "text": [
            "Start date updated for performance code PF189073: 2022.06.03 -> 2022.04.05\n"
          ]
        },
        {
          "output_type": "stream",
          "name": "stderr",
          "text": [
            "\rUpdating start dates:  89%|████████▉ | 1006/1128 [05:23<00:36,  3.37it/s]"
          ]
        },
        {
          "output_type": "stream",
          "name": "stdout",
          "text": [
            "Start date updated for performance code PF193764: 2022.08.03 -> 2022.06.29\n"
          ]
        },
        {
          "output_type": "stream",
          "name": "stderr",
          "text": [
            "\rUpdating start dates:  89%|████████▉ | 1007/1128 [05:23<00:35,  3.43it/s]"
          ]
        },
        {
          "output_type": "stream",
          "name": "stdout",
          "text": [
            "Start date updated for performance code PF191078: 2022.06.25 -> 2022.05.17\n"
          ]
        },
        {
          "output_type": "stream",
          "name": "stderr",
          "text": [
            "\rUpdating start dates:  89%|████████▉ | 1008/1128 [05:24<00:34,  3.47it/s]"
          ]
        },
        {
          "output_type": "stream",
          "name": "stdout",
          "text": [
            "Start date updated for performance code PF196077: 2022.09.01 -> 2022.08.10\n"
          ]
        },
        {
          "output_type": "stream",
          "name": "stderr",
          "text": [
            "\rUpdating start dates:  89%|████████▉ | 1009/1128 [05:24<00:37,  3.21it/s]"
          ]
        },
        {
          "output_type": "stream",
          "name": "stdout",
          "text": [
            "Start date updated for performance code PF190909: 2022.05.28 -> 2022.05.10\n"
          ]
        },
        {
          "output_type": "stream",
          "name": "stderr",
          "text": [
            "\rUpdating start dates:  90%|████████▉ | 1010/1128 [05:24<00:34,  3.38it/s]"
          ]
        },
        {
          "output_type": "stream",
          "name": "stdout",
          "text": [
            "Start date updated for performance code PF225452: 2023.11.24 -> 2023.09.07\n"
          ]
        },
        {
          "output_type": "stream",
          "name": "stderr",
          "text": [
            "\rUpdating start dates:  90%|████████▉ | 1011/1128 [05:24<00:33,  3.52it/s]"
          ]
        },
        {
          "output_type": "stream",
          "name": "stdout",
          "text": [
            "Start date updated for performance code PF223137: 2023.10.26 -> 2023.08.01\n"
          ]
        },
        {
          "output_type": "stream",
          "name": "stderr",
          "text": [
            "\rUpdating start dates:  90%|████████▉ | 1012/1128 [05:25<00:31,  3.66it/s]"
          ]
        },
        {
          "output_type": "stream",
          "name": "stdout",
          "text": [
            "Start date updated for performance code PF190317: 2022.07.02 -> 2022.04.29\n"
          ]
        },
        {
          "output_type": "stream",
          "name": "stderr",
          "text": [
            "\rUpdating start dates:  90%|████████▉ | 1013/1128 [05:25<00:32,  3.56it/s]"
          ]
        },
        {
          "output_type": "stream",
          "name": "stdout",
          "text": [
            "Start date updated for performance code PF201418: 2022.12.22 -> 2022.11.05\n"
          ]
        },
        {
          "output_type": "stream",
          "name": "stderr",
          "text": [
            "\rUpdating start dates:  90%|████████▉ | 1014/1128 [05:25<00:32,  3.56it/s]"
          ]
        },
        {
          "output_type": "stream",
          "name": "stdout",
          "text": [
            "Start date updated for performance code PF186125: 2022.03.19 -> 2022.01.25\n"
          ]
        },
        {
          "output_type": "stream",
          "name": "stderr",
          "text": [
            "\rUpdating start dates:  90%|████████▉ | 1015/1128 [05:26<00:29,  3.78it/s]"
          ]
        },
        {
          "output_type": "stream",
          "name": "stdout",
          "text": [
            "Start date updated for performance code PF200828: 2022.11.19 -> 2022.10.25\n"
          ]
        },
        {
          "output_type": "stream",
          "name": "stderr",
          "text": [
            "\rUpdating start dates:  90%|█████████ | 1016/1128 [05:26<00:31,  3.56it/s]"
          ]
        },
        {
          "output_type": "stream",
          "name": "stdout",
          "text": [
            "Start date updated for performance code PF215750: 2023.04.22 -> 2023.03.27\n"
          ]
        },
        {
          "output_type": "stream",
          "name": "stderr",
          "text": [
            "\rUpdating start dates:  90%|█████████ | 1017/1128 [05:26<00:29,  3.76it/s]"
          ]
        },
        {
          "output_type": "stream",
          "name": "stdout",
          "text": [
            "Start date updated for performance code PF215418: 2023.05.05 -> 2023.03.22\n"
          ]
        },
        {
          "output_type": "stream",
          "name": "stderr",
          "text": [
            "Updating start dates:  90%|█████████ | 1019/1128 [05:27<00:37,  2.88it/s]"
          ]
        },
        {
          "output_type": "stream",
          "name": "stdout",
          "text": [
            "Start date updated for performance code PF227447: 2023.11.11 -> 2023.10.10\n",
            "Start date updated for performance code PF186872: 2022.03.11 -> 2022.02.18\n"
          ]
        },
        {
          "output_type": "stream",
          "name": "stderr",
          "text": [
            "\rUpdating start dates:  90%|█████████ | 1020/1128 [05:27<00:36,  2.99it/s]"
          ]
        },
        {
          "output_type": "stream",
          "name": "stdout",
          "text": [
            "Start date updated for performance code PF184972: 2022.02.19 -> 2021.11.23\n"
          ]
        },
        {
          "output_type": "stream",
          "name": "stderr",
          "text": [
            "\rUpdating start dates:  91%|█████████ | 1021/1128 [05:28<00:32,  3.28it/s]"
          ]
        },
        {
          "output_type": "stream",
          "name": "stdout",
          "text": [
            "Start date updated for performance code PF199904: 2022.12.17 -> 2022.10.13\n"
          ]
        },
        {
          "output_type": "stream",
          "name": "stderr",
          "text": [
            "\rUpdating start dates:  91%|█████████ | 1022/1128 [05:28<00:31,  3.33it/s]"
          ]
        },
        {
          "output_type": "stream",
          "name": "stdout",
          "text": [
            "Start date updated for performance code PF184797: 2022.01.08 -> 2021.12.10\n"
          ]
        },
        {
          "output_type": "stream",
          "name": "stderr",
          "text": [
            "\rUpdating start dates:  91%|█████████ | 1023/1128 [05:28<00:31,  3.32it/s]"
          ]
        },
        {
          "output_type": "stream",
          "name": "stdout",
          "text": [
            "Start date updated for performance code PF188531: 2022.05.13 -> 2022.03.24\n"
          ]
        },
        {
          "output_type": "stream",
          "name": "stderr",
          "text": [
            "\rUpdating start dates:  91%|█████████ | 1024/1128 [05:28<00:29,  3.54it/s]"
          ]
        },
        {
          "output_type": "stream",
          "name": "stdout",
          "text": [
            "Start date updated for performance code PF201357: 2022.11.29 -> 2022.12.29\n"
          ]
        },
        {
          "output_type": "stream",
          "name": "stderr",
          "text": [
            "\rUpdating start dates:  91%|█████████ | 1025/1128 [05:29<00:27,  3.80it/s]"
          ]
        },
        {
          "output_type": "stream",
          "name": "stdout",
          "text": [
            "Start date updated for performance code PF215157: 2023.05.13 -> 2023.03.16\n"
          ]
        },
        {
          "output_type": "stream",
          "name": "stderr",
          "text": [
            "\rUpdating start dates:  91%|█████████ | 1026/1128 [05:29<00:27,  3.78it/s]"
          ]
        },
        {
          "output_type": "stream",
          "name": "stdout",
          "text": [
            "Start date updated for performance code PF192241: 2022.07.22 -> 2022.07.15\n"
          ]
        },
        {
          "output_type": "stream",
          "name": "stderr",
          "text": [
            "\rUpdating start dates:  91%|█████████ | 1027/1128 [05:29<00:31,  3.18it/s]"
          ]
        },
        {
          "output_type": "stream",
          "name": "stdout",
          "text": [
            "Start date updated for performance code PF194883: 2022.08.10 -> 2022.07.19\n"
          ]
        },
        {
          "output_type": "stream",
          "name": "stderr",
          "text": [
            "\rUpdating start dates:  91%|█████████ | 1028/1128 [05:30<00:32,  3.12it/s]"
          ]
        },
        {
          "output_type": "stream",
          "name": "stdout",
          "text": [
            "Start date updated for performance code PF191880: 2022.06.23 -> 2022.05.31\n"
          ]
        },
        {
          "output_type": "stream",
          "name": "stderr",
          "text": [
            "Updating start dates:  91%|█████████▏| 1030/1128 [05:30<00:27,  3.54it/s]"
          ]
        },
        {
          "output_type": "stream",
          "name": "stdout",
          "text": [
            "Start date updated for performance code PF182924: 2021.11.30 -> 2021.12.16\n",
            "Start date updated for performance code PF200984: 2022.12.02 -> 2022.10.27\n"
          ]
        },
        {
          "output_type": "stream",
          "name": "stderr",
          "text": [
            "\rUpdating start dates:  91%|█████████▏| 1031/1128 [05:30<00:26,  3.66it/s]"
          ]
        },
        {
          "output_type": "stream",
          "name": "stdout",
          "text": [
            "Start date updated for performance code PF186331: 2022.03.18 -> 2022.02.03\n"
          ]
        },
        {
          "output_type": "stream",
          "name": "stderr",
          "text": [
            "\rUpdating start dates:  91%|█████████▏| 1032/1128 [05:31<00:30,  3.14it/s]"
          ]
        },
        {
          "output_type": "stream",
          "name": "stdout",
          "text": [
            "Start date updated for performance code PF213453: 2023.03.16 -> 2023.02.17\n"
          ]
        },
        {
          "output_type": "stream",
          "name": "stderr",
          "text": [
            "\rUpdating start dates:  92%|█████████▏| 1033/1128 [05:31<00:28,  3.30it/s]"
          ]
        },
        {
          "output_type": "stream",
          "name": "stdout",
          "text": [
            "Start date updated for performance code PF190812: 2022.05.27 -> 2022.12.20\n"
          ]
        },
        {
          "output_type": "stream",
          "name": "stderr",
          "text": [
            "\rUpdating start dates:  92%|█████████▏| 1034/1128 [05:31<00:28,  3.29it/s]"
          ]
        },
        {
          "output_type": "stream",
          "name": "stdout",
          "text": [
            "Start date updated for performance code PF216063: 2023.06.16 -> 2023.03.30\n"
          ]
        },
        {
          "output_type": "stream",
          "name": "stderr",
          "text": [
            "\rUpdating start dates:  92%|█████████▏| 1035/1128 [05:32<00:27,  3.36it/s]"
          ]
        },
        {
          "output_type": "stream",
          "name": "stdout",
          "text": [
            "Start date updated for performance code PF215866: 2023.05.16 -> 2023.04.11\n"
          ]
        },
        {
          "output_type": "stream",
          "name": "stderr",
          "text": [
            "\rUpdating start dates:  92%|█████████▏| 1036/1128 [05:32<00:25,  3.63it/s]"
          ]
        },
        {
          "output_type": "stream",
          "name": "stdout",
          "text": [
            "Start date updated for performance code PF192230: 2022.08.12 -> 2022.06.02\n"
          ]
        },
        {
          "output_type": "stream",
          "name": "stderr",
          "text": [
            "\rUpdating start dates:  92%|█████████▏| 1037/1128 [05:32<00:23,  3.84it/s]"
          ]
        },
        {
          "output_type": "stream",
          "name": "stdout",
          "text": [
            "Start date updated for performance code PF217861: 2023.07.15 -> 2023.05.03\n"
          ]
        },
        {
          "output_type": "stream",
          "name": "stderr",
          "text": [
            "Updating start dates:  92%|█████████▏| 1039/1128 [05:33<00:22,  4.01it/s]"
          ]
        },
        {
          "output_type": "stream",
          "name": "stdout",
          "text": [
            "Start date updated for performance code PF192642: 2022.07.23 -> 2022.06.10\n",
            "Start date updated for performance code PF224762: 2023.10.13 -> 2023.08.31\n"
          ]
        },
        {
          "output_type": "stream",
          "name": "stderr",
          "text": [
            "\rUpdating start dates:  92%|█████████▏| 1040/1128 [05:33<00:21,  4.03it/s]"
          ]
        },
        {
          "output_type": "stream",
          "name": "stdout",
          "text": [
            "Start date updated for performance code PF224443: 2023.09.16 -> 2023.08.22\n"
          ]
        },
        {
          "output_type": "stream",
          "name": "stderr",
          "text": [
            "\rUpdating start dates:  92%|█████████▏| 1041/1128 [05:33<00:23,  3.67it/s]"
          ]
        },
        {
          "output_type": "stream",
          "name": "stdout",
          "text": [
            "Start date updated for performance code PF189916: 2022.07.02 -> 2022.04.21\n"
          ]
        },
        {
          "output_type": "stream",
          "name": "stderr",
          "text": [
            "\rUpdating start dates:  92%|█████████▏| 1042/1128 [05:34<00:24,  3.57it/s]"
          ]
        },
        {
          "output_type": "stream",
          "name": "stdout",
          "text": [
            "Start date updated for performance code PF201668: 2022.12.03 -> 2022.10.05\n"
          ]
        },
        {
          "output_type": "stream",
          "name": "stderr",
          "text": [
            "\rUpdating start dates:  92%|█████████▏| 1043/1128 [05:34<00:23,  3.66it/s]"
          ]
        },
        {
          "output_type": "stream",
          "name": "stdout",
          "text": [
            "Start date updated for performance code PF184008: 2022.01.22 -> 2021.11.29\n"
          ]
        },
        {
          "output_type": "stream",
          "name": "stderr",
          "text": [
            "\rUpdating start dates:  93%|█████████▎| 1044/1128 [05:34<00:21,  3.87it/s]"
          ]
        },
        {
          "output_type": "stream",
          "name": "stdout",
          "text": [
            "Start date updated for performance code PF201664: 2022.12.17 -> 2022.11.07\n"
          ]
        },
        {
          "output_type": "stream",
          "name": "stderr",
          "text": [
            "\rUpdating start dates:  93%|█████████▎| 1045/1128 [05:34<00:22,  3.73it/s]"
          ]
        },
        {
          "output_type": "stream",
          "name": "stdout",
          "text": [
            "Start date updated for performance code PF185077: 2022.02.19 -> 2021.12.21\n"
          ]
        },
        {
          "output_type": "stream",
          "name": "stderr",
          "text": [
            "\rUpdating start dates:  93%|█████████▎| 1046/1128 [05:35<00:21,  3.77it/s]"
          ]
        },
        {
          "output_type": "stream",
          "name": "stdout",
          "text": [
            "Start date updated for performance code PF218957: 2023.07.15 -> 2023.05.22\n"
          ]
        },
        {
          "output_type": "stream",
          "name": "stderr",
          "text": [
            "\rUpdating start dates:  93%|█████████▎| 1047/1128 [05:35<00:20,  3.97it/s]"
          ]
        },
        {
          "output_type": "stream",
          "name": "stdout",
          "text": [
            "Start date updated for performance code PF204278: 2023.01.14 -> 2022.12.14\n"
          ]
        },
        {
          "output_type": "stream",
          "name": "stderr",
          "text": [
            "\rUpdating start dates:  93%|█████████▎| 1048/1128 [05:35<00:20,  3.81it/s]"
          ]
        },
        {
          "output_type": "stream",
          "name": "stdout",
          "text": [
            "Start date updated for performance code PF183636: 2022.01.15 -> 2021.11.23\n"
          ]
        },
        {
          "output_type": "stream",
          "name": "stderr",
          "text": [
            "\rUpdating start dates:  93%|█████████▎| 1049/1128 [05:35<00:20,  3.94it/s]"
          ]
        },
        {
          "output_type": "stream",
          "name": "stdout",
          "text": [
            "Start date updated for performance code PF229434: 2023.12.30 -> 2023.11.06\n"
          ]
        },
        {
          "output_type": "stream",
          "name": "stderr",
          "text": [
            "\rUpdating start dates:  93%|█████████▎| 1050/1128 [05:36<00:19,  3.98it/s]"
          ]
        },
        {
          "output_type": "stream",
          "name": "stdout",
          "text": [
            "Start date updated for performance code PF189568: 2022.05.14 -> 2022.04.14\n"
          ]
        },
        {
          "output_type": "stream",
          "name": "stderr",
          "text": [
            "\rUpdating start dates:  93%|█████████▎| 1051/1128 [05:36<00:18,  4.10it/s]"
          ]
        },
        {
          "output_type": "stream",
          "name": "stdout",
          "text": [
            "Start date updated for performance code PF209465: 2023.06.22 -> 2023.01.17\n"
          ]
        },
        {
          "output_type": "stream",
          "name": "stderr",
          "text": [
            "\rUpdating start dates:  93%|█████████▎| 1052/1128 [05:36<00:17,  4.25it/s]"
          ]
        },
        {
          "output_type": "stream",
          "name": "stdout",
          "text": [
            "Start date updated for performance code PF201698: 2022.12.02 -> 2022.11.07\n"
          ]
        },
        {
          "output_type": "stream",
          "name": "stderr",
          "text": [
            "\rUpdating start dates:  93%|█████████▎| 1053/1128 [05:36<00:18,  4.15it/s]"
          ]
        },
        {
          "output_type": "stream",
          "name": "stdout",
          "text": [
            "Start date updated for performance code PF187464: 2022.04.22 -> 2022.03.14\n"
          ]
        },
        {
          "output_type": "stream",
          "name": "stderr",
          "text": [
            "\rUpdating start dates:  93%|█████████▎| 1054/1128 [05:37<00:20,  3.66it/s]"
          ]
        },
        {
          "output_type": "stream",
          "name": "stdout",
          "text": [
            "Start date updated for performance code PF192744: 2022.07.23 -> 2022.06.10\n"
          ]
        },
        {
          "output_type": "stream",
          "name": "stderr",
          "text": [
            "\rUpdating start dates:  94%|█████████▎| 1055/1128 [05:37<00:19,  3.70it/s]"
          ]
        },
        {
          "output_type": "stream",
          "name": "stdout",
          "text": [
            "Start date updated for performance code PF200827: 2022.12.10 -> 2022.10.25\n"
          ]
        },
        {
          "output_type": "stream",
          "name": "stderr",
          "text": [
            "\rUpdating start dates:  94%|█████████▎| 1056/1128 [05:37<00:20,  3.50it/s]"
          ]
        },
        {
          "output_type": "stream",
          "name": "stdout",
          "text": [
            "Start date updated for performance code PF189360: 2022.05.28 -> 2022.04.12\n"
          ]
        },
        {
          "output_type": "stream",
          "name": "stderr",
          "text": [
            "\rUpdating start dates:  94%|█████████▎| 1057/1128 [05:37<00:19,  3.63it/s]"
          ]
        },
        {
          "output_type": "stream",
          "name": "stdout",
          "text": [
            "Start date updated for performance code PF201252: 2022.12.09 -> 2022.11.01\n"
          ]
        },
        {
          "output_type": "stream",
          "name": "stderr",
          "text": [
            "\rUpdating start dates:  94%|█████████▍| 1058/1128 [05:38<00:19,  3.57it/s]"
          ]
        },
        {
          "output_type": "stream",
          "name": "stdout",
          "text": [
            "Start date updated for performance code PF187519: 2022.03.30 -> 2022.03.02\n"
          ]
        },
        {
          "output_type": "stream",
          "name": "stderr",
          "text": [
            "\rUpdating start dates:  94%|█████████▍| 1059/1128 [05:38<00:18,  3.68it/s]"
          ]
        },
        {
          "output_type": "stream",
          "name": "stdout",
          "text": [
            "Start date updated for performance code PF200903: 2022.12.10 -> 2022.10.26\n"
          ]
        },
        {
          "output_type": "stream",
          "name": "stderr",
          "text": [
            "\rUpdating start dates:  94%|█████████▍| 1060/1128 [05:38<00:19,  3.57it/s]"
          ]
        },
        {
          "output_type": "stream",
          "name": "stdout",
          "text": [
            "Start date updated for performance code PF217211: 2023.07.01 -> 2023.04.07\n"
          ]
        },
        {
          "output_type": "stream",
          "name": "stderr",
          "text": [
            "\rUpdating start dates:  94%|█████████▍| 1061/1128 [05:39<00:18,  3.58it/s]"
          ]
        },
        {
          "output_type": "stream",
          "name": "stdout",
          "text": [
            "Start date updated for performance code PF201986: 2022.12.17 -> 2022.11.10\n"
          ]
        },
        {
          "output_type": "stream",
          "name": "stderr",
          "text": [
            "\rUpdating start dates:  94%|█████████▍| 1062/1128 [05:39<00:17,  3.78it/s]"
          ]
        },
        {
          "output_type": "stream",
          "name": "stdout",
          "text": [
            "Start date updated for performance code PF204129: 2023.01.06 -> 2022.12.12\n"
          ]
        },
        {
          "output_type": "stream",
          "name": "stderr",
          "text": [
            "\rUpdating start dates:  94%|█████████▍| 1063/1128 [05:39<00:19,  3.35it/s]"
          ]
        },
        {
          "output_type": "stream",
          "name": "stdout",
          "text": [
            "Start date updated for performance code PF189925: 2022.05.29 -> 2022.04.21\n"
          ]
        },
        {
          "output_type": "stream",
          "name": "stderr",
          "text": [
            "\rUpdating start dates:  94%|█████████▍| 1064/1128 [05:39<00:17,  3.56it/s]"
          ]
        },
        {
          "output_type": "stream",
          "name": "stdout",
          "text": [
            "Start date updated for performance code PF192770: 2022.07.15 -> 2022.06.28\n"
          ]
        },
        {
          "output_type": "stream",
          "name": "stderr",
          "text": [
            "\rUpdating start dates:  94%|█████████▍| 1065/1128 [05:40<00:18,  3.48it/s]"
          ]
        },
        {
          "output_type": "stream",
          "name": "stdout",
          "text": [
            "Start date updated for performance code PF204068: 2023.02.04 -> 2022.12.12\n"
          ]
        },
        {
          "output_type": "stream",
          "name": "stderr",
          "text": [
            "\rUpdating start dates:  95%|█████████▍| 1066/1128 [05:40<00:17,  3.48it/s]"
          ]
        },
        {
          "output_type": "stream",
          "name": "stdout",
          "text": [
            "Start date updated for performance code PF185079: 2022.03.05 -> 2021.12.21\n"
          ]
        },
        {
          "output_type": "stream",
          "name": "stderr",
          "text": [
            "\rUpdating start dates:  95%|█████████▍| 1067/1128 [05:40<00:17,  3.56it/s]"
          ]
        },
        {
          "output_type": "stream",
          "name": "stdout",
          "text": [
            "Start date updated for performance code PF196924: 2022.12.09 -> 2022.08.27\n"
          ]
        },
        {
          "output_type": "stream",
          "name": "stderr",
          "text": [
            "\rUpdating start dates:  95%|█████████▍| 1068/1128 [05:40<00:15,  3.80it/s]"
          ]
        },
        {
          "output_type": "stream",
          "name": "stdout",
          "text": [
            "Start date updated for performance code PF220283: 2023.07.28 -> 2023.06.14\n"
          ]
        },
        {
          "output_type": "stream",
          "name": "stderr",
          "text": [
            "\rUpdating start dates:  95%|█████████▍| 1069/1128 [05:41<00:14,  3.99it/s]"
          ]
        },
        {
          "output_type": "stream",
          "name": "stdout",
          "text": [
            "Start date updated for performance code PF204533: 2023.02.03 -> 2022.12.20\n"
          ]
        },
        {
          "output_type": "stream",
          "name": "stderr",
          "text": [
            "\rUpdating start dates:  95%|█████████▍| 1070/1128 [05:41<00:16,  3.49it/s]"
          ]
        },
        {
          "output_type": "stream",
          "name": "stdout",
          "text": [
            "Start date updated for performance code PF199988: 2022.12.02 -> 2022.10.13\n"
          ]
        },
        {
          "output_type": "stream",
          "name": "stderr",
          "text": [
            "\rUpdating start dates:  95%|█████████▍| 1071/1128 [05:41<00:15,  3.68it/s]"
          ]
        },
        {
          "output_type": "stream",
          "name": "stdout",
          "text": [
            "Start date updated for performance code PF192782: 2022.07.23 -> 2022.06.13\n"
          ]
        },
        {
          "output_type": "stream",
          "name": "stderr",
          "text": [
            "\rUpdating start dates:  95%|█████████▌| 1072/1128 [05:42<00:14,  3.82it/s]"
          ]
        },
        {
          "output_type": "stream",
          "name": "stdout",
          "text": [
            "Start date updated for performance code PF211630: 2023.02.25 -> 2023.01.30\n"
          ]
        },
        {
          "output_type": "stream",
          "name": "stderr",
          "text": [
            "\rUpdating start dates:  95%|█████████▌| 1073/1128 [05:42<00:14,  3.82it/s]"
          ]
        },
        {
          "output_type": "stream",
          "name": "stdout",
          "text": [
            "Start date updated for performance code PF204311: 2023.01.28 -> 2022.12.15\n"
          ]
        },
        {
          "output_type": "stream",
          "name": "stderr",
          "text": [
            "\rUpdating start dates:  95%|█████████▌| 1074/1128 [05:42<00:14,  3.74it/s]"
          ]
        },
        {
          "output_type": "stream",
          "name": "stdout",
          "text": [
            "Start date updated for performance code PF215065: 2023.05.12 -> 2023.03.15\n"
          ]
        },
        {
          "output_type": "stream",
          "name": "stderr",
          "text": [
            "\rUpdating start dates:  95%|█████████▌| 1075/1128 [05:42<00:13,  3.86it/s]"
          ]
        },
        {
          "output_type": "stream",
          "name": "stdout",
          "text": [
            "Start date updated for performance code PF197237: 2022.10.11 -> 2022.09.13\n"
          ]
        },
        {
          "output_type": "stream",
          "name": "stderr",
          "text": [
            "\rUpdating start dates:  95%|█████████▌| 1076/1128 [05:43<00:12,  4.00it/s]"
          ]
        },
        {
          "output_type": "stream",
          "name": "stdout",
          "text": [
            "Start date updated for performance code PF190546: 2022.08.12 -> 2022.05.03\n"
          ]
        },
        {
          "output_type": "stream",
          "name": "stderr",
          "text": [
            "\rUpdating start dates:  95%|█████████▌| 1077/1128 [05:43<00:13,  3.83it/s]"
          ]
        },
        {
          "output_type": "stream",
          "name": "stdout",
          "text": [
            "Start date updated for performance code PF222844: 2023.09.09 -> 2023.07.26\n"
          ]
        },
        {
          "output_type": "stream",
          "name": "stderr",
          "text": [
            "\rUpdating start dates:  96%|█████████▌| 1078/1128 [05:43<00:12,  3.98it/s]"
          ]
        },
        {
          "output_type": "stream",
          "name": "stdout",
          "text": [
            "Start date updated for performance code PF213299: 2023.03.10 -> 2023.02.13\n"
          ]
        },
        {
          "output_type": "stream",
          "name": "stderr",
          "text": [
            "\rUpdating start dates:  96%|█████████▌| 1079/1128 [05:43<00:12,  4.03it/s]"
          ]
        },
        {
          "output_type": "stream",
          "name": "stdout",
          "text": [
            "Start date updated for performance code PF230177: 2023.12.01 -> 2023.11.15\n"
          ]
        },
        {
          "output_type": "stream",
          "name": "stderr",
          "text": [
            "\rUpdating start dates:  96%|█████████▌| 1080/1128 [05:44<00:11,  4.24it/s]"
          ]
        },
        {
          "output_type": "stream",
          "name": "stdout",
          "text": [
            "Start date updated for performance code PF226364: 2023.10.13 -> 2023.09.20\n"
          ]
        },
        {
          "output_type": "stream",
          "name": "stderr",
          "text": [
            "\rUpdating start dates:  96%|█████████▌| 1081/1128 [05:44<00:10,  4.38it/s]"
          ]
        },
        {
          "output_type": "stream",
          "name": "stdout",
          "text": [
            "Start date updated for performance code PF187833: 2022.05.13 -> 2022.03.15\n"
          ]
        },
        {
          "output_type": "stream",
          "name": "stderr",
          "text": [
            "Updating start dates:  96%|█████████▌| 1084/1128 [05:45<00:10,  4.08it/s]"
          ]
        },
        {
          "output_type": "stream",
          "name": "stdout",
          "text": [
            "Start date updated for performance code PF199989: 2022.12.23 -> 2022.10.13\n",
            "Start date updated for performance code PF222266: 2023.09.02 -> 2023.07.18\n"
          ]
        },
        {
          "output_type": "stream",
          "name": "stderr",
          "text": [
            "\rUpdating start dates:  96%|█████████▌| 1085/1128 [05:45<00:10,  4.06it/s]"
          ]
        },
        {
          "output_type": "stream",
          "name": "stdout",
          "text": [
            "Start date updated for performance code PF198144: 2022.11.23 -> 2022.10.11\n"
          ]
        },
        {
          "output_type": "stream",
          "name": "stderr",
          "text": [
            "\rUpdating start dates:  96%|█████████▋| 1086/1128 [05:45<00:11,  3.78it/s]"
          ]
        },
        {
          "output_type": "stream",
          "name": "stdout",
          "text": [
            "Start date updated for performance code PF193021: 2022.09.15 -> 2022.07.15\n"
          ]
        },
        {
          "output_type": "stream",
          "name": "stderr",
          "text": [
            "\rUpdating start dates:  96%|█████████▋| 1087/1128 [05:45<00:11,  3.54it/s]"
          ]
        },
        {
          "output_type": "stream",
          "name": "stdout",
          "text": [
            "Start date updated for performance code PF190694: 2022.06.11 -> 2022.05.12\n"
          ]
        },
        {
          "output_type": "stream",
          "name": "stderr",
          "text": [
            "\rUpdating start dates:  96%|█████████▋| 1088/1128 [05:46<00:12,  3.17it/s]"
          ]
        },
        {
          "output_type": "stream",
          "name": "stdout",
          "text": [
            "Start date updated for performance code PF193373: 2022.07.16 -> 2022.06.16\n"
          ]
        },
        {
          "output_type": "stream",
          "name": "stderr",
          "text": [
            "\rUpdating start dates:  97%|█████████▋| 1089/1128 [05:46<00:11,  3.47it/s]"
          ]
        },
        {
          "output_type": "stream",
          "name": "stdout",
          "text": [
            "Start date updated for performance code PF224905: 2023.10.07 -> 2023.08.30\n"
          ]
        },
        {
          "output_type": "stream",
          "name": "stderr",
          "text": [
            "Updating start dates:  97%|█████████▋| 1091/1128 [05:46<00:08,  4.13it/s]"
          ]
        },
        {
          "output_type": "stream",
          "name": "stdout",
          "text": [
            "Start date updated for performance code PF219688: 2023.07.01 -> 2023.06.04\n",
            "Start date updated for performance code PF227109: 2023.12.16 -> 2023.10.04\n"
          ]
        },
        {
          "output_type": "stream",
          "name": "stderr",
          "text": [
            "\rUpdating start dates:  97%|█████████▋| 1092/1128 [05:47<00:08,  4.30it/s]"
          ]
        },
        {
          "output_type": "stream",
          "name": "stdout",
          "text": [
            "Start date updated for performance code PF212601: 2023.02.04 -> 2023.02.02\n"
          ]
        },
        {
          "output_type": "stream",
          "name": "stderr",
          "text": [
            "\rUpdating start dates:  97%|█████████▋| 1093/1128 [05:47<00:09,  3.84it/s]"
          ]
        },
        {
          "output_type": "stream",
          "name": "stdout",
          "text": [
            "Start date updated for performance code PF226686: 2023.11.04 -> 2023.09.25\n"
          ]
        },
        {
          "output_type": "stream",
          "name": "stderr",
          "text": [
            "\rUpdating start dates:  97%|█████████▋| 1094/1128 [05:47<00:09,  3.77it/s]"
          ]
        },
        {
          "output_type": "stream",
          "name": "stdout",
          "text": [
            "Start date updated for performance code PF213270: 2023.04.29 -> 2023.02.10\n"
          ]
        },
        {
          "output_type": "stream",
          "name": "stderr",
          "text": [
            "\rUpdating start dates:  97%|█████████▋| 1095/1128 [05:47<00:08,  3.88it/s]"
          ]
        },
        {
          "output_type": "stream",
          "name": "stdout",
          "text": [
            "Start date updated for performance code PF183513: 2022.01.01 -> 2022.12.17\n"
          ]
        },
        {
          "output_type": "stream",
          "name": "stderr",
          "text": [
            "\rUpdating start dates:  97%|█████████▋| 1096/1128 [05:48<00:08,  3.80it/s]"
          ]
        },
        {
          "output_type": "stream",
          "name": "stdout",
          "text": [
            "Start date updated for performance code PF227706: 2023.11.10 -> 2023.10.12\n"
          ]
        },
        {
          "output_type": "stream",
          "name": "stderr",
          "text": [
            "\rUpdating start dates:  97%|█████████▋| 1097/1128 [05:48<00:08,  3.62it/s]"
          ]
        },
        {
          "output_type": "stream",
          "name": "stdout",
          "text": [
            "Start date updated for performance code PF205274: 2023.02.09 -> 2023.01.29\n"
          ]
        },
        {
          "output_type": "stream",
          "name": "stderr",
          "text": [
            "\rUpdating start dates:  97%|█████████▋| 1098/1128 [05:48<00:08,  3.54it/s]"
          ]
        },
        {
          "output_type": "stream",
          "name": "stdout",
          "text": [
            "Start date updated for performance code PF217124: 2023.06.24 -> 2023.04.19\n"
          ]
        },
        {
          "output_type": "stream",
          "name": "stderr",
          "text": [
            "\rUpdating start dates:  97%|█████████▋| 1099/1128 [05:49<00:08,  3.62it/s]"
          ]
        },
        {
          "output_type": "stream",
          "name": "stdout",
          "text": [
            "Start date updated for performance code PF195413: 2022.10.01 -> 2022.07.28\n"
          ]
        },
        {
          "output_type": "stream",
          "name": "stderr",
          "text": [
            "\rUpdating start dates:  98%|█████████▊| 1100/1128 [05:49<00:08,  3.42it/s]"
          ]
        },
        {
          "output_type": "stream",
          "name": "stdout",
          "text": [
            "Start date updated for performance code PF224434: 2023.12.16 -> 2023.08.22\n"
          ]
        },
        {
          "output_type": "stream",
          "name": "stderr",
          "text": [
            "\rUpdating start dates:  98%|█████████▊| 1101/1128 [05:49<00:07,  3.44it/s]"
          ]
        },
        {
          "output_type": "stream",
          "name": "stdout",
          "text": [
            "Start date updated for performance code PF196108: 2022.09.16 -> 2022.08.10\n"
          ]
        },
        {
          "output_type": "stream",
          "name": "stderr",
          "text": [
            "\rUpdating start dates:  98%|█████████▊| 1102/1128 [05:49<00:07,  3.68it/s]"
          ]
        },
        {
          "output_type": "stream",
          "name": "stdout",
          "text": [
            "Start date updated for performance code PF206120: 2023.01.31 -> 2023.01.03\n"
          ]
        },
        {
          "output_type": "stream",
          "name": "stderr",
          "text": [
            "\rUpdating start dates:  98%|█████████▊| 1103/1128 [05:50<00:07,  3.23it/s]"
          ]
        },
        {
          "output_type": "stream",
          "name": "stdout",
          "text": [
            "Start date updated for performance code PF190025: 2022.06.05 -> 2022.04.22\n"
          ]
        },
        {
          "output_type": "stream",
          "name": "stderr",
          "text": [
            "\rUpdating start dates:  98%|█████████▊| 1104/1128 [05:50<00:08,  2.86it/s]"
          ]
        },
        {
          "output_type": "stream",
          "name": "stdout",
          "text": [
            "Start date updated for performance code PF203381: 2023.03.16 -> 2023.03.07\n"
          ]
        },
        {
          "output_type": "stream",
          "name": "stderr",
          "text": [
            "\rUpdating start dates:  98%|█████████▊| 1105/1128 [05:51<00:07,  2.91it/s]"
          ]
        },
        {
          "output_type": "stream",
          "name": "stdout",
          "text": [
            "Start date updated for performance code PF227055: 2023.11.10 -> 2023.10.04\n"
          ]
        },
        {
          "output_type": "stream",
          "name": "stderr",
          "text": [
            "\rUpdating start dates:  98%|█████████▊| 1106/1128 [05:51<00:07,  2.86it/s]"
          ]
        },
        {
          "output_type": "stream",
          "name": "stdout",
          "text": [
            "Start date updated for performance code PF215159: 2023.05.06 -> 2023.03.16\n"
          ]
        },
        {
          "output_type": "stream",
          "name": "stderr",
          "text": [
            "\rUpdating start dates:  98%|█████████▊| 1107/1128 [05:51<00:06,  3.10it/s]"
          ]
        },
        {
          "output_type": "stream",
          "name": "stdout",
          "text": [
            "Start date updated for performance code PF218220: 2023.08.10 -> 2023.07.18\n"
          ]
        },
        {
          "output_type": "stream",
          "name": "stderr",
          "text": [
            "\rUpdating start dates:  98%|█████████▊| 1108/1128 [05:52<00:05,  3.33it/s]"
          ]
        },
        {
          "output_type": "stream",
          "name": "stdout",
          "text": [
            "Start date updated for performance code PF186401: 2022.03.08 -> 2022.02.03\n"
          ]
        },
        {
          "output_type": "stream",
          "name": "stderr",
          "text": [
            "\rUpdating start dates:  98%|█████████▊| 1109/1128 [05:52<00:05,  3.52it/s]"
          ]
        },
        {
          "output_type": "stream",
          "name": "stdout",
          "text": [
            "Start date updated for performance code PF184068: 2022.02.19 -> 2022.01.26\n"
          ]
        },
        {
          "output_type": "stream",
          "name": "stderr",
          "text": [
            "\rUpdating start dates:  98%|█████████▊| 1110/1128 [05:52<00:05,  3.06it/s]"
          ]
        },
        {
          "output_type": "stream",
          "name": "stdout",
          "text": [
            "Start date updated for performance code PF191228: 2022.07.23 -> 2022.05.17\n"
          ]
        },
        {
          "output_type": "stream",
          "name": "stderr",
          "text": [
            "\rUpdating start dates:  98%|█████████▊| 1111/1128 [05:52<00:05,  3.32it/s]"
          ]
        },
        {
          "output_type": "stream",
          "name": "stdout",
          "text": [
            "Start date updated for performance code PF226147: 2023.11.07 -> 2023.10.04\n"
          ]
        },
        {
          "output_type": "stream",
          "name": "stderr",
          "text": [
            "\rUpdating start dates:  99%|█████████▊| 1112/1128 [05:53<00:04,  3.49it/s]"
          ]
        },
        {
          "output_type": "stream",
          "name": "stdout",
          "text": [
            "Start date updated for performance code PF194011: 2022.07.08 -> 2022.12.29\n"
          ]
        },
        {
          "output_type": "stream",
          "name": "stderr",
          "text": [
            "\rUpdating start dates:  99%|█████████▊| 1113/1128 [05:53<00:04,  3.70it/s]"
          ]
        },
        {
          "output_type": "stream",
          "name": "stdout",
          "text": [
            "Start date updated for performance code PF180831: 2021.11.09 -> 2021.12.10\n"
          ]
        },
        {
          "output_type": "stream",
          "name": "stderr",
          "text": [
            "\rUpdating start dates:  99%|█████████▉| 1114/1128 [05:53<00:03,  3.60it/s]"
          ]
        },
        {
          "output_type": "stream",
          "name": "stdout",
          "text": [
            "Start date updated for performance code PF202503: 2023.02.04 -> 2022.11.28\n"
          ]
        },
        {
          "output_type": "stream",
          "name": "stderr",
          "text": [
            "\rUpdating start dates:  99%|█████████▉| 1115/1128 [05:53<00:03,  3.71it/s]"
          ]
        },
        {
          "output_type": "stream",
          "name": "stdout",
          "text": [
            "Start date updated for performance code PF203539: 2023.01.06 -> 2022.12.09\n"
          ]
        },
        {
          "output_type": "stream",
          "name": "stderr",
          "text": [
            "Updating start dates:  99%|█████████▉| 1117/1128 [05:54<00:02,  4.20it/s]"
          ]
        },
        {
          "output_type": "stream",
          "name": "stdout",
          "text": [
            "Start date updated for performance code PF193173: 2022.07.30 -> 2022.06.21\n",
            "Start date updated for performance code PF200085: 2022.11.24 -> 2022.10.23\n"
          ]
        },
        {
          "output_type": "stream",
          "name": "stderr",
          "text": [
            "Updating start dates:  99%|█████████▉| 1119/1128 [05:54<00:02,  4.40it/s]"
          ]
        },
        {
          "output_type": "stream",
          "name": "stdout",
          "text": [
            "Start date updated for performance code PF225778: 2023.12.30 -> 2023.09.12\n",
            "Start date updated for performance code PF201765: 2023.02.18 -> 2022.10.14\n"
          ]
        },
        {
          "output_type": "stream",
          "name": "stderr",
          "text": [
            "\rUpdating start dates:  99%|█████████▉| 1120/1128 [05:55<00:01,  4.47it/s]"
          ]
        },
        {
          "output_type": "stream",
          "name": "stdout",
          "text": [
            "Start date updated for performance code PF220069: 2023.08.22 -> 2023.06.12\n"
          ]
        },
        {
          "output_type": "stream",
          "name": "stderr",
          "text": [
            "\rUpdating start dates:  99%|█████████▉| 1121/1128 [05:55<00:01,  4.12it/s]"
          ]
        },
        {
          "output_type": "stream",
          "name": "stdout",
          "text": [
            "Start date updated for performance code PF200839: 2022.11.25 -> 2022.10.25\n"
          ]
        },
        {
          "output_type": "stream",
          "name": "stderr",
          "text": [
            "\rUpdating start dates:  99%|█████████▉| 1122/1128 [05:55<00:01,  4.21it/s]"
          ]
        },
        {
          "output_type": "stream",
          "name": "stdout",
          "text": [
            "Start date updated for performance code PF202238: 2022.12.24 -> 2022.12.14\n"
          ]
        },
        {
          "output_type": "stream",
          "name": "stderr",
          "text": [
            "\rUpdating start dates: 100%|█████████▉| 1123/1128 [05:55<00:01,  4.22it/s]"
          ]
        },
        {
          "output_type": "stream",
          "name": "stdout",
          "text": [
            "Start date updated for performance code PF190261: 2022.06.18 -> 2022.04.28\n"
          ]
        },
        {
          "output_type": "stream",
          "name": "stderr",
          "text": [
            "\rUpdating start dates: 100%|█████████▉| 1124/1128 [05:56<00:00,  4.19it/s]"
          ]
        },
        {
          "output_type": "stream",
          "name": "stdout",
          "text": [
            "Start date updated for performance code PF194485: 2022.09.29 -> 2022.07.24\n"
          ]
        },
        {
          "output_type": "stream",
          "name": "stderr",
          "text": [
            "\rUpdating start dates: 100%|█████████▉| 1125/1128 [05:56<00:00,  4.16it/s]"
          ]
        },
        {
          "output_type": "stream",
          "name": "stdout",
          "text": [
            "Start date updated for performance code PF185995: 2022.03.12 -> 2022.01.25\n"
          ]
        },
        {
          "output_type": "stream",
          "name": "stderr",
          "text": [
            "\rUpdating start dates: 100%|█████████▉| 1126/1128 [05:56<00:00,  3.83it/s]"
          ]
        },
        {
          "output_type": "stream",
          "name": "stdout",
          "text": [
            "Start date updated for performance code PF190876: 2022.07.02 -> 2022.05.10\n"
          ]
        },
        {
          "output_type": "stream",
          "name": "stderr",
          "text": [
            "\rUpdating start dates: 100%|█████████▉| 1127/1128 [05:56<00:00,  3.74it/s]"
          ]
        },
        {
          "output_type": "stream",
          "name": "stdout",
          "text": [
            "Start date updated for performance code PF188084: 2022.04.15 -> 2022.03.15\n"
          ]
        },
        {
          "output_type": "stream",
          "name": "stderr",
          "text": [
            "Updating start dates: 100%|██████████| 1128/1128 [05:57<00:00,  3.16it/s]"
          ]
        },
        {
          "output_type": "stream",
          "name": "stdout",
          "text": [
            "Start date updated for performance code PF223309: 2023.10.07 -> 2023.08.02\n",
            "Total updates: 1111\n"
          ]
        },
        {
          "output_type": "stream",
          "name": "stderr",
          "text": [
            "\n"
          ]
        }
      ]
    },
    {
      "cell_type": "markdown",
      "source": [
        "---\n",
        "\n",
        "기사 크롤링하는 코드"
      ],
      "metadata": {
        "id": "Y-At1LWBrJpO"
      }
    },
    {
      "cell_type": "code",
      "source": [
        "import requests\n",
        "import json\n",
        "from bs4 import BeautifulSoup\n",
        "import csv\n",
        "from datetime import datetime\n",
        "import pandas as pd\n",
        "from tqdm import tqdm\n",
        "\n",
        "def remove_html_tags(text):\n",
        "    return BeautifulSoup(text, \"html.parser\").get_text()\n",
        "\n",
        "def get_full_article_content(url, timeout=10):\n",
        "    try:\n",
        "        response = requests.get(url, timeout=timeout)\n",
        "        soup = BeautifulSoup(response.text, 'html.parser')\n",
        "        article_body = soup.find('article', id='dic_area')\n",
        "        journalist = soup.select_one('em.media_end_head_journalist_name')\n",
        "        journalist = journalist.text.strip() if journalist else ''\n",
        "        if article_body:\n",
        "            paragraphs = article_body.find_all('p')\n",
        "            return [p.get_text(strip=True) for p in paragraphs if p.get_text(strip=True)], journalist\n",
        "    except Exception as e:\n",
        "        print(f\"An error occurred while processing URL {url}: {str(e)}\")\n",
        "    return [], ''\n",
        "\n",
        "def search_news(query, start_date, end_date, client_id, client_secret):\n",
        "    url = \"https://openapi.naver.com/v1/search/news.json\"\n",
        "    headers = {\n",
        "        \"X-Naver-Client-Id\": client_id,\n",
        "        \"X-Naver-Client-Secret\": client_secret\n",
        "    }\n",
        "\n",
        "    articles = []\n",
        "    start = 1\n",
        "    display = 100\n",
        "\n",
        "    while True:\n",
        "        params = {\n",
        "            \"query\": query,\n",
        "            \"sort\": \"date\",\n",
        "            \"start\": start,\n",
        "            \"display\": display,\n",
        "            \"start_date\": start_date.strftime(\"%Y%m%d\"),\n",
        "            \"end_date\": end_date.strftime(\"%Y%m%d\")\n",
        "        }\n",
        "\n",
        "        response = requests.get(url, headers=headers, params=params)\n",
        "        result = json.loads(response.text)\n",
        "\n",
        "        print(f\"API Response for query '{query}': {result.get('total', 0)} total results\")\n",
        "\n",
        "        if \"items\" in result:\n",
        "            articles.extend(result[\"items\"])\n",
        "            print(f\"Retrieved {len(result['items'])} articles in this request\")\n",
        "\n",
        "            if len(result[\"items\"]) < display:\n",
        "                break\n",
        "\n",
        "            start += display\n",
        "        else:\n",
        "            print(f\"No items found in the response. Response: {result}\")\n",
        "            break\n",
        "\n",
        "    return articles\n",
        "\n",
        "def calculate_article_score(article, musical_name, theater_name):\n",
        "    content = ' '.join(article['full_content']).lower()\n",
        "    title = article['title'].lower()\n",
        "    musical_name = musical_name.lower()\n",
        "    theater_name = theater_name.lower()\n",
        "\n",
        "    score = 0\n",
        "\n",
        "    if musical_name in title:\n",
        "        score += 10\n",
        "\n",
        "    keywords = {\n",
        "        musical_name: 5,\n",
        "        theater_name: 3,\n",
        "        \"뮤지컬\": 4,\n",
        "        \"공연\": 3,\n",
        "        \"티켓\": 2,\n",
        "        \"예매\": 2,\n",
        "        \"배우\": 1,\n",
        "        \"출연\": 1,\n",
        "        \"관람\": 1,\n",
        "        \"무대\": 1,\n",
        "        \"연출\": 1,\n",
        "    }\n",
        "\n",
        "    for keyword, points in keywords.items():\n",
        "        score += content.count(keyword) * points\n",
        "\n",
        "    sentences = re.split(r'[.!?]+', content)\n",
        "    for i, sentence in enumerate(sentences):\n",
        "        if musical_name in sentence and \"뮤지컬\" in sentence:\n",
        "            score += 5\n",
        "        if i > 0 and musical_name in sentence and \"뮤지컬\" in sentences[i-1]:\n",
        "            score += 3\n",
        "\n",
        "    return score\n",
        "\n",
        "def get_musical_news(musical_name, theater_name, start_date, end_date, client_id, client_secret):\n",
        "    query = f'\"{musical_name}\" \"{theater_name}\"'\n",
        "    print(f\"\\nSearching for: {query}\")\n",
        "    print(f\"Date range: {start_date.strftime('%Y-%m-%d')} to {end_date.strftime('%Y-%m-%d')}\")\n",
        "\n",
        "    articles = search_news(query, start_date, end_date, client_id, client_secret)\n",
        "\n",
        "    filtered_articles = []\n",
        "    for i, article in enumerate(articles):\n",
        "        print(f\"\\nChecking article {i+1}: {article['link']}\")\n",
        "        article['full_content'], article['journalist'] = get_full_article_content(article['link'])\n",
        "\n",
        "        score = calculate_article_score(article, musical_name, theater_name)\n",
        "        article['score'] = score\n",
        "        print(f\"Article {i+1} score: {score}\")\n",
        "\n",
        "        if score >= 10:\n",
        "            filtered_articles.append(article)\n",
        "            print(f\"Article {i+1}: Added to filtered list\")\n",
        "        else:\n",
        "            print(f\"Article {i+1}: Filtered out\")\n",
        "\n",
        "    filtered_articles.sort(key=lambda x: x['score'], reverse=True)\n",
        "    print(f\"Total filtered articles: {len(filtered_articles)}\")\n",
        "    return filtered_articles\n",
        "\n",
        "def save_to_csv(articles, file_path):\n",
        "    with open(file_path, 'w', newline='', encoding='utf-8') as file:\n",
        "        writer = csv.writer(file)\n",
        "        writer.writerow(['Article Title', 'Publication Date', 'Article URL', 'Score', 'Journalist'] +\n",
        "                        [f'Paragraph {i}' for i in range(1, 11)])\n",
        "\n",
        "        for article in articles:\n",
        "            row = [\n",
        "                remove_html_tags(article['title']),\n",
        "                article['pubDate'],\n",
        "                article['link'],\n",
        "                article['score'],\n",
        "                article['journalist']\n",
        "            ]\n",
        "            for paragraph in article['full_content'][:10]:\n",
        "                row.append(paragraph)\n",
        "            writer.writerow(row)\n",
        "\n",
        "def process_musical(musical_name, theater_name, start_date, end_date, performance_code, client_id, client_secret):\n",
        "    start_date = datetime.strptime(start_date, \"%Y.%m.%d\")\n",
        "    end_date = datetime.strptime(end_date, \"%Y.%m.%d\")\n",
        "\n",
        "    print(f\"\\nProcessing: {musical_name} at {theater_name}\")\n",
        "    articles = get_musical_news(musical_name, theater_name, start_date, end_date, client_id, client_secret)\n",
        "\n",
        "    file_path = f\"/content/drive/MyDrive/data/news/{performance_code}.csv\"\n",
        "    save_to_csv(articles, file_path)\n",
        "\n",
        "    print(f\"Processed: {musical_name}, Found articles: {len(articles)}\")\n",
        "    print(f\"Results saved to: {file_path}\")\n",
        "\n",
        "def process_all_musicals(musicals_df, client_id, client_secret):\n",
        "    for _, musical in tqdm(musicals_df.iterrows(), total=len(musicals_df)):\n",
        "        if _ < 39:\n",
        "            continue\n",
        "        musical_name = musical['prfnm']\n",
        "        theater_name = musical['fcltynm']\n",
        "        start_date = musical['prfpdfrom']\n",
        "        end_date = musical['prfpdto']\n",
        "        performance_code = musical['mt20id']\n",
        "        try:\n",
        "            articles = process_musical(musical_name, theater_name, start_date, end_date, performance_code, client_id, client_secret)\n",
        "            if articles:\n",
        "                file_path = f\"/content/drive/MyDrive/data/news/{musical['mt20id']}.csv\"\n",
        "                save_to_csv(articles, file_path)\n",
        "                print(f\"Saved {len(articles)} articles for {musical['prfnm']}\")\n",
        "            else:\n",
        "                print(f\"No relevant articles found for {musical['prfnm']}\")\n",
        "        except Exception as e:\n",
        "            print(f\"Error processing {musical['prfnm']}: {str(e)}\")\n",
        "\n",
        "if __name__ == \"__main__\":\n",
        "    musicals_df = pd.read_csv(\"/content/drive/MyDrive/data/all_musicals.csv\")\n",
        "    process_all_musicals(musicals_df, client_id, client_secret)"
      ],
      "metadata": {
        "colab": {
          "base_uri": "https://localhost:8080/",
          "height": 1000
        },
        "id": "YZVS65mfgFn_",
        "outputId": "83b61d12-9a55-4a54-e49f-fd0d34fba3eb"
      },
      "execution_count": null,
      "outputs": [
        {
          "output_type": "stream",
          "name": "stderr",
          "text": [
            "\r  0%|          | 0/82 [00:00<?, ?it/s]"
          ]
        },
        {
          "output_type": "stream",
          "name": "stdout",
          "text": [
            "\n",
            "Processing: 셰익스피어 인 러브 at 예술의전당\n",
            "\n",
            "Searching for: \"셰익스피어 인 러브\" \"예술의전당\"\n",
            "Date range: 2022-12-16 to 2023-03-26\n",
            "API Response for query '\"셰익스피어 인 러브\" \"예술의전당\"': 1229 total results\n",
            "Retrieved 100 articles in this request\n",
            "API Response for query '\"셰익스피어 인 러브\" \"예술의전당\"': 1229 total results\n",
            "Retrieved 100 articles in this request\n",
            "API Response for query '\"셰익스피어 인 러브\" \"예술의전당\"': 1229 total results\n",
            "Retrieved 100 articles in this request\n",
            "API Response for query '\"셰익스피어 인 러브\" \"예술의전당\"': 1229 total results\n",
            "Retrieved 100 articles in this request\n",
            "API Response for query '\"셰익스피어 인 러브\" \"예술의전당\"': 1229 total results\n",
            "Retrieved 100 articles in this request\n",
            "API Response for query '\"셰익스피어 인 러브\" \"예술의전당\"': 1229 total results\n",
            "Retrieved 100 articles in this request\n",
            "API Response for query '\"셰익스피어 인 러브\" \"예술의전당\"': 1229 total results\n",
            "Retrieved 100 articles in this request\n",
            "API Response for query '\"셰익스피어 인 러브\" \"예술의전당\"': 1229 total results\n",
            "Retrieved 100 articles in this request\n",
            "API Response for query '\"셰익스피어 인 러브\" \"예술의전당\"': 1229 total results\n",
            "Retrieved 100 articles in this request\n",
            "API Response for query '\"셰익스피어 인 러브\" \"예술의전당\"': 1229 total results\n",
            "Retrieved 100 articles in this request\n",
            "API Response for query '\"셰익스피어 인 러브\" \"예술의전당\"': 0 total results\n",
            "No items found in the response. Response: {'errorMessage': 'Invalid start value (부적절한 start 값입니다.)', 'errorCode': 'SE03'}\n",
            "\n",
            "Checking article 1: http://www.kwangju.co.kr/article.php?aid=1717498500769131028\n",
            "Article 1 score: 0\n",
            "Article 1: Filtered out\n",
            "\n",
            "Checking article 2: https://n.news.naver.com/mnews/article/018/0005713426?sid=103\n",
            "Article 2 score: 0\n",
            "Article 2: Filtered out\n",
            "\n",
            "Checking article 3: https://n.news.naver.com/mnews/article/018/0005688129?sid=103\n",
            "Article 3 score: 0\n",
            "Article 3: Filtered out\n",
            "\n",
            "Checking article 4: https://www.sommeliertimes.com/news/articleView.html?idxno=126725\n",
            "Article 4 score: 0\n",
            "Article 4: Filtered out\n",
            "\n",
            "Checking article 5: https://n.news.naver.com/mnews/article/016/0002268273?sid=103\n",
            "Article 5 score: 0\n",
            "Article 5: Filtered out\n",
            "\n",
            "Checking article 6: https://n.news.naver.com/mnews/article/018/0005675063?sid=103\n",
            "Article 6 score: 0\n",
            "Article 6: Filtered out\n",
            "\n",
            "Checking article 7: https://n.news.naver.com/mnews/article/018/0005644973?sid=103\n",
            "Article 7 score: 0\n",
            "Article 7: Filtered out\n",
            "\n",
            "Checking article 8: https://n.news.naver.com/mnews/article/003/0012146194?sid=103\n",
            "Article 8 score: 0\n",
            "Article 8: Filtered out\n",
            "\n",
            "Checking article 9: http://enter.etoday.co.kr/news/view/248275\n",
            "Article 9 score: 0\n",
            "Article 9: Filtered out\n",
            "\n",
            "Checking article 10: https://m.entertain.naver.com/article/057/0001772380\n",
            "Article 10 score: 0\n",
            "Article 10: Filtered out\n",
            "\n",
            "Checking article 11: https://m.entertain.naver.com/article/144/0000916694\n",
            "Article 11 score: 0\n",
            "Article 11: Filtered out\n",
            "\n",
            "Checking article 12: https://www.wikitree.co.kr/articles/892008\n",
            "Article 12 score: 0\n",
            "Article 12: Filtered out\n",
            "\n",
            "Checking article 13: https://m.entertain.naver.com/article/241/0003304325\n",
            "Article 13 score: 0\n",
            "Article 13: Filtered out\n",
            "\n",
            "Checking article 14: http://www.topstarnews.net/news/articleView.html?idxno=15404457\n",
            "Article 14 score: 0\n",
            "Article 14: Filtered out\n",
            "\n",
            "Checking article 15: https://www.ekn.kr/web/view.php?key=20231005010000779\n",
            "Article 15 score: 0\n",
            "Article 15: Filtered out\n",
            "\n",
            "Checking article 16: https://m.entertain.naver.com/article/477/0000453966\n",
            "Article 16 score: 0\n",
            "Article 16: Filtered out\n",
            "\n",
            "Checking article 17: https://m.entertain.naver.com/article/021/0002597444\n",
            "Article 17 score: 0\n",
            "Article 17: Filtered out\n",
            "\n",
            "Checking article 18: https://m.entertain.naver.com/article/410/0000961419\n",
            "Article 18 score: 0\n",
            "Article 18: Filtered out\n",
            "\n",
            "Checking article 19: https://m.entertain.naver.com/article/629/0000242056\n",
            "Article 19 score: 0\n",
            "Article 19: Filtered out\n",
            "\n",
            "Checking article 20: https://m.entertain.naver.com/article/311/0001646049\n",
            "Article 20 score: 0\n",
            "Article 20: Filtered out\n",
            "\n",
            "Checking article 21: https://m.entertain.naver.com/article/416/0000299735\n",
            "Article 21 score: 0\n",
            "Article 21: Filtered out\n",
            "\n",
            "Checking article 22: http://www.stardailynews.co.kr/news/articleView.html?idxno=423818\n",
            "Article 22 score: 0\n",
            "Article 22: Filtered out\n",
            "\n",
            "Checking article 23: https://www.bntnews.co.kr/article/view/bnt202310050045\n",
            "Article 23 score: 0\n",
            "Article 23: Filtered out\n",
            "\n",
            "Checking article 24: https://m.entertain.naver.com/article/109/0004940767\n",
            "Article 24 score: 0\n",
            "Article 24: Filtered out\n",
            "\n",
            "Checking article 25: http://www.celuvmedia.com/article.php?aid=1696468725463501006\n",
            "Article 25 score: 0\n",
            "Article 25: Filtered out\n",
            "\n",
            "Checking article 26: https://www.newsculture.press/news/articleView.html?idxno=533724\n",
            "Article 26 score: 0\n",
            "Article 26: Filtered out\n",
            "\n",
            "Checking article 27: http://www.breaknews.com/990739\n",
            "Article 27 score: 0\n",
            "Article 27: Filtered out\n",
            "\n",
            "Checking article 28: http://www.globalepic.co.kr/view.php?ud=202310051015583997d3244b4fed_29\n",
            "Article 28 score: 0\n",
            "Article 28: Filtered out\n",
            "\n",
            "Checking article 29: http://www.stoo.com/article.php?aid=89419613354\n",
            "Article 29 score: 0\n",
            "Article 29: Filtered out\n",
            "\n",
            "Checking article 30: https://m.entertain.naver.com/article/117/0003776963\n",
            "Article 30 score: 0\n",
            "Article 30: Filtered out\n",
            "\n",
            "Checking article 31: https://m.entertain.naver.com/article/312/0000631329\n",
            "Article 31 score: 0\n",
            "Article 31: Filtered out\n",
            "\n",
            "Checking article 32: https://m.entertain.naver.com/article/609/0000778845\n",
            "Article 32 score: 0\n",
            "Article 32: Filtered out\n",
            "\n",
            "Checking article 33: https://m.entertain.naver.com/article/421/0007089442\n",
            "Article 33 score: 0\n",
            "Article 33: Filtered out\n",
            "\n",
            "Checking article 34: https://m.entertain.naver.com/article/382/0001078985\n",
            "Article 34 score: 0\n",
            "Article 34: Filtered out\n",
            "\n",
            "Checking article 35: https://n.news.naver.com/mnews/article/018/0005553923?sid=103\n",
            "Article 35 score: 0\n",
            "Article 35: Filtered out\n",
            "\n",
            "Checking article 36: https://www.mhns.co.kr/news/articleView.html?idxno=559602\n",
            "Article 36 score: 0\n",
            "Article 36: Filtered out\n",
            "\n",
            "Checking article 37: http://www.sctoday.co.kr/news/articleView.html?idxno=40956\n",
            "Article 37 score: 0\n",
            "Article 37: Filtered out\n",
            "\n",
            "Checking article 38: https://n.news.naver.com/mnews/article/005/0001611654?sid=103\n",
            "Article 38 score: 0\n",
            "Article 38: Filtered out\n",
            "\n",
            "Checking article 39: http://www.joynews24.com/view/1597976\n",
            "Article 39 score: 0\n",
            "Article 39: Filtered out\n",
            "\n",
            "Checking article 40: https://n.news.naver.com/mnews/article/005/0001611195?sid=103\n",
            "Article 40 score: 0\n",
            "Article 40: Filtered out\n",
            "\n",
            "Checking article 41: https://n.news.naver.com/mnews/article/119/0002715016?sid=103\n",
            "Article 41 score: 0\n",
            "Article 41: Filtered out\n",
            "\n",
            "Checking article 42: https://n.news.naver.com/mnews/article/023/0003762947?sid=103\n",
            "Article 42 score: 0\n",
            "Article 42: Filtered out\n",
            "\n",
            "Checking article 43: http://ch.yes24.com/Article/View/54208\n",
            "Article 43 score: 0\n",
            "Article 43: Filtered out\n",
            "\n",
            "Checking article 44: https://n.news.naver.com/mnews/article/011/0004183789?sid=103\n",
            "Article 44 score: 0\n",
            "Article 44: Filtered out\n",
            "\n",
            "Checking article 45: https://www.newdaily.co.kr/site/data/html/2023/04/26/2023042600048.html\n",
            "Article 45 score: 0\n",
            "Article 45: Filtered out\n",
            "\n",
            "Checking article 46: https://n.news.naver.com/mnews/article/119/0002706270?sid=103\n",
            "Article 46 score: 0\n",
            "Article 46: Filtered out\n",
            "\n",
            "Checking article 47: https://n.news.naver.com/mnews/article/050/0000064992?sid=101\n",
            "Article 47 score: 0\n",
            "Article 47: Filtered out\n",
            "\n",
            "Checking article 48: https://n.news.naver.com/mnews/article/018/0005468860?sid=103\n",
            "Article 48 score: 0\n",
            "Article 48: Filtered out\n",
            "\n",
            "Checking article 49: https://www.gukjenews.com/news/articleView.html?idxno=2684448\n",
            "Article 49 score: 10\n",
            "Article 49: Added to filtered list\n",
            "\n",
            "Checking article 50: https://m.entertain.naver.com/article/311/0001574020\n",
            "Article 50 score: 0\n",
            "Article 50: Filtered out\n",
            "\n",
            "Checking article 51: https://m.entertain.naver.com/article/312/0000603337\n",
            "Article 51 score: 10\n",
            "Article 51: Added to filtered list\n",
            "\n",
            "Checking article 52: https://m.entertain.naver.com/article/109/0004816001\n",
            "Article 52 score: 0\n",
            "Article 52: Filtered out\n",
            "\n",
            "Checking article 53: http://www.withinnews.co.kr/news/view.html?section=134&category=136&item=&no=30213\n",
            "Article 53 score: 10\n",
            "Article 53: Added to filtered list\n",
            "\n",
            "Checking article 54: https://m.entertain.naver.com/article/108/0003139487\n",
            "Article 54 score: 10\n",
            "Article 54: Added to filtered list\n",
            "\n",
            "Checking article 55: http://www.newsinside.kr/news/articleView.html?idxno=1304031\n",
            "Article 55 score: 0\n",
            "Article 55: Filtered out\n",
            "\n",
            "Checking article 56: http://www.newsculture.press/news/articleView.html?idxno=520781\n",
            "Article 56 score: 0\n",
            "Article 56: Filtered out\n",
            "\n",
            "Checking article 57: https://m.entertain.naver.com/article/609/0000705442\n",
            "Article 57 score: 0\n",
            "Article 57: Filtered out\n",
            "\n",
            "Checking article 58: https://m.entertain.naver.com/article/022/0003796496\n",
            "Article 58 score: 10\n",
            "Article 58: Added to filtered list\n",
            "\n",
            "Checking article 59: http://www.breaknews.com/955744\n",
            "Article 59 score: 10\n",
            "Article 59: Added to filtered list\n",
            "\n",
            "Checking article 60: https://m.entertain.naver.com/article/396/0000639833\n",
            "Article 60 score: 10\n",
            "Article 60: Added to filtered list\n",
            "\n",
            "Checking article 61: https://m.entertain.naver.com/article/396/0000639832\n",
            "Article 61 score: 10\n",
            "Article 61: Added to filtered list\n",
            "\n",
            "Checking article 62: http://www.marketnews.co.kr/news/articleView.html?idxno=64157\n",
            "Article 62 score: 0\n",
            "Article 62: Filtered out\n",
            "\n",
            "Checking article 63: http://www.slist.kr/news/articleView.html?idxno=436593\n",
            "Article 63 score: 10\n",
            "Article 63: Added to filtered list\n",
            "\n",
            "Checking article 64: https://n.news.naver.com/mnews/article/018/0005450227?sid=103\n",
            "Article 64 score: 10\n",
            "Article 64: Added to filtered list\n",
            "\n",
            "Checking article 65: https://n.news.naver.com/mnews/article/421/0006708349?sid=103\n",
            "Article 65 score: 10\n",
            "Article 65: Added to filtered list\n",
            "\n",
            "Checking article 66: https://www.bntnews.co.kr/article/view/bnt202303270028\n",
            "Article 66 score: 10\n",
            "Article 66: Added to filtered list\n",
            "\n",
            "Checking article 67: https://m.entertain.naver.com/article/469/0000730635\n",
            "Article 67 score: 10\n",
            "Article 67: Added to filtered list\n",
            "\n",
            "Checking article 68: http://www.tvdaily.co.kr/read.php3?aid=16798830221670905002\n",
            "Article 68 score: 10\n",
            "Article 68: Added to filtered list\n",
            "\n",
            "Checking article 69: https://m.entertain.naver.com/article/108/0003139399\n",
            "Article 69 score: 10\n",
            "Article 69: Added to filtered list\n",
            "\n",
            "Checking article 70: http://www.stoo.com/article.php?aid=86224736456\n",
            "Article 70 score: 10\n",
            "Article 70: Added to filtered list\n",
            "\n",
            "Checking article 71: https://m.entertain.naver.com/article/421/0006707856\n",
            "Article 71 score: 10\n",
            "Article 71: Added to filtered list\n",
            "\n",
            "Checking article 72: http://www.stardailynews.co.kr/news/articleView.html?idxno=411462\n",
            "Article 72 score: 10\n",
            "Article 72: Added to filtered list\n",
            "\n",
            "Checking article 73: http://www.newsculture.press/news/articleView.html?idxno=520737\n",
            "Article 73 score: 0\n",
            "Article 73: Filtered out\n",
            "\n",
            "Checking article 74: https://n.news.naver.com/mnews/article/003/0011764737?sid=103\n",
            "Article 74 score: 10\n",
            "Article 74: Added to filtered list\n",
            "\n",
            "Checking article 75: http://www.stardailynews.co.kr/news/articleView.html?idxno=411457\n",
            "Article 75 score: 10\n",
            "Article 75: Added to filtered list\n",
            "\n",
            "Checking article 76: https://m.entertain.naver.com/article/312/0000603141\n",
            "Article 76 score: 10\n",
            "Article 76: Added to filtered list\n",
            "\n",
            "Checking article 77: https://m.entertain.naver.com/article/312/0000603137\n",
            "Article 77 score: 10\n",
            "Article 77: Added to filtered list\n",
            "\n",
            "Checking article 78: https://www.newdaily.co.kr/site/data/html/2023/03/27/2023032700022.html\n",
            "Article 78 score: 10\n",
            "Article 78: Added to filtered list\n",
            "\n",
            "Checking article 79: http://www.slist.kr/news/articleView.html?idxno=436477\n",
            "Article 79 score: 10\n",
            "Article 79: Added to filtered list\n",
            "\n",
            "Checking article 80: https://m.entertain.naver.com/article/437/0000337008\n",
            "Article 80 score: 0\n",
            "Article 80: Filtered out\n",
            "\n",
            "Checking article 81: https://m.entertain.naver.com/article/382/0001040959\n",
            "Article 81 score: 10\n",
            "Article 81: Added to filtered list\n",
            "\n",
            "Checking article 82: https://m.entertain.naver.com/article/144/0000875915\n",
            "Article 82 score: 10\n",
            "Article 82: Added to filtered list\n",
            "\n",
            "Checking article 83: http://www.newsculture.press/news/articleView.html?idxno=520725\n",
            "Article 83 score: 10\n",
            "Article 83: Added to filtered list\n",
            "\n",
            "Checking article 84: http://www.kukinews.com/newsView/kuk202303220178\n",
            "An error occurred while processing URL http://www.kukinews.com/newsView/kuk202303220178: ('Connection aborted.', RemoteDisconnected('Remote end closed connection without response'))\n",
            "Article 84 score: 0\n",
            "Article 84: Filtered out\n",
            "\n",
            "Checking article 85: http://www.kukinews.com/newsView/kuk202303220222\n",
            "An error occurred while processing URL http://www.kukinews.com/newsView/kuk202303220222: ('Connection aborted.', RemoteDisconnected('Remote end closed connection without response'))\n",
            "Article 85 score: 0\n",
            "Article 85: Filtered out\n",
            "\n",
            "Checking article 86: http://www.kukinews.com/newsView/kuk202303210208\n",
            "An error occurred while processing URL http://www.kukinews.com/newsView/kuk202303210208: ('Connection aborted.', RemoteDisconnected('Remote end closed connection without response'))\n",
            "Article 86 score: 0\n",
            "Article 86: Filtered out\n",
            "\n",
            "Checking article 87: https://m.entertain.naver.com/article/437/0000336397\n",
            "Article 87 score: 10\n",
            "Article 87: Added to filtered list\n",
            "\n",
            "Checking article 88: https://m.entertain.naver.com/article/421/0006697721\n",
            "Article 88 score: 0\n",
            "Article 88: Filtered out\n",
            "\n",
            "Checking article 89: http://www.newsculture.press/news/articleView.html?idxno=520372\n",
            "Article 89 score: 10\n",
            "Article 89: Added to filtered list\n",
            "\n",
            "Checking article 90: https://m.entertain.naver.com/article/144/0000874823\n",
            "Article 90 score: 10\n",
            "Article 90: Added to filtered list\n",
            "\n",
            "Checking article 91: http://www.tvdaily.co.kr/read.php3?aid=16793800111670501002\n",
            "Article 91 score: 10\n",
            "Article 91: Added to filtered list\n",
            "\n",
            "Checking article 92: https://m.entertain.naver.com/article/117/0003709729\n",
            "Article 92 score: 0\n",
            "Article 92: Filtered out\n",
            "\n",
            "Checking article 93: https://n.news.naver.com/mnews/article/119/0002694483?sid=103\n",
            "Article 93 score: 0\n",
            "Article 93: Filtered out\n",
            "\n",
            "Checking article 94: https://m.entertain.naver.com/article/408/0000183590\n",
            "Article 94 score: 0\n",
            "Article 94: Filtered out\n",
            "\n",
            "Checking article 95: https://m.entertain.naver.com/article/109/0004811984\n",
            "Article 95 score: 0\n",
            "Article 95: Filtered out\n",
            "\n",
            "Checking article 96: https://n.news.naver.com/mnews/article/023/0003752884?sid=103\n",
            "Article 96 score: 0\n",
            "Article 96: Filtered out\n",
            "\n",
            "Checking article 97: https://m.entertain.naver.com/article/213/0001248679\n",
            "Article 97 score: 10\n",
            "Article 97: Added to filtered list\n",
            "\n",
            "Checking article 98: https://m.entertain.naver.com/article/112/0003620181\n",
            "Article 98 score: 0\n",
            "Article 98: Filtered out\n",
            "\n",
            "Checking article 99: https://www.raonnews.com/news/article.html?no=9583\n",
            "Article 99 score: 0\n",
            "Article 99: Filtered out\n",
            "\n",
            "Checking article 100: https://www.polinews.co.kr/news/articleView.html?idxno=604939\n",
            "Article 100 score: 0\n",
            "Article 100: Filtered out\n",
            "\n",
            "Checking article 101: https://m.entertain.naver.com/article/609/0000700254\n",
            "Article 101 score: 0\n",
            "Article 101: Filtered out\n",
            "\n",
            "Checking article 102: https://m.entertain.naver.com/article/108/0003135849\n",
            "Article 102 score: 0\n",
            "Article 102: Filtered out\n",
            "\n",
            "Checking article 103: https://sports.hankooki.com/news/articleView.html?idxno=6823221\n",
            "Article 103 score: 0\n",
            "Article 103: Filtered out\n",
            "\n",
            "Checking article 104: http://www.joynews24.com/view/1575031\n",
            "Article 104 score: 0\n",
            "Article 104: Filtered out\n",
            "\n",
            "Checking article 105: https://n.news.naver.com/mnews/article/057/0001728315?sid=103\n",
            "Article 105 score: 10\n",
            "Article 105: Added to filtered list\n",
            "\n",
            "Checking article 106: https://m.entertain.naver.com/article/117/0003705956\n",
            "Article 106 score: 0\n",
            "Article 106: Filtered out\n",
            "\n",
            "Checking article 107: https://n.news.naver.com/mnews/article/009/0005099281?sid=103\n",
            "Article 107 score: 0\n",
            "Article 107: Filtered out\n",
            "\n",
            "Checking article 108: https://m.entertain.naver.com/article/437/0000334954\n",
            "Article 108 score: 0\n",
            "Article 108: Filtered out\n",
            "\n",
            "Checking article 109: https://www.gukjenews.com/news/articleView.html?idxno=2670399\n",
            "Article 109 score: 10\n",
            "Article 109: Added to filtered list\n",
            "\n",
            "Checking article 110: https://m.entertain.naver.com/article/408/0000182673\n",
            "Article 110 score: 0\n",
            "Article 110: Filtered out\n",
            "\n",
            "Checking article 111: https://m.entertain.naver.com/article/112/0003618714\n",
            "Article 111 score: 0\n",
            "Article 111: Filtered out\n",
            "\n",
            "Checking article 112: http://www.stardailynews.co.kr/news/articleView.html?idxno=409841\n",
            "Article 112 score: 10\n",
            "Article 112: Added to filtered list\n",
            "\n",
            "Checking article 113: http://www.newsculture.press/news/articleView.html?idxno=519406\n",
            "Article 113 score: 10\n",
            "Article 113: Added to filtered list\n",
            "\n",
            "Checking article 114: http://www.slist.kr/news/articleView.html?idxno=431569\n",
            "Article 114 score: 10\n",
            "Article 114: Added to filtered list\n",
            "\n",
            "Checking article 115: http://www.newsinside.kr/news/articleView.html?idxno=1238539\n",
            "Article 115 score: 0\n",
            "Article 115: Filtered out\n",
            "\n",
            "Checking article 116: https://m.entertain.naver.com/article/421/0006672140\n",
            "Article 116 score: 0\n",
            "Article 116: Filtered out\n",
            "\n",
            "Checking article 117: http://www.ggilbo.com/news/articleView.html?idxno=963488\n",
            "Article 117 score: 0\n",
            "Article 117: Filtered out\n",
            "\n",
            "Checking article 118: http://www.joongdo.co.kr/web/view.php?key=20230307010001684\n",
            "Article 118 score: 10\n",
            "Article 118: Added to filtered list\n",
            "\n",
            "Checking article 119: https://www.cctoday.co.kr/news/articleView.html?idxno=2174024\n",
            "Article 119 score: 0\n",
            "Article 119: Filtered out\n",
            "\n",
            "Checking article 120: https://www.mhns.co.kr/news/articleView.html?idxno=548836\n",
            "Article 120 score: 0\n",
            "Article 120: Filtered out\n",
            "\n",
            "Checking article 121: https://n.news.naver.com/mnews/article/018/0005435518?sid=103\n",
            "Article 121 score: 0\n",
            "Article 121: Filtered out\n",
            "\n",
            "Checking article 122: http://www.globale.co.kr/news/articleView.html?idxno=22920\n",
            "Article 122 score: 10\n",
            "Article 122: Added to filtered list\n",
            "\n",
            "Checking article 123: http://www.ilyoseoul.co.kr/news/articleView.html?idxno=472107\n",
            "Article 123 score: 0\n",
            "Article 123: Filtered out\n",
            "\n",
            "Checking article 124: http://www.shinailbo.co.kr/news/articleView.html?idxno=1668915\n",
            "Article 124 score: 10\n",
            "Article 124: Added to filtered list\n",
            "\n",
            "Checking article 125: https://n.news.naver.com/mnews/article/629/0000203464?sid=103\n",
            "Article 125 score: 10\n",
            "Article 125: Added to filtered list\n",
            "\n",
            "Checking article 126: https://m.entertain.naver.com/article/437/0000333726\n",
            "Article 126 score: 0\n",
            "Article 126: Filtered out\n",
            "\n",
            "Checking article 127: https://m.entertain.naver.com/article/241/0003259634\n",
            "Article 127 score: 0\n",
            "Article 127: Filtered out\n",
            "\n",
            "Checking article 128: https://m.entertain.naver.com/article/144/0000869959\n",
            "Article 128 score: 0\n",
            "Article 128: Filtered out\n",
            "\n",
            "Checking article 129: https://m.entertain.naver.com/article/609/0000695123\n",
            "Article 129 score: 10\n",
            "Article 129: Added to filtered list\n",
            "\n",
            "Checking article 130: https://m.entertain.naver.com/article/408/0000181784\n",
            "Article 130 score: 0\n",
            "Article 130: Filtered out\n",
            "\n",
            "Checking article 131: http://www.aflnews.co.kr/news/articleView.html?idxno=241763\n",
            "Article 131 score: 0\n",
            "Article 131: Filtered out\n",
            "\n",
            "Checking article 132: https://www.inews365.com/news/article.html?no=753740\n",
            "Article 132 score: 0\n",
            "Article 132: Filtered out\n",
            "\n",
            "Checking article 133: https://m.entertain.naver.com/article/112/0003617085\n",
            "Article 133 score: 0\n",
            "Article 133: Filtered out\n",
            "\n",
            "Checking article 134: http://www.joongdo.co.kr/web/view.php?key=20230225010007077\n",
            "Article 134 score: 0\n",
            "Article 134: Filtered out\n",
            "\n",
            "Checking article 135: http://www.celuvmedia.com/article.php?aid=1677292800447193006\n",
            "Article 135 score: 10\n",
            "Article 135: Added to filtered list\n",
            "\n",
            "Checking article 136: http://www.ccnnews.co.kr/news/articleView.html?idxno=286462\n",
            "Article 136 score: 0\n",
            "Article 136: Filtered out\n",
            "\n",
            "Checking article 137: http://www.newspim.com/news/view/20230224000735\n",
            "Article 137 score: 0\n",
            "Article 137: Filtered out\n",
            "\n",
            "Checking article 138: http://www.sjsori.com/news/articleView.html?idxno=62557\n",
            "Article 138 score: 0\n",
            "Article 138: Filtered out\n",
            "\n",
            "Checking article 139: https://m.entertain.naver.com/article/117/0003700484\n",
            "Article 139 score: 10\n",
            "Article 139: Added to filtered list\n",
            "\n",
            "Checking article 140: http://www.goodmorningcc.com/news/articleView.html?idxno=284849\n",
            "Article 140 score: 0\n",
            "Article 140: Filtered out\n",
            "\n",
            "Checking article 141: http://www.seoulfn.com/news/articleView.html?idxno=480463\n",
            "Article 141 score: 0\n",
            "Article 141: Filtered out\n",
            "\n",
            "Checking article 142: https://n.news.naver.com/mnews/article/023/0003747857?sid=103\n",
            "Article 142 score: 0\n",
            "Article 142: Filtered out\n",
            "\n",
            "Checking article 143: https://m.entertain.naver.com/article/311/0001560633\n",
            "Article 143 score: 10\n",
            "Article 143: Added to filtered list\n",
            "\n",
            "Checking article 144: http://www.newspim.com/news/view/20230221000041\n",
            "Article 144 score: 0\n",
            "Article 144: Filtered out\n",
            "\n",
            "Checking article 145: https://n.news.naver.com/mnews/article/079/0003739852?sid=103\n",
            "Article 145 score: 10\n",
            "Article 145: Added to filtered list\n",
            "\n",
            "Checking article 146: https://n.news.naver.com/mnews/article/586/0000052675?sid=103\n",
            "Article 146 score: 10\n",
            "Article 146: Added to filtered list\n",
            "\n",
            "Checking article 147: https://m.entertain.naver.com/article/421/0006638497\n",
            "Article 147 score: 0\n",
            "Article 147: Filtered out\n",
            "\n",
            "Checking article 148: https://n.news.naver.com/mnews/article/015/0004811884?sid=103\n",
            "Article 148 score: 0\n",
            "Article 148: Filtered out\n",
            "\n",
            "Checking article 149: https://www.raonnews.com/news/article.html?no=8452\n",
            "Article 149 score: 10\n",
            "Article 149: Added to filtered list\n",
            "\n",
            "Checking article 150: https://m.entertain.naver.com/article/437/0000332468\n",
            "Article 150 score: 0\n",
            "Article 150: Filtered out\n",
            "\n",
            "Checking article 151: http://www.kyeongin.com/main/view.php?key=20230215010002929\n",
            "Article 151 score: 10\n",
            "Article 151: Added to filtered list\n",
            "\n",
            "Checking article 152: http://www.withinnews.co.kr/news/view.html?section=134&category=137&item=&no=29918\n",
            "Article 152 score: 10\n",
            "Article 152: Added to filtered list\n",
            "\n",
            "Checking article 153: https://n.news.naver.com/mnews/article/033/0000045266?sid=103\n",
            "Article 153 score: 0\n",
            "Article 153: Filtered out\n",
            "\n",
            "Checking article 154: https://www.mhns.co.kr/news/articleView.html?idxno=548021\n",
            "Article 154 score: 10\n",
            "Article 154: Added to filtered list\n",
            "\n",
            "Checking article 155: https://n.news.naver.com/mnews/article/021/0002556435?sid=103\n",
            "Article 155 score: 0\n",
            "Article 155: Filtered out\n",
            "\n",
            "Checking article 156: https://n.news.naver.com/mnews/article/028/0002627303?sid=103\n",
            "Article 156 score: 0\n",
            "Article 156: Filtered out\n",
            "\n",
            "Checking article 157: https://n.news.naver.com/mnews/article/022/0003783039?sid=103\n",
            "Article 157 score: 0\n",
            "Article 157: Filtered out\n",
            "\n",
            "Checking article 158: http://www.joynews24.com/view/1566592\n",
            "Article 158 score: 10\n",
            "Article 158: Added to filtered list\n",
            "\n",
            "Checking article 159: http://www.slist.kr/news/articleView.html?idxno=424966\n",
            "Article 159 score: 10\n",
            "Article 159: Added to filtered list\n",
            "\n",
            "Checking article 160: https://www.ajunews.com/view/20230212211753323\n",
            "Article 160 score: 0\n",
            "Article 160: Filtered out\n",
            "\n",
            "Checking article 161: https://m.entertain.naver.com/article/117/0003696234\n",
            "Article 161 score: 10\n",
            "Article 161: Added to filtered list\n",
            "\n",
            "Checking article 162: https://www.mhns.co.kr/news/articleView.html?idxno=547876\n",
            "Article 162 score: 10\n",
            "Article 162: Added to filtered list\n",
            "\n",
            "Checking article 163: https://m.entertain.naver.com/article/117/0003695993\n",
            "Article 163 score: 10\n",
            "Article 163: Added to filtered list\n",
            "\n",
            "Checking article 164: https://m.entertain.naver.com/article/108/0003128177\n",
            "Article 164 score: 10\n",
            "Article 164: Added to filtered list\n",
            "\n",
            "Checking article 165: https://n.news.naver.com/mnews/article/119/0002682888?sid=100\n",
            "Article 165 score: 0\n",
            "Article 165: Filtered out\n",
            "\n",
            "Checking article 166: https://m.entertain.naver.com/article/144/0000866526\n",
            "Article 166 score: 0\n",
            "Article 166: Filtered out\n",
            "\n",
            "Checking article 167: http://www.starnewsk.com/news/articleView.html?idxno=35982\n",
            "Article 167 score: 10\n",
            "Article 167: Added to filtered list\n",
            "\n",
            "Checking article 168: http://www.joynews24.com/view/1566095\n",
            "Article 168 score: 0\n",
            "Article 168: Filtered out\n",
            "\n",
            "Checking article 169: http://www.joynews24.com/view/1566080\n",
            "Article 169 score: 0\n",
            "Article 169: Filtered out\n",
            "\n",
            "Checking article 170: https://n.news.naver.com/mnews/article/009/0005086718?sid=103\n",
            "Article 170 score: 0\n",
            "Article 170: Filtered out\n",
            "\n",
            "Checking article 171: https://m.entertain.naver.com/article/382/0001032206\n",
            "Article 171 score: 10\n",
            "Article 171: Added to filtered list\n",
            "\n",
            "Checking article 172: https://m.entertain.naver.com/article/408/0000180088\n",
            "Article 172 score: 0\n",
            "Article 172: Filtered out\n",
            "\n",
            "Checking article 173: https://m.entertain.naver.com/article/144/0000866399\n",
            "Article 173 score: 10\n",
            "Article 173: Added to filtered list\n",
            "\n",
            "Checking article 174: https://n.news.naver.com/mnews/article/014/0004967121?sid=103\n",
            "Article 174 score: 0\n",
            "Article 174: Filtered out\n",
            "\n",
            "Checking article 175: https://www.viva100.com/main/view.php?key=20230209010002789\n",
            "Article 175 score: 0\n",
            "Article 175: Filtered out\n",
            "\n",
            "Checking article 176: https://www.asiatoday.co.kr/view.php?key=20230209010005704\n",
            "Article 176 score: 10\n",
            "Article 176: Added to filtered list\n",
            "\n",
            "Checking article 177: http://www.joynews24.com/view/1565488\n",
            "Article 177 score: 10\n",
            "Article 177: Added to filtered list\n",
            "\n",
            "Checking article 178: https://n.news.naver.com/mnews/article/016/0002101581?sid=103\n",
            "Article 178 score: 0\n",
            "Article 178: Filtered out\n",
            "\n",
            "Checking article 179: http://www.newspim.com/news/view/20230208000820\n",
            "Article 179 score: 0\n",
            "Article 179: Filtered out\n",
            "\n",
            "Checking article 180: https://m.entertain.naver.com/article/009/0005085905\n",
            "Article 180 score: 0\n",
            "Article 180: Filtered out\n",
            "\n",
            "Checking article 181: http://www.joynews24.com/view/1565450\n",
            "Article 181 score: 10\n",
            "Article 181: Added to filtered list\n",
            "\n",
            "Checking article 182: http://www.joynews24.com/view/1565346\n",
            "Article 182 score: 0\n",
            "Article 182: Filtered out\n",
            "\n",
            "Checking article 183: https://n.news.naver.com/mnews/article/081/0003338041?sid=103\n",
            "Article 183 score: 0\n",
            "Article 183: Filtered out\n",
            "\n",
            "Checking article 184: https://n.news.naver.com/mnews/article/025/0003258569?sid=103\n",
            "Article 184 score: 0\n",
            "Article 184: Filtered out\n",
            "\n",
            "Checking article 185: https://n.news.naver.com/mnews/article/018/0005421163?sid=103\n",
            "Article 185 score: 10\n",
            "Article 185: Added to filtered list\n",
            "\n",
            "Checking article 186: http://www.kyeongin.com/main/view.php?key=20230208010001544\n",
            "Article 186 score: 10\n",
            "Article 186: Added to filtered list\n",
            "\n",
            "Checking article 187: http://www.joynews24.com/view/1565257\n",
            "Article 187 score: 0\n",
            "Article 187: Filtered out\n",
            "\n",
            "Checking article 188: https://n.news.naver.com/mnews/article/011/0004154026?sid=103\n",
            "Article 188 score: 0\n",
            "Article 188: Filtered out\n",
            "\n",
            "Checking article 189: https://m.entertain.naver.com/article/108/0003127384\n",
            "Article 189 score: 10\n",
            "Article 189: Added to filtered list\n",
            "\n",
            "Checking article 190: https://n.news.naver.com/mnews/article/009/0005085585?sid=103\n",
            "Article 190 score: 0\n",
            "Article 190: Filtered out\n",
            "\n",
            "Checking article 191: https://n.news.naver.com/mnews/article/025/0003258474?sid=103\n",
            "Article 191 score: 0\n",
            "Article 191: Filtered out\n",
            "\n",
            "Checking article 192: http://www.joynews24.com/view/1565207\n",
            "Article 192 score: 10\n",
            "Article 192: Added to filtered list\n",
            "\n",
            "Checking article 193: http://www.joynews24.com/view/1565164\n",
            "Article 193 score: 10\n",
            "Article 193: Added to filtered list\n",
            "\n",
            "Checking article 194: https://n.news.naver.com/mnews/article/014/0004966262?sid=103\n",
            "Article 194 score: 10\n",
            "Article 194: Added to filtered list\n",
            "\n",
            "Checking article 195: https://n.news.naver.com/mnews/article/032/0003203740?sid=103\n",
            "Article 195 score: 10\n",
            "Article 195: Added to filtered list\n",
            "\n",
            "Checking article 196: http://www.joynews24.com/view/1565104\n",
            "Article 196 score: 10\n",
            "Article 196: Added to filtered list\n",
            "\n",
            "Checking article 197: https://n.news.naver.com/mnews/article/009/0005085448?sid=103\n",
            "Article 197 score: 0\n",
            "Article 197: Filtered out\n",
            "\n",
            "Checking article 198: https://www.mhns.co.kr/news/articleView.html?idxno=547666\n",
            "Article 198 score: 0\n",
            "Article 198: Filtered out\n",
            "\n",
            "Checking article 199: https://www.mhns.co.kr/news/articleView.html?idxno=547662\n",
            "Article 199 score: 0\n",
            "Article 199: Filtered out\n",
            "\n",
            "Checking article 200: https://www.mhns.co.kr/news/articleView.html?idxno=547660\n",
            "Article 200 score: 0\n",
            "Article 200: Filtered out\n",
            "\n",
            "Checking article 201: https://www.mhns.co.kr/news/articleView.html?idxno=547658\n",
            "Article 201 score: 0\n",
            "Article 201: Filtered out\n",
            "\n",
            "Checking article 202: https://www.mhns.co.kr/news/articleView.html?idxno=547659\n",
            "Article 202 score: 0\n",
            "Article 202: Filtered out\n",
            "\n",
            "Checking article 203: https://www.mhns.co.kr/news/articleView.html?idxno=547657\n",
            "Article 203 score: 0\n",
            "Article 203: Filtered out\n",
            "\n",
            "Checking article 204: https://www.mhns.co.kr/news/articleView.html?idxno=547656\n",
            "Article 204 score: 10\n",
            "Article 204: Added to filtered list\n",
            "\n",
            "Checking article 205: https://www.mhns.co.kr/news/articleView.html?idxno=547653\n",
            "Article 205 score: 0\n",
            "Article 205: Filtered out\n",
            "\n",
            "Checking article 206: https://www.mhns.co.kr/news/articleView.html?idxno=547655\n",
            "Article 206 score: 0\n",
            "Article 206: Filtered out\n",
            "\n",
            "Checking article 207: https://www.mhns.co.kr/news/articleView.html?idxno=547651\n",
            "Article 207 score: 0\n",
            "Article 207: Filtered out\n",
            "\n",
            "Checking article 208: https://www.mhns.co.kr/news/articleView.html?idxno=547650\n",
            "Article 208 score: 10\n",
            "Article 208: Added to filtered list\n",
            "\n",
            "Checking article 209: https://www.mhns.co.kr/news/articleView.html?idxno=547649\n",
            "Article 209 score: 0\n",
            "Article 209: Filtered out\n",
            "\n",
            "Checking article 210: https://www.mhns.co.kr/news/articleView.html?idxno=547647\n",
            "Article 210 score: 0\n",
            "Article 210: Filtered out\n",
            "\n",
            "Checking article 211: https://n.news.naver.com/mnews/article/055/0001034130?sid=103\n",
            "Article 211 score: 0\n",
            "Article 211: Filtered out\n",
            "\n",
            "Checking article 212: http://www.joynews24.com/view/1565004\n",
            "Article 212 score: 10\n",
            "Article 212: Added to filtered list\n",
            "\n",
            "Checking article 213: https://n.news.naver.com/mnews/article/016/0002100875?sid=103\n",
            "Article 213 score: 0\n",
            "Article 213: Filtered out\n",
            "\n",
            "Checking article 214: https://m.entertain.naver.com/article/117/0003694788\n",
            "Article 214 score: 0\n",
            "Article 214: Filtered out\n",
            "\n",
            "Checking article 215: https://m.entertain.naver.com/article/421/0006618405\n",
            "Article 215 score: 0\n",
            "Article 215: Filtered out\n",
            "\n",
            "Checking article 216: http://www.ilyoseoul.co.kr/news/articleView.html?idxno=471407\n",
            "Article 216 score: 10\n",
            "Article 216: Added to filtered list\n",
            "\n",
            "Checking article 217: http://www.ilyoseoul.co.kr/news/articleView.html?idxno=471402\n",
            "Article 217 score: 10\n",
            "Article 217: Added to filtered list\n",
            "\n",
            "Checking article 218: http://www.ilyoseoul.co.kr/news/articleView.html?idxno=471404\n",
            "Article 218 score: 10\n",
            "Article 218: Added to filtered list\n",
            "\n",
            "Checking article 219: http://www.ilyoseoul.co.kr/news/articleView.html?idxno=471401\n",
            "Article 219 score: 10\n",
            "Article 219: Added to filtered list\n",
            "\n",
            "Checking article 220: http://www.ilyoseoul.co.kr/news/articleView.html?idxno=471405\n",
            "Article 220 score: 10\n",
            "Article 220: Added to filtered list\n",
            "\n",
            "Checking article 221: http://www.ilyoseoul.co.kr/news/articleView.html?idxno=471406\n",
            "Article 221 score: 10\n",
            "Article 221: Added to filtered list\n",
            "\n",
            "Checking article 222: http://www.ilyoseoul.co.kr/news/articleView.html?idxno=471403\n",
            "Article 222 score: 10\n",
            "Article 222: Added to filtered list\n",
            "\n",
            "Checking article 223: https://sports.hankooki.com/news/articleView.html?idxno=6820178\n",
            "Article 223 score: 0\n",
            "Article 223: Filtered out\n",
            "\n",
            "Checking article 224: https://n.news.naver.com/mnews/article/016/0002100751?sid=103\n",
            "Article 224 score: 10\n",
            "Article 224: Added to filtered list\n",
            "\n",
            "Checking article 225: http://www.newsculture.press/news/articleView.html?idxno=517064\n",
            "Article 225 score: 0\n",
            "Article 225: Filtered out\n",
            "\n",
            "Checking article 226: http://www.newsculture.press/news/articleView.html?idxno=517062\n",
            "Article 226 score: 0\n",
            "Article 226: Filtered out\n",
            "\n",
            "Checking article 227: http://www.newsculture.press/news/articleView.html?idxno=517060\n",
            "Article 227 score: 0\n",
            "Article 227: Filtered out\n",
            "\n",
            "Checking article 228: http://www.newsculture.press/news/articleView.html?idxno=517057\n",
            "Article 228 score: 0\n",
            "Article 228: Filtered out\n",
            "\n",
            "Checking article 229: http://www.newsculture.press/news/articleView.html?idxno=517056\n",
            "Article 229 score: 0\n",
            "Article 229: Filtered out\n",
            "\n",
            "Checking article 230: http://www.newsculture.press/news/articleView.html?idxno=517054\n",
            "Article 230 score: 0\n",
            "Article 230: Filtered out\n",
            "\n",
            "Checking article 231: http://www.newsculture.press/news/articleView.html?idxno=517051\n",
            "Article 231 score: 0\n",
            "Article 231: Filtered out\n",
            "\n",
            "Checking article 232: http://www.newsculture.press/news/articleView.html?idxno=517048\n",
            "Article 232 score: 0\n",
            "Article 232: Filtered out\n",
            "\n",
            "Checking article 233: http://www.newsculture.press/news/articleView.html?idxno=517047\n",
            "Article 233 score: 0\n",
            "Article 233: Filtered out\n",
            "\n",
            "Checking article 234: http://www.newsculture.press/news/articleView.html?idxno=517044\n",
            "Article 234 score: 0\n",
            "Article 234: Filtered out\n",
            "\n",
            "Checking article 235: http://www.slist.kr/news/articleView.html?idxno=423393\n",
            "Article 235 score: 0\n",
            "Article 235: Filtered out\n",
            "\n",
            "Checking article 236: http://www.slist.kr/news/articleView.html?idxno=423391\n",
            "Article 236 score: 0\n",
            "Article 236: Filtered out\n",
            "\n",
            "Checking article 237: http://www.slist.kr/news/articleView.html?idxno=423388\n",
            "Article 237 score: 0\n",
            "Article 237: Filtered out\n",
            "\n",
            "Checking article 238: http://www.slist.kr/news/articleView.html?idxno=423385\n",
            "Article 238 score: 0\n",
            "Article 238: Filtered out\n",
            "\n",
            "Checking article 239: http://www.slist.kr/news/articleView.html?idxno=423383\n",
            "Article 239 score: 0\n",
            "Article 239: Filtered out\n",
            "\n",
            "Checking article 240: https://m.entertain.naver.com/article/117/0003694692\n",
            "Article 240 score: 0\n",
            "Article 240: Filtered out\n",
            "\n",
            "Checking article 241: https://m.entertain.naver.com/article/117/0003694686\n",
            "Article 241 score: 0\n",
            "Article 241: Filtered out\n",
            "\n",
            "Checking article 242: https://m.entertain.naver.com/article/117/0003694684\n",
            "Article 242 score: 0\n",
            "Article 242: Filtered out\n",
            "\n",
            "Checking article 243: https://m.entertain.naver.com/article/031/0000727116\n",
            "Article 243 score: 0\n",
            "Article 243: Filtered out\n",
            "\n",
            "Checking article 244: https://m.entertain.naver.com/article/445/0000095039\n",
            "Article 244 score: 0\n",
            "Article 244: Filtered out\n",
            "\n",
            "Checking article 245: https://sports.hankooki.com/news/articleView.html?idxno=6820176\n",
            "Article 245 score: 0\n",
            "Article 245: Filtered out\n",
            "\n",
            "Checking article 246: https://m.entertain.naver.com/article/117/0003694656\n",
            "Article 246 score: 0\n",
            "Article 246: Filtered out\n",
            "\n",
            "Checking article 247: https://sports.hankooki.com/news/articleView.html?idxno=6820173\n",
            "Article 247 score: 0\n",
            "Article 247: Filtered out\n",
            "\n",
            "Checking article 248: http://www.seoulwire.com/news/articleView.html?idxno=493704\n",
            "Article 248 score: 0\n",
            "Article 248: Filtered out\n",
            "\n",
            "Checking article 249: http://www.slist.kr/news/articleView.html?idxno=423345\n",
            "Article 249 score: 10\n",
            "Article 249: Added to filtered list\n",
            "\n",
            "Checking article 250: http://www.slist.kr/news/articleView.html?idxno=423344\n",
            "Article 250 score: 0\n",
            "Article 250: Filtered out\n",
            "\n",
            "Checking article 251: http://www.slist.kr/news/articleView.html?idxno=423342\n",
            "Article 251 score: 0\n",
            "Article 251: Filtered out\n",
            "\n",
            "Checking article 252: http://www.slist.kr/news/articleView.html?idxno=423343\n",
            "Article 252 score: 0\n",
            "Article 252: Filtered out\n",
            "\n",
            "Checking article 253: http://www.slist.kr/news/articleView.html?idxno=423340\n",
            "Article 253 score: 0\n",
            "Article 253: Filtered out\n",
            "\n",
            "Checking article 254: https://www.ajunews.com/view/20230207221720647\n",
            "Article 254 score: 0\n",
            "Article 254: Filtered out\n",
            "\n",
            "Checking article 255: http://www.withinnews.co.kr/news/view.html?section=134&category=136&item=&no=29850\n",
            "Article 255 score: 10\n",
            "Article 255: Added to filtered list\n",
            "\n",
            "Checking article 256: http://www.withinnews.co.kr/news/view.html?section=134&category=136&item=&no=29849\n",
            "Article 256 score: 0\n",
            "Article 256: Filtered out\n",
            "\n",
            "Checking article 257: http://www.withinnews.co.kr/news/view.html?section=134&category=136&item=&no=29851\n",
            "Article 257 score: 0\n",
            "Article 257: Filtered out\n",
            "\n",
            "Checking article 258: https://m.entertain.naver.com/article/408/0000179738\n",
            "Article 258 score: 0\n",
            "Article 258: Filtered out\n",
            "\n",
            "Checking article 259: http://www.topstarnews.net/news/articleView.html?idxno=15084959\n",
            "Article 259 score: 0\n",
            "Article 259: Filtered out\n",
            "\n",
            "Checking article 260: https://m.entertain.naver.com/article/408/0000179734\n",
            "Article 260 score: 0\n",
            "Article 260: Filtered out\n",
            "\n",
            "Checking article 261: https://m.entertain.naver.com/article/408/0000179733\n",
            "Article 261 score: 0\n",
            "Article 261: Filtered out\n",
            "\n",
            "Checking article 262: https://m.entertain.naver.com/article/437/0000331456\n",
            "Article 262 score: 10\n",
            "Article 262: Added to filtered list\n",
            "\n",
            "Checking article 263: http://www.thepowernews.co.kr/view.php?ud=202302072057358321ccf1619543_7\n",
            "Article 263 score: 10\n",
            "Article 263: Added to filtered list\n",
            "\n",
            "Checking article 264: http://www.thepowernews.co.kr/view.php?ud=20230207205144268ccf1619543_7\n",
            "Article 264 score: 0\n",
            "Article 264: Filtered out\n",
            "\n",
            "Checking article 265: http://www.thepowernews.co.kr/view.php?ud=202302072047225532ccf1619543_7\n",
            "Article 265 score: 0\n",
            "Article 265: Filtered out\n",
            "\n",
            "Checking article 266: https://m.entertain.naver.com/article/445/0000094966\n",
            "Article 266 score: 0\n",
            "Article 266: Filtered out\n",
            "\n",
            "Checking article 267: http://www.thepowernews.co.kr/view.php?ud=202302072041077268ccf1619543_7\n",
            "Article 267 score: 0\n",
            "Article 267: Filtered out\n",
            "\n",
            "Checking article 268: http://www.thepowernews.co.kr/view.php?ud=202302072031232928ccf1619543_7\n",
            "Article 268 score: 0\n",
            "Article 268: Filtered out\n",
            "\n",
            "Checking article 269: https://m.entertain.naver.com/article/445/0000094945\n",
            "Article 269 score: 10\n",
            "Article 269: Added to filtered list\n",
            "\n",
            "Checking article 270: https://n.news.naver.com/mnews/article/079/0003735246?sid=103\n",
            "Article 270 score: 0\n",
            "Article 270: Filtered out\n",
            "\n",
            "Checking article 271: https://m.entertain.naver.com/article/109/0004785310\n",
            "Article 271 score: 0\n",
            "Article 271: Filtered out\n",
            "\n",
            "Checking article 272: https://m.entertain.naver.com/article/311/0001554787\n",
            "Article 272 score: 0\n",
            "Article 272: Filtered out\n",
            "\n",
            "Checking article 273: https://m.entertain.naver.com/article/109/0004785302\n",
            "Article 273 score: 0\n",
            "Article 273: Filtered out\n",
            "\n",
            "Checking article 274: https://m.entertain.naver.com/article/117/0003694563\n",
            "Article 274 score: 0\n",
            "Article 274: Filtered out\n",
            "\n",
            "Checking article 275: https://m.entertain.naver.com/article/433/0000090586\n",
            "Article 275 score: 0\n",
            "Article 275: Filtered out\n",
            "\n",
            "Checking article 276: https://m.entertain.naver.com/article/009/0005085160\n",
            "Article 276 score: 10\n",
            "Article 276: Added to filtered list\n",
            "\n",
            "Checking article 277: http://www.seoulwire.com/news/articleView.html?idxno=493703\n",
            "Article 277 score: 0\n",
            "Article 277: Filtered out\n",
            "\n",
            "Checking article 278: http://www.joynews24.com/view/1564815\n",
            "Article 278 score: 0\n",
            "Article 278: Filtered out\n",
            "\n",
            "Checking article 279: http://www.joynews24.com/view/1564811\n",
            "Article 279 score: 0\n",
            "Article 279: Filtered out\n",
            "\n",
            "Checking article 280: http://www.joynews24.com/view/1564813\n",
            "Article 280 score: 0\n",
            "Article 280: Filtered out\n",
            "\n",
            "Checking article 281: https://m.entertain.naver.com/article/117/0003694561\n",
            "Article 281 score: 10\n",
            "Article 281: Added to filtered list\n",
            "\n",
            "Checking article 282: http://www.joynews24.com/view/1564812\n",
            "Article 282 score: 0\n",
            "Article 282: Filtered out\n",
            "\n",
            "Checking article 283: http://www.joynews24.com/view/1564814\n",
            "Article 283 score: 0\n",
            "Article 283: Filtered out\n",
            "\n",
            "Checking article 284: http://www.joynews24.com/view/1564810\n",
            "Article 284 score: 0\n",
            "Article 284: Filtered out\n",
            "\n",
            "Checking article 285: https://m.entertain.naver.com/article/440/0000024397\n",
            "Article 285 score: 0\n",
            "Article 285: Filtered out\n",
            "\n",
            "Checking article 286: http://www.joynews24.com/view/1564806\n",
            "Article 286 score: 10\n",
            "Article 286: Added to filtered list\n",
            "\n",
            "Checking article 287: http://www.joynews24.com/view/1564809\n",
            "Article 287 score: 10\n",
            "Article 287: Added to filtered list\n",
            "\n",
            "Checking article 288: http://www.joynews24.com/view/1564808\n",
            "Article 288 score: 10\n",
            "Article 288: Added to filtered list\n",
            "\n",
            "Checking article 289: https://n.news.naver.com/mnews/article/003/0011680321?sid=103\n",
            "Article 289 score: 0\n",
            "Article 289: Filtered out\n",
            "\n",
            "Checking article 290: https://m.entertain.naver.com/article/477/0000409683\n",
            "Article 290 score: 0\n",
            "Article 290: Filtered out\n",
            "\n",
            "Checking article 291: https://m.entertain.naver.com/article/311/0001554753\n",
            "Article 291 score: 0\n",
            "Article 291: Filtered out\n",
            "\n",
            "Checking article 292: https://sports.hankooki.com/news/articleView.html?idxno=6820177\n",
            "Article 292 score: 10\n",
            "Article 292: Added to filtered list\n",
            "\n",
            "Checking article 293: https://sports.hankooki.com/news/articleView.html?idxno=6820174\n",
            "Article 293 score: 0\n",
            "Article 293: Filtered out\n",
            "\n",
            "Checking article 294: https://m.entertain.naver.com/article/477/0000409680\n",
            "Article 294 score: 10\n",
            "Article 294: Added to filtered list\n",
            "\n",
            "Checking article 295: https://www.newdaily.co.kr/site/data/html/2023/02/07/2023020700230.html\n",
            "Article 295 score: 0\n",
            "Article 295: Filtered out\n",
            "\n",
            "Checking article 296: https://www.newdaily.co.kr/site/data/html/2023/02/07/2023020700228.html\n",
            "Article 296 score: 0\n",
            "Article 296: Filtered out\n",
            "\n",
            "Checking article 297: https://www.newdaily.co.kr/site/data/html/2023/02/07/2023020700224.html\n",
            "Article 297 score: 0\n",
            "Article 297: Filtered out\n",
            "\n",
            "Checking article 298: https://www.newdaily.co.kr/site/data/html/2023/02/07/2023020700227.html\n",
            "Article 298 score: 0\n",
            "Article 298: Filtered out\n",
            "\n",
            "Checking article 299: https://n.news.naver.com/mnews/article/003/0011680290?sid=103\n",
            "Article 299 score: 0\n",
            "Article 299: Filtered out\n",
            "\n",
            "Checking article 300: https://n.news.naver.com/mnews/article/003/0011680291?sid=103\n",
            "Article 300 score: 0\n",
            "Article 300: Filtered out\n",
            "\n",
            "Checking article 301: https://n.news.naver.com/mnews/article/003/0011680290?sid=103\n",
            "Article 301 score: 0\n",
            "Article 301: Filtered out\n",
            "\n",
            "Checking article 302: https://m.entertain.naver.com/article/112/0003613768\n",
            "Article 302 score: 0\n",
            "Article 302: Filtered out\n",
            "\n",
            "Checking article 303: https://sports.hankooki.com/news/articleView.html?idxno=6820172\n",
            "Article 303 score: 0\n",
            "Article 303: Filtered out\n",
            "\n",
            "Checking article 304: https://sports.hankooki.com/news/articleView.html?idxno=6820170\n",
            "Article 304 score: 0\n",
            "Article 304: Filtered out\n",
            "\n",
            "Checking article 305: https://n.news.naver.com/mnews/article/001/0013743303?sid=103\n",
            "Article 305 score: 10\n",
            "Article 305: Added to filtered list\n",
            "\n",
            "Checking article 306: http://www.topstarnews.net/news/articleView.html?idxno=15084653\n",
            "Article 306 score: 0\n",
            "Article 306: Filtered out\n",
            "\n",
            "Checking article 307: https://www.newdaily.co.kr/site/data/html/2023/02/07/2023020700233.html\n",
            "Article 307 score: 0\n",
            "Article 307: Filtered out\n",
            "\n",
            "Checking article 308: https://sports.hankooki.com/news/articleView.html?idxno=6820169\n",
            "Article 308 score: 0\n",
            "Article 308: Filtered out\n",
            "\n",
            "Checking article 309: https://m.entertain.naver.com/article/440/0000024396\n",
            "Article 309 score: 0\n",
            "Article 309: Filtered out\n",
            "\n",
            "Checking article 310: https://sports.hankooki.com/news/articleView.html?idxno=6820167\n",
            "Article 310 score: 0\n",
            "Article 310: Filtered out\n",
            "\n",
            "Checking article 311: https://sports.hankooki.com/news/articleView.html?idxno=6820165\n",
            "Article 311 score: 0\n",
            "Article 311: Filtered out\n",
            "\n",
            "Checking article 312: http://www.starnewsk.com/news/articleView.html?idxno=35941\n",
            "Article 312 score: 10\n",
            "Article 312: Added to filtered list\n",
            "\n",
            "Checking article 313: http://www.topstarnews.net/news/articleView.html?idxno=15084634\n",
            "Article 313 score: 0\n",
            "Article 313: Filtered out\n",
            "\n",
            "Checking article 314: https://m.entertain.naver.com/article/022/0003781191\n",
            "Article 314 score: 0\n",
            "Article 314: Filtered out\n",
            "\n",
            "Checking article 315: https://m.entertain.naver.com/article/311/0001554734\n",
            "Article 315 score: 0\n",
            "Article 315: Filtered out\n",
            "\n",
            "Checking article 316: http://www.sportsq.co.kr/news/articleView.html?idxno=448885\n",
            "Article 316 score: 0\n",
            "Article 316: Filtered out\n",
            "\n",
            "Checking article 317: https://m.entertain.naver.com/article/018/0005420191\n",
            "Article 317 score: 0\n",
            "Article 317: Filtered out\n",
            "\n",
            "Checking article 318: https://www.mhns.co.kr/news/articleView.html?idxno=547585\n",
            "Article 318 score: 10\n",
            "Article 318: Added to filtered list\n",
            "\n",
            "Checking article 319: https://www.mhns.co.kr/news/articleView.html?idxno=547587\n",
            "Article 319 score: 0\n",
            "Article 319: Filtered out\n",
            "\n",
            "Checking article 320: https://www.mhns.co.kr/news/articleView.html?idxno=547589\n",
            "Article 320 score: 10\n",
            "Article 320: Added to filtered list\n",
            "\n",
            "Checking article 321: https://m.entertain.naver.com/article/445/0000094940\n",
            "Article 321 score: 0\n",
            "Article 321: Filtered out\n",
            "\n",
            "Checking article 322: http://www.sportsq.co.kr/news/articleView.html?idxno=448884\n",
            "Article 322 score: 10\n",
            "Article 322: Added to filtered list\n",
            "\n",
            "Checking article 323: https://www.newdaily.co.kr/site/data/html/2023/02/07/2023020700216.html\n",
            "Article 323 score: 0\n",
            "Article 323: Filtered out\n",
            "\n",
            "Checking article 324: https://m.entertain.naver.com/article/009/0005085127\n",
            "Article 324 score: 10\n",
            "Article 324: Added to filtered list\n",
            "\n",
            "Checking article 325: https://m.entertain.naver.com/article/477/0000409671\n",
            "Article 325 score: 10\n",
            "Article 325: Added to filtered list\n",
            "\n",
            "Checking article 326: https://m.entertain.naver.com/article/009/0005085117\n",
            "Article 326 score: 10\n",
            "Article 326: Added to filtered list\n",
            "\n",
            "Checking article 327: http://www.sisafocus.co.kr/news/articleView.html?idxno=291413\n",
            "Article 327 score: 10\n",
            "Article 327: Added to filtered list\n",
            "\n",
            "Checking article 328: http://www.sportsq.co.kr/news/articleView.html?idxno=448883\n",
            "Article 328 score: 0\n",
            "Article 328: Filtered out\n",
            "\n",
            "Checking article 329: https://m.entertain.naver.com/article/417/0000893439\n",
            "Article 329 score: 0\n",
            "Article 329: Filtered out\n",
            "\n",
            "Checking article 330: https://m.entertain.naver.com/article/417/0000893437\n",
            "Article 330 score: 0\n",
            "Article 330: Filtered out\n",
            "\n",
            "Checking article 331: https://m.entertain.naver.com/article/312/0000595210\n",
            "Article 331 score: 10\n",
            "Article 331: Added to filtered list\n",
            "\n",
            "Checking article 332: https://m.entertain.naver.com/article/417/0000893436\n",
            "Article 332 score: 0\n",
            "Article 332: Filtered out\n",
            "\n",
            "Checking article 333: http://www.sportsq.co.kr/news/articleView.html?idxno=448881\n",
            "Article 333 score: 0\n",
            "Article 333: Filtered out\n",
            "\n",
            "Checking article 334: http://www.sportsq.co.kr/news/articleView.html?idxno=448882\n",
            "Article 334 score: 10\n",
            "Article 334: Added to filtered list\n",
            "\n",
            "Checking article 335: http://www.sisafocus.co.kr/news/articleView.html?idxno=291411\n",
            "Article 335 score: 10\n",
            "Article 335: Added to filtered list\n",
            "\n",
            "Checking article 336: http://www.sportsq.co.kr/news/articleView.html?idxno=448880\n",
            "Article 336 score: 10\n",
            "Article 336: Added to filtered list\n",
            "\n",
            "Checking article 337: https://m.entertain.naver.com/article/417/0000893434\n",
            "Article 337 score: 10\n",
            "Article 337: Added to filtered list\n",
            "\n",
            "Checking article 338: http://www.sisafocus.co.kr/news/articleView.html?idxno=291409\n",
            "Article 338 score: 10\n",
            "Article 338: Added to filtered list\n",
            "\n",
            "Checking article 339: https://www.newdaily.co.kr/site/data/html/2023/02/07/2023020700206.html\n",
            "Article 339 score: 10\n",
            "Article 339: Added to filtered list\n",
            "\n",
            "Checking article 340: https://m.entertain.naver.com/article/417/0000893433\n",
            "Article 340 score: 0\n",
            "Article 340: Filtered out\n",
            "\n",
            "Checking article 341: https://m.entertain.naver.com/article/440/0000024395\n",
            "Article 341 score: 0\n",
            "Article 341: Filtered out\n",
            "\n",
            "Checking article 342: https://m.entertain.naver.com/article/417/0000893431\n",
            "Article 342 score: 10\n",
            "Article 342: Added to filtered list\n",
            "\n",
            "Checking article 343: https://m.entertain.naver.com/article/410/0000921516\n",
            "Article 343 score: 0\n",
            "Article 343: Filtered out\n",
            "\n",
            "Checking article 344: https://m.entertain.naver.com/article/477/0000409665\n",
            "Article 344 score: 10\n",
            "Article 344: Added to filtered list\n",
            "\n",
            "Checking article 345: https://m.entertain.naver.com/article/417/0000893429\n",
            "Article 345 score: 0\n",
            "Article 345: Filtered out\n",
            "\n",
            "Checking article 346: https://m.entertain.naver.com/article/417/0000893426\n",
            "Article 346 score: 0\n",
            "Article 346: Filtered out\n",
            "\n",
            "Checking article 347: https://m.entertain.naver.com/article/109/0004785257\n",
            "Article 347 score: 0\n",
            "Article 347: Filtered out\n",
            "\n",
            "Checking article 348: https://m.entertain.naver.com/article/417/0000893425\n",
            "Article 348 score: 0\n",
            "Article 348: Filtered out\n",
            "\n",
            "Checking article 349: https://m.entertain.naver.com/article/417/0000893422\n",
            "Article 349 score: 10\n",
            "Article 349: Added to filtered list\n",
            "\n",
            "Checking article 350: https://m.entertain.naver.com/article/109/0004785256\n",
            "Article 350 score: 0\n",
            "Article 350: Filtered out\n",
            "\n",
            "Checking article 351: https://m.entertain.naver.com/article/417/0000893420\n",
            "Article 351 score: 10\n",
            "Article 351: Added to filtered list\n",
            "\n",
            "Checking article 352: http://www.topstarnews.net/news/articleView.html?idxno=15084600\n",
            "Article 352 score: 10\n",
            "Article 352: Added to filtered list\n",
            "\n",
            "Checking article 353: https://m.entertain.naver.com/article/014/0004965707\n",
            "Article 353 score: 0\n",
            "Article 353: Filtered out\n",
            "\n",
            "Checking article 354: https://m.entertain.naver.com/article/109/0004785253\n",
            "Article 354 score: 0\n",
            "Article 354: Filtered out\n",
            "\n",
            "Checking article 355: https://m.entertain.naver.com/article/109/0004785254\n",
            "Article 355 score: 0\n",
            "Article 355: Filtered out\n",
            "\n",
            "Checking article 356: http://digitalchosun.dizzo.com/site/data/html_dir/2023/02/07/2023020780205.html\n",
            "Article 356 score: 0\n",
            "Article 356: Filtered out\n",
            "\n",
            "Checking article 357: https://m.entertain.naver.com/article/014/0004965706\n",
            "Article 357 score: 0\n",
            "Article 357: Filtered out\n",
            "\n",
            "Checking article 358: https://m.entertain.naver.com/article/014/0004965705\n",
            "Article 358 score: 0\n",
            "Article 358: Filtered out\n",
            "\n",
            "Checking article 359: https://m.entertain.naver.com/article/417/0000893419\n",
            "Article 359 score: 0\n",
            "Article 359: Filtered out\n",
            "\n",
            "Checking article 360: http://www.celuvmedia.com/article.php?aid=1675757050446138006\n",
            "Article 360 score: 10\n",
            "Article 360: Added to filtered list\n",
            "\n",
            "Checking article 361: https://m.entertain.naver.com/article/014/0004965704\n",
            "Article 361 score: 0\n",
            "Article 361: Filtered out\n",
            "\n",
            "Checking article 362: https://m.entertain.naver.com/article/417/0000893416\n",
            "Article 362 score: 0\n",
            "Article 362: Filtered out\n",
            "\n",
            "Checking article 363: https://m.entertain.naver.com/article/014/0004965703\n",
            "Article 363 score: 0\n",
            "Article 363: Filtered out\n",
            "\n",
            "Checking article 364: https://m.entertain.naver.com/article/014/0004965702\n",
            "Article 364 score: 0\n",
            "Article 364: Filtered out\n",
            "\n",
            "Checking article 365: http://www.tvdaily.co.kr/read.php3?aid=16757556371666964002\n",
            "Article 365 score: 0\n",
            "Article 365: Filtered out\n",
            "\n",
            "Checking article 366: https://m.entertain.naver.com/article/109/0004785250\n",
            "Article 366 score: 0\n",
            "Article 366: Filtered out\n",
            "\n",
            "Checking article 367: https://m.entertain.naver.com/article/109/0004785247\n",
            "Article 367 score: 0\n",
            "Article 367: Filtered out\n",
            "\n",
            "Checking article 368: https://m.entertain.naver.com/article/109/0004785246\n",
            "Article 368 score: 10\n",
            "Article 368: Added to filtered list\n",
            "\n",
            "Checking article 369: https://m.entertain.naver.com/article/014/0004965694\n",
            "Article 369 score: 0\n",
            "Article 369: Filtered out\n",
            "\n",
            "Checking article 370: http://www.sisafocus.co.kr/news/articleView.html?idxno=291408\n",
            "Article 370 score: 10\n",
            "Article 370: Added to filtered list\n",
            "\n",
            "Checking article 371: https://m.entertain.naver.com/article/014/0004965693\n",
            "Article 371 score: 0\n",
            "Article 371: Filtered out\n",
            "\n",
            "Checking article 372: https://m.entertain.naver.com/article/109/0004785244\n",
            "Article 372 score: 0\n",
            "Article 372: Filtered out\n",
            "\n",
            "Checking article 373: https://m.entertain.naver.com/article/014/0004965692\n",
            "Article 373 score: 0\n",
            "Article 373: Filtered out\n",
            "\n",
            "Checking article 374: http://www.seoulwire.com/news/articleView.html?idxno=493672\n",
            "Article 374 score: 0\n",
            "Article 374: Filtered out\n",
            "\n",
            "Checking article 375: https://m.entertain.naver.com/article/014/0004965689\n",
            "Article 375 score: 0\n",
            "Article 375: Filtered out\n",
            "\n",
            "Checking article 376: https://m.entertain.naver.com/article/014/0004965687\n",
            "Article 376 score: 0\n",
            "Article 376: Filtered out\n",
            "\n",
            "Checking article 377: http://www.seoulwire.com/news/articleView.html?idxno=493673\n",
            "Article 377 score: 0\n",
            "Article 377: Filtered out\n",
            "\n",
            "Checking article 378: https://m.entertain.naver.com/article/109/0004785243\n",
            "Article 378 score: 0\n",
            "Article 378: Filtered out\n",
            "\n",
            "Checking article 379: https://m.entertain.naver.com/article/014/0004965684\n",
            "Article 379 score: 0\n",
            "Article 379: Filtered out\n",
            "\n",
            "Checking article 380: http://www.seoulwire.com/news/articleView.html?idxno=493674\n",
            "Article 380 score: 0\n",
            "Article 380: Filtered out\n",
            "\n",
            "Checking article 381: https://n.news.naver.com/mnews/article/119/0002681652?sid=103\n",
            "Article 381 score: 10\n",
            "Article 381: Added to filtered list\n",
            "\n",
            "Checking article 382: https://m.entertain.naver.com/article/014/0004965683\n",
            "Article 382 score: 0\n",
            "Article 382: Filtered out\n",
            "\n",
            "Checking article 383: https://m.entertain.naver.com/article/109/0004785241\n",
            "Article 383 score: 0\n",
            "Article 383: Filtered out\n",
            "\n",
            "Checking article 384: http://www.seoulwire.com/news/articleView.html?idxno=493677\n",
            "Article 384 score: 0\n",
            "Article 384: Filtered out\n",
            "\n",
            "Checking article 385: https://m.entertain.naver.com/article/014/0004965682\n",
            "Article 385 score: 0\n",
            "Article 385: Filtered out\n",
            "\n",
            "Checking article 386: https://m.entertain.naver.com/article/014/0004965680\n",
            "Article 386 score: 0\n",
            "Article 386: Filtered out\n",
            "\n",
            "Checking article 387: https://m.entertain.naver.com/article/014/0004965679\n",
            "Article 387 score: 0\n",
            "Article 387: Filtered out\n",
            "\n",
            "Checking article 388: https://m.entertain.naver.com/article/421/0006617530\n",
            "Article 388 score: 10\n",
            "Article 388: Added to filtered list\n",
            "\n",
            "Checking article 389: https://m.entertain.naver.com/article/008/0004848413\n",
            "Article 389 score: 0\n",
            "Article 389: Filtered out\n",
            "\n",
            "Checking article 390: http://www.seoulwire.com/news/articleView.html?idxno=493676\n",
            "Article 390 score: 0\n",
            "Article 390: Filtered out\n",
            "\n",
            "Checking article 391: https://m.entertain.naver.com/article/014/0004965677\n",
            "Article 391 score: 0\n",
            "Article 391: Filtered out\n",
            "\n",
            "Checking article 392: https://m.entertain.naver.com/article/445/0000094934\n",
            "Article 392 score: 0\n",
            "Article 392: Filtered out\n",
            "\n",
            "Checking article 393: http://www.seoulwire.com/news/articleView.html?idxno=493678\n",
            "Article 393 score: 0\n",
            "Article 393: Filtered out\n",
            "\n",
            "Checking article 394: https://m.entertain.naver.com/article/445/0000094933\n",
            "Article 394 score: 10\n",
            "Article 394: Added to filtered list\n",
            "\n",
            "Checking article 395: http://www.seoulwire.com/news/articleView.html?idxno=493680\n",
            "Article 395 score: 0\n",
            "Article 395: Filtered out\n",
            "\n",
            "Checking article 396: https://m.entertain.naver.com/article/109/0004785238\n",
            "Article 396 score: 0\n",
            "Article 396: Filtered out\n",
            "\n",
            "Checking article 397: http://www.stardailynews.co.kr/news/articleView.html?idxno=407740\n",
            "Article 397 score: 0\n",
            "Article 397: Filtered out\n",
            "\n",
            "Checking article 398: http://www.seoulwire.com/news/articleView.html?idxno=493681\n",
            "Article 398 score: 0\n",
            "Article 398: Filtered out\n",
            "\n",
            "Checking article 399: https://m.entertain.naver.com/article/117/0003694537\n",
            "Article 399 score: 0\n",
            "Article 399: Filtered out\n",
            "\n",
            "Checking article 400: https://m.entertain.naver.com/article/109/0004785235\n",
            "Article 400 score: 0\n",
            "Article 400: Filtered out\n",
            "\n",
            "Checking article 401: http://www.seoulwire.com/news/articleView.html?idxno=493683\n",
            "Article 401 score: 0\n",
            "Article 401: Filtered out\n",
            "\n",
            "Checking article 402: https://m.entertain.naver.com/article/109/0004785234\n",
            "Article 402 score: 0\n",
            "Article 402: Filtered out\n",
            "\n",
            "Checking article 403: https://m.entertain.naver.com/article/109/0004785232\n",
            "Article 403 score: 0\n",
            "Article 403: Filtered out\n",
            "\n",
            "Checking article 404: http://www.seoulwire.com/news/articleView.html?idxno=493686\n",
            "Article 404 score: 0\n",
            "Article 404: Filtered out\n",
            "\n",
            "Checking article 405: https://m.entertain.naver.com/article/109/0004785231\n",
            "Article 405 score: 0\n",
            "Article 405: Filtered out\n",
            "\n",
            "Checking article 406: https://m.entertain.naver.com/article/109/0004785230\n",
            "Article 406 score: 0\n",
            "Article 406: Filtered out\n",
            "\n",
            "Checking article 407: http://www.stardailynews.co.kr/news/articleView.html?idxno=407739\n",
            "Article 407 score: 0\n",
            "Article 407: Filtered out\n",
            "\n",
            "Checking article 408: https://m.entertain.naver.com/article/109/0004785229\n",
            "Article 408 score: 0\n",
            "Article 408: Filtered out\n",
            "\n",
            "Checking article 409: http://www.joynews24.com/view/1564753\n",
            "Article 409 score: 10\n",
            "Article 409: Added to filtered list\n",
            "\n",
            "Checking article 410: http://www.slist.kr/news/articleView.html?idxno=423293\n",
            "Article 410 score: 10\n",
            "Article 410: Added to filtered list\n",
            "\n",
            "Checking article 411: http://www.seoulwire.com/news/articleView.html?idxno=493687\n",
            "Article 411 score: 0\n",
            "Article 411: Filtered out\n",
            "\n",
            "Checking article 412: http://www.joynews24.com/view/1564752\n",
            "Article 412 score: 10\n",
            "Article 412: Added to filtered list\n",
            "\n",
            "Checking article 413: https://m.entertain.naver.com/article/433/0000090585\n",
            "Article 413 score: 0\n",
            "Article 413: Filtered out\n",
            "\n",
            "Checking article 414: http://www.joynews24.com/view/1564749\n",
            "Article 414 score: 10\n",
            "Article 414: Added to filtered list\n",
            "\n",
            "Checking article 415: https://m.entertain.naver.com/article/109/0004785228\n",
            "Article 415 score: 0\n",
            "Article 415: Filtered out\n",
            "\n",
            "Checking article 416: http://www.stardailynews.co.kr/news/articleView.html?idxno=407738\n",
            "Article 416 score: 10\n",
            "Article 416: Added to filtered list\n",
            "\n",
            "Checking article 417: http://www.joynews24.com/view/1564744\n",
            "Article 417 score: 10\n",
            "Article 417: Added to filtered list\n",
            "\n",
            "Checking article 418: http://www.joynews24.com/view/1564746\n",
            "Article 418 score: 10\n",
            "Article 418: Added to filtered list\n",
            "\n",
            "Checking article 419: http://www.joynews24.com/view/1564742\n",
            "Article 419 score: 0\n",
            "Article 419: Filtered out\n",
            "\n",
            "Checking article 420: http://www.joynews24.com/view/1564741\n",
            "Article 420 score: 0\n",
            "Article 420: Filtered out\n",
            "\n",
            "Checking article 421: http://www.slist.kr/news/articleView.html?idxno=423295\n",
            "Article 421 score: 0\n",
            "Article 421: Filtered out\n",
            "\n",
            "Checking article 422: http://www.stardailynews.co.kr/news/articleView.html?idxno=407737\n",
            "Article 422 score: 10\n",
            "Article 422: Added to filtered list\n",
            "\n",
            "Checking article 423: http://www.joynews24.com/view/1564740\n",
            "Article 423 score: 10\n",
            "Article 423: Added to filtered list\n",
            "\n",
            "Checking article 424: http://www.stardailynews.co.kr/news/articleView.html?idxno=407734\n",
            "Article 424 score: 0\n",
            "Article 424: Filtered out\n",
            "\n",
            "Checking article 425: https://m.entertain.naver.com/article/022/0003781164\n",
            "Article 425 score: 0\n",
            "Article 425: Filtered out\n",
            "\n",
            "Checking article 426: https://m.entertain.naver.com/article/108/0003127050\n",
            "Article 426 score: 10\n",
            "Article 426: Added to filtered list\n",
            "\n",
            "Checking article 427: https://m.entertain.naver.com/article/022/0003781163\n",
            "Article 427 score: 0\n",
            "Article 427: Filtered out\n",
            "\n",
            "Checking article 428: http://www.joynews24.com/view/1564736\n",
            "Article 428 score: 0\n",
            "Article 428: Filtered out\n",
            "\n",
            "Checking article 429: http://www.slist.kr/news/articleView.html?idxno=423292\n",
            "Article 429 score: 0\n",
            "Article 429: Filtered out\n",
            "\n",
            "Checking article 430: http://www.joynews24.com/view/1564737\n",
            "Article 430 score: 10\n",
            "Article 430: Added to filtered list\n",
            "\n",
            "Checking article 431: https://m.entertain.naver.com/article/109/0004785215\n",
            "Article 431 score: 0\n",
            "Article 431: Filtered out\n",
            "\n",
            "Checking article 432: https://m.entertain.naver.com/article/112/0003613748\n",
            "Article 432 score: 0\n",
            "Article 432: Filtered out\n",
            "\n",
            "Checking article 433: http://www.joynews24.com/view/1564729\n",
            "Article 433 score: 10\n",
            "Article 433: Added to filtered list\n",
            "\n",
            "Checking article 434: https://m.entertain.naver.com/article/312/0000595201\n",
            "Article 434 score: 0\n",
            "Article 434: Filtered out\n",
            "\n",
            "Checking article 435: https://sports.hankooki.com/news/articleView.html?idxno=6820153\n",
            "Article 435 score: 0\n",
            "Article 435: Filtered out\n",
            "\n",
            "Checking article 436: http://www.joynews24.com/view/1564734\n",
            "Article 436 score: 10\n",
            "Article 436: Added to filtered list\n",
            "\n",
            "Checking article 437: https://m.entertain.naver.com/article/312/0000595200\n",
            "Article 437 score: 0\n",
            "Article 437: Filtered out\n",
            "\n",
            "Checking article 438: https://m.entertain.naver.com/article/117/0003694524\n",
            "Article 438 score: 10\n",
            "Article 438: Added to filtered list\n",
            "\n",
            "Checking article 439: https://m.entertain.naver.com/article/022/0003781162\n",
            "Article 439 score: 0\n",
            "Article 439: Filtered out\n",
            "\n",
            "Checking article 440: https://m.entertain.naver.com/article/109/0004785209\n",
            "Article 440 score: 0\n",
            "Article 440: Filtered out\n",
            "\n",
            "Checking article 441: http://www.stardailynews.co.kr/news/articleView.html?idxno=407733\n",
            "Article 441 score: 10\n",
            "Article 441: Added to filtered list\n",
            "\n",
            "Checking article 442: https://m.entertain.naver.com/article/437/0000331407\n",
            "Article 442 score: 0\n",
            "Article 442: Filtered out\n",
            "\n",
            "Checking article 443: http://www.slist.kr/news/articleView.html?idxno=423289\n",
            "Article 443 score: 0\n",
            "Article 443: Filtered out\n",
            "\n",
            "Checking article 444: https://m.entertain.naver.com/article/109/0004785208\n",
            "Article 444 score: 0\n",
            "Article 444: Filtered out\n",
            "\n",
            "Checking article 445: https://m.entertain.naver.com/article/312/0000595198\n",
            "Article 445 score: 0\n",
            "Article 445: Filtered out\n",
            "\n",
            "Checking article 446: https://m.entertain.naver.com/article/108/0003127048\n",
            "Article 446 score: 10\n",
            "Article 446: Added to filtered list\n",
            "\n",
            "Checking article 447: http://www.slist.kr/news/articleView.html?idxno=423288\n",
            "Article 447 score: 0\n",
            "Article 447: Filtered out\n",
            "\n",
            "Checking article 448: https://m.entertain.naver.com/article/311/0001554703\n",
            "Article 448 score: 0\n",
            "Article 448: Filtered out\n",
            "\n",
            "Checking article 449: http://www.stardailynews.co.kr/news/articleView.html?idxno=407732\n",
            "Article 449 score: 0\n",
            "Article 449: Filtered out\n",
            "\n",
            "Checking article 450: https://m.entertain.naver.com/article/109/0004785205\n",
            "Article 450 score: 0\n",
            "Article 450: Filtered out\n",
            "\n",
            "Checking article 451: https://m.entertain.naver.com/article/311/0001554699\n",
            "Article 451 score: 0\n",
            "Article 451: Filtered out\n",
            "\n",
            "Checking article 452: https://m.entertain.naver.com/article/445/0000094913\n",
            "Article 452 score: 0\n",
            "Article 452: Filtered out\n",
            "\n",
            "Checking article 453: https://m.entertain.naver.com/article/112/0003613746\n",
            "Article 453 score: 0\n",
            "Article 453: Filtered out\n",
            "\n",
            "Checking article 454: http://www.sportsq.co.kr/news/articleView.html?idxno=448878\n",
            "Article 454 score: 0\n",
            "Article 454: Filtered out\n",
            "\n",
            "Checking article 455: http://www.slist.kr/news/articleView.html?idxno=423286\n",
            "Article 455 score: 0\n",
            "Article 455: Filtered out\n",
            "\n",
            "Checking article 456: http://www.sportsq.co.kr/news/articleView.html?idxno=448876\n",
            "Article 456 score: 0\n",
            "Article 456: Filtered out\n",
            "\n",
            "Checking article 457: https://m.entertain.naver.com/article/421/0006617426\n",
            "Article 457 score: 0\n",
            "Article 457: Filtered out\n",
            "\n",
            "Checking article 458: https://m.entertain.naver.com/article/011/0004153474\n",
            "Article 458 score: 0\n",
            "Article 458: Filtered out\n",
            "\n",
            "Checking article 459: http://www.sportsq.co.kr/news/articleView.html?idxno=448877\n",
            "Article 459 score: 0\n",
            "Article 459: Filtered out\n",
            "\n",
            "Checking article 460: http://www.sportsq.co.kr/news/articleView.html?idxno=448879\n",
            "Article 460 score: 0\n",
            "Article 460: Filtered out\n",
            "\n",
            "Checking article 461: http://www.slist.kr/news/articleView.html?idxno=423283\n",
            "Article 461 score: 10\n",
            "Article 461: Added to filtered list\n",
            "\n",
            "Checking article 462: http://www.tvdaily.co.kr/read.php3?aid=16757537491666967017\n",
            "Article 462 score: 0\n",
            "Article 462: Filtered out\n",
            "\n",
            "Checking article 463: https://m.entertain.naver.com/article/011/0004153470\n",
            "Article 463 score: 0\n",
            "Article 463: Filtered out\n",
            "\n",
            "Checking article 464: https://m.entertain.naver.com/article/421/0006617424\n",
            "Article 464 score: 0\n",
            "Article 464: Filtered out\n",
            "\n",
            "Checking article 465: https://m.entertain.naver.com/article/421/0006617422\n",
            "Article 465 score: 10\n",
            "Article 465: Added to filtered list\n",
            "\n",
            "Checking article 466: https://m.entertain.naver.com/article/312/0000595197\n",
            "Article 466 score: 0\n",
            "Article 466: Filtered out\n",
            "\n",
            "Checking article 467: https://m.entertain.naver.com/article/011/0004153472\n",
            "Article 467 score: 0\n",
            "Article 467: Filtered out\n",
            "\n",
            "Checking article 468: https://m.entertain.naver.com/article/112/0003613745\n",
            "Article 468 score: 0\n",
            "Article 468: Filtered out\n",
            "\n",
            "Checking article 469: http://www.tvdaily.co.kr/read.php3?aid=16757536671666966017\n",
            "Article 469 score: 0\n",
            "Article 469: Filtered out\n",
            "\n",
            "Checking article 470: https://m.entertain.naver.com/article/213/0001244831\n",
            "Article 470 score: 0\n",
            "Article 470: Filtered out\n",
            "\n",
            "Checking article 471: http://www.slist.kr/news/articleView.html?idxno=423284\n",
            "Article 471 score: 0\n",
            "Article 471: Filtered out\n",
            "\n",
            "Checking article 472: https://m.entertain.naver.com/article/312/0000595196\n",
            "Article 472 score: 0\n",
            "Article 472: Filtered out\n",
            "\n",
            "Checking article 473: https://m.entertain.naver.com/article/445/0000094912\n",
            "Article 473 score: 0\n",
            "Article 473: Filtered out\n",
            "\n",
            "Checking article 474: https://m.entertain.naver.com/article/011/0004153468\n",
            "Article 474 score: 0\n",
            "Article 474: Filtered out\n",
            "\n",
            "Checking article 475: https://m.entertain.naver.com/article/011/0004153469\n",
            "Article 475 score: 0\n",
            "Article 475: Filtered out\n",
            "\n",
            "Checking article 476: http://www.stardailynews.co.kr/news/articleView.html?idxno=407731\n",
            "Article 476 score: 0\n",
            "Article 476: Filtered out\n",
            "\n",
            "Checking article 477: https://m.entertain.naver.com/article/011/0004153467\n",
            "Article 477 score: 0\n",
            "Article 477: Filtered out\n",
            "\n",
            "Checking article 478: https://m.entertain.naver.com/article/421/0006617413\n",
            "Article 478 score: 0\n",
            "Article 478: Filtered out\n",
            "\n",
            "Checking article 479: https://m.entertain.naver.com/article/011/0004153466\n",
            "Article 479 score: 0\n",
            "Article 479: Filtered out\n",
            "\n",
            "Checking article 480: https://m.entertain.naver.com/article/109/0004785203\n",
            "Article 480 score: 0\n",
            "Article 480: Filtered out\n",
            "\n",
            "Checking article 481: https://m.entertain.naver.com/article/011/0004153465\n",
            "Article 481 score: 0\n",
            "Article 481: Filtered out\n",
            "\n",
            "Checking article 482: https://m.entertain.naver.com/article/312/0000595195\n",
            "Article 482 score: 0\n",
            "Article 482: Filtered out\n",
            "\n",
            "Checking article 483: https://m.entertain.naver.com/article/213/0001244830\n",
            "Article 483 score: 10\n",
            "Article 483: Added to filtered list\n",
            "\n",
            "Checking article 484: https://m.entertain.naver.com/article/014/0004965623\n",
            "Article 484 score: 0\n",
            "Article 484: Filtered out\n",
            "\n",
            "Checking article 485: https://m.entertain.naver.com/article/009/0005084963\n",
            "Article 485 score: 0\n",
            "Article 485: Filtered out\n",
            "\n",
            "Checking article 486: https://m.entertain.naver.com/article/241/0003255834\n",
            "Article 486 score: 0\n",
            "Article 486: Filtered out\n",
            "\n",
            "Checking article 487: https://m.entertain.naver.com/article/213/0001244829\n",
            "Article 487 score: 0\n",
            "Article 487: Filtered out\n",
            "\n",
            "Checking article 488: https://m.entertain.naver.com/article/213/0001244828\n",
            "Article 488 score: 0\n",
            "Article 488: Filtered out\n",
            "\n",
            "Checking article 489: http://www.joynews24.com/view/1564724\n",
            "Article 489 score: 10\n",
            "Article 489: Added to filtered list\n",
            "\n",
            "Checking article 490: https://m.entertain.naver.com/article/241/0003255833\n",
            "Article 490 score: 0\n",
            "Article 490: Filtered out\n",
            "\n",
            "Checking article 491: http://www.stardailynews.co.kr/news/articleView.html?idxno=407730\n",
            "Article 491 score: 10\n",
            "Article 491: Added to filtered list\n",
            "\n",
            "Checking article 492: http://www.slist.kr/news/articleView.html?idxno=423279\n",
            "Article 492 score: 10\n",
            "Article 492: Added to filtered list\n",
            "\n",
            "Checking article 493: https://m.entertain.naver.com/article/014/0004965622\n",
            "Article 493 score: 0\n",
            "Article 493: Filtered out\n",
            "\n",
            "Checking article 494: https://sports.hankooki.com/news/articleView.html?idxno=6820152\n",
            "Article 494 score: 10\n",
            "Article 494: Added to filtered list\n",
            "\n",
            "Checking article 495: https://m.entertain.naver.com/article/009/0005084962\n",
            "Article 495 score: 0\n",
            "Article 495: Filtered out\n",
            "\n",
            "Checking article 496: https://m.entertain.naver.com/article/014/0004965620\n",
            "Article 496 score: 0\n",
            "Article 496: Filtered out\n",
            "\n",
            "Checking article 497: https://m.entertain.naver.com/article/241/0003255832\n",
            "Article 497 score: 0\n",
            "Article 497: Filtered out\n",
            "\n",
            "Checking article 498: https://m.entertain.naver.com/article/408/0000179713\n",
            "Article 498 score: 0\n",
            "Article 498: Filtered out\n",
            "\n",
            "Checking article 499: https://m.entertain.naver.com/article/213/0001244827\n",
            "Article 499 score: 0\n",
            "Article 499: Filtered out\n",
            "\n",
            "Checking article 500: http://www.tvdaily.co.kr/read.php3?aid=16757532451666965017\n",
            "Article 500 score: 0\n",
            "Article 500: Filtered out\n",
            "\n",
            "Checking article 501: https://m.entertain.naver.com/article/014/0004965618\n",
            "Article 501 score: 10\n",
            "Article 501: Added to filtered list\n",
            "\n",
            "Checking article 502: http://www.slist.kr/news/articleView.html?idxno=423281\n",
            "Article 502 score: 0\n",
            "Article 502: Filtered out\n",
            "\n",
            "Checking article 503: https://m.entertain.naver.com/article/009/0005084952\n",
            "Article 503 score: 0\n",
            "Article 503: Filtered out\n",
            "\n",
            "Checking article 504: https://m.entertain.naver.com/article/241/0003255830\n",
            "Article 504 score: 10\n",
            "Article 504: Added to filtered list\n",
            "\n",
            "Checking article 505: https://m.entertain.naver.com/article/213/0001244826\n",
            "Article 505 score: 0\n",
            "Article 505: Filtered out\n",
            "\n",
            "Checking article 506: https://m.entertain.naver.com/article/109/0004785199\n",
            "Article 506 score: 0\n",
            "Article 506: Filtered out\n",
            "\n",
            "Checking article 507: https://m.entertain.naver.com/article/241/0003255828\n",
            "Article 507 score: 10\n",
            "Article 507: Added to filtered list\n",
            "\n",
            "Checking article 508: https://m.entertain.naver.com/article/109/0004785197\n",
            "Article 508 score: 0\n",
            "Article 508: Filtered out\n",
            "\n",
            "Checking article 509: https://m.entertain.naver.com/article/421/0006617391\n",
            "Article 509 score: 0\n",
            "Article 509: Filtered out\n",
            "\n",
            "Checking article 510: http://www.stardailynews.co.kr/news/articleView.html?idxno=407729\n",
            "Article 510 score: 10\n",
            "Article 510: Added to filtered list\n",
            "\n",
            "Checking article 511: https://m.entertain.naver.com/article/445/0000094911\n",
            "Article 511 score: 0\n",
            "Article 511: Filtered out\n",
            "\n",
            "Checking article 512: http://www.tvdaily.co.kr/read.php3?aid=16757530961666963017\n",
            "Article 512 score: 0\n",
            "Article 512: Filtered out\n",
            "\n",
            "Checking article 513: https://m.entertain.naver.com/article/609/0000686345\n",
            "Article 513 score: 0\n",
            "Article 513: Filtered out\n",
            "\n",
            "Checking article 514: https://m.entertain.naver.com/article/241/0003255826\n",
            "Article 514 score: 0\n",
            "Article 514: Filtered out\n",
            "\n",
            "Checking article 515: https://m.entertain.naver.com/article/109/0004785194\n",
            "Article 515 score: 0\n",
            "Article 515: Filtered out\n",
            "\n",
            "Checking article 516: https://m.entertain.naver.com/article/609/0000686344\n",
            "Article 516 score: 0\n",
            "Article 516: Filtered out\n",
            "\n",
            "Checking article 517: http://www.tvdaily.co.kr/read.php3?aid=16757523211666956002\n",
            "Article 517 score: 0\n",
            "Article 517: Filtered out\n",
            "\n",
            "Checking article 518: https://m.entertain.naver.com/article/241/0003255825\n",
            "Article 518 score: 0\n",
            "Article 518: Filtered out\n",
            "\n",
            "Checking article 519: https://m.entertain.naver.com/article/011/0004153462\n",
            "Article 519 score: 10\n",
            "Article 519: Added to filtered list\n",
            "\n",
            "Checking article 520: https://m.entertain.naver.com/article/410/0000921508\n",
            "Article 520 score: 0\n",
            "Article 520: Filtered out\n",
            "\n",
            "Checking article 521: http://www.tvdaily.co.kr/read.php3?aid=16757529911666962017\n",
            "Article 521 score: 0\n",
            "Article 521: Filtered out\n",
            "\n",
            "Checking article 522: http://www.celuvmedia.com/article.php?aid=1675753047446135006\n",
            "Article 522 score: 10\n",
            "Article 522: Added to filtered list\n",
            "\n",
            "Checking article 523: http://www.slist.kr/news/articleView.html?idxno=423278\n",
            "Article 523 score: 0\n",
            "Article 523: Filtered out\n",
            "\n",
            "Checking article 524: https://m.entertain.naver.com/article/437/0000331404\n",
            "Article 524 score: 0\n",
            "Article 524: Filtered out\n",
            "\n",
            "Checking article 525: https://m.entertain.naver.com/article/421/0006617360\n",
            "Article 525 score: 0\n",
            "Article 525: Filtered out\n",
            "\n",
            "Checking article 526: https://m.entertain.naver.com/article/312/0000595194\n",
            "Article 526 score: 0\n",
            "Article 526: Filtered out\n",
            "\n",
            "Checking article 527: https://m.entertain.naver.com/article/009/0005084938\n",
            "Article 527 score: 10\n",
            "Article 527: Added to filtered list\n",
            "\n",
            "Checking article 528: https://m.entertain.naver.com/article/241/0003255823\n",
            "Article 528 score: 0\n",
            "Article 528: Filtered out\n",
            "\n",
            "Checking article 529: https://m.entertain.naver.com/article/011/0004153460\n",
            "Article 529 score: 0\n",
            "Article 529: Filtered out\n",
            "\n",
            "Checking article 530: https://m.entertain.naver.com/article/011/0004153459\n",
            "Article 530 score: 0\n",
            "Article 530: Filtered out\n",
            "\n",
            "Checking article 531: https://m.entertain.naver.com/article/011/0004153458\n",
            "Article 531 score: 0\n",
            "Article 531: Filtered out\n",
            "\n",
            "Checking article 532: https://m.entertain.naver.com/article/014/0004965614\n",
            "Article 532 score: 0\n",
            "Article 532: Filtered out\n",
            "\n",
            "Checking article 533: https://m.entertain.naver.com/article/213/0001244824\n",
            "Article 533 score: 0\n",
            "Article 533: Filtered out\n",
            "\n",
            "Checking article 534: https://m.entertain.naver.com/article/213/0001244823\n",
            "Article 534 score: 0\n",
            "Article 534: Filtered out\n",
            "\n",
            "Checking article 535: https://m.entertain.naver.com/article/109/0004785193\n",
            "Article 535 score: 0\n",
            "Article 535: Filtered out\n",
            "\n",
            "Checking article 536: https://m.entertain.naver.com/article/112/0003613743\n",
            "Article 536 score: 0\n",
            "Article 536: Filtered out\n",
            "\n",
            "Checking article 537: http://www.topstarnews.net/news/articleView.html?idxno=15084451\n",
            "Article 537 score: 10\n",
            "Article 537: Added to filtered list\n",
            "\n",
            "Checking article 538: http://www.stardailynews.co.kr/news/articleView.html?idxno=407727\n",
            "Article 538 score: 10\n",
            "Article 538: Added to filtered list\n",
            "\n",
            "Checking article 539: https://m.entertain.naver.com/article/241/0003255822\n",
            "Article 539 score: 0\n",
            "Article 539: Filtered out\n",
            "\n",
            "Checking article 540: http://www.joynews24.com/view/1564721\n",
            "Article 540 score: 0\n",
            "Article 540: Filtered out\n",
            "\n",
            "Checking article 541: https://m.entertain.naver.com/article/312/0000595193\n",
            "Article 541 score: 0\n",
            "Article 541: Filtered out\n",
            "\n",
            "Checking article 542: http://www.joynews24.com/view/1564722\n",
            "Article 542 score: 0\n",
            "Article 542: Filtered out\n",
            "\n",
            "Checking article 543: https://m.entertain.naver.com/article/241/0003255821\n",
            "Article 543 score: 10\n",
            "Article 543: Added to filtered list\n",
            "\n",
            "Checking article 544: https://m.entertain.naver.com/article/014/0004965612\n",
            "Article 544 score: 0\n",
            "Article 544: Filtered out\n",
            "\n",
            "Checking article 545: https://m.entertain.naver.com/article/009/0005084936\n",
            "Article 545 score: 0\n",
            "Article 545: Filtered out\n",
            "\n",
            "Checking article 546: https://m.entertain.naver.com/article/011/0004153457\n",
            "Article 546 score: 0\n",
            "Article 546: Filtered out\n",
            "\n",
            "Checking article 547: https://m.entertain.naver.com/article/109/0004785192\n",
            "Article 547 score: 0\n",
            "Article 547: Filtered out\n",
            "\n",
            "Checking article 548: https://m.entertain.naver.com/article/311/0001554691\n",
            "Article 548 score: 0\n",
            "Article 548: Filtered out\n",
            "\n",
            "Checking article 549: https://m.entertain.naver.com/article/312/0000595192\n",
            "Article 549 score: 0\n",
            "Article 549: Filtered out\n",
            "\n",
            "Checking article 550: http://www.celuvmedia.com/article.php?aid=1675752773446134006\n",
            "Article 550 score: 10\n",
            "Article 550: Added to filtered list\n",
            "\n",
            "Checking article 551: https://m.entertain.naver.com/article/410/0000921506\n",
            "Article 551 score: 0\n",
            "Article 551: Filtered out\n",
            "\n",
            "Checking article 552: https://m.entertain.naver.com/article/311/0001554690\n",
            "Article 552 score: 0\n",
            "Article 552: Filtered out\n",
            "\n",
            "Checking article 553: https://m.entertain.naver.com/article/445/0000094902\n",
            "Article 553 score: 0\n",
            "Article 553: Filtered out\n",
            "\n",
            "Checking article 554: https://m.entertain.naver.com/article/112/0003613742\n",
            "Article 554 score: 0\n",
            "Article 554: Filtered out\n",
            "\n",
            "Checking article 555: https://m.entertain.naver.com/article/009/0005084933\n",
            "Article 555 score: 0\n",
            "Article 555: Filtered out\n",
            "\n",
            "Checking article 556: https://m.entertain.naver.com/article/109/0004785191\n",
            "Article 556 score: 0\n",
            "Article 556: Filtered out\n",
            "\n",
            "Checking article 557: https://m.entertain.naver.com/article/009/0005084931\n",
            "Article 557 score: 0\n",
            "Article 557: Filtered out\n",
            "\n",
            "Checking article 558: https://m.entertain.naver.com/article/410/0000921505\n",
            "Article 558 score: 0\n",
            "Article 558: Filtered out\n",
            "\n",
            "Checking article 559: https://m.entertain.naver.com/article/009/0005084928\n",
            "Article 559 score: 0\n",
            "Article 559: Filtered out\n",
            "\n",
            "Checking article 560: https://m.entertain.naver.com/article/312/0000595191\n",
            "Article 560 score: 10\n",
            "Article 560: Added to filtered list\n",
            "\n",
            "Checking article 561: https://www.mhns.co.kr/news/articleView.html?idxno=547571\n",
            "Article 561 score: 10\n",
            "Article 561: Added to filtered list\n",
            "\n",
            "Checking article 562: http://www.stardailynews.co.kr/news/articleView.html?idxno=407726\n",
            "Article 562 score: 0\n",
            "Article 562: Filtered out\n",
            "\n",
            "Checking article 563: https://m.entertain.naver.com/article/241/0003255820\n",
            "Article 563 score: 10\n",
            "Article 563: Added to filtered list\n",
            "\n",
            "Checking article 564: http://www.joynews24.com/view/1564720\n",
            "Article 564 score: 10\n",
            "Article 564: Added to filtered list\n",
            "\n",
            "Checking article 565: https://m.entertain.naver.com/article/421/0006617335\n",
            "Article 565 score: 10\n",
            "Article 565: Added to filtered list\n",
            "\n",
            "Checking article 566: https://m.entertain.naver.com/article/009/0005084926\n",
            "Article 566 score: 10\n",
            "Article 566: Added to filtered list\n",
            "\n",
            "Checking article 567: https://m.entertain.naver.com/article/410/0000921499\n",
            "Article 567 score: 0\n",
            "Article 567: Filtered out\n",
            "\n",
            "Checking article 568: https://m.entertain.naver.com/article/410/0000921501\n",
            "Article 568 score: 0\n",
            "Article 568: Filtered out\n",
            "\n",
            "Checking article 569: https://m.entertain.naver.com/article/410/0000921500\n",
            "Article 569 score: 0\n",
            "Article 569: Filtered out\n",
            "\n",
            "Checking article 570: https://m.entertain.naver.com/article/009/0005084922\n",
            "Article 570 score: 10\n",
            "Article 570: Added to filtered list\n",
            "\n",
            "Checking article 571: https://m.entertain.naver.com/article/241/0003255819\n",
            "Article 571 score: 0\n",
            "Article 571: Filtered out\n",
            "\n",
            "Checking article 572: https://m.entertain.naver.com/article/009/0005084912\n",
            "Article 572 score: 0\n",
            "Article 572: Filtered out\n",
            "\n",
            "Checking article 573: https://m.entertain.naver.com/article/009/0005084911\n",
            "Article 573 score: 0\n",
            "Article 573: Filtered out\n",
            "\n",
            "Checking article 574: https://m.entertain.naver.com/article/421/0006617328\n",
            "Article 574 score: 0\n",
            "Article 574: Filtered out\n",
            "\n",
            "Checking article 575: https://m.entertain.naver.com/article/213/0001244822\n",
            "Article 575 score: 0\n",
            "Article 575: Filtered out\n",
            "\n",
            "Checking article 576: https://m.entertain.naver.com/article/009/0005084919\n",
            "Article 576 score: 0\n",
            "Article 576: Filtered out\n",
            "\n",
            "Checking article 577: https://m.entertain.naver.com/article/014/0004965609\n",
            "Article 577 score: 0\n",
            "Article 577: Filtered out\n",
            "\n",
            "Checking article 578: https://m.entertain.naver.com/article/410/0000921498\n",
            "Article 578 score: 0\n",
            "Article 578: Filtered out\n",
            "\n",
            "Checking article 579: https://m.entertain.naver.com/article/410/0000921503\n",
            "Article 579 score: 0\n",
            "Article 579: Filtered out\n",
            "\n",
            "Checking article 580: https://m.entertain.naver.com/article/009/0005084909\n",
            "Article 580 score: 0\n",
            "Article 580: Filtered out\n",
            "\n",
            "Checking article 581: https://m.entertain.naver.com/article/009/0005084924\n",
            "Article 581 score: 0\n",
            "Article 581: Filtered out\n",
            "\n",
            "Checking article 582: https://m.entertain.naver.com/article/609/0000686339\n",
            "Article 582 score: 0\n",
            "Article 582: Filtered out\n",
            "\n",
            "Checking article 583: https://m.entertain.naver.com/article/009/0005084915\n",
            "Article 583 score: 0\n",
            "Article 583: Filtered out\n",
            "\n",
            "Checking article 584: https://m.entertain.naver.com/article/410/0000921497\n",
            "Article 584 score: 0\n",
            "Article 584: Filtered out\n",
            "\n",
            "Checking article 585: https://m.entertain.naver.com/article/410/0000921504\n",
            "Article 585 score: 0\n",
            "Article 585: Filtered out\n",
            "\n",
            "Checking article 586: https://m.entertain.naver.com/article/312/0000595190\n",
            "Article 586 score: 0\n",
            "Article 586: Filtered out\n",
            "\n",
            "Checking article 587: https://m.entertain.naver.com/article/311/0001554688\n",
            "Article 587 score: 0\n",
            "Article 587: Filtered out\n",
            "\n",
            "Checking article 588: https://m.entertain.naver.com/article/410/0000921489\n",
            "Article 588 score: 0\n",
            "Article 588: Filtered out\n",
            "\n",
            "Checking article 589: https://m.entertain.naver.com/article/312/0000595189\n",
            "Article 589 score: 0\n",
            "Article 589: Filtered out\n",
            "\n",
            "Checking article 590: http://www.slist.kr/news/articleView.html?idxno=423273\n",
            "Article 590 score: 10\n",
            "Article 590: Added to filtered list\n",
            "\n",
            "Checking article 591: https://m.entertain.naver.com/article/410/0000921495\n",
            "Article 591 score: 0\n",
            "Article 591: Filtered out\n",
            "\n",
            "Checking article 592: https://m.entertain.naver.com/article/410/0000921491\n",
            "Article 592 score: 0\n",
            "Article 592: Filtered out\n",
            "\n",
            "Checking article 593: https://m.entertain.naver.com/article/410/0000921494\n",
            "Article 593 score: 10\n",
            "Article 593: Added to filtered list\n",
            "\n",
            "Checking article 594: https://m.entertain.naver.com/article/009/0005084906\n",
            "Article 594 score: 10\n",
            "Article 594: Added to filtered list\n",
            "\n",
            "Checking article 595: https://m.entertain.naver.com/article/410/0000921493\n",
            "Article 595 score: 0\n",
            "Article 595: Filtered out\n",
            "\n",
            "Checking article 596: https://m.entertain.naver.com/article/410/0000921490\n",
            "Article 596 score: 0\n",
            "Article 596: Filtered out\n",
            "\n",
            "Checking article 597: https://m.entertain.naver.com/article/009/0005084902\n",
            "Article 597 score: 0\n",
            "Article 597: Filtered out\n",
            "\n",
            "Checking article 598: https://m.entertain.naver.com/article/241/0003255818\n",
            "Article 598 score: 0\n",
            "Article 598: Filtered out\n",
            "\n",
            "Checking article 599: https://m.entertain.naver.com/article/410/0000921492\n",
            "Article 599 score: 0\n",
            "Article 599: Filtered out\n",
            "\n",
            "Checking article 600: https://m.entertain.naver.com/article/421/0006617326\n",
            "Article 600 score: 0\n",
            "Article 600: Filtered out\n",
            "\n",
            "Checking article 601: https://m.entertain.naver.com/article/014/0004965605\n",
            "Article 601 score: 0\n",
            "Article 601: Filtered out\n",
            "\n",
            "Checking article 602: https://m.entertain.naver.com/article/410/0000921489\n",
            "Article 602 score: 0\n",
            "Article 602: Filtered out\n",
            "\n",
            "Checking article 603: https://m.entertain.naver.com/article/312/0000595190\n",
            "Article 603 score: 0\n",
            "Article 603: Filtered out\n",
            "\n",
            "Checking article 604: https://m.entertain.naver.com/article/311/0001554688\n",
            "Article 604 score: 0\n",
            "Article 604: Filtered out\n",
            "\n",
            "Checking article 605: https://m.entertain.naver.com/article/312/0000595189\n",
            "Article 605 score: 0\n",
            "Article 605: Filtered out\n",
            "\n",
            "Checking article 606: https://m.entertain.naver.com/article/410/0000921495\n",
            "Article 606 score: 0\n",
            "Article 606: Filtered out\n",
            "\n",
            "Checking article 607: http://www.slist.kr/news/articleView.html?idxno=423273\n",
            "Article 607 score: 10\n",
            "Article 607: Added to filtered list\n",
            "\n",
            "Checking article 608: https://m.entertain.naver.com/article/022/0003781154\n",
            "Article 608 score: 0\n",
            "Article 608: Filtered out\n",
            "\n",
            "Checking article 609: https://m.entertain.naver.com/article/609/0000686335\n",
            "Article 609 score: 0\n",
            "Article 609: Filtered out\n",
            "\n",
            "Checking article 610: http://www.joynews24.com/view/1564715\n",
            "Article 610 score: 10\n",
            "Article 610: Added to filtered list\n",
            "\n",
            "Checking article 611: https://m.entertain.naver.com/article/312/0000595188\n",
            "Article 611 score: 0\n",
            "Article 611: Filtered out\n",
            "\n",
            "Checking article 612: http://www.stardailynews.co.kr/news/articleView.html?idxno=407725\n",
            "Article 612 score: 10\n",
            "Article 612: Added to filtered list\n",
            "\n",
            "Checking article 613: http://www.topstarnews.net/news/articleView.html?idxno=15084441\n",
            "Article 613 score: 0\n",
            "Article 613: Filtered out\n",
            "\n",
            "Checking article 614: http://www.sportsq.co.kr/news/articleView.html?idxno=448875\n",
            "Article 614 score: 0\n",
            "Article 614: Filtered out\n",
            "\n",
            "Checking article 615: https://m.entertain.naver.com/article/241/0003255814\n",
            "Article 615 score: 0\n",
            "Article 615: Filtered out\n",
            "\n",
            "Checking article 616: https://m.entertain.naver.com/article/312/0000595187\n",
            "Article 616 score: 0\n",
            "Article 616: Filtered out\n",
            "\n",
            "Checking article 617: https://m.entertain.naver.com/article/609/0000686333\n",
            "Article 617 score: 0\n",
            "Article 617: Filtered out\n",
            "\n",
            "Checking article 618: https://m.entertain.naver.com/article/014/0004965603\n",
            "Article 618 score: 0\n",
            "Article 618: Filtered out\n",
            "\n",
            "Checking article 619: https://m.entertain.naver.com/article/241/0003255816\n",
            "Article 619 score: 0\n",
            "Article 619: Filtered out\n",
            "\n",
            "Checking article 620: http://www.celuvmedia.com/article.php?aid=1675752620446132006\n",
            "Article 620 score: 10\n",
            "Article 620: Added to filtered list\n",
            "\n",
            "Checking article 621: https://m.entertain.naver.com/article/108/0003127044\n",
            "Article 621 score: 0\n",
            "Article 621: Filtered out\n",
            "\n",
            "Checking article 622: https://m.entertain.naver.com/article/241/0003255813\n",
            "Article 622 score: 0\n",
            "Article 622: Filtered out\n",
            "\n",
            "Checking article 623: https://m.entertain.naver.com/article/445/0000094901\n",
            "Article 623 score: 0\n",
            "Article 623: Filtered out\n",
            "\n",
            "Checking article 624: https://m.entertain.naver.com/article/241/0003255812\n",
            "Article 624 score: 0\n",
            "Article 624: Filtered out\n",
            "\n",
            "Checking article 625: https://sports.hankooki.com/news/articleView.html?idxno=6820149\n",
            "Article 625 score: 0\n",
            "Article 625: Filtered out\n",
            "\n",
            "Checking article 626: http://www.celuvmedia.com/article.php?aid=1675752519446131009\n",
            "Article 626 score: 10\n",
            "Article 626: Added to filtered list\n",
            "\n",
            "Checking article 627: http://www.sportsq.co.kr/news/articleView.html?idxno=448872\n",
            "Article 627 score: 0\n",
            "Article 627: Filtered out\n",
            "\n",
            "Checking article 628: http://www.sportsq.co.kr/news/articleView.html?idxno=448873\n",
            "Article 628 score: 0\n",
            "Article 628: Filtered out\n",
            "\n",
            "Checking article 629: https://m.entertain.naver.com/article/312/0000595186\n",
            "Article 629 score: 0\n",
            "Article 629: Filtered out\n",
            "\n",
            "Checking article 630: https://m.entertain.naver.com/article/011/0004153453\n",
            "Article 630 score: 0\n",
            "Article 630: Filtered out\n",
            "\n",
            "Checking article 631: https://m.entertain.naver.com/article/022/0003781152\n",
            "Article 631 score: 0\n",
            "Article 631: Filtered out\n",
            "\n",
            "Checking article 632: http://www.slist.kr/news/articleView.html?idxno=423254\n",
            "Article 632 score: 0\n",
            "Article 632: Filtered out\n",
            "\n",
            "Checking article 633: https://m.entertain.naver.com/article/014/0004965602\n",
            "Article 633 score: 0\n",
            "Article 633: Filtered out\n",
            "\n",
            "Checking article 634: https://m.entertain.naver.com/article/109/0004785187\n",
            "Article 634 score: 0\n",
            "Article 634: Filtered out\n",
            "\n",
            "Checking article 635: http://www.sportsq.co.kr/news/articleView.html?idxno=448874\n",
            "Article 635 score: 0\n",
            "Article 635: Filtered out\n",
            "\n",
            "Checking article 636: https://m.entertain.naver.com/article/312/0000595185\n",
            "Article 636 score: 10\n",
            "Article 636: Added to filtered list\n",
            "\n",
            "Checking article 637: https://m.entertain.naver.com/article/109/0004785185\n",
            "Article 637 score: 10\n",
            "Article 637: Added to filtered list\n",
            "\n",
            "Checking article 638: https://m.entertain.naver.com/article/241/0003255811\n",
            "Article 638 score: 0\n",
            "Article 638: Filtered out\n",
            "\n",
            "Checking article 639: https://n.news.naver.com/mnews/article/119/0002681611?sid=004\n",
            "Article 639 score: 10\n",
            "Article 639: Added to filtered list\n",
            "\n",
            "Checking article 640: https://m.entertain.naver.com/article/014/0004965600\n",
            "Article 640 score: 0\n",
            "Article 640: Filtered out\n",
            "\n",
            "Checking article 641: https://m.entertain.naver.com/article/011/0004153452\n",
            "Article 641 score: 0\n",
            "Article 641: Filtered out\n",
            "\n",
            "Checking article 642: https://m.entertain.naver.com/article/312/0000595184\n",
            "Article 642 score: 0\n",
            "Article 642: Filtered out\n",
            "\n",
            "Checking article 643: https://m.entertain.naver.com/article/112/0003613739\n",
            "Article 643 score: 0\n",
            "Article 643: Filtered out\n",
            "\n",
            "Checking article 644: https://m.entertain.naver.com/article/011/0004153449\n",
            "Article 644 score: 0\n",
            "Article 644: Filtered out\n",
            "\n",
            "Checking article 645: https://m.entertain.naver.com/article/011/0004153450\n",
            "Article 645 score: 0\n",
            "Article 645: Filtered out\n",
            "\n",
            "Checking article 646: https://m.entertain.naver.com/article/014/0004965598\n",
            "Article 646 score: 0\n",
            "Article 646: Filtered out\n",
            "\n",
            "Checking article 647: https://m.entertain.naver.com/article/421/0006617278\n",
            "Article 647 score: 0\n",
            "Article 647: Filtered out\n",
            "\n",
            "Checking article 648: http://www.topstarnews.net/news/articleView.html?idxno=15084429\n",
            "Article 648 score: 0\n",
            "Article 648: Filtered out\n",
            "\n",
            "Checking article 649: http://www.slist.kr/news/articleView.html?idxno=423269\n",
            "Article 649 score: 0\n",
            "Article 649: Filtered out\n",
            "\n",
            "Checking article 650: https://n.news.naver.com/mnews/article/119/0002681608?sid=004\n",
            "Article 650 score: 10\n",
            "Article 650: Added to filtered list\n",
            "\n",
            "Checking article 651: https://m.entertain.naver.com/article/421/0006617279\n",
            "Article 651 score: 0\n",
            "Article 651: Filtered out\n",
            "\n",
            "Checking article 652: https://m.entertain.naver.com/article/241/0003255810\n",
            "Article 652 score: 0\n",
            "Article 652: Filtered out\n",
            "\n",
            "Checking article 653: https://m.entertain.naver.com/article/408/0000179710\n",
            "Article 653 score: 0\n",
            "Article 653: Filtered out\n",
            "\n",
            "Checking article 654: https://m.entertain.naver.com/article/312/0000595183\n",
            "Article 654 score: 0\n",
            "Article 654: Filtered out\n",
            "\n",
            "Checking article 655: https://m.entertain.naver.com/article/477/0000409650\n",
            "Article 655 score: 10\n",
            "Article 655: Added to filtered list\n",
            "\n",
            "Checking article 656: https://m.entertain.naver.com/article/011/0004153447\n",
            "Article 656 score: 0\n",
            "Article 656: Filtered out\n",
            "\n",
            "Checking article 657: https://m.entertain.naver.com/article/109/0004785184\n",
            "Article 657 score: 0\n",
            "Article 657: Filtered out\n",
            "\n",
            "Checking article 658: https://m.entertain.naver.com/article/445/0000094900\n",
            "Article 658 score: 0\n",
            "Article 658: Filtered out\n",
            "\n",
            "Checking article 659: https://n.news.naver.com/mnews/article/119/0002681607?sid=004\n",
            "Article 659 score: 10\n",
            "Article 659: Added to filtered list\n",
            "\n",
            "Checking article 660: https://m.entertain.naver.com/article/112/0003613736\n",
            "Article 660 score: 0\n",
            "Article 660: Filtered out\n",
            "\n",
            "Checking article 661: https://m.entertain.naver.com/article/112/0003613737\n",
            "Article 661 score: 10\n",
            "Article 661: Added to filtered list\n",
            "\n",
            "Checking article 662: https://n.news.naver.com/mnews/article/016/0002100499?sid=103\n",
            "Article 662 score: 0\n",
            "Article 662: Filtered out\n",
            "\n",
            "Checking article 663: https://m.entertain.naver.com/article/241/0003255809\n",
            "Article 663 score: 0\n",
            "Article 663: Filtered out\n",
            "\n",
            "Checking article 664: https://m.entertain.naver.com/article/311/0001554685\n",
            "Article 664 score: 0\n",
            "Article 664: Filtered out\n",
            "\n",
            "Checking article 665: https://m.entertain.naver.com/article/109/0004785183\n",
            "Article 665 score: 0\n",
            "Article 665: Filtered out\n",
            "\n",
            "Checking article 666: https://m.entertain.naver.com/article/022/0003781148\n",
            "Article 666 score: 10\n",
            "Article 666: Added to filtered list\n",
            "\n",
            "Checking article 667: http://www.sportsq.co.kr/news/articleView.html?idxno=448868\n",
            "Article 667 score: 0\n",
            "Article 667: Filtered out\n",
            "\n",
            "Checking article 668: http://www.sportsq.co.kr/news/articleView.html?idxno=448869\n",
            "Article 668 score: 0\n",
            "Article 668: Filtered out\n",
            "\n",
            "Checking article 669: https://m.entertain.naver.com/article/241/0003255808\n",
            "Article 669 score: 0\n",
            "Article 669: Filtered out\n",
            "\n",
            "Checking article 670: http://www.stardailynews.co.kr/news/articleView.html?idxno=407723\n",
            "Article 670 score: 10\n",
            "Article 670: Added to filtered list\n",
            "\n",
            "Checking article 671: http://www.tvdaily.co.kr/read.php3?aid=16757521591666960017\n"
          ]
        },
        {
          "output_type": "stream",
          "name": "stderr",
          "text": [
            "\r 48%|████▊     | 39/82 [12:24<13:40, 19.08s/it]"
          ]
        },
        {
          "output_type": "stream",
          "name": "stdout",
          "text": [
            "Article 671 score: 10\n",
            "Article 671: Added to filtered list\n",
            "\n",
            "Checking article 672: https://m.entertain.naver.com/article/011/0004153446\n"
          ]
        },
        {
          "output_type": "stream",
          "name": "stderr",
          "text": [
            "\n"
          ]
        },
        {
          "output_type": "error",
          "ename": "KeyboardInterrupt",
          "evalue": "",
          "traceback": [
            "\u001b[0;31m---------------------------------------------------------------------------\u001b[0m",
            "\u001b[0;31mKeyboardInterrupt\u001b[0m                         Traceback (most recent call last)",
            "\u001b[0;32m<ipython-input-3-d2d10f6b8a35>\u001b[0m in \u001b[0;36m<cell line: 180>\u001b[0;34m()\u001b[0m\n\u001b[1;32m    180\u001b[0m \u001b[0;32mif\u001b[0m \u001b[0m__name__\u001b[0m \u001b[0;34m==\u001b[0m \u001b[0;34m\"__main__\"\u001b[0m\u001b[0;34m:\u001b[0m\u001b[0;34m\u001b[0m\u001b[0;34m\u001b[0m\u001b[0m\n\u001b[1;32m    181\u001b[0m     \u001b[0mmusicals_df\u001b[0m \u001b[0;34m=\u001b[0m \u001b[0mpd\u001b[0m\u001b[0;34m.\u001b[0m\u001b[0mread_csv\u001b[0m\u001b[0;34m(\u001b[0m\u001b[0;34m\"/content/drive/MyDrive/data/all_musicals.csv\"\u001b[0m\u001b[0;34m)\u001b[0m\u001b[0;34m\u001b[0m\u001b[0;34m\u001b[0m\u001b[0m\n\u001b[0;32m--> 182\u001b[0;31m     \u001b[0mprocess_all_musicals\u001b[0m\u001b[0;34m(\u001b[0m\u001b[0mmusicals_df\u001b[0m\u001b[0;34m,\u001b[0m \u001b[0mclient_id\u001b[0m\u001b[0;34m,\u001b[0m \u001b[0mclient_secret\u001b[0m\u001b[0;34m)\u001b[0m\u001b[0;34m\u001b[0m\u001b[0;34m\u001b[0m\u001b[0m\n\u001b[0m",
            "\u001b[0;32m<ipython-input-3-d2d10f6b8a35>\u001b[0m in \u001b[0;36mprocess_all_musicals\u001b[0;34m(musicals_df, client_id, client_secret)\u001b[0m\n\u001b[1;32m    168\u001b[0m         \u001b[0mperformance_code\u001b[0m \u001b[0;34m=\u001b[0m \u001b[0mmusical\u001b[0m\u001b[0;34m[\u001b[0m\u001b[0;34m'mt20id'\u001b[0m\u001b[0;34m]\u001b[0m\u001b[0;34m\u001b[0m\u001b[0;34m\u001b[0m\u001b[0m\n\u001b[1;32m    169\u001b[0m         \u001b[0;32mtry\u001b[0m\u001b[0;34m:\u001b[0m\u001b[0;34m\u001b[0m\u001b[0;34m\u001b[0m\u001b[0m\n\u001b[0;32m--> 170\u001b[0;31m             \u001b[0marticles\u001b[0m \u001b[0;34m=\u001b[0m \u001b[0mprocess_musical\u001b[0m\u001b[0;34m(\u001b[0m\u001b[0mmusical_name\u001b[0m\u001b[0;34m,\u001b[0m \u001b[0mtheater_name\u001b[0m\u001b[0;34m,\u001b[0m \u001b[0mstart_date\u001b[0m\u001b[0;34m,\u001b[0m \u001b[0mend_date\u001b[0m\u001b[0;34m,\u001b[0m \u001b[0mperformance_code\u001b[0m\u001b[0;34m,\u001b[0m \u001b[0mclient_id\u001b[0m\u001b[0;34m,\u001b[0m \u001b[0mclient_secret\u001b[0m\u001b[0;34m)\u001b[0m\u001b[0;34m\u001b[0m\u001b[0;34m\u001b[0m\u001b[0m\n\u001b[0m\u001b[1;32m    171\u001b[0m             \u001b[0;32mif\u001b[0m \u001b[0marticles\u001b[0m\u001b[0;34m:\u001b[0m\u001b[0;34m\u001b[0m\u001b[0;34m\u001b[0m\u001b[0m\n\u001b[1;32m    172\u001b[0m                 \u001b[0mfile_path\u001b[0m \u001b[0;34m=\u001b[0m \u001b[0;34mf\"/content/drive/MyDrive/data/news/{musical['mt20id']}.csv\"\u001b[0m\u001b[0;34m\u001b[0m\u001b[0;34m\u001b[0m\u001b[0m\n",
            "\u001b[0;32m<ipython-input-3-d2d10f6b8a35>\u001b[0m in \u001b[0;36mprocess_musical\u001b[0;34m(musical_name, theater_name, start_date, end_date, performance_code, client_id, client_secret)\u001b[0m\n\u001b[1;32m    150\u001b[0m \u001b[0;34m\u001b[0m\u001b[0m\n\u001b[1;32m    151\u001b[0m     \u001b[0mprint\u001b[0m\u001b[0;34m(\u001b[0m\u001b[0;34mf\"\\nProcessing: {musical_name} at {theater_name}\"\u001b[0m\u001b[0;34m)\u001b[0m\u001b[0;34m\u001b[0m\u001b[0;34m\u001b[0m\u001b[0m\n\u001b[0;32m--> 152\u001b[0;31m     \u001b[0marticles\u001b[0m \u001b[0;34m=\u001b[0m \u001b[0mget_musical_news\u001b[0m\u001b[0;34m(\u001b[0m\u001b[0mmusical_name\u001b[0m\u001b[0;34m,\u001b[0m \u001b[0mtheater_name\u001b[0m\u001b[0;34m,\u001b[0m \u001b[0mstart_date\u001b[0m\u001b[0;34m,\u001b[0m \u001b[0mend_date\u001b[0m\u001b[0;34m,\u001b[0m \u001b[0mclient_id\u001b[0m\u001b[0;34m,\u001b[0m \u001b[0mclient_secret\u001b[0m\u001b[0;34m)\u001b[0m\u001b[0;34m\u001b[0m\u001b[0;34m\u001b[0m\u001b[0m\n\u001b[0m\u001b[1;32m    153\u001b[0m \u001b[0;34m\u001b[0m\u001b[0m\n\u001b[1;32m    154\u001b[0m     \u001b[0mfile_path\u001b[0m \u001b[0;34m=\u001b[0m \u001b[0;34mf\"/content/drive/MyDrive/data/news/{performance_code}.csv\"\u001b[0m\u001b[0;34m\u001b[0m\u001b[0;34m\u001b[0m\u001b[0m\n",
            "\u001b[0;32m<ipython-input-3-d2d10f6b8a35>\u001b[0m in \u001b[0;36mget_musical_news\u001b[0;34m(musical_name, theater_name, start_date, end_date, client_id, client_secret)\u001b[0m\n\u001b[1;32m    111\u001b[0m     \u001b[0;32mfor\u001b[0m \u001b[0mi\u001b[0m\u001b[0;34m,\u001b[0m \u001b[0marticle\u001b[0m \u001b[0;32min\u001b[0m \u001b[0menumerate\u001b[0m\u001b[0;34m(\u001b[0m\u001b[0marticles\u001b[0m\u001b[0;34m)\u001b[0m\u001b[0;34m:\u001b[0m\u001b[0;34m\u001b[0m\u001b[0;34m\u001b[0m\u001b[0m\n\u001b[1;32m    112\u001b[0m         \u001b[0mprint\u001b[0m\u001b[0;34m(\u001b[0m\u001b[0;34mf\"\\nChecking article {i+1}: {article['link']}\"\u001b[0m\u001b[0;34m)\u001b[0m\u001b[0;34m\u001b[0m\u001b[0;34m\u001b[0m\u001b[0m\n\u001b[0;32m--> 113\u001b[0;31m         \u001b[0marticle\u001b[0m\u001b[0;34m[\u001b[0m\u001b[0;34m'full_content'\u001b[0m\u001b[0;34m]\u001b[0m\u001b[0;34m,\u001b[0m \u001b[0marticle\u001b[0m\u001b[0;34m[\u001b[0m\u001b[0;34m'journalist'\u001b[0m\u001b[0;34m]\u001b[0m \u001b[0;34m=\u001b[0m \u001b[0mget_full_article_content\u001b[0m\u001b[0;34m(\u001b[0m\u001b[0marticle\u001b[0m\u001b[0;34m[\u001b[0m\u001b[0;34m'link'\u001b[0m\u001b[0;34m]\u001b[0m\u001b[0;34m)\u001b[0m\u001b[0;34m\u001b[0m\u001b[0;34m\u001b[0m\u001b[0m\n\u001b[0m\u001b[1;32m    114\u001b[0m \u001b[0;34m\u001b[0m\u001b[0m\n\u001b[1;32m    115\u001b[0m         \u001b[0mscore\u001b[0m \u001b[0;34m=\u001b[0m \u001b[0mcalculate_article_score\u001b[0m\u001b[0;34m(\u001b[0m\u001b[0marticle\u001b[0m\u001b[0;34m,\u001b[0m \u001b[0mmusical_name\u001b[0m\u001b[0;34m,\u001b[0m \u001b[0mtheater_name\u001b[0m\u001b[0;34m)\u001b[0m\u001b[0;34m\u001b[0m\u001b[0;34m\u001b[0m\u001b[0m\n",
            "\u001b[0;32m<ipython-input-3-d2d10f6b8a35>\u001b[0m in \u001b[0;36mget_full_article_content\u001b[0;34m(url, timeout)\u001b[0m\n\u001b[1;32m     12\u001b[0m \u001b[0;32mdef\u001b[0m \u001b[0mget_full_article_content\u001b[0m\u001b[0;34m(\u001b[0m\u001b[0murl\u001b[0m\u001b[0;34m,\u001b[0m \u001b[0mtimeout\u001b[0m\u001b[0;34m=\u001b[0m\u001b[0;36m10\u001b[0m\u001b[0;34m)\u001b[0m\u001b[0;34m:\u001b[0m\u001b[0;34m\u001b[0m\u001b[0;34m\u001b[0m\u001b[0m\n\u001b[1;32m     13\u001b[0m     \u001b[0;32mtry\u001b[0m\u001b[0;34m:\u001b[0m\u001b[0;34m\u001b[0m\u001b[0;34m\u001b[0m\u001b[0m\n\u001b[0;32m---> 14\u001b[0;31m         \u001b[0mresponse\u001b[0m \u001b[0;34m=\u001b[0m \u001b[0mrequests\u001b[0m\u001b[0;34m.\u001b[0m\u001b[0mget\u001b[0m\u001b[0;34m(\u001b[0m\u001b[0murl\u001b[0m\u001b[0;34m,\u001b[0m \u001b[0mtimeout\u001b[0m\u001b[0;34m=\u001b[0m\u001b[0mtimeout\u001b[0m\u001b[0;34m)\u001b[0m\u001b[0;34m\u001b[0m\u001b[0;34m\u001b[0m\u001b[0m\n\u001b[0m\u001b[1;32m     15\u001b[0m         \u001b[0msoup\u001b[0m \u001b[0;34m=\u001b[0m \u001b[0mBeautifulSoup\u001b[0m\u001b[0;34m(\u001b[0m\u001b[0mresponse\u001b[0m\u001b[0;34m.\u001b[0m\u001b[0mtext\u001b[0m\u001b[0;34m,\u001b[0m \u001b[0;34m'html.parser'\u001b[0m\u001b[0;34m)\u001b[0m\u001b[0;34m\u001b[0m\u001b[0;34m\u001b[0m\u001b[0m\n\u001b[1;32m     16\u001b[0m         \u001b[0marticle_body\u001b[0m \u001b[0;34m=\u001b[0m \u001b[0msoup\u001b[0m\u001b[0;34m.\u001b[0m\u001b[0mfind\u001b[0m\u001b[0;34m(\u001b[0m\u001b[0;34m'article'\u001b[0m\u001b[0;34m,\u001b[0m \u001b[0mid\u001b[0m\u001b[0;34m=\u001b[0m\u001b[0;34m'dic_area'\u001b[0m\u001b[0;34m)\u001b[0m\u001b[0;34m\u001b[0m\u001b[0;34m\u001b[0m\u001b[0m\n",
            "\u001b[0;32m/usr/local/lib/python3.10/dist-packages/requests/api.py\u001b[0m in \u001b[0;36mget\u001b[0;34m(url, params, **kwargs)\u001b[0m\n\u001b[1;32m     71\u001b[0m     \"\"\"\n\u001b[1;32m     72\u001b[0m \u001b[0;34m\u001b[0m\u001b[0m\n\u001b[0;32m---> 73\u001b[0;31m     \u001b[0;32mreturn\u001b[0m \u001b[0mrequest\u001b[0m\u001b[0;34m(\u001b[0m\u001b[0;34m\"get\"\u001b[0m\u001b[0;34m,\u001b[0m \u001b[0murl\u001b[0m\u001b[0;34m,\u001b[0m \u001b[0mparams\u001b[0m\u001b[0;34m=\u001b[0m\u001b[0mparams\u001b[0m\u001b[0;34m,\u001b[0m \u001b[0;34m**\u001b[0m\u001b[0mkwargs\u001b[0m\u001b[0;34m)\u001b[0m\u001b[0;34m\u001b[0m\u001b[0;34m\u001b[0m\u001b[0m\n\u001b[0m\u001b[1;32m     74\u001b[0m \u001b[0;34m\u001b[0m\u001b[0m\n\u001b[1;32m     75\u001b[0m \u001b[0;34m\u001b[0m\u001b[0m\n",
            "\u001b[0;32m/usr/local/lib/python3.10/dist-packages/requests/api.py\u001b[0m in \u001b[0;36mrequest\u001b[0;34m(method, url, **kwargs)\u001b[0m\n\u001b[1;32m     57\u001b[0m     \u001b[0;31m# cases, and look like a memory leak in others.\u001b[0m\u001b[0;34m\u001b[0m\u001b[0;34m\u001b[0m\u001b[0m\n\u001b[1;32m     58\u001b[0m     \u001b[0;32mwith\u001b[0m \u001b[0msessions\u001b[0m\u001b[0;34m.\u001b[0m\u001b[0mSession\u001b[0m\u001b[0;34m(\u001b[0m\u001b[0;34m)\u001b[0m \u001b[0;32mas\u001b[0m \u001b[0msession\u001b[0m\u001b[0;34m:\u001b[0m\u001b[0;34m\u001b[0m\u001b[0;34m\u001b[0m\u001b[0m\n\u001b[0;32m---> 59\u001b[0;31m         \u001b[0;32mreturn\u001b[0m \u001b[0msession\u001b[0m\u001b[0;34m.\u001b[0m\u001b[0mrequest\u001b[0m\u001b[0;34m(\u001b[0m\u001b[0mmethod\u001b[0m\u001b[0;34m=\u001b[0m\u001b[0mmethod\u001b[0m\u001b[0;34m,\u001b[0m \u001b[0murl\u001b[0m\u001b[0;34m=\u001b[0m\u001b[0murl\u001b[0m\u001b[0;34m,\u001b[0m \u001b[0;34m**\u001b[0m\u001b[0mkwargs\u001b[0m\u001b[0;34m)\u001b[0m\u001b[0;34m\u001b[0m\u001b[0;34m\u001b[0m\u001b[0m\n\u001b[0m\u001b[1;32m     60\u001b[0m \u001b[0;34m\u001b[0m\u001b[0m\n\u001b[1;32m     61\u001b[0m \u001b[0;34m\u001b[0m\u001b[0m\n",
            "\u001b[0;32m/usr/local/lib/python3.10/dist-packages/requests/sessions.py\u001b[0m in \u001b[0;36mrequest\u001b[0;34m(self, method, url, params, data, headers, cookies, files, auth, timeout, allow_redirects, proxies, hooks, stream, verify, cert, json)\u001b[0m\n\u001b[1;32m    587\u001b[0m         }\n\u001b[1;32m    588\u001b[0m         \u001b[0msend_kwargs\u001b[0m\u001b[0;34m.\u001b[0m\u001b[0mupdate\u001b[0m\u001b[0;34m(\u001b[0m\u001b[0msettings\u001b[0m\u001b[0;34m)\u001b[0m\u001b[0;34m\u001b[0m\u001b[0;34m\u001b[0m\u001b[0m\n\u001b[0;32m--> 589\u001b[0;31m         \u001b[0mresp\u001b[0m \u001b[0;34m=\u001b[0m \u001b[0mself\u001b[0m\u001b[0;34m.\u001b[0m\u001b[0msend\u001b[0m\u001b[0;34m(\u001b[0m\u001b[0mprep\u001b[0m\u001b[0;34m,\u001b[0m \u001b[0;34m**\u001b[0m\u001b[0msend_kwargs\u001b[0m\u001b[0;34m)\u001b[0m\u001b[0;34m\u001b[0m\u001b[0;34m\u001b[0m\u001b[0m\n\u001b[0m\u001b[1;32m    590\u001b[0m \u001b[0;34m\u001b[0m\u001b[0m\n\u001b[1;32m    591\u001b[0m         \u001b[0;32mreturn\u001b[0m \u001b[0mresp\u001b[0m\u001b[0;34m\u001b[0m\u001b[0;34m\u001b[0m\u001b[0m\n",
            "\u001b[0;32m/usr/local/lib/python3.10/dist-packages/requests/sessions.py\u001b[0m in \u001b[0;36msend\u001b[0;34m(self, request, **kwargs)\u001b[0m\n\u001b[1;32m    701\u001b[0m \u001b[0;34m\u001b[0m\u001b[0m\n\u001b[1;32m    702\u001b[0m         \u001b[0;31m# Send the request\u001b[0m\u001b[0;34m\u001b[0m\u001b[0;34m\u001b[0m\u001b[0m\n\u001b[0;32m--> 703\u001b[0;31m         \u001b[0mr\u001b[0m \u001b[0;34m=\u001b[0m \u001b[0madapter\u001b[0m\u001b[0;34m.\u001b[0m\u001b[0msend\u001b[0m\u001b[0;34m(\u001b[0m\u001b[0mrequest\u001b[0m\u001b[0;34m,\u001b[0m \u001b[0;34m**\u001b[0m\u001b[0mkwargs\u001b[0m\u001b[0;34m)\u001b[0m\u001b[0;34m\u001b[0m\u001b[0;34m\u001b[0m\u001b[0m\n\u001b[0m\u001b[1;32m    704\u001b[0m \u001b[0;34m\u001b[0m\u001b[0m\n\u001b[1;32m    705\u001b[0m         \u001b[0;31m# Total elapsed time of the request (approximately)\u001b[0m\u001b[0;34m\u001b[0m\u001b[0;34m\u001b[0m\u001b[0m\n",
            "\u001b[0;32m/usr/local/lib/python3.10/dist-packages/requests/adapters.py\u001b[0m in \u001b[0;36msend\u001b[0;34m(self, request, stream, timeout, verify, cert, proxies)\u001b[0m\n\u001b[1;32m    665\u001b[0m \u001b[0;34m\u001b[0m\u001b[0m\n\u001b[1;32m    666\u001b[0m         \u001b[0;32mtry\u001b[0m\u001b[0;34m:\u001b[0m\u001b[0;34m\u001b[0m\u001b[0;34m\u001b[0m\u001b[0m\n\u001b[0;32m--> 667\u001b[0;31m             resp = conn.urlopen(\n\u001b[0m\u001b[1;32m    668\u001b[0m                 \u001b[0mmethod\u001b[0m\u001b[0;34m=\u001b[0m\u001b[0mrequest\u001b[0m\u001b[0;34m.\u001b[0m\u001b[0mmethod\u001b[0m\u001b[0;34m,\u001b[0m\u001b[0;34m\u001b[0m\u001b[0;34m\u001b[0m\u001b[0m\n\u001b[1;32m    669\u001b[0m                 \u001b[0murl\u001b[0m\u001b[0;34m=\u001b[0m\u001b[0murl\u001b[0m\u001b[0;34m,\u001b[0m\u001b[0;34m\u001b[0m\u001b[0;34m\u001b[0m\u001b[0m\n",
            "\u001b[0;32m/usr/local/lib/python3.10/dist-packages/urllib3/connectionpool.py\u001b[0m in \u001b[0;36murlopen\u001b[0;34m(self, method, url, body, headers, retries, redirect, assert_same_host, timeout, pool_timeout, release_conn, chunked, body_pos, preload_content, decode_content, **response_kw)\u001b[0m\n\u001b[1;32m    768\u001b[0m             \u001b[0;31m# Request a connection from the queue.\u001b[0m\u001b[0;34m\u001b[0m\u001b[0;34m\u001b[0m\u001b[0m\n\u001b[1;32m    769\u001b[0m             \u001b[0mtimeout_obj\u001b[0m \u001b[0;34m=\u001b[0m \u001b[0mself\u001b[0m\u001b[0;34m.\u001b[0m\u001b[0m_get_timeout\u001b[0m\u001b[0;34m(\u001b[0m\u001b[0mtimeout\u001b[0m\u001b[0;34m)\u001b[0m\u001b[0;34m\u001b[0m\u001b[0;34m\u001b[0m\u001b[0m\n\u001b[0;32m--> 770\u001b[0;31m             \u001b[0mconn\u001b[0m \u001b[0;34m=\u001b[0m \u001b[0mself\u001b[0m\u001b[0;34m.\u001b[0m\u001b[0m_get_conn\u001b[0m\u001b[0;34m(\u001b[0m\u001b[0mtimeout\u001b[0m\u001b[0;34m=\u001b[0m\u001b[0mpool_timeout\u001b[0m\u001b[0;34m)\u001b[0m\u001b[0;34m\u001b[0m\u001b[0;34m\u001b[0m\u001b[0m\n\u001b[0m\u001b[1;32m    771\u001b[0m \u001b[0;34m\u001b[0m\u001b[0m\n\u001b[1;32m    772\u001b[0m             \u001b[0mconn\u001b[0m\u001b[0;34m.\u001b[0m\u001b[0mtimeout\u001b[0m \u001b[0;34m=\u001b[0m \u001b[0mtimeout_obj\u001b[0m\u001b[0;34m.\u001b[0m\u001b[0mconnect_timeout\u001b[0m  \u001b[0;31m# type: ignore[assignment]\u001b[0m\u001b[0;34m\u001b[0m\u001b[0;34m\u001b[0m\u001b[0m\n",
            "\u001b[0;32m/usr/local/lib/python3.10/dist-packages/urllib3/connectionpool.py\u001b[0m in \u001b[0;36m_get_conn\u001b[0;34m(self, timeout)\u001b[0m\n\u001b[1;32m    276\u001b[0m \u001b[0;34m\u001b[0m\u001b[0m\n\u001b[1;32m    277\u001b[0m         \u001b[0;32mtry\u001b[0m\u001b[0;34m:\u001b[0m\u001b[0;34m\u001b[0m\u001b[0;34m\u001b[0m\u001b[0m\n\u001b[0;32m--> 278\u001b[0;31m             \u001b[0mconn\u001b[0m \u001b[0;34m=\u001b[0m \u001b[0mself\u001b[0m\u001b[0;34m.\u001b[0m\u001b[0mpool\u001b[0m\u001b[0;34m.\u001b[0m\u001b[0mget\u001b[0m\u001b[0;34m(\u001b[0m\u001b[0mblock\u001b[0m\u001b[0;34m=\u001b[0m\u001b[0mself\u001b[0m\u001b[0;34m.\u001b[0m\u001b[0mblock\u001b[0m\u001b[0;34m,\u001b[0m \u001b[0mtimeout\u001b[0m\u001b[0;34m=\u001b[0m\u001b[0mtimeout\u001b[0m\u001b[0;34m)\u001b[0m\u001b[0;34m\u001b[0m\u001b[0;34m\u001b[0m\u001b[0m\n\u001b[0m\u001b[1;32m    279\u001b[0m \u001b[0;34m\u001b[0m\u001b[0m\n\u001b[1;32m    280\u001b[0m         \u001b[0;32mexcept\u001b[0m \u001b[0mAttributeError\u001b[0m\u001b[0;34m:\u001b[0m  \u001b[0;31m# self.pool is None\u001b[0m\u001b[0;34m\u001b[0m\u001b[0;34m\u001b[0m\u001b[0m\n",
            "\u001b[0;32m/usr/lib/python3.10/queue.py\u001b[0m in \u001b[0;36mget\u001b[0;34m(self, block, timeout)\u001b[0m\n\u001b[1;32m    179\u001b[0m                         \u001b[0;32mraise\u001b[0m \u001b[0mEmpty\u001b[0m\u001b[0;34m\u001b[0m\u001b[0;34m\u001b[0m\u001b[0m\n\u001b[1;32m    180\u001b[0m                     \u001b[0mself\u001b[0m\u001b[0;34m.\u001b[0m\u001b[0mnot_empty\u001b[0m\u001b[0;34m.\u001b[0m\u001b[0mwait\u001b[0m\u001b[0;34m(\u001b[0m\u001b[0mremaining\u001b[0m\u001b[0;34m)\u001b[0m\u001b[0;34m\u001b[0m\u001b[0;34m\u001b[0m\u001b[0m\n\u001b[0;32m--> 181\u001b[0;31m             \u001b[0mitem\u001b[0m \u001b[0;34m=\u001b[0m \u001b[0mself\u001b[0m\u001b[0;34m.\u001b[0m\u001b[0m_get\u001b[0m\u001b[0;34m(\u001b[0m\u001b[0;34m)\u001b[0m\u001b[0;34m\u001b[0m\u001b[0;34m\u001b[0m\u001b[0m\n\u001b[0m\u001b[1;32m    182\u001b[0m             \u001b[0mself\u001b[0m\u001b[0;34m.\u001b[0m\u001b[0mnot_full\u001b[0m\u001b[0;34m.\u001b[0m\u001b[0mnotify\u001b[0m\u001b[0;34m(\u001b[0m\u001b[0;34m)\u001b[0m\u001b[0;34m\u001b[0m\u001b[0;34m\u001b[0m\u001b[0m\n\u001b[1;32m    183\u001b[0m             \u001b[0;32mreturn\u001b[0m \u001b[0mitem\u001b[0m\u001b[0;34m\u001b[0m\u001b[0;34m\u001b[0m\u001b[0m\n",
            "\u001b[0;32m/usr/lib/python3.10/queue.py\u001b[0m in \u001b[0;36m_get\u001b[0;34m(self)\u001b[0m\n\u001b[1;32m    253\u001b[0m \u001b[0;34m\u001b[0m\u001b[0m\n\u001b[1;32m    254\u001b[0m     \u001b[0;32mdef\u001b[0m \u001b[0m_get\u001b[0m\u001b[0;34m(\u001b[0m\u001b[0mself\u001b[0m\u001b[0;34m)\u001b[0m\u001b[0;34m:\u001b[0m\u001b[0;34m\u001b[0m\u001b[0;34m\u001b[0m\u001b[0m\n\u001b[0;32m--> 255\u001b[0;31m         \u001b[0;32mreturn\u001b[0m \u001b[0mself\u001b[0m\u001b[0;34m.\u001b[0m\u001b[0mqueue\u001b[0m\u001b[0;34m.\u001b[0m\u001b[0mpop\u001b[0m\u001b[0;34m(\u001b[0m\u001b[0;34m)\u001b[0m\u001b[0;34m\u001b[0m\u001b[0;34m\u001b[0m\u001b[0m\n\u001b[0m\u001b[1;32m    256\u001b[0m \u001b[0;34m\u001b[0m\u001b[0m\n\u001b[1;32m    257\u001b[0m \u001b[0;34m\u001b[0m\u001b[0m\n",
            "\u001b[0;31mKeyboardInterrupt\u001b[0m: "
          ]
        }
      ]
    },
    {
      "cell_type": "markdown",
      "source": [
        "---\n",
        "\n",
        "기사 수 찾는 코드"
      ],
      "metadata": {
        "id": "NBSThZxlrS2d"
      }
    },
    {
      "cell_type": "code",
      "source": [
        "import pandas as pd\n",
        "from datetime import datetime, timezone\n",
        "import os\n",
        "\n",
        "def parse_date(date_str):\n",
        "    try:\n",
        "        return datetime.strptime(date_str, '%Y-%m-%d')\n",
        "    except ValueError:\n",
        "        return datetime.strptime(date_str, '%Y.%m.%d')\n",
        "\n",
        "def process_musical_article_dates(performance_code, start_date, end_date):\n",
        "    input_file_path = f\"/content/drive/MyDrive/data/news/{performance_code}.csv\"\n",
        "    output_file_path = f\"/content/drive/MyDrive/data/news/article_date/{performance_code}_article_date.csv\"\n",
        "\n",
        "    if not os.path.exists(input_file_path):\n",
        "        print(f\"File not found: {input_file_path}\")\n",
        "        return 0\n",
        "\n",
        "    try:\n",
        "        data = pd.read_csv(input_file_path)\n",
        "\n",
        "        if 'Date' not in data.columns:\n",
        "            print(f\"'Date' column not found in {input_file_path}\")\n",
        "            return 0\n",
        "\n",
        "        data['ParsedDate'] = pd.to_datetime(data['Date'], format='%a, %d %b %Y %H:%M:%S %z', errors='coerce')\n",
        "\n",
        "        # Check if any dates failed to parse\n",
        "        if data['ParsedDate'].isnull().any():\n",
        "            print(f\"Some dates failed to parse in {input_file_path}\")\n",
        "            return 0\n",
        "\n",
        "        start_date = pd.to_datetime(start_date).tz_localize('UTC')\n",
        "        end_date = pd.to_datetime(end_date).tz_localize('UTC')\n",
        "\n",
        "        mask = (data['ParsedDate'] >= start_date) & (data['ParsedDate'] <= end_date)\n",
        "        filtered_df = data.loc[mask]\n",
        "\n",
        "        date_counts = filtered_df['ParsedDate'].dt.date.value_counts().sort_index()\n",
        "        dates_with_3_plus_articles = date_counts[date_counts >= 3]\n",
        "\n",
        "        # Prepare the output DataFrame\n",
        "        output_df = pd.DataFrame({\n",
        "            'Date': dates_with_3_plus_articles.index,\n",
        "            'ArticleCount': dates_with_3_plus_articles.values\n",
        "        })\n",
        "\n",
        "        # Ensure the output directory exists\n",
        "        os.makedirs(os.path.dirname(output_file_path), exist_ok=True)\n",
        "\n",
        "        # Save the output DataFrame\n",
        "        output_df.to_csv(output_file_path, index=False)\n",
        "\n",
        "        print(f\"Article dates saved to {output_file_path}\")\n",
        "        return len(filtered_df)\n",
        "    except Exception as e:\n",
        "        print(f\"Error processing {input_file_path}: {str(e)}\")\n",
        "        return 0\n",
        "\n",
        "def process_musicals():\n",
        "    all_musicals_path = \"/content/drive/MyDrive/data/all_musicals.csv\"\n",
        "    output_path = \"/content/drive/MyDrive/data/all_musicals_updated.csv\"\n",
        "\n",
        "    all_musicals = pd.read_csv(all_musicals_path)\n",
        "\n",
        "    all_musicals['start_date'] = all_musicals['prfpdfrom'].apply(parse_date)\n",
        "    all_musicals['end_date'] = all_musicals['prfpdto'].apply(parse_date)\n",
        "\n",
        "    all_musicals['article_count'] = all_musicals.apply(\n",
        "        lambda row: process_musical_article_dates(row['mt20id'], row['start_date'], row['end_date']),\n",
        "        axis=1\n",
        "    )\n",
        "\n",
        "    # Filter musicals with at least 30 articles\n",
        "    filtered_musicals = all_musicals[all_musicals['article_count'] >= 30].copy()\n",
        "\n",
        "    # Categorize musicals based on article count\n",
        "    def categorize_count(count):\n",
        "        if 30 <= count <= 49:\n",
        "            return 0\n",
        "        elif 50 <= count <= 69:\n",
        "            return 1\n",
        "        elif 70 <= count <= 99:\n",
        "            return 2\n",
        "        else:\n",
        "            return 3\n",
        "\n",
        "    filtered_musicals['group'] = filtered_musicals['article_count'].apply(categorize_count)\n",
        "\n",
        "    # Save the updated data\n",
        "    filtered_musicals.to_csv(output_path, index=False)\n",
        "\n",
        "    print(f\"Updated data saved to {output_path}\")\n",
        "    print(f\"Total musicals processed: {len(all_musicals)}\")\n",
        "    print(f\"Musicals with 30+ articles: {len(filtered_musicals)}\")\n",
        "    print(\"\\nGroup distribution:\")\n",
        "    print(filtered_musicals['group'].value_counts().sort_index())\n",
        "\n",
        "if __name__ == \"__main__\":\n",
        "    process_musicals()"
      ],
      "metadata": {
        "id": "opiDv2flrCXK",
        "colab": {
          "base_uri": "https://localhost:8080/"
        },
        "outputId": "f8bce756-9cbb-47e3-ff03-fa4d0f3407b4"
      },
      "execution_count": null,
      "outputs": [
        {
          "output_type": "stream",
          "name": "stdout",
          "text": [
            "'Date' column not found in /content/drive/MyDrive/data/news/PF209957.csv\n",
            "Article dates saved to /content/drive/MyDrive/data/news/article_date/PF209933_article_date.csv\n",
            "'Date' column not found in /content/drive/MyDrive/data/news/PF209865.csv\n",
            "Article dates saved to /content/drive/MyDrive/data/news/article_date/PF209863_article_date.csv\n",
            "Article dates saved to /content/drive/MyDrive/data/news/article_date/PF209861_article_date.csv\n",
            "'Date' column not found in /content/drive/MyDrive/data/news/PF209894.csv\n",
            "'Date' column not found in /content/drive/MyDrive/data/news/PF177100.csv\n",
            "Article dates saved to /content/drive/MyDrive/data/news/article_date/PF176020_article_date.csv\n",
            "Article dates saved to /content/drive/MyDrive/data/news/article_date/PF175711_article_date.csv\n",
            "'Date' column not found in /content/drive/MyDrive/data/news/PF175093.csv\n",
            "Article dates saved to /content/drive/MyDrive/data/news/article_date/PF174940_article_date.csv\n",
            "'Date' column not found in /content/drive/MyDrive/data/news/PF173180.csv\n",
            "'Date' column not found in /content/drive/MyDrive/data/news/PF172538.csv\n",
            "Article dates saved to /content/drive/MyDrive/data/news/article_date/PF134308_article_date.csv\n",
            "'Date' column not found in /content/drive/MyDrive/data/news/PF200986.csv\n",
            "'Date' column not found in /content/drive/MyDrive/data/news/PF200875.csv\n",
            "'Date' column not found in /content/drive/MyDrive/data/news/PF200830.csv\n",
            "'Date' column not found in /content/drive/MyDrive/data/news/PF209652.csv\n",
            "'Date' column not found in /content/drive/MyDrive/data/news/PF209513.csv\n",
            "Article dates saved to /content/drive/MyDrive/data/news/article_date/PF209403_article_date.csv\n",
            "Article dates saved to /content/drive/MyDrive/data/news/article_date/PF209484_article_date.csv\n",
            "'Date' column not found in /content/drive/MyDrive/data/news/PF200310.csv\n",
            "'Date' column not found in /content/drive/MyDrive/data/news/PF200397.csv\n",
            "Article dates saved to /content/drive/MyDrive/data/news/article_date/PF200399_article_date.csv\n",
            "Article dates saved to /content/drive/MyDrive/data/news/article_date/PF200398_article_date.csv\n",
            "Article dates saved to /content/drive/MyDrive/data/news/article_date/PF200234_article_date.csv\n",
            "'Date' column not found in /content/drive/MyDrive/data/news/PF200097.csv\n",
            "Article dates saved to /content/drive/MyDrive/data/news/article_date/PF200099_article_date.csv\n",
            "'Date' column not found in /content/drive/MyDrive/data/news/PF200998.csv\n",
            "'Date' column not found in /content/drive/MyDrive/data/news/PF201075.csv\n",
            "'Date' column not found in /content/drive/MyDrive/data/news/PF201007.csv\n",
            "'Date' column not found in /content/drive/MyDrive/data/news/PF201000.csv\n",
            "'Date' column not found in /content/drive/MyDrive/data/news/PF201908.csv\n",
            "Article dates saved to /content/drive/MyDrive/data/news/article_date/PF200706_article_date.csv\n",
            "'Date' column not found in /content/drive/MyDrive/data/news/PF200548.csv\n",
            "'Date' column not found in /content/drive/MyDrive/data/news/PF200455.csv\n",
            "'Date' column not found in /content/drive/MyDrive/data/news/PF200357.csv\n",
            "'Date' column not found in /content/drive/MyDrive/data/news/PF201638.csv\n",
            "'Date' column not found in /content/drive/MyDrive/data/news/PF201691.csv\n",
            "'Date' column not found in /content/drive/MyDrive/data/news/PF201424.csv\n",
            "'Date' column not found in /content/drive/MyDrive/data/news/PF201421.csv\n",
            "'Date' column not found in /content/drive/MyDrive/data/news/PF201215.csv\n",
            "'Date' column not found in /content/drive/MyDrive/data/news/PF201280.csv\n",
            "File not found: /content/drive/MyDrive/data/news/PF201077.csv\n",
            "File not found: /content/drive/MyDrive/data/news/PF202152.csv\n",
            "File not found: /content/drive/MyDrive/data/news/PF202033.csv\n",
            "Article dates saved to /content/drive/MyDrive/data/news/article_date/PF202032_article_date.csv\n",
            "File not found: /content/drive/MyDrive/data/news/PF202938.csv\n",
            "File not found: /content/drive/MyDrive/data/news/PF202814.csv\n",
            "File not found: /content/drive/MyDrive/data/news/PF201748.csv\n",
            "Article dates saved to /content/drive/MyDrive/data/news/article_date/PF201729_article_date.csv\n",
            "Article dates saved to /content/drive/MyDrive/data/news/article_date/PF202476_article_date.csv\n",
            "'Date' column not found in /content/drive/MyDrive/data/news/PF202425.csv\n",
            "File not found: /content/drive/MyDrive/data/news/PF202402.csv\n",
            "File not found: /content/drive/MyDrive/data/news/PF202374.csv\n",
            "File not found: /content/drive/MyDrive/data/news/PF202352.csv\n",
            "File not found: /content/drive/MyDrive/data/news/PF202275.csv\n",
            "File not found: /content/drive/MyDrive/data/news/PF202246.csv\n",
            "Article dates saved to /content/drive/MyDrive/data/news/article_date/PF202217_article_date.csv\n",
            "File not found: /content/drive/MyDrive/data/news/PF203654.csv\n",
            "File not found: /content/drive/MyDrive/data/news/PF203193.csv\n",
            "File not found: /content/drive/MyDrive/data/news/PF203963.csv\n",
            "File not found: /content/drive/MyDrive/data/news/PF202630.csv\n",
            "File not found: /content/drive/MyDrive/data/news/PF202558.csv\n",
            "Article dates saved to /content/drive/MyDrive/data/news/article_date/PF202530_article_date.csv\n",
            "Article dates saved to /content/drive/MyDrive/data/news/article_date/PF202524_article_date.csv\n",
            "Article dates saved to /content/drive/MyDrive/data/news/article_date/PF218032_article_date.csv\n",
            "Article dates saved to /content/drive/MyDrive/data/news/article_date/PF218968_article_date.csv\n",
            "Article dates saved to /content/drive/MyDrive/data/news/article_date/PF204707_article_date.csv\n",
            "Article dates saved to /content/drive/MyDrive/data/news/article_date/PF204641_article_date.csv\n",
            "File not found: /content/drive/MyDrive/data/news/PF204348.csv\n",
            "Article dates saved to /content/drive/MyDrive/data/news/article_date/PF204261_article_date.csv\n",
            "File not found: /content/drive/MyDrive/data/news/PF204925.csv\n",
            "File not found: /content/drive/MyDrive/data/news/PF203725.csv\n",
            "Article dates saved to /content/drive/MyDrive/data/news/article_date/PF218604_article_date.csv\n",
            "File not found: /content/drive/MyDrive/data/news/PF218577.csv\n",
            "File not found: /content/drive/MyDrive/data/news/PF218472.csv\n",
            "File not found: /content/drive/MyDrive/data/news/PF218447.csv\n",
            "Article dates saved to /content/drive/MyDrive/data/news/article_date/PF218444_article_date.csv\n",
            "File not found: /content/drive/MyDrive/data/news/PF218413.csv\n",
            "File not found: /content/drive/MyDrive/data/news/PF218493.csv\n",
            "Article dates saved to /content/drive/MyDrive/data/news/article_date/PF218232_article_date.csv\n",
            "File not found: /content/drive/MyDrive/data/news/PF218208.csv\n",
            "File not found: /content/drive/MyDrive/data/news/PF218294.csv\n",
            "Article dates saved to /content/drive/MyDrive/data/news/article_date/PF218101_article_date.csv\n",
            "Article dates saved to /content/drive/MyDrive/data/news/article_date/PF218185_article_date.csv\n",
            "Article dates saved to /content/drive/MyDrive/data/news/article_date/PF218181_article_date.csv\n",
            "File not found: /content/drive/MyDrive/data/news/PF219424.csv\n",
            "File not found: /content/drive/MyDrive/data/news/PF219423.csv\n",
            "Article dates saved to /content/drive/MyDrive/data/news/article_date/PF219422_article_date.csv\n",
            "File not found: /content/drive/MyDrive/data/news/PF219330.csv\n",
            "File not found: /content/drive/MyDrive/data/news/PF219243.csv\n",
            "Article dates saved to /content/drive/MyDrive/data/news/article_date/PF219100_article_date.csv\n",
            "File not found: /content/drive/MyDrive/data/news/PF219191.csv\n",
            "File not found: /content/drive/MyDrive/data/news/PF219190.csv\n",
            "File not found: /content/drive/MyDrive/data/news/PF219841.csv\n",
            "Article dates saved to /content/drive/MyDrive/data/news/article_date/PF219839_article_date.csv\n",
            "Article dates saved to /content/drive/MyDrive/data/news/article_date/PF219895_article_date.csv\n",
            "Article dates saved to /content/drive/MyDrive/data/news/article_date/PF218651_article_date.csv\n",
            "File not found: /content/drive/MyDrive/data/news/PF218615.csv\n",
            "File not found: /content/drive/MyDrive/data/news/PF218607.csv\n",
            "Article dates saved to /content/drive/MyDrive/data/news/article_date/PF218605_article_date.csv\n",
            "Article dates saved to /content/drive/MyDrive/data/news/article_date/PF219754_article_date.csv\n",
            "Article dates saved to /content/drive/MyDrive/data/news/article_date/PF219753_article_date.csv\n",
            "Article dates saved to /content/drive/MyDrive/data/news/article_date/PF219751_article_date.csv\n",
            "File not found: /content/drive/MyDrive/data/news/PF219750.csv\n",
            "File not found: /content/drive/MyDrive/data/news/PF219548.csv\n",
            "Article dates saved to /content/drive/MyDrive/data/news/article_date/PF219524_article_date.csv\n",
            "File not found: /content/drive/MyDrive/data/news/PF219460.csv\n",
            "Article dates saved to /content/drive/MyDrive/data/news/article_date/PF212833_article_date.csv\n",
            "Article dates saved to /content/drive/MyDrive/data/news/article_date/PF211446_article_date.csv\n",
            "File not found: /content/drive/MyDrive/data/news/PF219777.csv\n",
            "Article dates saved to /content/drive/MyDrive/data/news/article_date/PF219767_article_date.csv\n",
            "Article dates saved to /content/drive/MyDrive/data/news/article_date/PF219757_article_date.csv\n",
            "Article dates saved to /content/drive/MyDrive/data/news/article_date/PF219756_article_date.csv\n",
            "Article dates saved to /content/drive/MyDrive/data/news/article_date/PF219755_article_date.csv\n",
            "Article dates saved to /content/drive/MyDrive/data/news/article_date/PF213616_article_date.csv\n",
            "File not found: /content/drive/MyDrive/data/news/PF213551.csv\n",
            "Article dates saved to /content/drive/MyDrive/data/news/article_date/PF213588_article_date.csv\n",
            "File not found: /content/drive/MyDrive/data/news/PF213430.csv\n",
            "File not found: /content/drive/MyDrive/data/news/PF213412.csv\n",
            "File not found: /content/drive/MyDrive/data/news/PF213378.csv\n",
            "File not found: /content/drive/MyDrive/data/news/PF212581.csv\n",
            "'Date' column not found in /content/drive/MyDrive/data/news/PF213209.csv\n",
            "Article dates saved to /content/drive/MyDrive/data/news/article_date/PF213179_article_date.csv\n",
            "Article dates saved to /content/drive/MyDrive/data/news/article_date/PF213115_article_date.csv\n",
            "'Date' column not found in /content/drive/MyDrive/data/news/PF213044.csv\n",
            "Article dates saved to /content/drive/MyDrive/data/news/article_date/PF213870_article_date.csv\n",
            "File not found: /content/drive/MyDrive/data/news/PF212789.csv\n",
            "Article dates saved to /content/drive/MyDrive/data/news/article_date/PF212788_article_date.csv\n",
            "Article dates saved to /content/drive/MyDrive/data/news/article_date/PF212584_article_date.csv\n",
            "File not found: /content/drive/MyDrive/data/news/PF214368.csv\n",
            "File not found: /content/drive/MyDrive/data/news/PF214326.csv\n",
            "Article dates saved to /content/drive/MyDrive/data/news/article_date/PF214155_article_date.csv\n",
            "File not found: /content/drive/MyDrive/data/news/PF214131.csv\n",
            "Article dates saved to /content/drive/MyDrive/data/news/article_date/PF214189_article_date.csv\n",
            "Article dates saved to /content/drive/MyDrive/data/news/article_date/PF214081_article_date.csv\n",
            "'Date' column not found in /content/drive/MyDrive/data/news/PF214941.csv\n",
            "File not found: /content/drive/MyDrive/data/news/PF214990.csv\n",
            "File not found: /content/drive/MyDrive/data/news/PF215061.csv\n",
            "File not found: /content/drive/MyDrive/data/news/PF215060.csv\n",
            "File not found: /content/drive/MyDrive/data/news/PF215020.csv\n",
            "File not found: /content/drive/MyDrive/data/news/PF215963.csv\n",
            "File not found: /content/drive/MyDrive/data/news/PF214770.csv\n",
            "Article dates saved to /content/drive/MyDrive/data/news/article_date/PF214754_article_date.csv\n",
            "Article dates saved to /content/drive/MyDrive/data/news/article_date/PF214546_article_date.csv\n",
            "File not found: /content/drive/MyDrive/data/news/PF214507.csv\n",
            "Article dates saved to /content/drive/MyDrive/data/news/article_date/PF216231_article_date.csv\n",
            "File not found: /content/drive/MyDrive/data/news/PF215161.csv\n",
            "File not found: /content/drive/MyDrive/data/news/PF216201.csv\n",
            "File not found: /content/drive/MyDrive/data/news/PF216820.csv\n",
            "Article dates saved to /content/drive/MyDrive/data/news/article_date/PF216828_article_date.csv\n",
            "Article dates saved to /content/drive/MyDrive/data/news/article_date/PF215787_article_date.csv\n",
            "Article dates saved to /content/drive/MyDrive/data/news/article_date/PF215780_article_date.csv\n",
            "File not found: /content/drive/MyDrive/data/news/PF215619.csv\n",
            "File not found: /content/drive/MyDrive/data/news/PF215422.csv\n",
            "Article dates saved to /content/drive/MyDrive/data/news/article_date/PF215236_article_date.csv\n",
            "File not found: /content/drive/MyDrive/data/news/PF215201.csv\n",
            "File not found: /content/drive/MyDrive/data/news/PF215160.csv\n",
            "File not found: /content/drive/MyDrive/data/news/PF215062.csv\n",
            "File not found: /content/drive/MyDrive/data/news/PF217599.csv\n",
            "File not found: /content/drive/MyDrive/data/news/PF217471.csv\n",
            "Article dates saved to /content/drive/MyDrive/data/news/article_date/PF217464_article_date.csv\n",
            "Article dates saved to /content/drive/MyDrive/data/news/article_date/PF217432_article_date.csv\n",
            "Article dates saved to /content/drive/MyDrive/data/news/article_date/PF217406_article_date.csv\n",
            "Article dates saved to /content/drive/MyDrive/data/news/article_date/PF217912_article_date.csv\n",
            "Article dates saved to /content/drive/MyDrive/data/news/article_date/PF217859_article_date.csv\n",
            "File not found: /content/drive/MyDrive/data/news/PF216764.csv\n",
            "Article dates saved to /content/drive/MyDrive/data/news/article_date/PF216728_article_date.csv\n",
            "Article dates saved to /content/drive/MyDrive/data/news/article_date/PF216609_article_date.csv\n",
            "File not found: /content/drive/MyDrive/data/news/PF216537.csv\n",
            "Article dates saved to /content/drive/MyDrive/data/news/article_date/PF216408_article_date.csv\n",
            "Article dates saved to /content/drive/MyDrive/data/news/article_date/PF216371_article_date.csv\n",
            "'Date' column not found in /content/drive/MyDrive/data/news/PF216355.csv\n",
            "File not found: /content/drive/MyDrive/data/news/PF228194.csv\n",
            "Article dates saved to /content/drive/MyDrive/data/news/article_date/PF228046_article_date.csv\n",
            "File not found: /content/drive/MyDrive/data/news/PF228039.csv\n",
            "File not found: /content/drive/MyDrive/data/news/PF217629.csv\n",
            "File not found: /content/drive/MyDrive/data/news/PF217601.csv\n",
            "Article dates saved to /content/drive/MyDrive/data/news/article_date/PF217682_article_date.csv\n",
            "Article dates saved to /content/drive/MyDrive/data/news/article_date/PF217557_article_date.csv\n",
            "File not found: /content/drive/MyDrive/data/news/PF228513.csv\n",
            "File not found: /content/drive/MyDrive/data/news/PF228593.csv\n",
            "File not found: /content/drive/MyDrive/data/news/PF228462.csv\n",
            "File not found: /content/drive/MyDrive/data/news/PF228491.csv\n",
            "File not found: /content/drive/MyDrive/data/news/PF228300.csv\n",
            "File not found: /content/drive/MyDrive/data/news/PF228235.csv\n",
            "File not found: /content/drive/MyDrive/data/news/PF228138.csv\n",
            "File not found: /content/drive/MyDrive/data/news/PF220277.csv\n",
            "Article dates saved to /content/drive/MyDrive/data/news/article_date/PF220156_article_date.csv\n",
            "File not found: /content/drive/MyDrive/data/news/PF220192.csv\n",
            "File not found: /content/drive/MyDrive/data/news/PF220001.csv\n",
            "File not found: /content/drive/MyDrive/data/news/PF229662.csv\n",
            "Article dates saved to /content/drive/MyDrive/data/news/article_date/PF229520_article_date.csv\n",
            "File not found: /content/drive/MyDrive/data/news/PF229261.csv\n",
            "File not found: /content/drive/MyDrive/data/news/PF229153.csv\n",
            "File not found: /content/drive/MyDrive/data/news/PF229062.csv\n",
            "File not found: /content/drive/MyDrive/data/news/PF229051.csv\n",
            "File not found: /content/drive/MyDrive/data/news/PF229023.csv\n",
            "File not found: /content/drive/MyDrive/data/news/PF229981.csv\n",
            "File not found: /content/drive/MyDrive/data/news/PF228756.csv\n",
            "File not found: /content/drive/MyDrive/data/news/PF228670.csv\n",
            "Article dates saved to /content/drive/MyDrive/data/news/article_date/PF228649_article_date.csv\n",
            "File not found: /content/drive/MyDrive/data/news/PF222020.csv\n",
            "File not found: /content/drive/MyDrive/data/news/PF222938.csv\n",
            "File not found: /content/drive/MyDrive/data/news/PF222860.csv\n",
            "File not found: /content/drive/MyDrive/data/news/PF222883.csv\n",
            "Article dates saved to /content/drive/MyDrive/data/news/article_date/PF221528_article_date.csv\n",
            "Article dates saved to /content/drive/MyDrive/data/news/article_date/PF221127_article_date.csv\n",
            "Article dates saved to /content/drive/MyDrive/data/news/article_date/PF221053_article_date.csv\n",
            "File not found: /content/drive/MyDrive/data/news/PF221095.csv\n",
            "File not found: /content/drive/MyDrive/data/news/PF220666.csv\n",
            "Article dates saved to /content/drive/MyDrive/data/news/article_date/PF220630_article_date.csv\n",
            "Article dates saved to /content/drive/MyDrive/data/news/article_date/PF220622_article_date.csv\n",
            "File not found: /content/drive/MyDrive/data/news/PF220426.csv\n",
            "File not found: /content/drive/MyDrive/data/news/PF223095.csv\n",
            "Article dates saved to /content/drive/MyDrive/data/news/article_date/PF223914_article_date.csv\n",
            "File not found: /content/drive/MyDrive/data/news/PF223872.csv\n",
            "File not found: /content/drive/MyDrive/data/news/PF223848.csv\n",
            "File not found: /content/drive/MyDrive/data/news/PF222710.csv\n",
            "Article dates saved to /content/drive/MyDrive/data/news/article_date/PF222542_article_date.csv\n",
            "File not found: /content/drive/MyDrive/data/news/PF222535.csv\n",
            "Article dates saved to /content/drive/MyDrive/data/news/article_date/PF222520_article_date.csv\n",
            "File not found: /content/drive/MyDrive/data/news/PF222510.csv\n",
            "File not found: /content/drive/MyDrive/data/news/PF222486.csv\n",
            "Article dates saved to /content/drive/MyDrive/data/news/article_date/PF222383_article_date.csv\n",
            "File not found: /content/drive/MyDrive/data/news/PF222388.csv\n",
            "File not found: /content/drive/MyDrive/data/news/PF222182.csv\n",
            "Article dates saved to /content/drive/MyDrive/data/news/article_date/PF222066_article_date.csv\n",
            "Article dates saved to /content/drive/MyDrive/data/news/article_date/PF222065_article_date.csv\n",
            "File not found: /content/drive/MyDrive/data/news/PF224810.csv\n",
            "File not found: /content/drive/MyDrive/data/news/PF223767.csv\n",
            "Article dates saved to /content/drive/MyDrive/data/news/article_date/PF223739_article_date.csv\n",
            "File not found: /content/drive/MyDrive/data/news/PF223631.csv\n",
            "File not found: /content/drive/MyDrive/data/news/PF223606.csv\n",
            "Article dates saved to /content/drive/MyDrive/data/news/article_date/PF223601_article_date.csv\n",
            "File not found: /content/drive/MyDrive/data/news/PF223567.csv\n",
            "File not found: /content/drive/MyDrive/data/news/PF223528.csv\n",
            "Article dates saved to /content/drive/MyDrive/data/news/article_date/PF223598_article_date.csv\n",
            "File not found: /content/drive/MyDrive/data/news/PF223418.csv\n",
            "Article dates saved to /content/drive/MyDrive/data/news/article_date/PF223347_article_date.csv\n",
            "Article dates saved to /content/drive/MyDrive/data/news/article_date/PF223336_article_date.csv\n",
            "File not found: /content/drive/MyDrive/data/news/PF223267.csv\n",
            "Article dates saved to /content/drive/MyDrive/data/news/article_date/PF223241_article_date.csv\n",
            "File not found: /content/drive/MyDrive/data/news/PF224360.csv\n",
            "File not found: /content/drive/MyDrive/data/news/PF224336.csv\n",
            "Article dates saved to /content/drive/MyDrive/data/news/article_date/PF224117_article_date.csv\n",
            "File not found: /content/drive/MyDrive/data/news/PF224197.csv\n",
            "Article dates saved to /content/drive/MyDrive/data/news/article_date/PF224187_article_date.csv\n",
            "File not found: /content/drive/MyDrive/data/news/PF224906.csv\n",
            "File not found: /content/drive/MyDrive/data/news/PF224821.csv\n",
            "File not found: /content/drive/MyDrive/data/news/PF225247.csv\n",
            "File not found: /content/drive/MyDrive/data/news/PF225284.csv\n",
            "File not found: /content/drive/MyDrive/data/news/PF225972.csv\n",
            "Article dates saved to /content/drive/MyDrive/data/news/article_date/PF224676_article_date.csv\n",
            "File not found: /content/drive/MyDrive/data/news/PF224506.csv\n",
            "File not found: /content/drive/MyDrive/data/news/PF224462.csv\n",
            "File not found: /content/drive/MyDrive/data/news/PF224406.csv\n",
            "File not found: /content/drive/MyDrive/data/news/PF227782.csv\n",
            "File not found: /content/drive/MyDrive/data/news/PF227680.csv\n",
            "Article dates saved to /content/drive/MyDrive/data/news/article_date/PF227565_article_date.csv\n",
            "File not found: /content/drive/MyDrive/data/news/PF227530.csv\n",
            "File not found: /content/drive/MyDrive/data/news/PF227461.csv\n",
            "Article dates saved to /content/drive/MyDrive/data/news/article_date/PF227452_article_date.csv\n",
            "File not found: /content/drive/MyDrive/data/news/PF227224.csv\n",
            "File not found: /content/drive/MyDrive/data/news/PF227189.csv\n",
            "File not found: /content/drive/MyDrive/data/news/PF227052.csv\n",
            "Article dates saved to /content/drive/MyDrive/data/news/article_date/PF227003_article_date.csv\n",
            "Article dates saved to /content/drive/MyDrive/data/news/article_date/PF226540_article_date.csv\n",
            "File not found: /content/drive/MyDrive/data/news/PF226430.csv\n",
            "Article dates saved to /content/drive/MyDrive/data/news/article_date/PF226369_article_date.csv\n",
            "File not found: /content/drive/MyDrive/data/news/PF226178.csv\n",
            "File not found: /content/drive/MyDrive/data/news/PF226005.csv\n",
            "Article dates saved to /content/drive/MyDrive/data/news/article_date/PF226836_article_date.csv\n",
            "Article dates saved to /content/drive/MyDrive/data/news/article_date/PF225701_article_date.csv\n",
            "File not found: /content/drive/MyDrive/data/news/PF225531.csv\n",
            "File not found: /content/drive/MyDrive/data/news/PF231833.csv\n",
            "Article dates saved to /content/drive/MyDrive/data/news/article_date/PF230087_article_date.csv\n",
            "File not found: /content/drive/MyDrive/data/news/PF230713.csv\n",
            "File not found: /content/drive/MyDrive/data/news/PF230537.csv\n",
            "File not found: /content/drive/MyDrive/data/news/PF230582.csv\n",
            "File not found: /content/drive/MyDrive/data/news/PF230486.csv\n",
            "File not found: /content/drive/MyDrive/data/news/PF230482.csv\n",
            "File not found: /content/drive/MyDrive/data/news/PF230318.csv\n",
            "File not found: /content/drive/MyDrive/data/news/PF231877.csv\n",
            "Article dates saved to /content/drive/MyDrive/data/news/article_date/PF194035_article_date.csv\n",
            "File not found: /content/drive/MyDrive/data/news/PF199370.csv\n",
            "Article dates saved to /content/drive/MyDrive/data/news/article_date/PF191404_article_date.csv\n",
            "Article dates saved to /content/drive/MyDrive/data/news/article_date/PF190574_article_date.csv\n",
            "Article dates saved to /content/drive/MyDrive/data/news/article_date/PF195631_article_date.csv\n",
            "File not found: /content/drive/MyDrive/data/news/PF192149.csv\n",
            "File not found: /content/drive/MyDrive/data/news/PF186803.csv\n",
            "File not found: /content/drive/MyDrive/data/news/PF187609.csv\n",
            "File not found: /content/drive/MyDrive/data/news/PF195312.csv\n",
            "File not found: /content/drive/MyDrive/data/news/PF192199.csv\n",
            "File not found: /content/drive/MyDrive/data/news/PF195918.csv\n",
            "File not found: /content/drive/MyDrive/data/news/PF193752.csv\n",
            "Article dates saved to /content/drive/MyDrive/data/news/article_date/PF192962_article_date.csv\n",
            "File not found: /content/drive/MyDrive/data/news/PF169647.csv\n",
            "File not found: /content/drive/MyDrive/data/news/PF188035.csv\n",
            "File not found: /content/drive/MyDrive/data/news/PF187073.csv\n",
            "File not found: /content/drive/MyDrive/data/news/PF196810.csv\n",
            "File not found: /content/drive/MyDrive/data/news/PF191300.csv\n",
            "File not found: /content/drive/MyDrive/data/news/PF189707.csv\n",
            "Article dates saved to /content/drive/MyDrive/data/news/article_date/PF190240_article_date.csv\n",
            "File not found: /content/drive/MyDrive/data/news/PF191785.csv\n",
            "Article dates saved to /content/drive/MyDrive/data/news/article_date/PF189647_article_date.csv\n",
            "File not found: /content/drive/MyDrive/data/news/PF190804.csv\n",
            "Article dates saved to /content/drive/MyDrive/data/news/article_date/PF192774_article_date.csv\n",
            "Article dates saved to /content/drive/MyDrive/data/news/article_date/PF183407_article_date.csv\n",
            "File not found: /content/drive/MyDrive/data/news/PF186500.csv\n",
            "Article dates saved to /content/drive/MyDrive/data/news/article_date/PF185900_article_date.csv\n",
            "File not found: /content/drive/MyDrive/data/news/PF182831.csv\n",
            "File not found: /content/drive/MyDrive/data/news/PF192944.csv\n",
            "Article dates saved to /content/drive/MyDrive/data/news/article_date/PF185027_article_date.csv\n",
            "File not found: /content/drive/MyDrive/data/news/PF160272.csv\n",
            "Article dates saved to /content/drive/MyDrive/data/news/article_date/PF192027_article_date.csv\n",
            "File not found: /content/drive/MyDrive/data/news/PF186980.csv\n",
            "File not found: /content/drive/MyDrive/data/news/PF184115.csv\n",
            "File not found: /content/drive/MyDrive/data/news/PF192961.csv\n",
            "Article dates saved to /content/drive/MyDrive/data/news/article_date/PF190311_article_date.csv\n",
            "File not found: /content/drive/MyDrive/data/news/PF198038.csv\n",
            "File not found: /content/drive/MyDrive/data/news/PF193215.csv\n",
            "Article dates saved to /content/drive/MyDrive/data/news/article_date/PF192980_article_date.csv\n",
            "Article dates saved to /content/drive/MyDrive/data/news/article_date/PF190368_article_date.csv\n",
            "Article dates saved to /content/drive/MyDrive/data/news/article_date/PF192095_article_date.csv\n",
            "Article dates saved to /content/drive/MyDrive/data/news/article_date/PF194109_article_date.csv\n",
            "File not found: /content/drive/MyDrive/data/news/PF199652.csv\n",
            "File not found: /content/drive/MyDrive/data/news/PF198072.csv\n",
            "Article dates saved to /content/drive/MyDrive/data/news/article_date/PF186695_article_date.csv\n",
            "File not found: /content/drive/MyDrive/data/news/PF193899.csv\n",
            "File not found: /content/drive/MyDrive/data/news/PF196765.csv\n",
            "Article dates saved to /content/drive/MyDrive/data/news/article_date/PF185279_article_date.csv\n",
            "File not found: /content/drive/MyDrive/data/news/PF190899.csv\n",
            "File not found: /content/drive/MyDrive/data/news/PF191062.csv\n",
            "File not found: /content/drive/MyDrive/data/news/PF132171.csv\n",
            "File not found: /content/drive/MyDrive/data/news/PF194381.csv\n",
            "Article dates saved to /content/drive/MyDrive/data/news/article_date/PF188391_article_date.csv\n",
            "Article dates saved to /content/drive/MyDrive/data/news/article_date/PF194633_article_date.csv\n",
            "File not found: /content/drive/MyDrive/data/news/PF190226.csv\n",
            "Article dates saved to /content/drive/MyDrive/data/news/article_date/PF190057_article_date.csv\n",
            "Article dates saved to /content/drive/MyDrive/data/news/article_date/PF182383_article_date.csv\n",
            "File not found: /content/drive/MyDrive/data/news/PF184932.csv\n",
            "Article dates saved to /content/drive/MyDrive/data/news/article_date/PF194484_article_date.csv\n",
            "File not found: /content/drive/MyDrive/data/news/PF187451.csv\n",
            "File not found: /content/drive/MyDrive/data/news/PF197853.csv\n",
            "File not found: /content/drive/MyDrive/data/news/PF186425.csv\n",
            "File not found: /content/drive/MyDrive/data/news/PF192201.csv\n",
            "File not found: /content/drive/MyDrive/data/news/PF136032.csv\n",
            "Article dates saved to /content/drive/MyDrive/data/news/article_date/PF196938_article_date.csv\n",
            "File not found: /content/drive/MyDrive/data/news/PF193231.csv\n",
            "File not found: /content/drive/MyDrive/data/news/PF228897.csv\n",
            "File not found: /content/drive/MyDrive/data/news/PF192390.csv\n",
            "File not found: /content/drive/MyDrive/data/news/PF193637.csv\n",
            "File not found: /content/drive/MyDrive/data/news/PF184891.csv\n",
            "File not found: /content/drive/MyDrive/data/news/PF197001.csv\n",
            "Article dates saved to /content/drive/MyDrive/data/news/article_date/PF187203_article_date.csv\n",
            "File not found: /content/drive/MyDrive/data/news/PF186272.csv\n",
            "File not found: /content/drive/MyDrive/data/news/PF190927.csv\n",
            "File not found: /content/drive/MyDrive/data/news/PF199900.csv\n",
            "Article dates saved to /content/drive/MyDrive/data/news/article_date/PF192963_article_date.csv\n",
            "File not found: /content/drive/MyDrive/data/news/PF230432.csv\n",
            "Article dates saved to /content/drive/MyDrive/data/news/article_date/PF191628_article_date.csv\n",
            "File not found: /content/drive/MyDrive/data/news/PF199346.csv\n",
            "File not found: /content/drive/MyDrive/data/news/PF187522.csv\n",
            "File not found: /content/drive/MyDrive/data/news/PF189333.csv\n",
            "File not found: /content/drive/MyDrive/data/news/PF191429.csv\n",
            "File not found: /content/drive/MyDrive/data/news/PF189580.csv\n",
            "File not found: /content/drive/MyDrive/data/news/PF189135.csv\n",
            "Article dates saved to /content/drive/MyDrive/data/news/article_date/PF190439_article_date.csv\n",
            "File not found: /content/drive/MyDrive/data/news/PF199209.csv\n",
            "Article dates saved to /content/drive/MyDrive/data/news/article_date/PF188735_article_date.csv\n",
            "File not found: /content/drive/MyDrive/data/news/PF192723.csv\n",
            "File not found: /content/drive/MyDrive/data/news/PF191037.csv\n",
            "File not found: /content/drive/MyDrive/data/news/PF214279.csv\n",
            "File not found: /content/drive/MyDrive/data/news/PF196840.csv\n",
            "File not found: /content/drive/MyDrive/data/news/PF194273.csv\n",
            "Article dates saved to /content/drive/MyDrive/data/news/article_date/PF188284_article_date.csv\n",
            "Article dates saved to /content/drive/MyDrive/data/news/article_date/PF187202_article_date.csv\n",
            "Article dates saved to /content/drive/MyDrive/data/news/article_date/PF161298_article_date.csv\n",
            "File not found: /content/drive/MyDrive/data/news/PF196199.csv\n",
            "File not found: /content/drive/MyDrive/data/news/PF195334.csv\n",
            "Article dates saved to /content/drive/MyDrive/data/news/article_date/PF183821_article_date.csv\n",
            "Article dates saved to /content/drive/MyDrive/data/news/article_date/PF189587_article_date.csv\n",
            "File not found: /content/drive/MyDrive/data/news/PF198689.csv\n",
            "File not found: /content/drive/MyDrive/data/news/PF192123.csv\n",
            "Article dates saved to /content/drive/MyDrive/data/news/article_date/PF190556_article_date.csv\n",
            "Article dates saved to /content/drive/MyDrive/data/news/article_date/PF219820_article_date.csv\n",
            "File not found: /content/drive/MyDrive/data/news/PF186424.csv\n",
            "Article dates saved to /content/drive/MyDrive/data/news/article_date/PF194456_article_date.csv\n",
            "Article dates saved to /content/drive/MyDrive/data/news/article_date/PF217835_article_date.csv\n",
            "File not found: /content/drive/MyDrive/data/news/PF222107.csv\n",
            "Article dates saved to /content/drive/MyDrive/data/news/article_date/PF214732_article_date.csv\n",
            "Article dates saved to /content/drive/MyDrive/data/news/article_date/PF194043_article_date.csv\n",
            "File not found: /content/drive/MyDrive/data/news/PF186600.csv\n",
            "File not found: /content/drive/MyDrive/data/news/PF197695.csv\n",
            "File not found: /content/drive/MyDrive/data/news/PF189248.csv\n",
            "Article dates saved to /content/drive/MyDrive/data/news/article_date/PF200871_article_date.csv\n",
            "File not found: /content/drive/MyDrive/data/news/PF217132.csv\n",
            "File not found: /content/drive/MyDrive/data/news/PF224701.csv\n",
            "File not found: /content/drive/MyDrive/data/news/PF196113.csv\n",
            "Article dates saved to /content/drive/MyDrive/data/news/article_date/PF196216_article_date.csv\n",
            "File not found: /content/drive/MyDrive/data/news/PF149775.csv\n",
            "File not found: /content/drive/MyDrive/data/news/PF186780.csv\n",
            "Article dates saved to /content/drive/MyDrive/data/news/article_date/PF189512_article_date.csv\n",
            "File not found: /content/drive/MyDrive/data/news/PF192533.csv\n",
            "Article dates saved to /content/drive/MyDrive/data/news/article_date/PF186753_article_date.csv\n",
            "File not found: /content/drive/MyDrive/data/news/PF190587.csv\n",
            "File not found: /content/drive/MyDrive/data/news/PF197874.csv\n",
            "Article dates saved to /content/drive/MyDrive/data/news/article_date/PF199614_article_date.csv\n",
            "File not found: /content/drive/MyDrive/data/news/PF182453.csv\n",
            "Article dates saved to /content/drive/MyDrive/data/news/article_date/PF227142_article_date.csv\n",
            "File not found: /content/drive/MyDrive/data/news/PF197786.csv\n",
            "File not found: /content/drive/MyDrive/data/news/PF214367.csv\n",
            "Article dates saved to /content/drive/MyDrive/data/news/article_date/PF216047_article_date.csv\n",
            "File not found: /content/drive/MyDrive/data/news/PF188378.csv\n",
            "File not found: /content/drive/MyDrive/data/news/PF196033.csv\n",
            "Article dates saved to /content/drive/MyDrive/data/news/article_date/PF216318_article_date.csv\n",
            "File not found: /content/drive/MyDrive/data/news/PF190401.csv\n",
            "Article dates saved to /content/drive/MyDrive/data/news/article_date/PF195467_article_date.csv\n",
            "Article dates saved to /content/drive/MyDrive/data/news/article_date/PF192596_article_date.csv\n",
            "File not found: /content/drive/MyDrive/data/news/PF220385.csv\n",
            "File not found: /content/drive/MyDrive/data/news/PF178933.csv\n",
            "File not found: /content/drive/MyDrive/data/news/PF187989.csv\n",
            "File not found: /content/drive/MyDrive/data/news/PF189025.csv\n",
            "File not found: /content/drive/MyDrive/data/news/PF216482.csv\n",
            "Article dates saved to /content/drive/MyDrive/data/news/article_date/PF216568_article_date.csv\n",
            "File not found: /content/drive/MyDrive/data/news/PF203734.csv\n",
            "Article dates saved to /content/drive/MyDrive/data/news/article_date/PF203159_article_date.csv\n",
            "File not found: /content/drive/MyDrive/data/news/PF196055.csv\n",
            "Article dates saved to /content/drive/MyDrive/data/news/article_date/PF142539_article_date.csv\n",
            "Article dates saved to /content/drive/MyDrive/data/news/article_date/PF224796_article_date.csv\n",
            "Article dates saved to /content/drive/MyDrive/data/news/article_date/PF191565_article_date.csv\n",
            "File not found: /content/drive/MyDrive/data/news/PF199898.csv\n",
            "File not found: /content/drive/MyDrive/data/news/PF228773.csv\n",
            "File not found: /content/drive/MyDrive/data/news/PF188546.csv\n",
            "File not found: /content/drive/MyDrive/data/news/PF224422.csv\n",
            "File not found: /content/drive/MyDrive/data/news/PF196592.csv\n",
            "Article dates saved to /content/drive/MyDrive/data/news/article_date/PF200953_article_date.csv\n",
            "File not found: /content/drive/MyDrive/data/news/PF223940.csv\n",
            "Article dates saved to /content/drive/MyDrive/data/news/article_date/PF190663_article_date.csv\n",
            "File not found: /content/drive/MyDrive/data/news/PF198423.csv\n",
            "File not found: /content/drive/MyDrive/data/news/PF197594.csv\n",
            "File not found: /content/drive/MyDrive/data/news/PF218567.csv\n",
            "Article dates saved to /content/drive/MyDrive/data/news/article_date/PF192467_article_date.csv\n",
            "File not found: /content/drive/MyDrive/data/news/PF228590.csv\n",
            "Article dates saved to /content/drive/MyDrive/data/news/article_date/PF198887_article_date.csv\n",
            "File not found: /content/drive/MyDrive/data/news/PF190483.csv\n",
            "Article dates saved to /content/drive/MyDrive/data/news/article_date/PF201002_article_date.csv\n",
            "File not found: /content/drive/MyDrive/data/news/PF224118.csv\n",
            "File not found: /content/drive/MyDrive/data/news/PF194423.csv\n",
            "Article dates saved to /content/drive/MyDrive/data/news/article_date/PF215233_article_date.csv\n",
            "Article dates saved to /content/drive/MyDrive/data/news/article_date/PF225249_article_date.csv\n",
            "Article dates saved to /content/drive/MyDrive/data/news/article_date/PF196105_article_date.csv\n",
            "Article dates saved to /content/drive/MyDrive/data/news/article_date/PF195255_article_date.csv\n",
            "Article dates saved to /content/drive/MyDrive/data/news/article_date/PF217497_article_date.csv\n",
            "File not found: /content/drive/MyDrive/data/news/PF180296.csv\n",
            "File not found: /content/drive/MyDrive/data/news/PF182737.csv\n",
            "Article dates saved to /content/drive/MyDrive/data/news/article_date/PF190022_article_date.csv\n",
            "Article dates saved to /content/drive/MyDrive/data/news/article_date/PF204346_article_date.csv\n",
            "File not found: /content/drive/MyDrive/data/news/PF229500.csv\n",
            "File not found: /content/drive/MyDrive/data/news/PF209440.csv\n",
            "Article dates saved to /content/drive/MyDrive/data/news/article_date/PF215162_article_date.csv\n",
            "Article dates saved to /content/drive/MyDrive/data/news/article_date/PF201517_article_date.csv\n",
            "File not found: /content/drive/MyDrive/data/news/PF202394.csv\n",
            "File not found: /content/drive/MyDrive/data/news/PF201746.csv\n",
            "Article dates saved to /content/drive/MyDrive/data/news/article_date/PF185688_article_date.csv\n",
            "Article dates saved to /content/drive/MyDrive/data/news/article_date/PF227066_article_date.csv\n",
            "Article dates saved to /content/drive/MyDrive/data/news/article_date/PF213560_article_date.csv\n",
            "File not found: /content/drive/MyDrive/data/news/PF218655.csv\n",
            "File not found: /content/drive/MyDrive/data/news/PF215621.csv\n",
            "Article dates saved to /content/drive/MyDrive/data/news/article_date/PF194477_article_date.csv\n",
            "File not found: /content/drive/MyDrive/data/news/PF183092.csv\n",
            "File not found: /content/drive/MyDrive/data/news/PF197783.csv\n",
            "Article dates saved to /content/drive/MyDrive/data/news/article_date/PF226730_article_date.csv\n",
            "Article dates saved to /content/drive/MyDrive/data/news/article_date/PF219469_article_date.csv\n",
            "File not found: /content/drive/MyDrive/data/news/PF214580.csv\n",
            "Article dates saved to /content/drive/MyDrive/data/news/article_date/PF226273_article_date.csv\n",
            "Article dates saved to /content/drive/MyDrive/data/news/article_date/PF201821_article_date.csv\n",
            "File not found: /content/drive/MyDrive/data/news/PF204905.csv\n",
            "File not found: /content/drive/MyDrive/data/news/PF215820.csv\n",
            "File not found: /content/drive/MyDrive/data/news/PF224804.csv\n",
            "Article dates saved to /content/drive/MyDrive/data/news/article_date/PF187201_article_date.csv\n",
            "Article dates saved to /content/drive/MyDrive/data/news/article_date/PF218984_article_date.csv\n",
            "File not found: /content/drive/MyDrive/data/news/PF229594.csv\n",
            "File not found: /content/drive/MyDrive/data/news/PF198771.csv\n",
            "File not found: /content/drive/MyDrive/data/news/PF202276.csv\n",
            "File not found: /content/drive/MyDrive/data/news/PF197897.csv\n",
            "File not found: /content/drive/MyDrive/data/news/PF228708.csv\n",
            "File not found: /content/drive/MyDrive/data/news/PF204746.csv\n",
            "File not found: /content/drive/MyDrive/data/news/PF188206.csv\n",
            "File not found: /content/drive/MyDrive/data/news/PF200991.csv\n",
            "File not found: /content/drive/MyDrive/data/news/PF198250.csv\n",
            "File not found: /content/drive/MyDrive/data/news/PF225122.csv\n",
            "Article dates saved to /content/drive/MyDrive/data/news/article_date/PF204198_article_date.csv\n",
            "File not found: /content/drive/MyDrive/data/news/PF213584.csv\n",
            "File not found: /content/drive/MyDrive/data/news/PF230635.csv\n",
            "File not found: /content/drive/MyDrive/data/news/PF209992.csv\n",
            "File not found: /content/drive/MyDrive/data/news/PF182979.csv\n",
            "File not found: /content/drive/MyDrive/data/news/PF215232.csv\n",
            "File not found: /content/drive/MyDrive/data/news/PF225639.csv\n",
            "File not found: /content/drive/MyDrive/data/news/PF195014.csv\n",
            "File not found: /content/drive/MyDrive/data/news/PF224568.csv\n",
            "File not found: /content/drive/MyDrive/data/news/PF222033.csv\n",
            "File not found: /content/drive/MyDrive/data/news/PF200604.csv\n",
            "File not found: /content/drive/MyDrive/data/news/PF201988.csv\n",
            "File not found: /content/drive/MyDrive/data/news/PF191112.csv\n",
            "File not found: /content/drive/MyDrive/data/news/PF227779.csv\n",
            "File not found: /content/drive/MyDrive/data/news/PF190066.csv\n",
            "Article dates saved to /content/drive/MyDrive/data/news/article_date/PF226599_article_date.csv\n",
            "Article dates saved to /content/drive/MyDrive/data/news/article_date/PF228786_article_date.csv\n",
            "File not found: /content/drive/MyDrive/data/news/PF228547.csv\n",
            "File not found: /content/drive/MyDrive/data/news/PF186286.csv\n",
            "Article dates saved to /content/drive/MyDrive/data/news/article_date/PF220146_article_date.csv\n",
            "File not found: /content/drive/MyDrive/data/news/PF228385.csv\n",
            "Article dates saved to /content/drive/MyDrive/data/news/article_date/PF222911_article_date.csv\n",
            "File not found: /content/drive/MyDrive/data/news/PF201692.csv\n",
            "Article dates saved to /content/drive/MyDrive/data/news/article_date/PF232466_article_date.csv\n",
            "File not found: /content/drive/MyDrive/data/news/PF194310.csv\n",
            "File not found: /content/drive/MyDrive/data/news/PF219004.csv\n",
            "File not found: /content/drive/MyDrive/data/news/PF214547.csv\n",
            "File not found: /content/drive/MyDrive/data/news/PF203356.csv\n",
            "File not found: /content/drive/MyDrive/data/news/PF225803.csv\n",
            "File not found: /content/drive/MyDrive/data/news/PF188889.csv\n",
            "Article dates saved to /content/drive/MyDrive/data/news/article_date/PF182018_article_date.csv\n",
            "File not found: /content/drive/MyDrive/data/news/PF202834.csv\n",
            "File not found: /content/drive/MyDrive/data/news/PF229523.csv\n",
            "Article dates saved to /content/drive/MyDrive/data/news/article_date/PF216014_article_date.csv\n",
            "File not found: /content/drive/MyDrive/data/news/PF223466.csv\n",
            "File not found: /content/drive/MyDrive/data/news/PF213384.csv\n",
            "File not found: /content/drive/MyDrive/data/news/PF228214.csv\n",
            "File not found: /content/drive/MyDrive/data/news/PF186508.csv\n",
            "File not found: /content/drive/MyDrive/data/news/PF198849.csv\n",
            "Article dates saved to /content/drive/MyDrive/data/news/article_date/PF220051_article_date.csv\n",
            "Article dates saved to /content/drive/MyDrive/data/news/article_date/PF215546_article_date.csv\n",
            "Article dates saved to /content/drive/MyDrive/data/news/article_date/PF215448_article_date.csv\n",
            "File not found: /content/drive/MyDrive/data/news/PF182725.csv\n",
            "File not found: /content/drive/MyDrive/data/news/PF218950.csv\n",
            "Article dates saved to /content/drive/MyDrive/data/news/article_date/PF185835_article_date.csv\n",
            "File not found: /content/drive/MyDrive/data/news/PF228601.csv\n",
            "File not found: /content/drive/MyDrive/data/news/PF228203.csv\n",
            "File not found: /content/drive/MyDrive/data/news/PF190928.csv\n",
            "File not found: /content/drive/MyDrive/data/news/PF196200.csv\n",
            "File not found: /content/drive/MyDrive/data/news/PF197771.csv\n",
            "Article dates saved to /content/drive/MyDrive/data/news/article_date/PF184856_article_date.csv\n",
            "File not found: /content/drive/MyDrive/data/news/PF228695.csv\n",
            "File not found: /content/drive/MyDrive/data/news/PF185164.csv\n",
            "File not found: /content/drive/MyDrive/data/news/PF213287.csv\n",
            "File not found: /content/drive/MyDrive/data/news/PF203327.csv\n",
            "File not found: /content/drive/MyDrive/data/news/PF225326.csv\n",
            "File not found: /content/drive/MyDrive/data/news/PF215514.csv\n",
            "File not found: /content/drive/MyDrive/data/news/PF222926.csv\n",
            "File not found: /content/drive/MyDrive/data/news/PF204871.csv\n",
            "File not found: /content/drive/MyDrive/data/news/PF200754.csv\n",
            "Article dates saved to /content/drive/MyDrive/data/news/article_date/PF180314_article_date.csv\n",
            "Article dates saved to /content/drive/MyDrive/data/news/article_date/PF218491_article_date.csv\n",
            "File not found: /content/drive/MyDrive/data/news/PF209760.csv\n",
            "File not found: /content/drive/MyDrive/data/news/PF229101.csv\n",
            "File not found: /content/drive/MyDrive/data/news/PF228100.csv\n",
            "File not found: /content/drive/MyDrive/data/news/PF230312.csv\n",
            "Article dates saved to /content/drive/MyDrive/data/news/article_date/PF215059_article_date.csv\n",
            "File not found: /content/drive/MyDrive/data/news/PF224322.csv\n",
            "File not found: /content/drive/MyDrive/data/news/PF221855.csv\n",
            "File not found: /content/drive/MyDrive/data/news/PF186237.csv\n",
            "File not found: /content/drive/MyDrive/data/news/PF209495.csv\n",
            "Article dates saved to /content/drive/MyDrive/data/news/article_date/PF204073_article_date.csv\n",
            "File not found: /content/drive/MyDrive/data/news/PF196259.csv\n",
            "Article dates saved to /content/drive/MyDrive/data/news/article_date/PF211480_article_date.csv\n",
            "Article dates saved to /content/drive/MyDrive/data/news/article_date/PF225917_article_date.csv\n",
            "File not found: /content/drive/MyDrive/data/news/PF183973.csv\n",
            "File not found: /content/drive/MyDrive/data/news/PF200460.csv\n",
            "File not found: /content/drive/MyDrive/data/news/PF188458.csv\n",
            "File not found: /content/drive/MyDrive/data/news/PF188969.csv\n",
            "File not found: /content/drive/MyDrive/data/news/PF219133.csv\n",
            "File not found: /content/drive/MyDrive/data/news/PF213083.csv\n",
            "File not found: /content/drive/MyDrive/data/news/PF186902.csv\n",
            "File not found: /content/drive/MyDrive/data/news/PF188943.csv\n",
            "File not found: /content/drive/MyDrive/data/news/PF186363.csv\n",
            "Article dates saved to /content/drive/MyDrive/data/news/article_date/PF203674_article_date.csv\n",
            "File not found: /content/drive/MyDrive/data/news/PF199210.csv\n",
            "Article dates saved to /content/drive/MyDrive/data/news/article_date/PF217442_article_date.csv\n",
            "File not found: /content/drive/MyDrive/data/news/PF229319.csv\n",
            "Article dates saved to /content/drive/MyDrive/data/news/article_date/PF216297_article_date.csv\n",
            "File not found: /content/drive/MyDrive/data/news/PF228673.csv\n",
            "File not found: /content/drive/MyDrive/data/news/PF198552.csv\n",
            "File not found: /content/drive/MyDrive/data/news/PF200765.csv\n",
            "File not found: /content/drive/MyDrive/data/news/PF227946.csv\n",
            "File not found: /content/drive/MyDrive/data/news/PF200307.csv\n",
            "File not found: /content/drive/MyDrive/data/news/PF228981.csv\n",
            "File not found: /content/drive/MyDrive/data/news/PF217129.csv\n",
            "File not found: /content/drive/MyDrive/data/news/PF144565.csv\n",
            "Article dates saved to /content/drive/MyDrive/data/news/article_date/PF185242_article_date.csv\n",
            "Article dates saved to /content/drive/MyDrive/data/news/article_date/PF213876_article_date.csv\n",
            "File not found: /content/drive/MyDrive/data/news/PF194791.csv\n",
            "File not found: /content/drive/MyDrive/data/news/PF228741.csv\n",
            "File not found: /content/drive/MyDrive/data/news/PF189438.csv\n",
            "File not found: /content/drive/MyDrive/data/news/PF191331.csv\n",
            "Article dates saved to /content/drive/MyDrive/data/news/article_date/PF203021_article_date.csv\n",
            "File not found: /content/drive/MyDrive/data/news/PF219724.csv\n",
            "File not found: /content/drive/MyDrive/data/news/PF228212.csv\n",
            "File not found: /content/drive/MyDrive/data/news/PF225553.csv\n",
            "File not found: /content/drive/MyDrive/data/news/PF188632.csv\n",
            "File not found: /content/drive/MyDrive/data/news/PF223431.csv\n",
            "File not found: /content/drive/MyDrive/data/news/PF222974.csv\n",
            "File not found: /content/drive/MyDrive/data/news/PF223540.csv\n",
            "Article dates saved to /content/drive/MyDrive/data/news/article_date/PF221147_article_date.csv\n",
            "File not found: /content/drive/MyDrive/data/news/PF215388.csv\n",
            "File not found: /content/drive/MyDrive/data/news/PF228336.csv\n",
            "File not found: /content/drive/MyDrive/data/news/PF192425.csv\n",
            "Article dates saved to /content/drive/MyDrive/data/news/article_date/PF189043_article_date.csv\n",
            "Article dates saved to /content/drive/MyDrive/data/news/article_date/PF222316_article_date.csv\n",
            "File not found: /content/drive/MyDrive/data/news/PF195026.csv\n",
            "File not found: /content/drive/MyDrive/data/news/PF201250.csv\n",
            "File not found: /content/drive/MyDrive/data/news/PF197005.csv\n",
            "File not found: /content/drive/MyDrive/data/news/PF147207.csv\n",
            "File not found: /content/drive/MyDrive/data/news/PF201996.csv\n",
            "File not found: /content/drive/MyDrive/data/news/PF217425.csv\n",
            "File not found: /content/drive/MyDrive/data/news/PF185647.csv\n",
            "File not found: /content/drive/MyDrive/data/news/PF193273.csv\n",
            "File not found: /content/drive/MyDrive/data/news/PF225439.csv\n",
            "File not found: /content/drive/MyDrive/data/news/PF189008.csv\n",
            "File not found: /content/drive/MyDrive/data/news/PF193046.csv\n",
            "Article dates saved to /content/drive/MyDrive/data/news/article_date/PF220445_article_date.csv\n",
            "File not found: /content/drive/MyDrive/data/news/PF189044.csv\n",
            "File not found: /content/drive/MyDrive/data/news/PF188382.csv\n",
            "File not found: /content/drive/MyDrive/data/news/PF214889.csv\n",
            "Article dates saved to /content/drive/MyDrive/data/news/article_date/PF219859_article_date.csv\n",
            "File not found: /content/drive/MyDrive/data/news/PF209577.csv\n",
            "File not found: /content/drive/MyDrive/data/news/PF198141.csv\n",
            "File not found: /content/drive/MyDrive/data/news/PF189879.csv\n",
            "File not found: /content/drive/MyDrive/data/news/PF218279.csv\n",
            "File not found: /content/drive/MyDrive/data/news/PF194754.csv\n",
            "File not found: /content/drive/MyDrive/data/news/PF215946.csv\n",
            "File not found: /content/drive/MyDrive/data/news/PF187486.csv\n",
            "Article dates saved to /content/drive/MyDrive/data/news/article_date/PF202267_article_date.csv\n",
            "File not found: /content/drive/MyDrive/data/news/PF219773.csv\n",
            "File not found: /content/drive/MyDrive/data/news/PF194380.csv\n",
            "File not found: /content/drive/MyDrive/data/news/PF199937.csv\n",
            "File not found: /content/drive/MyDrive/data/news/PF194612.csv\n",
            "Article dates saved to /content/drive/MyDrive/data/news/article_date/PF194971_article_date.csv\n",
            "Article dates saved to /content/drive/MyDrive/data/news/article_date/PF184766_article_date.csv\n",
            "File not found: /content/drive/MyDrive/data/news/PF202566.csv\n",
            "File not found: /content/drive/MyDrive/data/news/PF216377.csv\n",
            "File not found: /content/drive/MyDrive/data/news/PF150509.csv\n",
            "Article dates saved to /content/drive/MyDrive/data/news/article_date/PF193336_article_date.csv\n",
            "File not found: /content/drive/MyDrive/data/news/PF216603.csv\n",
            "Article dates saved to /content/drive/MyDrive/data/news/article_date/PF215897_article_date.csv\n",
            "Article dates saved to /content/drive/MyDrive/data/news/article_date/PF220540_article_date.csv\n",
            "File not found: /content/drive/MyDrive/data/news/PF199961.csv\n",
            "File not found: /content/drive/MyDrive/data/news/PF185026.csv\n",
            "File not found: /content/drive/MyDrive/data/news/PF219923.csv\n",
            "File not found: /content/drive/MyDrive/data/news/PF201640.csv\n",
            "File not found: /content/drive/MyDrive/data/news/PF199368.csv\n",
            "Article dates saved to /content/drive/MyDrive/data/news/article_date/PF223473_article_date.csv\n",
            "File not found: /content/drive/MyDrive/data/news/PF218725.csv\n",
            "Article dates saved to /content/drive/MyDrive/data/news/article_date/PF217259_article_date.csv\n",
            "File not found: /content/drive/MyDrive/data/news/PF200092.csv\n",
            "File not found: /content/drive/MyDrive/data/news/PF220834.csv\n",
            "Article dates saved to /content/drive/MyDrive/data/news/article_date/PF223120_article_date.csv\n",
            "File not found: /content/drive/MyDrive/data/news/PF229747.csv\n",
            "File not found: /content/drive/MyDrive/data/news/PF201909.csv\n",
            "File not found: /content/drive/MyDrive/data/news/PF227584.csv\n",
            "File not found: /content/drive/MyDrive/data/news/PF229517.csv\n",
            "File not found: /content/drive/MyDrive/data/news/PF191799.csv\n",
            "File not found: /content/drive/MyDrive/data/news/PF229804.csv\n",
            "File not found: /content/drive/MyDrive/data/news/PF194253.csv\n",
            "File not found: /content/drive/MyDrive/data/news/PF201805.csv\n",
            "File not found: /content/drive/MyDrive/data/news/PF201047.csv\n",
            "File not found: /content/drive/MyDrive/data/news/PF223821.csv\n",
            "File not found: /content/drive/MyDrive/data/news/PF203636.csv\n",
            "File not found: /content/drive/MyDrive/data/news/PF202389.csv\n",
            "Article dates saved to /content/drive/MyDrive/data/news/article_date/PF221776_article_date.csv\n",
            "File not found: /content/drive/MyDrive/data/news/PF195888.csv\n",
            "File not found: /content/drive/MyDrive/data/news/PF224287.csv\n",
            "File not found: /content/drive/MyDrive/data/news/PF193011.csv\n",
            "File not found: /content/drive/MyDrive/data/news/PF193829.csv\n",
            "Article dates saved to /content/drive/MyDrive/data/news/article_date/PF228666_article_date.csv\n",
            "Article dates saved to /content/drive/MyDrive/data/news/article_date/PF220517_article_date.csv\n",
            "File not found: /content/drive/MyDrive/data/news/PF200668.csv\n",
            "File not found: /content/drive/MyDrive/data/news/PF182734.csv\n",
            "File not found: /content/drive/MyDrive/data/news/PF163945.csv\n",
            "File not found: /content/drive/MyDrive/data/news/PF184627.csv\n",
            "File not found: /content/drive/MyDrive/data/news/PF230401.csv\n",
            "File not found: /content/drive/MyDrive/data/news/PF187403.csv\n",
            "File not found: /content/drive/MyDrive/data/news/PF216157.csv\n",
            "File not found: /content/drive/MyDrive/data/news/PF193924.csv\n",
            "File not found: /content/drive/MyDrive/data/news/PF200139.csv\n",
            "File not found: /content/drive/MyDrive/data/news/PF187576.csv\n",
            "Article dates saved to /content/drive/MyDrive/data/news/article_date/PF209631_article_date.csv\n",
            "File not found: /content/drive/MyDrive/data/news/PF202388.csv\n",
            "File not found: /content/drive/MyDrive/data/news/PF194428.csv\n",
            "Article dates saved to /content/drive/MyDrive/data/news/article_date/PF181356_article_date.csv\n",
            "File not found: /content/drive/MyDrive/data/news/PF230774.csv\n",
            "Article dates saved to /content/drive/MyDrive/data/news/article_date/PF223602_article_date.csv\n",
            "File not found: /content/drive/MyDrive/data/news/PF196294.csv\n",
            "File not found: /content/drive/MyDrive/data/news/PF195683.csv\n",
            "File not found: /content/drive/MyDrive/data/news/PF195079.csv\n",
            "File not found: /content/drive/MyDrive/data/news/PF200990.csv\n",
            "File not found: /content/drive/MyDrive/data/news/PF199899.csv\n",
            "File not found: /content/drive/MyDrive/data/news/PF197267.csv\n",
            "Article dates saved to /content/drive/MyDrive/data/news/article_date/PF215170_article_date.csv\n",
            "File not found: /content/drive/MyDrive/data/news/PF198485.csv\n",
            "Article dates saved to /content/drive/MyDrive/data/news/article_date/PF215494_article_date.csv\n",
            "File not found: /content/drive/MyDrive/data/news/PF230419.csv\n",
            "Article dates saved to /content/drive/MyDrive/data/news/article_date/PF197143_article_date.csv\n",
            "File not found: /content/drive/MyDrive/data/news/PF201157.csv\n",
            "File not found: /content/drive/MyDrive/data/news/PF201412.csv\n",
            "File not found: /content/drive/MyDrive/data/news/PF189203.csv\n",
            "File not found: /content/drive/MyDrive/data/news/PF200306.csv\n",
            "Article dates saved to /content/drive/MyDrive/data/news/article_date/PF195305_article_date.csv\n",
            "File not found: /content/drive/MyDrive/data/news/PF187745.csv\n",
            "File not found: /content/drive/MyDrive/data/news/PF223666.csv\n",
            "File not found: /content/drive/MyDrive/data/news/PF211589.csv\n",
            "File not found: /content/drive/MyDrive/data/news/PF193040.csv\n",
            "File not found: /content/drive/MyDrive/data/news/PF200751.csv\n",
            "File not found: /content/drive/MyDrive/data/news/PF195547.csv\n",
            "File not found: /content/drive/MyDrive/data/news/PF196345.csv\n",
            "File not found: /content/drive/MyDrive/data/news/PF186897.csv\n",
            "File not found: /content/drive/MyDrive/data/news/PF226885.csv\n",
            "File not found: /content/drive/MyDrive/data/news/PF230241.csv\n",
            "File not found: /content/drive/MyDrive/data/news/PF199403.csv\n",
            "File not found: /content/drive/MyDrive/data/news/PF199196.csv\n",
            "File not found: /content/drive/MyDrive/data/news/PF199986.csv\n",
            "File not found: /content/drive/MyDrive/data/news/PF197217.csv\n",
            "File not found: /content/drive/MyDrive/data/news/PF228205.csv\n",
            "File not found: /content/drive/MyDrive/data/news/PF200387.csv\n",
            "File not found: /content/drive/MyDrive/data/news/PF218756.csv\n",
            "File not found: /content/drive/MyDrive/data/news/PF212830.csv\n",
            "File not found: /content/drive/MyDrive/data/news/PF190508.csv\n",
            "File not found: /content/drive/MyDrive/data/news/PF151901.csv\n",
            "File not found: /content/drive/MyDrive/data/news/PF144982.csv\n",
            "File not found: /content/drive/MyDrive/data/news/PF186398.csv\n",
            "File not found: /content/drive/MyDrive/data/news/PF226536.csv\n",
            "File not found: /content/drive/MyDrive/data/news/PF191688.csv\n",
            "Article dates saved to /content/drive/MyDrive/data/news/article_date/PF188826_article_date.csv\n",
            "File not found: /content/drive/MyDrive/data/news/PF198213.csv\n",
            "Article dates saved to /content/drive/MyDrive/data/news/article_date/PF209529_article_date.csv\n",
            "Article dates saved to /content/drive/MyDrive/data/news/article_date/PF219442_article_date.csv\n",
            "File not found: /content/drive/MyDrive/data/news/PF226225.csv\n",
            "File not found: /content/drive/MyDrive/data/news/PF199019.csv\n",
            "File not found: /content/drive/MyDrive/data/news/PF229447.csv\n",
            "File not found: /content/drive/MyDrive/data/news/PF194286.csv\n",
            "File not found: /content/drive/MyDrive/data/news/PF204778.csv\n",
            "File not found: /content/drive/MyDrive/data/news/PF197464.csv\n",
            "Article dates saved to /content/drive/MyDrive/data/news/article_date/PF157288_article_date.csv\n",
            "File not found: /content/drive/MyDrive/data/news/PF225334.csv\n",
            "File not found: /content/drive/MyDrive/data/news/PF193635.csv\n",
            "File not found: /content/drive/MyDrive/data/news/PF200075.csv\n",
            "File not found: /content/drive/MyDrive/data/news/PF222022.csv\n",
            "File not found: /content/drive/MyDrive/data/news/PF201422.csv\n",
            "File not found: /content/drive/MyDrive/data/news/PF195357.csv\n",
            "File not found: /content/drive/MyDrive/data/news/PF191041.csv\n",
            "File not found: /content/drive/MyDrive/data/news/PF202609.csv\n",
            "Article dates saved to /content/drive/MyDrive/data/news/article_date/PF219395_article_date.csv\n",
            "File not found: /content/drive/MyDrive/data/news/PF191871.csv\n",
            "File not found: /content/drive/MyDrive/data/news/PF195155.csv\n",
            "File not found: /content/drive/MyDrive/data/news/PF215042.csv\n",
            "Article dates saved to /content/drive/MyDrive/data/news/article_date/PF218102_article_date.csv\n",
            "Article dates saved to /content/drive/MyDrive/data/news/article_date/PF197373_article_date.csv\n",
            "File not found: /content/drive/MyDrive/data/news/PF189911.csv\n",
            "File not found: /content/drive/MyDrive/data/news/PF191731.csv\n",
            "File not found: /content/drive/MyDrive/data/news/PF194660.csv\n",
            "File not found: /content/drive/MyDrive/data/news/PF202341.csv\n",
            "File not found: /content/drive/MyDrive/data/news/PF191933.csv\n",
            "File not found: /content/drive/MyDrive/data/news/PF211629.csv\n",
            "File not found: /content/drive/MyDrive/data/news/PF214680.csv\n",
            "File not found: /content/drive/MyDrive/data/news/PF228208.csv\n",
            "Article dates saved to /content/drive/MyDrive/data/news/article_date/PF185333_article_date.csv\n",
            "File not found: /content/drive/MyDrive/data/news/PF231854.csv\n",
            "Article dates saved to /content/drive/MyDrive/data/news/article_date/PF216698_article_date.csv\n",
            "File not found: /content/drive/MyDrive/data/news/PF229630.csv\n",
            "File not found: /content/drive/MyDrive/data/news/PF228217.csv\n",
            "File not found: /content/drive/MyDrive/data/news/PF202627.csv\n",
            "Article dates saved to /content/drive/MyDrive/data/news/article_date/PF215235_article_date.csv\n",
            "File not found: /content/drive/MyDrive/data/news/PF204736.csv\n",
            "File not found: /content/drive/MyDrive/data/news/PF223667.csv\n",
            "File not found: /content/drive/MyDrive/data/news/PF222362.csv\n",
            "File not found: /content/drive/MyDrive/data/news/PF228193.csv\n",
            "File not found: /content/drive/MyDrive/data/news/PF229313.csv\n",
            "File not found: /content/drive/MyDrive/data/news/PF228923.csv\n",
            "File not found: /content/drive/MyDrive/data/news/PF184862.csv\n",
            "File not found: /content/drive/MyDrive/data/news/PF181626.csv\n",
            "File not found: /content/drive/MyDrive/data/news/PF192615.csv\n",
            "File not found: /content/drive/MyDrive/data/news/PF202481.csv\n",
            "File not found: /content/drive/MyDrive/data/news/PF229501.csv\n",
            "File not found: /content/drive/MyDrive/data/news/PF228196.csv\n",
            "File not found: /content/drive/MyDrive/data/news/PF183854.csv\n",
            "Article dates saved to /content/drive/MyDrive/data/news/article_date/PF190917_article_date.csv\n",
            "Article dates saved to /content/drive/MyDrive/data/news/article_date/PF186242_article_date.csv\n",
            "File not found: /content/drive/MyDrive/data/news/PF189167.csv\n",
            "File not found: /content/drive/MyDrive/data/news/PF194578.csv\n",
            "File not found: /content/drive/MyDrive/data/news/PF216426.csv\n",
            "File not found: /content/drive/MyDrive/data/news/PF229142.csv\n",
            "Article dates saved to /content/drive/MyDrive/data/news/article_date/PF185639_article_date.csv\n",
            "File not found: /content/drive/MyDrive/data/news/PF215630.csv\n",
            "File not found: /content/drive/MyDrive/data/news/PF180742.csv\n",
            "File not found: /content/drive/MyDrive/data/news/PF219279.csv\n",
            "File not found: /content/drive/MyDrive/data/news/PF186153.csv\n",
            "File not found: /content/drive/MyDrive/data/news/PF187524.csv\n",
            "File not found: /content/drive/MyDrive/data/news/PF188115.csv\n",
            "File not found: /content/drive/MyDrive/data/news/PF200073.csv\n",
            "File not found: /content/drive/MyDrive/data/news/PF196754.csv\n",
            "File not found: /content/drive/MyDrive/data/news/PF191899.csv\n",
            "File not found: /content/drive/MyDrive/data/news/PF190152.csv\n",
            "File not found: /content/drive/MyDrive/data/news/PF191467.csv\n",
            "File not found: /content/drive/MyDrive/data/news/PF220548.csv\n",
            "File not found: /content/drive/MyDrive/data/news/PF223281.csv\n",
            "File not found: /content/drive/MyDrive/data/news/PF202754.csv\n",
            "File not found: /content/drive/MyDrive/data/news/PF186410.csv\n",
            "Article dates saved to /content/drive/MyDrive/data/news/article_date/PF214398_article_date.csv\n",
            "Article dates saved to /content/drive/MyDrive/data/news/article_date/PF185682_article_date.csv\n",
            "File not found: /content/drive/MyDrive/data/news/PF226311.csv\n",
            "File not found: /content/drive/MyDrive/data/news/PF186364.csv\n",
            "File not found: /content/drive/MyDrive/data/news/PF191702.csv\n",
            "File not found: /content/drive/MyDrive/data/news/PF200420.csv\n",
            "File not found: /content/drive/MyDrive/data/news/PF214757.csv\n",
            "File not found: /content/drive/MyDrive/data/news/PF214706.csv\n",
            "File not found: /content/drive/MyDrive/data/news/PF204439.csv\n",
            "File not found: /content/drive/MyDrive/data/news/PF228209.csv\n",
            "File not found: /content/drive/MyDrive/data/news/PF223346.csv\n",
            "File not found: /content/drive/MyDrive/data/news/PF186076.csv\n",
            "File not found: /content/drive/MyDrive/data/news/PF196015.csv\n",
            "File not found: /content/drive/MyDrive/data/news/PF229324.csv\n",
            "File not found: /content/drive/MyDrive/data/news/PF219915.csv\n",
            "File not found: /content/drive/MyDrive/data/news/PF183289.csv\n",
            "Article dates saved to /content/drive/MyDrive/data/news/article_date/PF216240_article_date.csv\n",
            "File not found: /content/drive/MyDrive/data/news/PF222866.csv\n",
            "File not found: /content/drive/MyDrive/data/news/PF202729.csv\n",
            "File not found: /content/drive/MyDrive/data/news/PF230403.csv\n",
            "File not found: /content/drive/MyDrive/data/news/PF211428.csv\n",
            "File not found: /content/drive/MyDrive/data/news/PF192401.csv\n",
            "File not found: /content/drive/MyDrive/data/news/PF185994.csv\n",
            "File not found: /content/drive/MyDrive/data/news/PF222507.csv\n",
            "File not found: /content/drive/MyDrive/data/news/PF199264.csv\n",
            "File not found: /content/drive/MyDrive/data/news/PF199896.csv\n",
            "File not found: /content/drive/MyDrive/data/news/PF209467.csv\n",
            "File not found: /content/drive/MyDrive/data/news/PF230262.csv\n",
            "File not found: /content/drive/MyDrive/data/news/PF221362.csv\n",
            "Article dates saved to /content/drive/MyDrive/data/news/article_date/PF224638_article_date.csv\n",
            "File not found: /content/drive/MyDrive/data/news/PF188633.csv\n",
            "File not found: /content/drive/MyDrive/data/news/PF187799.csv\n",
            "Article dates saved to /content/drive/MyDrive/data/news/article_date/PF217868_article_date.csv\n",
            "Article dates saved to /content/drive/MyDrive/data/news/article_date/PF225069_article_date.csv\n",
            "File not found: /content/drive/MyDrive/data/news/PF205250.csv\n",
            "File not found: /content/drive/MyDrive/data/news/PF173894.csv\n",
            "Article dates saved to /content/drive/MyDrive/data/news/article_date/PF223604_article_date.csv\n",
            "File not found: /content/drive/MyDrive/data/news/PF194591.csv\n",
            "File not found: /content/drive/MyDrive/data/news/PF199987.csv\n",
            "File not found: /content/drive/MyDrive/data/news/PF230200.csv\n",
            "File not found: /content/drive/MyDrive/data/news/PF191287.csv\n",
            "File not found: /content/drive/MyDrive/data/news/PF228220.csv\n",
            "Article dates saved to /content/drive/MyDrive/data/news/article_date/PF192959_article_date.csv\n",
            "File not found: /content/drive/MyDrive/data/news/PF222673.csv\n",
            "File not found: /content/drive/MyDrive/data/news/PF187834.csv\n",
            "File not found: /content/drive/MyDrive/data/news/PF203370.csv\n",
            "File not found: /content/drive/MyDrive/data/news/PF220055.csv\n",
            "Article dates saved to /content/drive/MyDrive/data/news/article_date/PF215614_article_date.csv\n",
            "File not found: /content/drive/MyDrive/data/news/PF214157.csv\n",
            "File not found: /content/drive/MyDrive/data/news/PF216686.csv\n",
            "File not found: /content/drive/MyDrive/data/news/PF194815.csv\n",
            "File not found: /content/drive/MyDrive/data/news/PF218590.csv\n",
            "File not found: /content/drive/MyDrive/data/news/PF232142.csv\n",
            "File not found: /content/drive/MyDrive/data/news/PF226074.csv\n",
            "File not found: /content/drive/MyDrive/data/news/PF200074.csv\n",
            "File not found: /content/drive/MyDrive/data/news/PF228494.csv\n",
            "File not found: /content/drive/MyDrive/data/news/PF199985.csv\n",
            "File not found: /content/drive/MyDrive/data/news/PF189758.csv\n",
            "File not found: /content/drive/MyDrive/data/news/PF224435.csv\n",
            "File not found: /content/drive/MyDrive/data/news/PF209919.csv\n",
            "File not found: /content/drive/MyDrive/data/news/PF178134.csv\n",
            "Article dates saved to /content/drive/MyDrive/data/news/article_date/PF215985_article_date.csv\n",
            "File not found: /content/drive/MyDrive/data/news/PF182391.csv\n",
            "File not found: /content/drive/MyDrive/data/news/PF213962.csv\n",
            "File not found: /content/drive/MyDrive/data/news/PF215616.csv\n",
            "File not found: /content/drive/MyDrive/data/news/PF187523.csv\n",
            "File not found: /content/drive/MyDrive/data/news/PF227720.csv\n",
            "File not found: /content/drive/MyDrive/data/news/PF223963.csv\n",
            "File not found: /content/drive/MyDrive/data/news/PF184049.csv\n",
            "File not found: /content/drive/MyDrive/data/news/PF228269.csv\n",
            "File not found: /content/drive/MyDrive/data/news/PF194088.csv\n",
            "Article dates saved to /content/drive/MyDrive/data/news/article_date/PF228602_article_date.csv\n",
            "File not found: /content/drive/MyDrive/data/news/PF212579.csv\n",
            "File not found: /content/drive/MyDrive/data/news/PF195448.csv\n",
            "File not found: /content/drive/MyDrive/data/news/PF191036.csv\n",
            "File not found: /content/drive/MyDrive/data/news/PF227144.csv\n",
            "File not found: /content/drive/MyDrive/data/news/PF199111.csv\n",
            "File not found: /content/drive/MyDrive/data/news/PF221408.csv\n",
            "File not found: /content/drive/MyDrive/data/news/PF213589.csv\n",
            "File not found: /content/drive/MyDrive/data/news/PF191935.csv\n",
            "File not found: /content/drive/MyDrive/data/news/PF187759.csv\n",
            "File not found: /content/drive/MyDrive/data/news/PF196487.csv\n",
            "File not found: /content/drive/MyDrive/data/news/PF183541.csv\n",
            "File not found: /content/drive/MyDrive/data/news/PF194170.csv\n",
            "Article dates saved to /content/drive/MyDrive/data/news/article_date/PF212523_article_date.csv\n",
            "File not found: /content/drive/MyDrive/data/news/PF227761.csv\n",
            "Article dates saved to /content/drive/MyDrive/data/news/article_date/PF203663_article_date.csv\n",
            "File not found: /content/drive/MyDrive/data/news/PF185301.csv\n",
            "File not found: /content/drive/MyDrive/data/news/PF217698.csv\n",
            "Article dates saved to /content/drive/MyDrive/data/news/article_date/PF219125_article_date.csv\n",
            "File not found: /content/drive/MyDrive/data/news/PF197259.csv\n",
            "Article dates saved to /content/drive/MyDrive/data/news/article_date/PF183801_article_date.csv\n",
            "File not found: /content/drive/MyDrive/data/news/PF194359.csv\n",
            "File not found: /content/drive/MyDrive/data/news/PF199274.csv\n",
            "File not found: /content/drive/MyDrive/data/news/PF192471.csv\n",
            "File not found: /content/drive/MyDrive/data/news/PF212827.csv\n",
            "File not found: /content/drive/MyDrive/data/news/PF222527.csv\n",
            "Article dates saved to /content/drive/MyDrive/data/news/article_date/PF197707_article_date.csv\n",
            "File not found: /content/drive/MyDrive/data/news/PF187224.csv\n",
            "File not found: /content/drive/MyDrive/data/news/PF190826.csv\n",
            "File not found: /content/drive/MyDrive/data/news/PF194649.csv\n",
            "File not found: /content/drive/MyDrive/data/news/PF202956.csv\n",
            "File not found: /content/drive/MyDrive/data/news/PF186616.csv\n",
            "Article dates saved to /content/drive/MyDrive/data/news/article_date/PF220143_article_date.csv\n",
            "File not found: /content/drive/MyDrive/data/news/PF198981.csv\n",
            "File not found: /content/drive/MyDrive/data/news/PF210103.csv\n",
            "File not found: /content/drive/MyDrive/data/news/PF225046.csv\n",
            "Article dates saved to /content/drive/MyDrive/data/news/article_date/PF228643_article_date.csv\n",
            "File not found: /content/drive/MyDrive/data/news/PF194047.csv\n",
            "File not found: /content/drive/MyDrive/data/news/PF202749.csv\n",
            "File not found: /content/drive/MyDrive/data/news/PF141838.csv\n",
            "File not found: /content/drive/MyDrive/data/news/PF194400.csv\n",
            "File not found: /content/drive/MyDrive/data/news/PF218506.csv\n",
            "File not found: /content/drive/MyDrive/data/news/PF195894.csv\n",
            "File not found: /content/drive/MyDrive/data/news/PF186568.csv\n",
            "File not found: /content/drive/MyDrive/data/news/PF228603.csv\n",
            "File not found: /content/drive/MyDrive/data/news/PF193022.csv\n",
            "File not found: /content/drive/MyDrive/data/news/PF199405.csv\n",
            "File not found: /content/drive/MyDrive/data/news/PF219904.csv\n",
            "File not found: /content/drive/MyDrive/data/news/PF190779.csv\n",
            "File not found: /content/drive/MyDrive/data/news/PF192808.csv\n",
            "File not found: /content/drive/MyDrive/data/news/PF226828.csv\n",
            "File not found: /content/drive/MyDrive/data/news/PF223790.csv\n",
            "File not found: /content/drive/MyDrive/data/news/PF187883.csv\n",
            "Article dates saved to /content/drive/MyDrive/data/news/article_date/PF215234_article_date.csv\n",
            "File not found: /content/drive/MyDrive/data/news/PF227671.csv\n",
            "File not found: /content/drive/MyDrive/data/news/PF200094.csv\n",
            "File not found: /content/drive/MyDrive/data/news/PF224486.csv\n",
            "File not found: /content/drive/MyDrive/data/news/PF216473.csv\n",
            "Article dates saved to /content/drive/MyDrive/data/news/article_date/PF191729_article_date.csv\n",
            "File not found: /content/drive/MyDrive/data/news/PF226484.csv\n",
            "File not found: /content/drive/MyDrive/data/news/PF215156.csv\n",
            "File not found: /content/drive/MyDrive/data/news/PF226366.csv\n",
            "Article dates saved to /content/drive/MyDrive/data/news/article_date/PF191212_article_date.csv\n",
            "File not found: /content/drive/MyDrive/data/news/PF220958.csv\n",
            "File not found: /content/drive/MyDrive/data/news/PF185417.csv\n",
            "File not found: /content/drive/MyDrive/data/news/PF225268.csv\n",
            "Article dates saved to /content/drive/MyDrive/data/news/article_date/PF215333_article_date.csv\n",
            "File not found: /content/drive/MyDrive/data/news/PF221615.csv\n",
            "File not found: /content/drive/MyDrive/data/news/PF229607.csv\n",
            "File not found: /content/drive/MyDrive/data/news/PF200362.csv\n",
            "File not found: /content/drive/MyDrive/data/news/PF209846.csv\n",
            "File not found: /content/drive/MyDrive/data/news/PF187993.csv\n",
            "File not found: /content/drive/MyDrive/data/news/PF204767.csv\n",
            "File not found: /content/drive/MyDrive/data/news/PF201420.csv\n",
            "Article dates saved to /content/drive/MyDrive/data/news/article_date/PF190926_article_date.csv\n",
            "File not found: /content/drive/MyDrive/data/news/PF200988.csv\n",
            "File not found: /content/drive/MyDrive/data/news/PF200661.csv\n",
            "File not found: /content/drive/MyDrive/data/news/PF228204.csv\n",
            "File not found: /content/drive/MyDrive/data/news/PF225293.csv\n",
            "File not found: /content/drive/MyDrive/data/news/PF218802.csv\n",
            "File not found: /content/drive/MyDrive/data/news/PF203336.csv\n",
            "Article dates saved to /content/drive/MyDrive/data/news/article_date/PF222146_article_date.csv\n",
            "File not found: /content/drive/MyDrive/data/news/PF196885.csv\n",
            "File not found: /content/drive/MyDrive/data/news/PF212502.csv\n",
            "File not found: /content/drive/MyDrive/data/news/PF174214.csv\n",
            "File not found: /content/drive/MyDrive/data/news/PF147099.csv\n",
            "File not found: /content/drive/MyDrive/data/news/PF231837.csv\n",
            "Article dates saved to /content/drive/MyDrive/data/news/article_date/PF192311_article_date.csv\n",
            "Article dates saved to /content/drive/MyDrive/data/news/article_date/PF220222_article_date.csv\n",
            "File not found: /content/drive/MyDrive/data/news/PF226152.csv\n",
            "File not found: /content/drive/MyDrive/data/news/PF194079.csv\n",
            "File not found: /content/drive/MyDrive/data/news/PF227674.csv\n",
            "File not found: /content/drive/MyDrive/data/news/PF228694.csv\n",
            "Article dates saved to /content/drive/MyDrive/data/news/article_date/PF194767_article_date.csv\n",
            "File not found: /content/drive/MyDrive/data/news/PF221451.csv\n",
            "File not found: /content/drive/MyDrive/data/news/PF202738.csv\n",
            "File not found: /content/drive/MyDrive/data/news/PF199934.csv\n",
            "File not found: /content/drive/MyDrive/data/news/PF204709.csv\n",
            "File not found: /content/drive/MyDrive/data/news/PF227755.csv\n",
            "File not found: /content/drive/MyDrive/data/news/PF199902.csv\n",
            "File not found: /content/drive/MyDrive/data/news/PF203812.csv\n",
            "File not found: /content/drive/MyDrive/data/news/PF219269.csv\n",
            "File not found: /content/drive/MyDrive/data/news/PF215988.csv\n",
            "File not found: /content/drive/MyDrive/data/news/PF192624.csv\n",
            "File not found: /content/drive/MyDrive/data/news/PF189219.csv\n",
            "File not found: /content/drive/MyDrive/data/news/PF222686.csv\n",
            "File not found: /content/drive/MyDrive/data/news/PF188631.csv\n",
            "Article dates saved to /content/drive/MyDrive/data/news/article_date/PF212501_article_date.csv\n",
            "File not found: /content/drive/MyDrive/data/news/PF184773.csv\n",
            "File not found: /content/drive/MyDrive/data/news/PF191386.csv\n",
            "File not found: /content/drive/MyDrive/data/news/PF201124.csv\n",
            "File not found: /content/drive/MyDrive/data/news/PF190618.csv\n",
            "File not found: /content/drive/MyDrive/data/news/PF190204.csv\n",
            "File not found: /content/drive/MyDrive/data/news/PF217215.csv\n",
            "File not found: /content/drive/MyDrive/data/news/PF196664.csv\n",
            "File not found: /content/drive/MyDrive/data/news/PF195298.csv\n",
            "File not found: /content/drive/MyDrive/data/news/PF209838.csv\n",
            "File not found: /content/drive/MyDrive/data/news/PF191145.csv\n",
            "File not found: /content/drive/MyDrive/data/news/PF224901.csv\n",
            "File not found: /content/drive/MyDrive/data/news/PF187832.csv\n",
            "File not found: /content/drive/MyDrive/data/news/PF201368.csv\n",
            "File not found: /content/drive/MyDrive/data/news/PF231071.csv\n",
            "File not found: /content/drive/MyDrive/data/news/PF214532.csv\n",
            "File not found: /content/drive/MyDrive/data/news/PF224517.csv\n",
            "File not found: /content/drive/MyDrive/data/news/PF218773.csv\n",
            "File not found: /content/drive/MyDrive/data/news/PF189073.csv\n",
            "File not found: /content/drive/MyDrive/data/news/PF190909.csv\n",
            "Article dates saved to /content/drive/MyDrive/data/news/article_date/PF224831_article_date.csv\n",
            "File not found: /content/drive/MyDrive/data/news/PF202087.csv\n",
            "File not found: /content/drive/MyDrive/data/news/PF191078.csv\n",
            "File not found: /content/drive/MyDrive/data/news/PF193764.csv\n",
            "File not found: /content/drive/MyDrive/data/news/PF196077.csv\n",
            "File not found: /content/drive/MyDrive/data/news/PF200828.csv\n",
            "File not found: /content/drive/MyDrive/data/news/PF190317.csv\n",
            "File not found: /content/drive/MyDrive/data/news/PF225452.csv\n",
            "File not found: /content/drive/MyDrive/data/news/PF227447.csv\n",
            "File not found: /content/drive/MyDrive/data/news/PF223137.csv\n",
            "File not found: /content/drive/MyDrive/data/news/PF186125.csv\n",
            "File not found: /content/drive/MyDrive/data/news/PF215418.csv\n",
            "File not found: /content/drive/MyDrive/data/news/PF215750.csv\n",
            "File not found: /content/drive/MyDrive/data/news/PF201418.csv\n",
            "File not found: /content/drive/MyDrive/data/news/PF199904.csv\n",
            "File not found: /content/drive/MyDrive/data/news/PF188531.csv\n",
            "File not found: /content/drive/MyDrive/data/news/PF186872.csv\n",
            "File not found: /content/drive/MyDrive/data/news/PF215157.csv\n",
            "File not found: /content/drive/MyDrive/data/news/PF184797.csv\n",
            "File not found: /content/drive/MyDrive/data/news/PF192241.csv\n",
            "File not found: /content/drive/MyDrive/data/news/PF201357.csv\n",
            "File not found: /content/drive/MyDrive/data/news/PF184972.csv\n",
            "Article dates saved to /content/drive/MyDrive/data/news/article_date/PF182924_article_date.csv\n",
            "File not found: /content/drive/MyDrive/data/news/PF186331.csv\n",
            "Article dates saved to /content/drive/MyDrive/data/news/article_date/PF194883_article_date.csv\n",
            "Article dates saved to /content/drive/MyDrive/data/news/article_date/PF213453_article_date.csv\n",
            "File not found: /content/drive/MyDrive/data/news/PF200984.csv\n",
            "File not found: /content/drive/MyDrive/data/news/PF191880.csv\n",
            "Article dates saved to /content/drive/MyDrive/data/news/article_date/PF192230_article_date.csv\n",
            "File not found: /content/drive/MyDrive/data/news/PF215866.csv\n",
            "File not found: /content/drive/MyDrive/data/news/PF190812.csv\n",
            "File not found: /content/drive/MyDrive/data/news/PF216063.csv\n",
            "File not found: /content/drive/MyDrive/data/news/PF201664.csv\n",
            "File not found: /content/drive/MyDrive/data/news/PF184008.csv\n",
            "File not found: /content/drive/MyDrive/data/news/PF224762.csv\n",
            "File not found: /content/drive/MyDrive/data/news/PF185077.csv\n",
            "File not found: /content/drive/MyDrive/data/news/PF224443.csv\n",
            "File not found: /content/drive/MyDrive/data/news/PF192642.csv\n",
            "File not found: /content/drive/MyDrive/data/news/PF201668.csv\n",
            "File not found: /content/drive/MyDrive/data/news/PF189916.csv\n",
            "File not found: /content/drive/MyDrive/data/news/PF217861.csv\n",
            "File not found: /content/drive/MyDrive/data/news/PF189568.csv\n",
            "Article dates saved to /content/drive/MyDrive/data/news/article_date/PF218957_article_date.csv\n",
            "File not found: /content/drive/MyDrive/data/news/PF187464.csv\n",
            "File not found: /content/drive/MyDrive/data/news/PF209465.csv\n",
            "File not found: /content/drive/MyDrive/data/news/PF229434.csv\n",
            "File not found: /content/drive/MyDrive/data/news/PF204278.csv\n",
            "File not found: /content/drive/MyDrive/data/news/PF183636.csv\n",
            "File not found: /content/drive/MyDrive/data/news/PF201698.csv\n",
            "File not found: /content/drive/MyDrive/data/news/PF187519.csv\n",
            "File not found: /content/drive/MyDrive/data/news/PF201986.csv\n",
            "File not found: /content/drive/MyDrive/data/news/PF217211.csv\n",
            "File not found: /content/drive/MyDrive/data/news/PF192744.csv\n",
            "File not found: /content/drive/MyDrive/data/news/PF204129.csv\n",
            "File not found: /content/drive/MyDrive/data/news/PF200827.csv\n",
            "File not found: /content/drive/MyDrive/data/news/PF201252.csv\n",
            "File not found: /content/drive/MyDrive/data/news/PF189360.csv\n",
            "File not found: /content/drive/MyDrive/data/news/PF189925.csv\n",
            "File not found: /content/drive/MyDrive/data/news/PF200903.csv\n",
            "File not found: /content/drive/MyDrive/data/news/PF199988.csv\n",
            "File not found: /content/drive/MyDrive/data/news/PF192782.csv\n",
            "File not found: /content/drive/MyDrive/data/news/PF220283.csv\n",
            "File not found: /content/drive/MyDrive/data/news/PF196924.csv\n",
            "File not found: /content/drive/MyDrive/data/news/PF192770.csv\n",
            "File not found: /content/drive/MyDrive/data/news/PF204068.csv\n",
            "File not found: /content/drive/MyDrive/data/news/PF204533.csv\n",
            "File not found: /content/drive/MyDrive/data/news/PF185079.csv\n",
            "File not found: /content/drive/MyDrive/data/news/PF213299.csv\n",
            "File not found: /content/drive/MyDrive/data/news/PF190546.csv\n",
            "File not found: /content/drive/MyDrive/data/news/PF211630.csv\n",
            "Article dates saved to /content/drive/MyDrive/data/news/article_date/PF197237_article_date.csv\n",
            "File not found: /content/drive/MyDrive/data/news/PF204311.csv\n",
            "File not found: /content/drive/MyDrive/data/news/PF215065.csv\n",
            "File not found: /content/drive/MyDrive/data/news/PF222844.csv\n",
            "File not found: /content/drive/MyDrive/data/news/PF187833.csv\n",
            "File not found: /content/drive/MyDrive/data/news/PF230177.csv\n",
            "Article dates saved to /content/drive/MyDrive/data/news/article_date/PF222266_article_date.csv\n",
            "File not found: /content/drive/MyDrive/data/news/PF193021.csv\n",
            "File not found: /content/drive/MyDrive/data/news/PF198144.csv\n",
            "File not found: /content/drive/MyDrive/data/news/PF190694.csv\n",
            "Article dates saved to /content/drive/MyDrive/data/news/article_date/PF226364_article_date.csv\n",
            "File not found: /content/drive/MyDrive/data/news/PF220052.csv\n",
            "File not found: /content/drive/MyDrive/data/news/PF199989.csv\n",
            "File not found: /content/drive/MyDrive/data/news/PF227109.csv\n",
            "Article dates saved to /content/drive/MyDrive/data/news/article_date/PF213270_article_date.csv\n",
            "File not found: /content/drive/MyDrive/data/news/PF212601.csv\n",
            "File not found: /content/drive/MyDrive/data/news/PF193373.csv\n",
            "File not found: /content/drive/MyDrive/data/news/PF219688.csv\n",
            "File not found: /content/drive/MyDrive/data/news/PF224905.csv\n",
            "File not found: /content/drive/MyDrive/data/news/PF226686.csv\n",
            "File not found: /content/drive/MyDrive/data/news/PF224434.csv\n",
            "Article dates saved to /content/drive/MyDrive/data/news/article_date/PF206120_article_date.csv\n",
            "File not found: /content/drive/MyDrive/data/news/PF195413.csv\n",
            "File not found: /content/drive/MyDrive/data/news/PF196108.csv\n",
            "File not found: /content/drive/MyDrive/data/news/PF205274.csv\n",
            "File not found: /content/drive/MyDrive/data/news/PF217124.csv\n",
            "File not found: /content/drive/MyDrive/data/news/PF227706.csv\n",
            "Article dates saved to /content/drive/MyDrive/data/news/article_date/PF183513_article_date.csv\n",
            "File not found: /content/drive/MyDrive/data/news/PF190025.csv\n",
            "File not found: /content/drive/MyDrive/data/news/PF227055.csv\n",
            "Article dates saved to /content/drive/MyDrive/data/news/article_date/PF186401_article_date.csv\n",
            "File not found: /content/drive/MyDrive/data/news/PF203381.csv\n",
            "File not found: /content/drive/MyDrive/data/news/PF184068.csv\n",
            "File not found: /content/drive/MyDrive/data/news/PF215159.csv\n",
            "Article dates saved to /content/drive/MyDrive/data/news/article_date/PF226147_article_date.csv\n",
            "File not found: /content/drive/MyDrive/data/news/PF191228.csv\n",
            "Article dates saved to /content/drive/MyDrive/data/news/article_date/PF218220_article_date.csv\n",
            "File not found: /content/drive/MyDrive/data/news/PF202503.csv\n",
            "File not found: /content/drive/MyDrive/data/news/PF194011.csv\n",
            "File not found: /content/drive/MyDrive/data/news/PF225778.csv\n",
            "File not found: /content/drive/MyDrive/data/news/PF200085.csv\n",
            "File not found: /content/drive/MyDrive/data/news/PF203539.csv\n",
            "File not found: /content/drive/MyDrive/data/news/PF180831.csv\n",
            "File not found: /content/drive/MyDrive/data/news/PF193173.csv\n",
            "File not found: /content/drive/MyDrive/data/news/PF190261.csv\n",
            "File not found: /content/drive/MyDrive/data/news/PF185995.csv\n",
            "File not found: /content/drive/MyDrive/data/news/PF190876.csv\n",
            "File not found: /content/drive/MyDrive/data/news/PF220069.csv\n",
            "Article dates saved to /content/drive/MyDrive/data/news/article_date/PF188084_article_date.csv\n",
            "File not found: /content/drive/MyDrive/data/news/PF202238.csv\n",
            "File not found: /content/drive/MyDrive/data/news/PF200839.csv\n",
            "File not found: /content/drive/MyDrive/data/news/PF201765.csv\n",
            "Article dates saved to /content/drive/MyDrive/data/news/article_date/PF194485_article_date.csv\n",
            "Article dates saved to /content/drive/MyDrive/data/news/article_date/PF223309_article_date.csv\n",
            "Article dates saved to /content/drive/MyDrive/data/news/article_date/PF189859_article_date.csv\n",
            "Article dates saved to /content/drive/MyDrive/data/news/article_date/PF178981_article_date.csv\n",
            "File not found: /content/drive/MyDrive/data/news/PF121682.csv\n",
            "Article dates saved to /content/drive/MyDrive/data/news/article_date/PF199307_article_date.csv\n",
            "File not found: /content/drive/MyDrive/data/news/PF198434.csv\n",
            "File not found: /content/drive/MyDrive/data/news/PF186819.csv\n",
            "Article dates saved to /content/drive/MyDrive/data/news/article_date/PF186531_article_date.csv\n",
            "Article dates saved to /content/drive/MyDrive/data/news/article_date/PF191728_article_date.csv\n",
            "Article dates saved to /content/drive/MyDrive/data/news/article_date/PF191916_article_date.csv\n",
            "File not found: /content/drive/MyDrive/data/news/PF194642.csv\n",
            "File not found: /content/drive/MyDrive/data/news/PF194963.csv\n",
            "Article dates saved to /content/drive/MyDrive/data/news/article_date/PF195242_article_date.csv\n",
            "Article dates saved to /content/drive/MyDrive/data/news/article_date/PF180108_article_date.csv\n",
            "File not found: /content/drive/MyDrive/data/news/PF178635.csv\n",
            "File not found: /content/drive/MyDrive/data/news/PF179210.csv\n",
            "Article dates saved to /content/drive/MyDrive/data/news/article_date/PF186855_article_date.csv\n",
            "Article dates saved to /content/drive/MyDrive/data/news/article_date/PF189439_article_date.csv\n",
            "File not found: /content/drive/MyDrive/data/news/PF130891.csv\n",
            "File not found: /content/drive/MyDrive/data/news/PF183486.csv\n",
            "Article dates saved to /content/drive/MyDrive/data/news/article_date/PF194176_article_date.csv\n",
            "File not found: /content/drive/MyDrive/data/news/PF179943.csv\n",
            "File not found: /content/drive/MyDrive/data/news/PF145857.csv\n",
            "File not found: /content/drive/MyDrive/data/news/PF138393.csv\n",
            "File not found: /content/drive/MyDrive/data/news/PF178202.csv\n",
            "Article dates saved to /content/drive/MyDrive/data/news/article_date/PF181077_article_date.csv\n",
            "Article dates saved to /content/drive/MyDrive/data/news/article_date/PF170941_article_date.csv\n",
            "Article dates saved to /content/drive/MyDrive/data/news/article_date/PF184882_article_date.csv\n",
            "File not found: /content/drive/MyDrive/data/news/PF143884.csv\n",
            "Article dates saved to /content/drive/MyDrive/data/news/article_date/PF193042_article_date.csv\n",
            "Article dates saved to /content/drive/MyDrive/data/news/article_date/PF183199_article_date.csv\n",
            "Article dates saved to /content/drive/MyDrive/data/news/article_date/PF192964_article_date.csv\n",
            "Article dates saved to /content/drive/MyDrive/data/news/article_date/PF198638_article_date.csv\n",
            "File not found: /content/drive/MyDrive/data/news/PF198309.csv\n",
            "File not found: /content/drive/MyDrive/data/news/PF199208.csv\n",
            "File not found: /content/drive/MyDrive/data/news/PF189704.csv\n",
            "File not found: /content/drive/MyDrive/data/news/PF181601.csv\n",
            "File not found: /content/drive/MyDrive/data/news/PF192978.csv\n",
            "File not found: /content/drive/MyDrive/data/news/PF179222.csv\n",
            "Article dates saved to /content/drive/MyDrive/data/news/article_date/PF180838_article_date.csv\n",
            "File not found: /content/drive/MyDrive/data/news/PF185308.csv\n",
            "Article dates saved to /content/drive/MyDrive/data/news/article_date/PF195029_article_date.csv\n",
            "Article dates saved to /content/drive/MyDrive/data/news/article_date/PF185331_article_date.csv\n",
            "Article dates saved to /content/drive/MyDrive/data/news/article_date/PF186802_article_date.csv\n",
            "File not found: /content/drive/MyDrive/data/news/PF196584.csv\n",
            "File not found: /content/drive/MyDrive/data/news/PF186645.csv\n",
            "File not found: /content/drive/MyDrive/data/news/PF186778.csv\n",
            "File not found: /content/drive/MyDrive/data/news/PF196545.csv\n",
            "File not found: /content/drive/MyDrive/data/news/PF185428.csv\n",
            "File not found: /content/drive/MyDrive/data/news/PF196014.csv\n",
            "Article dates saved to /content/drive/MyDrive/data/news/article_date/PF186856_article_date.csv\n",
            "File not found: /content/drive/MyDrive/data/news/PF199301.csv\n",
            "Article dates saved to /content/drive/MyDrive/data/news/article_date/PF183804_article_date.csv\n",
            "Article dates saved to /content/drive/MyDrive/data/news/article_date/PF189026_article_date.csv\n",
            "Article dates saved to /content/drive/MyDrive/data/news/article_date/PF182052_article_date.csv\n",
            "Article dates saved to /content/drive/MyDrive/data/news/article_date/PF194042_article_date.csv\n",
            "File not found: /content/drive/MyDrive/data/news/PF198620.csv\n",
            "Article dates saved to /content/drive/MyDrive/data/news/article_date/PF189089_article_date.csv\n",
            "File not found: /content/drive/MyDrive/data/news/PF189452.csv\n",
            "File not found: /content/drive/MyDrive/data/news/PF199512.csv\n",
            "File not found: /content/drive/MyDrive/data/news/PF192976.csv\n",
            "Article dates saved to /content/drive/MyDrive/data/news/article_date/PF186979_article_date.csv\n",
            "File not found: /content/drive/MyDrive/data/news/PF197854.csv\n",
            "File not found: /content/drive/MyDrive/data/news/PF195632.csv\n",
            "Article dates saved to /content/drive/MyDrive/data/news/article_date/PF190314_article_date.csv\n",
            "File not found: /content/drive/MyDrive/data/news/PF187052.csv\n",
            "File not found: /content/drive/MyDrive/data/news/PF199739.csv\n",
            "File not found: /content/drive/MyDrive/data/news/PF195873.csv\n",
            "Article dates saved to /content/drive/MyDrive/data/news/article_date/PF191776_article_date.csv\n",
            "Article dates saved to /content/drive/MyDrive/data/news/article_date/PF197098_article_date.csv\n",
            "File not found: /content/drive/MyDrive/data/news/PF186168.csv\n",
            "Article dates saved to /content/drive/MyDrive/data/news/article_date/PF195027_article_date.csv\n",
            "File not found: /content/drive/MyDrive/data/news/PF138268.csv\n",
            "Article dates saved to /content/drive/MyDrive/data/news/article_date/PF189877_article_date.csv\n",
            "File not found: /content/drive/MyDrive/data/news/PF183630.csv\n",
            "File not found: /content/drive/MyDrive/data/news/PF190975.csv\n",
            "Article dates saved to /content/drive/MyDrive/data/news/article_date/PF182536_article_date.csv\n",
            "Article dates saved to /content/drive/MyDrive/data/news/article_date/PF191302_article_date.csv\n",
            "File not found: /content/drive/MyDrive/data/news/PF186310.csv\n",
            "File not found: /content/drive/MyDrive/data/news/PF194408.csv\n",
            "Article dates saved to /content/drive/MyDrive/data/news/article_date/PF199649_article_date.csv\n",
            "Article dates saved to /content/drive/MyDrive/data/news/article_date/PF193833_article_date.csv\n",
            "File not found: /content/drive/MyDrive/data/news/PF189062.csv\n",
            "File not found: /content/drive/MyDrive/data/news/PF198891.csv\n",
            "Article dates saved to /content/drive/MyDrive/data/news/article_date/PF181384_article_date.csv\n",
            "Article dates saved to /content/drive/MyDrive/data/news/article_date/PF186601_article_date.csv\n",
            "Article dates saved to /content/drive/MyDrive/data/news/article_date/PF197666_article_date.csv\n",
            "File not found: /content/drive/MyDrive/data/news/PF197992.csv\n",
            "File not found: /content/drive/MyDrive/data/news/PF185284.csv\n",
            "File not found: /content/drive/MyDrive/data/news/PF185604.csv\n",
            "Article dates saved to /content/drive/MyDrive/data/news/article_date/PF188377_article_date.csv\n",
            "File not found: /content/drive/MyDrive/data/news/PF192768.csv\n",
            "Article dates saved to /content/drive/MyDrive/data/news/article_date/PF197894_article_date.csv\n",
            "Article dates saved to /content/drive/MyDrive/data/news/article_date/PF183835_article_date.csv\n",
            "File not found: /content/drive/MyDrive/data/news/PF195858.csv\n",
            "File not found: /content/drive/MyDrive/data/news/PF192965.csv\n",
            "Article dates saved to /content/drive/MyDrive/data/news/article_date/PF195335_article_date.csv\n",
            "Updated data saved to /content/drive/MyDrive/data/all_musicals_updated.csv\n",
            "Total musicals processed: 1227\n",
            "Musicals with 30+ articles: 68\n",
            "\n",
            "Group distribution:\n",
            "group\n",
            "0    25\n",
            "1    17\n",
            "2    25\n",
            "3     1\n",
            "Name: count, dtype: int64\n"
          ]
        }
      ]
    },
    {
      "cell_type": "markdown",
      "source": [
        "-----\n",
        "\n",
        "기사와 별개로, 어느 요일에 어떤 날 티켓을 가장 많이 샀는지 heatmap을 보여주는 코드."
      ],
      "metadata": {
        "id": "-7HxMCyjrlrY"
      }
    },
    {
      "cell_type": "code",
      "source": [
        "import pandas as pd\n",
        "import numpy as np\n",
        "import matplotlib.pyplot as plt\n",
        "import seaborn as sns\n",
        "\n",
        "def advanced_booking_analysis(performance_code):\n",
        "    # Load data\n",
        "    ticket_data = pd.read_csv(f'/content/drive/MyDrive/data/musical/{performance_code}.csv')\n",
        "\n",
        "    # Convert date columns to datetime\n",
        "    for col in ['공연일시', '예매일시']:\n",
        "        ticket_data[col] = pd.to_datetime(ticket_data[col], errors='coerce')\n",
        "\n",
        "    # Remove rows with missing values\n",
        "    ticket_data = ticket_data.dropna(subset=['공연일시', '예매일시', '예매수'])\n",
        "\n",
        "    # Add day of week information\n",
        "    ticket_data['performance_day'] = ticket_data['공연일시'].dt.dayofweek\n",
        "    ticket_data['booking_day'] = ticket_data['예매일시'].dt.dayofweek\n",
        "\n",
        "    # Day name mapping\n",
        "    day_names = ['Mon', 'Tue', 'Wed', 'Thu', 'Fri', 'Sat', 'Sun']\n",
        "    ticket_data['performance_day'] = ticket_data['performance_day'].map(lambda x: day_names[x])\n",
        "    ticket_data['booking_day'] = ticket_data['booking_day'].map(lambda x: day_names[x])\n",
        "\n",
        "    # Create 7x7 grid data (sum)\n",
        "    grid_sum = pd.pivot_table(ticket_data, values='예매수', index='booking_day',\n",
        "                              columns='performance_day', aggfunc='sum', fill_value=0)\n",
        "\n",
        "    # Create 7x7 grid data (mean)\n",
        "    #grid_mean = pd.pivot_table(ticket_data, values='예매수', index='booking_day',\n",
        "    #                           columns='performance_day', aggfunc='mean', fill_value=0)\n",
        "\n",
        "    # Ensure correct order of days\n",
        "    grid_sum = grid_sum.reindex(index=day_names, columns=day_names)\n",
        "    #grid_mean = grid_mean.reindex(index=day_names, columns=day_names)\n",
        "\n",
        "    # Visualization\n",
        "    #fig, (ax1, ax2) = plt.subplots(1, 2, figsize=(20, 8))\n",
        "    fig, ax1 = plt.subplots(1, 1, figsize=(20, 8))\n",
        "    # Heatmap for sum\n",
        "    sns.heatmap(grid_sum, annot=True, fmt='g', cmap='YlOrRd', ax=ax1)\n",
        "    ax1.set_title(f'Total Ticket Bookings (Booking Day vs Performance Day) - {performance_code}')\n",
        "    ax1.set_xlabel('Performance Day')\n",
        "    ax1.set_ylabel('Booking Day')\n",
        "\n",
        "    # Heatmap for mean\n",
        "#    sns.heatmap(grid_mean, annot=True, fmt='.2f', cmap='YlOrRd', ax=ax2)\n",
        "#    ax2.set_title(f'Average Ticket Bookings (Booking Day vs Performance Day) - {performance_code}')\n",
        "#    ax2.set_xlabel('Performance Day')\n",
        "#    ax2.set_ylabel('Booking Day')\n",
        "\n",
        "    plt.tight_layout()\n",
        "    plt.show()\n",
        "\n",
        "    # Print summary statistics\n",
        "    print(\"Summary of Total Bookings:\")\n",
        "    print(grid_sum.sum().sort_values(ascending=False))\n",
        "#    print(\"\\nSummary of Average Bookings:\")\n",
        "#    print(grid_mean.mean().sort_values(ascending=False))\n",
        "\n",
        "# Main execution code\n",
        "musicals = pd.read_csv('/content/drive/MyDrive/data/all_musicals_updated.csv')\n",
        "\n",
        "for idx, musical in musicals.iterrows():\n",
        "    print(f\"\\nAdvanced analysis for musical: {musical['mt20id']}\")\n",
        "    advanced_booking_analysis(musical['mt20id'])\n",
        "    print(\"\\n\" + \"=\"*50)"
      ],
      "metadata": {
        "id": "NAmE6pTUsblK"
      },
      "execution_count": null,
      "outputs": []
    },
    {
      "cell_type": "markdown",
      "source": [
        "---\n",
        "\n",
        "예매 데이터와 기사 날짜를 긁어와서, 보도자료 전후 각 1주일동안 예매 추이 분석하여 보도자료가 효과가 있는지를 확인해주는 함수.\n",
        "x축이 너무 못생기게 나와서 로그스케일로 변경함."
      ],
      "metadata": {
        "id": "HgEI08bFxnz0"
      }
    },
    {
      "cell_type": "code",
      "source": [
        "#IRQ\n",
        "import pandas as pd\n",
        "import numpy as np\n",
        "from scipy import stats\n",
        "import matplotlib.pyplot as plt\n",
        "import seaborn as sns\n",
        "from statsmodels.tsa.statespace.sarimax import SARIMAX\n",
        "from sklearn.preprocessing import PolynomialFeatures\n",
        "from sklearn.model_selection import train_test_split\n",
        "from sklearn.metrics import mean_squared_error, r2_score\n",
        "import statsmodels.api as sm\n",
        "from scipy.stats import ttest_ind, norm\n",
        "\n",
        "def remove_outliers_iqr(df, columns):\n",
        "    for col in columns:\n",
        "        Q1 = df[col].quantile(0.25)\n",
        "        Q3 = df[col].quantile(0.75)\n",
        "        IQR = Q3 - Q1\n",
        "        lower_bound = Q1 - 1.5 * IQR\n",
        "        upper_bound = Q3 + 1.5 * IQR\n",
        "        df = df[(df[col] >= lower_bound) & (df[col] <= upper_bound)]\n",
        "    return df\n",
        "\n",
        "def load_and_preprocess_data(performance_code):\n",
        "    # Load data\n",
        "    ticket_data = pd.read_csv(f'/content/drive/MyDrive/data/musical/{performance_code}.csv')\n",
        "    press_releases = pd.read_csv(f\"/content/drive/MyDrive/data/news/article_date/{performance_code}_article_date.csv\")\n",
        "\n",
        "    # Convert date columns to datetime\n",
        "    ticket_data['예매일시'] = pd.to_datetime(ticket_data['예매일시'])\n",
        "    press_releases['Date'] = pd.to_datetime(press_releases['Date'])\n",
        "\n",
        "    # Preprocess data\n",
        "    ticket_data['할인금액'] = pd.to_numeric(ticket_data['할인금액'], errors='coerce')\n",
        "    ticket_data['예매금액'] = pd.to_numeric(ticket_data['예매금액'], errors='coerce')\n",
        "    ticket_data['연령'] = pd.to_numeric(ticket_data['연령'], errors='coerce')\n",
        "    ticket_data['연령'] = 2023 - ticket_data['연령']  # Convert birth year to age\n",
        "    ticket_data['판매좌석수'] = pd.to_numeric(ticket_data['판매좌석수'].str.replace('석', ''), errors='coerce')\n",
        "\n",
        "    # Calculate discount rate\n",
        "    ticket_data['원금액'] = ticket_data['예매금액'] + ticket_data['할인금액']\n",
        "    ticket_data['할인율'] = ticket_data['할인금액'] / ticket_data['원금액']\n",
        "\n",
        "    # Add seasonality features\n",
        "    ticket_data['요일'] = ticket_data['예매일시'].dt.dayofweek\n",
        "    ticket_data['월'] = ticket_data['예매일시'].dt.month\n",
        "\n",
        "    # Remove invalid data\n",
        "    ticket_data = ticket_data[(ticket_data['연령'] >= 0) & (ticket_data['연령'] <= 100)]\n",
        "    ticket_data = ticket_data[ticket_data['예매금액'] > 0]\n",
        "    ticket_data = ticket_data[ticket_data['판매좌석수'] > 0]\n",
        "\n",
        "    # Remove outliers using IQR method\n",
        "    columns_to_check = ['예매금액', '할인금액', '판매좌석수', '할인율']\n",
        "    ticket_data = remove_outliers_iqr(ticket_data, columns_to_check)\n",
        "\n",
        "    return ticket_data, press_releases\n",
        "\n",
        "def meta_analysis(effect_sizes, standard_errors):\n",
        "    weights = 1 / (standard_errors ** 2)\n",
        "    weighted_mean = np.sum(effect_sizes * weights) / np.sum(weights)\n",
        "    weighted_var = 1 / np.sum(weights)\n",
        "    z_score = weighted_mean / np.sqrt(weighted_var)\n",
        "    p_value = 2 * (1 - norm.cdf(abs(z_score)))\n",
        "    return {'effect_size': weighted_mean, 'p_value': p_value}\n",
        "\n",
        "def analyze_press_release_impact_advanced(performance_code, performance_name):\n",
        "    try:\n",
        "        ticket_data, press_releases = load_and_preprocess_data(performance_code)\n",
        "\n",
        "        # Group ticket data by date\n",
        "        daily_data = ticket_data.groupby(ticket_data['예매일시'].dt.date).agg({\n",
        "            '예매수': 'sum',\n",
        "            '할인금액': 'mean',\n",
        "            '예매금액': 'mean',\n",
        "            '연령': 'mean',\n",
        "            '판매좌석수': 'mean',\n",
        "            '요일': 'first',\n",
        "            '월': 'first',\n",
        "            '할인율': 'mean'\n",
        "        }).reset_index()\n",
        "        daily_data['예매일시'] = pd.to_datetime(daily_data['예매일시'])\n",
        "\n",
        "        # Create binary variable for press release periods\n",
        "        daily_data['press_release_period'] = 0\n",
        "        for date in press_releases['Date']:\n",
        "            mask = (daily_data['예매일시'] >= date - pd.Timedelta(days=7)) & (daily_data['예매일시'] <= date + pd.Timedelta(days=7))\n",
        "            daily_data.loc[mask, 'press_release_period'] = 1\n",
        "\n",
        "        # Add age group variables\n",
        "        daily_data['age_under40'] = (ticket_data['연령'] < 40).mean()\n",
        "        daily_data['age_40plus'] = (ticket_data['연령'] >= 40).mean()\n",
        "\n",
        "        # Prepare data for regression\n",
        "        X = daily_data[['press_release_period', '할인율', '예매금액', '연령', '판매좌석수', '요일', '월', 'age_under40', 'age_40plus']]\n",
        "        y = daily_data['예매수']\n",
        "\n",
        "        # Linear Regression\n",
        "        X = sm.add_constant(X)\n",
        "        model = sm.OLS(y, X).fit()\n",
        "\n",
        "        # Calculate average effects\n",
        "        avg_effects = {\n",
        "            'press_release': daily_data[daily_data['press_release_period'] == 1]['예매수'].mean() - daily_data[daily_data['press_release_period'] == 0]['예매수'].mean(),\n",
        "            'discount_rate': model.params['할인율'],\n",
        "            'ticket_price': model.params['예매금액'],\n",
        "            'age': model.params['연령'],\n",
        "            'seats_sold': model.params['판매좌석수'],\n",
        "            'age_under40': model.params['age_under40'],\n",
        "            'age_40plus': model.params['age_40plus']\n",
        "        }\n",
        "\n",
        "        # Perform statistical tests\n",
        "        pr_period = daily_data[daily_data['press_release_period'] == 1]['예매수']\n",
        "        non_pr_period = daily_data[daily_data['press_release_period'] == 0]['예매수']\n",
        "        t_stat, p_value = ttest_ind(pr_period, non_pr_period)\n",
        "\n",
        "        return {\n",
        "            'performance_id': performance_code,\n",
        "            'performance_name': performance_name,\n",
        "            'avg_effects': avg_effects,\n",
        "            't_statistic': t_stat,\n",
        "            'p_value': p_value,\n",
        "            'press_release_coef': model.params['press_release_period'],\n",
        "            'press_release_pvalue': model.pvalues['press_release_period'],\n",
        "            'discount_rate_coef': model.params['할인율'],\n",
        "            'discount_rate_pvalue': model.pvalues['할인율']\n",
        "        }\n",
        "\n",
        "    except Exception as e:\n",
        "        return {\n",
        "            'performance_id': performance_code,\n",
        "            'performance_name': performance_name,\n",
        "            'error': str(e)\n",
        "        }\n",
        "\n",
        "# Analyze all performances\n",
        "musicals = pd.read_csv('/content/drive/MyDrive/data/all_musicals_updated.csv')\n",
        "performance_codes = musicals['mt20id']\n",
        "results = []\n",
        "\n",
        "for code in performance_codes:\n",
        "    result = analyze_press_release_impact_advanced(code, '')  # performance name is empty for brevity\n",
        "    if 'error' not in result:  # Only add results without errors\n",
        "        results.append(result)\n",
        "\n",
        "# Convert results to DataFrame\n",
        "df_results = pd.DataFrame(results)\n",
        "\n",
        "# Calculate overall effect\n",
        "press_release_effects = df_results['avg_effects'].apply(lambda x: x['press_release']).dropna()\n",
        "overall_effect = press_release_effects.mean()\n",
        "\n",
        "# Perform t-test only on non-nan values\n",
        "overall_ttest = ttest_ind(press_release_effects, np.zeros(len(press_release_effects)))\n",
        "\n",
        "# Perform meta-analysis\n",
        "effect_sizes = df_results['press_release_coef'].dropna()\n",
        "standard_errors = df_results['press_release_coef'].dropna() / df_results['t_statistic'].dropna()\n",
        "meta_result = meta_analysis(effect_sizes, standard_errors)\n",
        "\n",
        "# Visualization\n",
        "plt.figure(figsize=(12, 6))\n",
        "sns.histplot(df_results['press_release_coef'].dropna(), kde=True)\n",
        "plt.axvline(x=0, color='r', linestyle='--')\n",
        "plt.title('Distribution of Press Release Effects Across Performances')\n",
        "plt.xlabel('Effect Size')\n",
        "plt.ylabel('Count')\n",
        "plt.savefig('press_release_effects_distribution.png')\n",
        "plt.close()\n",
        "\n",
        "print(f\"Overall average effect of press releases: {overall_effect}\")\n",
        "print(f\"Overall t-test result: t-statistic = {overall_ttest.statistic}, p-value = {overall_ttest.pvalue}\")\n",
        "print(f\"Meta-analysis result: effect size = {meta_result['effect_size']}, p-value = {meta_result['p_value']}\")\n",
        "print(\"\\nEffect of discount rate:\")\n",
        "print(df_results[['performance_id', 'discount_rate_coef', 'discount_rate_pvalue']])\n",
        "\n",
        "# Save results\n",
        "df_results.to_csv('/content/drive/MyDrive/data/press_release_analysis_results.csv', index=False)"
      ],
      "metadata": {
        "id": "DxG4XWxcxmPa",
        "colab": {
          "base_uri": "https://localhost:8080/"
        },
        "outputId": "183146f8-6ffd-413b-b684-adcf235302a5"
      },
      "execution_count": null,
      "outputs": [
        {
          "output_type": "stream",
          "name": "stdout",
          "text": [
            "Overall average effect of press releases: 203.37185181649932\n",
            "Overall t-test result: t-statistic = 2.5147409539620313, p-value = 0.014025012644083129\n",
            "Meta-analysis result: effect size = 15.844850684065978, p-value = 0.0025334506108962707\n",
            "\n",
            "Effect of discount rate:\n",
            "   performance_id  discount_rate_coef  discount_rate_pvalue\n",
            "0        PF189859       -4.062244e-09          4.636420e-01\n",
            "1        PF199307       -2.978502e-08          1.446974e-03\n",
            "2        PF213616        7.924460e-08          2.501618e-01\n",
            "3        PF218472        6.260948e-09          3.910421e-01\n",
            "4        PF198434        1.497378e-08          1.878013e-01\n",
            "5        PF221095       -4.765663e-06          3.382730e-01\n",
            "6        PF186531        1.284231e-08          1.883656e-01\n",
            "7        PF191728       -1.630166e-08          2.009229e-02\n",
            "8        PF191916        5.514207e-09          2.965903e-01\n",
            "9        PF194642       -1.507900e-09          6.998696e-01\n",
            "10       PF200830        2.623842e-07          9.127841e-01\n",
            "11       PF186855       -1.499014e-08          4.443692e-02\n",
            "12       PF189439        1.242945e-09          6.471101e-01\n",
            "13       PF209894        2.801850e-08          4.770079e-01\n",
            "14       PF218651       -6.632471e-08          9.042578e-02\n",
            "15       PF183486        1.293299e-10          9.260405e-01\n",
            "16       PF218232       -7.303808e-08          2.813035e-01\n",
            "17       PF209652       -1.137758e-08          1.364871e-05\n",
            "18       PF179943        8.549488e-10          4.385296e-01\n",
            "19       PF215780        2.432689e-09          2.905082e-03\n",
            "20       PF181077       -2.266452e-08          3.364026e-03\n",
            "21       PF217912       -2.333856e-09          1.095108e-01\n",
            "22       PF204261       -1.584547e-10          9.988555e-01\n",
            "23       PF222520        2.633033e-09          9.487641e-03\n",
            "24       PF184882        1.619769e-08          1.645486e-01\n",
            "25       PF213179       -8.988322e-09          4.063418e-01\n",
            "26       PF200399        3.555360e-09          7.934841e-01\n",
            "27       PF193042       -3.263592e-07          8.269923e-01\n",
            "28       PF200099       -2.594642e-09          9.329573e-02\n",
            "29       PF183199        5.177373e-10          8.843377e-01\n",
            "30       PF198638       -4.480484e-06          4.005848e-03\n",
            "31       PF227003       -5.339625e-08          4.906347e-01\n",
            "32       PF227565       -2.912198e-07          1.601511e-01\n",
            "33       PF225531        2.041633e-13          8.476871e-01\n",
            "34       PF220001        7.103522e-09          2.066779e-08\n",
            "35       PF213044        2.227028e-09          7.512514e-02\n",
            "36       PF226430       -1.230104e-09          2.895991e-01\n",
            "37       PF213115       -5.878045e-09          4.241582e-02\n",
            "38       PF195029       -3.318521e-10          1.141718e-01\n",
            "39       PF186802       -1.014130e-10          6.750692e-01\n",
            "40       PF223567        2.404974e-09          7.548164e-01\n"
          ]
        }
      ]
    },
    {
      "cell_type": "markdown",
      "source": [
        "로그 스케일에 오류가 있어서, 너무 튀는 값을 제거하고 로그를 제거한 함수"
      ],
      "metadata": {
        "id": "8dEUc8A_o2VX"
      }
    },
    {
      "cell_type": "code",
      "source": [
        "import pandas as pd\n",
        "import numpy as np\n",
        "from scipy import stats\n",
        "import matplotlib.pyplot as plt\n",
        "import seaborn as sns\n",
        "from statsmodels.tsa.statespace.sarimax import SARIMAX\n",
        "from sklearn.preprocessing import PolynomialFeatures\n",
        "from sklearn.model_selection import train_test_split\n",
        "from sklearn.metrics import mean_squared_error, r2_score\n",
        "import statsmodels.api as sm\n",
        "from scipy.stats import ttest_ind, norm\n",
        "\n",
        "def remove_outliers_iqr(df, columns):\n",
        "    for col in columns:\n",
        "        Q1 = df[col].quantile(0.25)\n",
        "        Q3 = df[col].quantile(0.75)\n",
        "        IQR = Q3 - Q1\n",
        "        lower_bound = Q1 - 1.5 * IQR\n",
        "        upper_bound = Q3 + 1.5 * IQR\n",
        "        df = df[(df[col] >= lower_bound) & (df[col] <= upper_bound)]\n",
        "    return df\n",
        "\n",
        "def load_and_preprocess_data(performance_code):\n",
        "    # Load data\n",
        "    ticket_data = pd.read_csv(f'/content/drive/MyDrive/data/musical/{performance_code}.csv')\n",
        "    press_releases = pd.read_csv(f\"/content/drive/MyDrive/data/news/article_date/{performance_code}_article_date.csv\")\n",
        "\n",
        "    # Convert date columns to datetime\n",
        "    ticket_data['예매일시'] = pd.to_datetime(ticket_data['예매일시'])\n",
        "    press_releases['Date'] = pd.to_datetime(press_releases['Date'])\n",
        "\n",
        "    # Preprocess data\n",
        "    ticket_data['할인금액'] = pd.to_numeric(ticket_data['할인금액'], errors='coerce')\n",
        "    ticket_data['예매금액'] = pd.to_numeric(ticket_data['예매금액'], errors='coerce')\n",
        "    ticket_data['연령'] = pd.to_numeric(ticket_data['연령'], errors='coerce')\n",
        "    ticket_data['연령'] = 2023 - ticket_data['연령']  # Convert birth year to age\n",
        "    ticket_data['판매좌석수'] = pd.to_numeric(ticket_data['판매좌석수'].str.replace('석', ''), errors='coerce')\n",
        "\n",
        "    # Calculate discount rate\n",
        "    ticket_data['원금액'] = ticket_data['예매금액'] + ticket_data['할인금액']\n",
        "    ticket_data['할인율'] = ticket_data['할인금액'] / ticket_data['원금액']\n",
        "\n",
        "    # Add seasonality features\n",
        "    ticket_data['요일'] = ticket_data['예매일시'].dt.dayofweek\n",
        "    ticket_data['월'] = ticket_data['예매일시'].dt.month\n",
        "\n",
        "    # Remove invalid data\n",
        "    ticket_data = ticket_data[(ticket_data['연령'] >= 0) & (ticket_data['연령'] <= 100)]\n",
        "    ticket_data = ticket_data[ticket_data['예매금액'] > 0]\n",
        "    ticket_data = ticket_data[ticket_data['판매좌석수'] > 0]\n",
        "\n",
        "    # Remove outliers using IQR method\n",
        "    columns_to_check = ['예매금액', '할인금액', '판매좌석수', '할인율']\n",
        "    ticket_data = remove_outliers_iqr(ticket_data, columns_to_check)\n",
        "\n",
        "    return ticket_data, press_releases\n",
        "\n",
        "\n",
        "def meta_analysis(effect_sizes, standard_errors):\n",
        "    weights = 1 / (standard_errors ** 2)\n",
        "    weighted_mean = np.sum(effect_sizes * weights) / np.sum(weights)\n",
        "    weighted_var = 1 / np.sum(weights)\n",
        "    z_score = weighted_mean / np.sqrt(weighted_var)\n",
        "    p_value = 2 * (1 - norm.cdf(abs(z_score)))\n",
        "    return {'effect_size': weighted_mean, 'p_value': p_value}\n",
        "\n",
        "\n",
        "\n",
        "def analyze_press_release_impact_advanced(performance_code, performance_name):\n",
        "    try:\n",
        "        ticket_data, press_releases = load_and_preprocess_data(performance_code)\n",
        "\n",
        "        # Group ticket data by date\n",
        "        daily_data = ticket_data.groupby(ticket_data['예매일시'].dt.date).agg({\n",
        "            '예매수': 'sum',\n",
        "            '할인금액': 'mean',\n",
        "            '예매금액': 'mean',\n",
        "            '연령': 'mean',\n",
        "            '판매좌석수': 'mean',\n",
        "            '요일': 'first',\n",
        "            '월': 'first',\n",
        "            '할인율': 'mean'\n",
        "        }).reset_index()\n",
        "        daily_data['예매일시'] = pd.to_datetime(daily_data['예매일시'])\n",
        "\n",
        "        # Create binary variable for press release periods\n",
        "        daily_data['press_release_period'] = 0\n",
        "        for date in press_releases['Date']:\n",
        "            mask = (daily_data['예매일시'] >= date - pd.Timedelta(days=7)) & (daily_data['예매일시'] <= date + pd.Timedelta(days=7))\n",
        "            daily_data.loc[mask, 'press_release_period'] = 1\n",
        "\n",
        "        # Add age group variables\n",
        "        daily_data['age_under40'] = (ticket_data['연령'] < 40).mean()\n",
        "        daily_data['age_40plus'] = (ticket_data['연령'] >= 40).mean()\n",
        "\n",
        "        # Prepare data for regression\n",
        "        X = daily_data[['press_release_period', '할인율', '예매금액', '연령', '판매좌석수', '요일', '월', 'age_under40', 'age_40plus']]\n",
        "        y = daily_data['예매수']\n",
        "\n",
        "        # Linear Regression\n",
        "        X = sm.add_constant(X)\n",
        "        model = sm.OLS(y, X).fit()\n",
        "\n",
        "        # Calculate average effects\n",
        "        avg_effects = {\n",
        "            'press_release': daily_data[daily_data['press_release_period'] == 1]['예매수'].mean() - daily_data[daily_data['press_release_period'] == 0]['예매수'].mean(),\n",
        "            'discount_rate': model.params['할인율'],\n",
        "            'ticket_price': model.params['예매금액'],\n",
        "            'age': model.params['연령'],\n",
        "            'seats_sold': model.params['판매좌석수'],\n",
        "            'age_under40': model.params['age_under40'],\n",
        "            'age_40plus': model.params['age_40plus']\n",
        "        }\n",
        "\n",
        "        # Perform statistical tests\n",
        "        pr_period = daily_data[daily_data['press_release_period'] == 1]['예매수']\n",
        "        non_pr_period = daily_data[daily_data['press_release_period'] == 0]['예매수']\n",
        "        t_stat, p_value = ttest_ind(pr_period, non_pr_period)\n",
        "\n",
        "        return {\n",
        "            'performance_id': performance_code,\n",
        "            'performance_name': performance_name,\n",
        "            'avg_effects': avg_effects,\n",
        "            't_statistic': t_stat,\n",
        "            'p_value': p_value,\n",
        "            'press_release_coef': model.params['press_release_period'],\n",
        "            'press_release_pvalue': model.pvalues['press_release_period'],\n",
        "            'discount_rate_coef': model.params['할인율'],\n",
        "            'discount_rate_pvalue': model.pvalues['할인율']\n",
        "        }\n",
        "\n",
        "    except Exception as e:\n",
        "        return {\n",
        "            'performance_id': performance_code,\n",
        "            'performance_name': performance_name,\n",
        "            'error': str(e)\n",
        "        }\n",
        "\n",
        "\n",
        "# Analyze all performances\n",
        "musicals = pd.read_csv('/content/drive/MyDrive/data/all_musicals_updated.csv')\n",
        "performance_codes = musicals['mt20id']\n",
        "results = []\n",
        "\n",
        "for code in performance_codes:\n",
        "    result = analyze_press_release_impact_advanced(code, '')  # performance name is empty for brevity\n",
        "    if 'error' not in result:  # Only add results without errors\n",
        "        results.append(result)\n",
        "\n",
        "# Convert results to DataFrame\n",
        "df_results = pd.DataFrame(results)\n",
        "\n",
        "# Calculate overall effect\n",
        "press_release_effects = df_results['avg_effects'].apply(lambda x: x['press_release']).dropna()\n",
        "overall_effect = press_release_effects.mean()\n",
        "\n",
        "# Perform t-test only on non-nan values\n",
        "overall_ttest = ttest_ind(press_release_effects, np.zeros(len(press_release_effects)))\n",
        "\n",
        "# 기존 코드에서 effect_sizes 계산\n",
        "effect_sizes = df_results['press_release_coef'].dropna()\n",
        "\n",
        "# 극단값 제거 (예: 99퍼센타일 이상의 값 제거)\n",
        "upper_limit = np.percentile(effect_sizes, 99)\n",
        "effect_sizes_filtered = effect_sizes[effect_sizes <= upper_limit]\n",
        "\n",
        "# 그래프 생성\n",
        "plt.figure(figsize=(12, 6))\n",
        "\n",
        "# 히스토그램 생성\n",
        "sns.histplot(effect_sizes_filtered, kde=True, bins=50)\n",
        "\n",
        "# 수직선 추가 (효과 없음 = 0)\n",
        "plt.axvline(x=0, color='r', linestyle='--', label='No effect (x=0)')\n",
        "\n",
        "# 그래프 커스터마이징\n",
        "plt.title('Distribution of Press Release Effects on Ticket Sales', fontsize=16)\n",
        "plt.xlabel('Effect Size (Change in Number of Tickets Sold)', fontsize=14)\n",
        "plt.ylabel('Count of Performances', fontsize=14)\n",
        "\n",
        "# x축 범위 설정 (데이터의 최소값과 99퍼센타일 값 사이)\n",
        "x_min, x_max = effect_sizes_filtered.min(), effect_sizes_filtered.max()\n",
        "plt.xlim(x_min, x_max)\n",
        "\n",
        "# x축 눈금 설정 (더 세밀하게)\n",
        "plt.xticks(np.linspace(x_min, x_max, 15), rotation=45)\n",
        "\n",
        "# 범례 추가\n",
        "plt.legend()\n",
        "\n",
        "# 그리드 추가\n",
        "plt.grid(True, which=\"both\", ls=\"-\", alpha=0.2)\n",
        "plt.tight_layout()\n",
        "\n",
        "# 그래프 저장\n",
        "plt.savefig('press_release_effects_distribution_detailed.png', dpi=300, bbox_inches='tight')\n",
        "plt.close()"
      ],
      "metadata": {
        "id": "rP4cjCBCW5ll"
      },
      "execution_count": null,
      "outputs": []
    }
  ]
}